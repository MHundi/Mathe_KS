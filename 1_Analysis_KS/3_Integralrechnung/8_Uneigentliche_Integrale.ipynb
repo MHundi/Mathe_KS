{
 "cells": [
  {
   "cell_type": "markdown",
   "metadata": {},
   "source": [
    "## 8. Uneigentliche Integrale"
   ]
  },
  {
   "cell_type": "markdown",
   "metadata": {},
   "source": [
    "**Beispiel:**\n",
    "$$f(x) = \\frac{2}{x^2}$$\n"
   ]
  },
  {
   "cell_type": "code",
   "execution_count": 4,
   "metadata": {},
   "outputs": [
    {
     "data": {
      "text/plain": [
       "[<matplotlib.lines.Line2D at 0x120e96c90>]"
      ]
     },
     "execution_count": 4,
     "metadata": {},
     "output_type": "execute_result"
    },
    {
     "data": {
      "image/png": "[encoded data removed]",
      "text/plain": [
       "<Figure size 800x800 with 1 Axes>"
      ]
     },
     "metadata": {},
     "output_type": "display_data"
    }
   ],
   "source": [
    "import numpy as np\n",
    "import matplotlib.pyplot as plt\n",
    "from matplotlib.ticker import AutoMinorLocator, MultipleLocator, FuncFormatter\n",
    "\n",
    "# Defintionsmenge und Funktion\n",
    "# ----------------------------\n",
    "a= -5.1 # untere x-Intervallgrenze \n",
    "b= 5.1 # obere x-Intervallgrenze\n",
    "c = -5.1# untere y-Intervallgrenze\n",
    "d = 5.1 # obere y-Intervallgrenze\n",
    "x = np.linspace(a, b,1000)\n",
    "y1= 2/(x**2)\n",
    "# ----------------------------\n",
    "\n",
    "# Einstellung des Graphen\n",
    "fig=plt.figure(figsize=(8,8))\n",
    "ax= fig.add_subplot(1,1,1, aspect =1)\n",
    "\n",
    "# Definiton der Haupteinheiten, reele Zahlen ohne die 0 \n",
    "def major_tick(x, pos):\n",
    "    if x==0:\n",
    "        return \"\"\n",
    "    return int(x)\n",
    "\n",
    "# Achsenskalierung\n",
    "ax.xaxis.set_major_locator(MultipleLocator(1))\n",
    "ax.xaxis.set_minor_locator(AutoMinorLocator(2))\n",
    "ax.yaxis.set_major_locator(MultipleLocator(1))\n",
    "ax.yaxis.set_minor_locator(AutoMinorLocator(2))\n",
    "ax.xaxis.set_major_formatter(FuncFormatter(major_tick))\n",
    "ax.yaxis.set_major_formatter(FuncFormatter(major_tick))\n",
    "\n",
    "# Position der Achsen im Schaubild\n",
    "ax.spines[['top','right']].set_visible(False)\n",
    "ax.spines[['bottom','left']].set_position('zero')\n",
    "\n",
    "# Pfeile für die Achsen\n",
    "ax.plot((1),(0), ls=\"\", marker= \">\", ms=7, color=\"k\", transform=ax.get_yaxis_transform(), clip_on=False)\n",
    "ax.plot((0),(1), ls=\"\", marker= \"^\", ms=7, color=\"k\", transform=ax.get_xaxis_transform(), clip_on=False)\n",
    "\n",
    "# Achsenlänge und Beschriftung\n",
    "ax.set_xlim(a,b)\n",
    "ax.set_ylim(c, d)\n",
    "ax.set_xlabel(\"x\", loc=\"right\")\n",
    "ax.set_ylabel(\"f(x)\", loc=\"top\", rotation=0)\n",
    "\n",
    "# Kästchen\n",
    "ax.grid(linestyle=\"-\", which=\"major\",linewidth=0.7, zorder=-10)\n",
    "ax.grid(linestyle=\"-\", which=\"minor\",linewidth=0.5, zorder=-10)\n",
    "\n",
    "# Plot der Funktion\n",
    "ax.plot(x,y1, zorder=10)\n",
    "#plt.show()"
   ]
  },
  {
   "cell_type": "markdown",
   "metadata": {},
   "source": [
    "Berechnung des gerichteten Flächeninhalts zwischen Funktionsgraph von f mit der x-Achse auf dem Intervall $I=[1;2]$\n",
    "$$\\begin{align*}\n",
    "\\int\\limits_1^2 \\frac{2}{x^2} dx &=\\left[-\\frac{2}{x}\\right ]_1^2\\\\\n",
    " &=-\\frac{2}{2}+\\frac{2}{1}\\\\\n",
    " &= 1\n",
    "\\end{align*}   \n",
    "$$\n",
    "\n",
    "Könnte man auch den Flächeninhalt auf den Intervallen $I=[0; 1]$ oder $I=[1,\\infty]$ berechnen?\n",
    "$$\n",
    "\\int\\limits_0^1 \\frac{2}{x^2} dx = ? \\qquad \\int\\limits_1^\\infty \\frac{2}{x^2} dx = ?\n",
    "$$\n",
    "Welche Werte könnten die Werte für die beiden Integrale annehmen? Wir vermuten:\n",
    "\n",
    "$$\n",
    "\\int\\limits_0^1 \\frac{2}{x^2} dx = ? \\qquad \\int\\limits_1^\\infty \\frac{2}{x^2} dx = ?\n",
    "$$\n",
    "\n",
    "Wie lässt sich die Vermutung nun überprüfen?"
   ]
  },
  {
   "cell_type": "markdown",
   "metadata": {},
   "source": [
    "**Idee:** Berechne den gerichteten Flächeninhalt mit einer Variablen Grenze $z$ und wende dann den Limes darauf an."
   ]
  },
  {
   "cell_type": "markdown",
   "metadata": {},
   "source": [
    "1. Berechnung des gerichteten Flächeninhalts: \n",
    "\n",
    "$$\n",
    "\\begin{align*}\n",
    "\\int\\limits_z^1 \\frac{2}{x^2} dx &= \\left[-\\frac{2}{x}\\right ]_z^1\\\\\n",
    "&=-\\frac{2}{1}-\\left(-\\frac{2}{z}\\right)\\\\\n",
    "&= -2+\\frac{2}{z}\n",
    "\\end{align*}\n",
    "$$\n",
    "2. Anwendung des Limes:\n",
    "$$\n",
    "\\begin{align*}\n",
    "\\lim_{z \\to 0} -2+\\frac{2}{z} = \\infty\n",
    "\\end{align*}\n",
    "$$\n",
    "$\\Rightarrow$ Der gerichtete Flächeninhalt $ \\int\\limits_z^1 \\frac{2}{x^2} dx$ ist nicht endlich, er wächst unbegrenzt."
   ]
  },
  {
   "cell_type": "markdown",
   "metadata": {},
   "source": [
    "Analoge Betrachtung mit $\n",
    "\\int\\limits_1^\\infty \\frac{2}{x^2} dx\n",
    "$:\n",
    "\n",
    "1. Berechnung des gerichteten Flächeninhalts:\n",
    "$$\n",
    "\\begin{align*}\n",
    "\\int\\limits_1^z \\frac{2}{x^2} dx &= \\left[-\\frac{2}{x}\\right ]_1^z\\\\\n",
    "&=-\\frac{2}{z}-\\left(-\\frac{2}{1}\\right)\\\\\n",
    "&= -\\frac{2}{z}+2\n",
    "\\end{align*}\n",
    "$$\n",
    "2. Anwendung des Limes:\n",
    "$$\n",
    "\\begin{align*}\n",
    "\\lim_{z \\to \\infty} -\\frac{2}{z}+2 = 2\n",
    "\\end{align*}\n",
    "$$\n",
    "$\\Rightarrow$ Der gerichtete Flächeninhalt der unbegränzten Fläche ist 2. \n",
    "\n",
    "Damit lässt sich schreiben:\n",
    "$$\n",
    "\\int\\limits_1^\\infty \\frac{2}{x^2} dx = 2\n",
    "$$\n",
    "\n",
    "**Bemerkung:**\n",
    "Wenn es keine endlichen Flächeninhalt gibt, existiert das zugehörige Integral nicht\n"
   ]
  },
  {
   "cell_type": "markdown",
   "metadata": {},
   "source": [
    "<div style=\"border: 1px solid blue\">\n",
    "\n",
    "**Definition:**   \n",
    "Existiert der Grenzwert $$\\lim_{z \\to \\infty} \\int\\limits_a^z f(x) dx $$ so schreibt man dafür $$\\int\\limits_a^\\infty f(x) dx$$ und nennt ein solches Integral **uneigentliches Integral**.\n",
    "\n",
    "Existiert für eine Funktionslücke c von f der Grenzwert $$\\lim_{z \\to c} \\int\\limits_z^c f(x) dx$$ so schreibt man dafür $$\\int\\limits_a^c f(x) dx$$ und nennt ein solches Integral **uneigentliches Integral**.\n",
    "</div>"
   ]
  },
  {
   "cell_type": "markdown",
   "metadata": {},
   "source": [
    "**Bemerkungen:**\n",
    "1. Analoges gilt, wenn c der oberen Grenze entspricht\n",
    "2. Analoges gilt, wenn $-\\infty$ eine Integrationsgrenze ist."
   ]
  },
  {
   "cell_type": "markdown",
   "metadata": {},
   "source": []
  }
 ],
 "metadata": {
  "kernelspec": {
   "display_name": "Python 3",
   "language": "python",
   "name": "python3"
  },
  "language_info": {
   "codemirror_mode": {
    "name": "ipython",
    "version": 3
   },
   "file_extension": ".py",
   "mimetype": "text/x-python",
   "name": "python",
   "nbconvert_exporter": "python",
   "pygments_lexer": "ipython3",
   "version": "3.11.4"
  }
 },
 "nbformat": 4,
 "nbformat_minor": 2
}
