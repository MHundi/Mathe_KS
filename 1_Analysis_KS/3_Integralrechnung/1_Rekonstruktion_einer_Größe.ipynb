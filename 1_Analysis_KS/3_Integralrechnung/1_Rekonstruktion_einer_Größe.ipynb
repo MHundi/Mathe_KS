{
 "cells": [
  {
   "cell_type": "markdown",
   "metadata": {},
   "source": [
    "## 1. Rekonstruktion einer Größe"
   ]
  },
  {
   "cell_type": "markdown",
   "metadata": {},
   "source": [
    "Bisher wurde bei einer gegebenen Größe (Funktion) die momentane Änderungsrate (Ableitungsfunktion) bestimmt. \n",
    "\n",
    "Liegt nun die momentane Änderungsrate einer Größe vor (Ableitungsfunktion) wird nun untersucht, wie sich dazu die ursprüngliche Größe (Funktion) bestimmen lässt.\n",
    "\n",
    "\n",
    "\n",
    "<div style=\"border: 1px solid red\">\n",
    "Satz:\n",
    "\n",
    "Ist der Graph einer momentanen Änderungsrate einer Größe aus geradliniegen Teilstücken zusammengesetzt, so kann man die **Gesamtänderung** der Größe rekonstruieren, indem man den orientierten Flächeninhalt zwischen dem Graphen der momentanen Änderungsrate und der x-Achse bestimmt.\n",
    "</div>"
   ]
  },
  {
   "cell_type": "markdown",
   "metadata": {},
   "source": []
  }
 ],
 "metadata": {
  "language_info": {
   "name": "python"
  }
 },
 "nbformat": 4,
 "nbformat_minor": 2
}
