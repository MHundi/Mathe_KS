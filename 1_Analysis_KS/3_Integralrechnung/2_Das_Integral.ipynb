{
 "cells": [
  {
   "cell_type": "markdown",
   "metadata": {},
   "source": [
    "## 2. Das Integral als orientierter Flächeninhalt"
   ]
  },
  {
   "cell_type": "markdown",
   "metadata": {},
   "source": [
    "#### 2.1 exakte Bestimmung von Flächeninahlten"
   ]
  },
  {
   "cell_type": "markdown",
   "metadata": {},
   "source": [
    "**Beispiel:**\n",
    "\n",
    "- $f(x)=x^2$\n",
    "- Gesucht ist der Flächeninhalt unter dem Funktionsgraphen von $f$ auf dem Intervall $I=[0, 2]$\n"
   ]
  },
  {
   "cell_type": "code",
   "execution_count": 32,
   "metadata": {},
   "outputs": [
    {
     "data": {
      "text/plain": [
       "<matplotlib.collections.LineCollection at 0x12f2c9510>"
      ]
     },
     "execution_count": 32,
     "metadata": {},
     "output_type": "execute_result"
    },
    {
     "data": {
      "image/png": "[encoded data removed]",
      "text/plain": [
       "<Figure size 800x800 with 1 Axes>"
      ]
     },
     "metadata": {},
     "output_type": "display_data"
    }
   ],
   "source": [
    "import numpy as np\n",
    "import matplotlib.pyplot as plt\n",
    "from matplotlib.ticker import AutoMinorLocator, MultipleLocator, FuncFormatter\n",
    "\n",
    "# Defintionsmenge und Funktion\n",
    "# ----------------------------\n",
    "a= -0.1 # untere x-Intervallgrenze \n",
    "b= 3.1 # obere x-Intervallgrenze\n",
    "c = -0.1# untere y-Intervallgrenze\n",
    "d = 5.1 # obere y-Intervallgrenze\n",
    "x = np.linspace(a, b,1000)\n",
    "y1=x**2\n",
    "\n",
    "def f(x):\n",
    "    return x**2\n",
    "\n",
    "n= 6\n",
    "xi=np.linspace(0,2,n)\n",
    "yi=f(x)\n",
    "oben=np.zeros(n)\n",
    "for i in range(len(oben)-1): \n",
    "    cx = np.linspace(xi[i], xi[i+1], 50)\n",
    "    cy = f(cx)\n",
    "    oben[i+1] = np.max(cy)\n",
    " \n",
    "oben[0] = yi[0]   \n",
    "\n",
    "# ----------------------------\n",
    "\n",
    "# Einstellung des Graphen\n",
    "fig=plt.figure(figsize=(8,8))\n",
    "ax= fig.add_subplot(1,1,1, aspect =1)\n",
    "\n",
    "# Definiton der Haupteinheiten, reele Zahlen ohne die 0 \n",
    "def major_tick(x, pos):\n",
    "    if x==0:\n",
    "        return \"\"\n",
    "    return int(x)\n",
    "\n",
    "# Achsenskalierung\n",
    "ax.xaxis.set_major_locator(MultipleLocator(1))\n",
    "ax.xaxis.set_minor_locator(AutoMinorLocator(2))\n",
    "ax.yaxis.set_major_locator(MultipleLocator(1))\n",
    "ax.yaxis.set_minor_locator(AutoMinorLocator(2))\n",
    "ax.xaxis.set_major_formatter(FuncFormatter(major_tick))\n",
    "ax.yaxis.set_major_formatter(FuncFormatter(major_tick))\n",
    "\n",
    "# Position der Achsen im Schaubild\n",
    "ax.spines[['top','right']].set_visible(False)\n",
    "ax.spines[['bottom','left']].set_position('zero')\n",
    "\n",
    "# Pfeile für die Achsen\n",
    "ax.plot((1),(0), ls=\"\", marker= \">\", ms=7, color=\"k\", transform=ax.get_yaxis_transform(), clip_on=False)\n",
    "ax.plot((0),(1), ls=\"\", marker= \"^\", ms=7, color=\"k\", transform=ax.get_xaxis_transform(), clip_on=False)\n",
    "\n",
    "# Achsenlänge und Beschriftung\n",
    "ax.set_xlim(a,b)\n",
    "ax.set_ylim(c, d)\n",
    "ax.set_xlabel(\"x\", loc=\"right\")\n",
    "ax.set_ylabel(\"f(x)\", loc=\"top\", rotation=0)\n",
    "\n",
    "# Kästchen\n",
    "ax.grid(linestyle=\"-\", which=\"major\",linewidth=0.7, zorder=-10)\n",
    "ax.grid(linestyle=\"-\", which=\"minor\",linewidth=0.5, zorder=-10)\n",
    "\n",
    "# Plot der Funktion\n",
    "ax.plot(x,y1, zorder=10)\n",
    "plt.plot(xi, oben, drawstyle='steps-pre', color='C3')\n",
    "plt.vlines(xi, ymin=0, ymax=oben, color='C3', alpha=1)\n",
    "#plt.show()"
   ]
  },
  {
   "cell_type": "markdown",
   "metadata": {},
   "source": [
    "**Idee:** \n",
    "- Wir teilen das Intervall $I=[0,2]$ in $n=5$ Teilintervalle auf.\n",
    "- Wir berechnen den Flächeninhalt der Summe der Rechtecke $S_5$\n",
    "- Der Flächeninhalt ist ungenau.\n",
    "- Intervall in mehr Teilintervalle aufteilen.\n",
    "- Aufstellen der allgmeinen Rechtecksumme $S_n$\n",
    "- Intervall auf beliebig viele Teilintervalle aufteilen, $n \\rightarrow \\infty$"
   ]
  },
  {
   "cell_type": "markdown",
   "metadata": {},
   "source": [
    "Intervallteilung:**\n",
    "\n",
    " Wir wählen $n$ Teilintervalle.  \n",
    "Dann ist die Breite \n",
    "$$\n",
    "h=\\frac{2-0}{n}=\\frac{2}{n}\n",
    "$$"
   ]
  },
  {
   "cell_type": "markdown",
   "metadata": {},
   "source": [
    "**Obersumme:**\n",
    "\n",
    "$$\n",
    "\\begin{align}\n",
    "O_N &= \\frac{2}{n}\\cdot  \\left( \\frac{2}{n}\\right)^2+\\frac{2}{n}\\cdot \\left( 2\\cdot\\frac{2}{n}\\right)^2+ \\frac{2}{n}\\cdot  \\left( 3\\cdot\\frac{2}{n}\\right)^2 + ... + \\frac{2}{n}\\cdot  \\left( n\\cdot \\frac{2}{n}\\right)^2\\\\\n",
    "&= \\frac{2}{n}\\left( \\left( \\frac{2}{n}\\right)^2 +\\left(2 \\cdot \\frac{2}{n}\\right)^2+\\left(3 \\cdot \\frac{2}{n}\\right)^2 +...+ \\left( n \\cdot \\frac{2}{n}\\right)^2\\right)\\\\\n",
    "&= \\frac{2}{n}\\left(\\frac{4}{n^2} +  \\frac{16}{n^2} + \\frac{36}{n^2} +...+ \\frac{4n^2}{n^2}\\right)\\\\\n",
    "&= \\frac{2^3}{n^3}\\left( 4+8+36+...+4n^2\\right)\\\\\n",
    "&= \\frac{8}{n^3}\\cdot \\frac{1}{6}n\\cdot (n+1)(2n+2)\\\\\n",
    "&=\\frac{4}{3}\\cdot \\frac{n+1}{n^2}\\cdot \\frac{2n+1}{n^2}\\\\\n",
    "&= \\frac{4}{3} \\cdot \\left( 1+\\frac{1}{n}\\right) \\cdot \\left( 2+\\frac{1}{n}\\right)\n",
    "\\end{align}\n",
    "$$\n",
    "\n",
    "**Grenzwert $n \\rightarrow \\infty $ der Obersumme**\n",
    "\n",
    "$$\n",
    "\\begin{align*}\n",
    "\\lim_{n \\to \\infty} O_n &= \\lim_{n \\to \\infty} \\frac{4}{3} \\cdot \\left( 1+\\frac{1}{n}\\right) \\cdot \\left( 2+\\frac{1}{n}\\right)\\\\\n",
    " &= \\frac{8}{3}\n",
    " \\end{align*}$$"
   ]
  },
  {
   "cell_type": "code",
   "execution_count": 33,
   "metadata": {},
   "outputs": [
    {
     "data": {
      "text/plain": [
       "<matplotlib.collections.LineCollection at 0x12fd78850>"
      ]
     },
     "execution_count": 33,
     "metadata": {},
     "output_type": "execute_result"
    },
    {
     "data": {
      "image/png": "[encoded data removed]",
      "text/plain": [
       "<Figure size 800x800 with 1 Axes>"
      ]
     },
     "metadata": {},
     "output_type": "display_data"
    }
   ],
   "source": [
    "import numpy as np\n",
    "import matplotlib.pyplot as plt\n",
    "from matplotlib.ticker import AutoMinorLocator, MultipleLocator, FuncFormatter\n",
    "\n",
    "# Defintionsmenge und Funktion\n",
    "# ----------------------------\n",
    "a= -0.1 # untere x-Intervallgrenze \n",
    "b= 3.1 # obere x-Intervallgrenze\n",
    "c = -0.1# untere y-Intervallgrenze\n",
    "d = 5.1 # obere y-Intervallgrenze\n",
    "x = np.linspace(a, b,1000)\n",
    "y1=x**2\n",
    "\n",
    "def f(x):\n",
    "    return x**2\n",
    "\n",
    "n= 6\n",
    "xi=np.linspace(0,2,n)\n",
    "yi=f(x)\n",
    "unten=np.zeros(n)\n",
    "for i in range(len(unten)-1): \n",
    "    cx = np.linspace(xi[i], xi[i+1], 50)\n",
    "    cy = f(cx)\n",
    "    unten[i+1] = np.min(cy)\n",
    " \n",
    "unten[0] = yi[0]   \n",
    "\n",
    "# ----------------------------\n",
    "\n",
    "# Einstellung des Graphen\n",
    "fig=plt.figure(figsize=(8,8))\n",
    "ax= fig.add_subplot(1,1,1, aspect =1)\n",
    "\n",
    "# Definiton der Haupteinheiten, reele Zahlen ohne die 0 \n",
    "def major_tick(x, pos):\n",
    "    if x==0:\n",
    "        return \"\"\n",
    "    return int(x)\n",
    "\n",
    "# Achsenskalierung\n",
    "ax.xaxis.set_major_locator(MultipleLocator(1))\n",
    "ax.xaxis.set_minor_locator(AutoMinorLocator(2))\n",
    "ax.yaxis.set_major_locator(MultipleLocator(1))\n",
    "ax.yaxis.set_minor_locator(AutoMinorLocator(2))\n",
    "ax.xaxis.set_major_formatter(FuncFormatter(major_tick))\n",
    "ax.yaxis.set_major_formatter(FuncFormatter(major_tick))\n",
    "\n",
    "# Position der Achsen im Schaubild\n",
    "ax.spines[['top','right']].set_visible(False)\n",
    "ax.spines[['bottom','left']].set_position('zero')\n",
    "\n",
    "# Pfeile für die Achsen\n",
    "ax.plot((1),(0), ls=\"\", marker= \">\", ms=7, color=\"k\", transform=ax.get_yaxis_transform(), clip_on=False)\n",
    "ax.plot((0),(1), ls=\"\", marker= \"^\", ms=7, color=\"k\", transform=ax.get_xaxis_transform(), clip_on=False)\n",
    "\n",
    "# Achsenlänge und Beschriftung\n",
    "ax.set_xlim(a,b)\n",
    "ax.set_ylim(c, d)\n",
    "ax.set_xlabel(\"x\", loc=\"right\")\n",
    "ax.set_ylabel(\"f(x)\", loc=\"top\", rotation=0)\n",
    "\n",
    "# Kästchen\n",
    "ax.grid(linestyle=\"-\", which=\"major\",linewidth=0.7, zorder=-10)\n",
    "ax.grid(linestyle=\"-\", which=\"minor\",linewidth=0.5, zorder=-10)\n",
    "\n",
    "# Plot der Funktion\n",
    "ax.plot(x,y1, zorder=10)\n",
    "plt.plot(xi, unten, drawstyle='steps-pre', c='C3')\n",
    "plt.vlines(xi, ymin=0, ymax=unten, color = 'C3', alpha=1)\n",
    "#plt.show()"
   ]
  },
  {
   "cell_type": "markdown",
   "metadata": {},
   "source": [
    "**Untersumme:**\n",
    "\n",
    "$$\n",
    "\\begin{align*}\n",
    "U_N &=\\frac{2}{n}\\left( 0^2+\\left( \\frac{2}{n}\\right)^2 + \\left( 2 \\cdot \\frac{2}{n}\\right)^2 + \\left( 3 \\cdot \\frac{2}{n}\\right)^2+...+ \\left( (n-1) \\frac{2}{n}\\right)^2            \\right)\\\\\n",
    "&= \\frac{2^3}{n^3}\\left(1+2^2+3^2+ ... + (n-1)^2 \\right)\\\\\n",
    "&=\\frac{8}{n^3}\\cdot \\frac{1}{6}(n-1)\\cdot n \\cdot (2n-1)\\\\\n",
    "&= \\frac{4}{3}\\cdot \\left(1-\\frac{1}{n} \\right)\\cdot \\left( 2-\\frac{2}{n}\\right)\n",
    "\\end{align*}\n",
    "$$\n",
    "\n",
    "**Grenzwert $n \\rightarrow \\infty $ der Untersumme**\n",
    "\n",
    "$$\n",
    "\\begin{align*}\n",
    "\\lim_{n \\to \\infty} U_n &= \\lim_{n \\to \\infty} \\frac{4}{3} \\cdot \\left( 1-\\frac{1}{n}\\right) \\cdot \\left( 2-\\frac{1}{n}\\right)\\\\\n",
    " &= \\frac{8}{3}\n",
    " \\end{align*}$$"
   ]
  },
  {
   "cell_type": "markdown",
   "metadata": {},
   "source": [
    "**Conclusio: Der Flächeninhalt beträgt**\n",
    "\n",
    "$$\n",
    " \\lim_{n \\to \\infty} U_n = \\lim_{n \\to \\infty} O_n \\frac{8}{3}\n",
    "$$"
   ]
  },
  {
   "cell_type": "markdown",
   "metadata": {},
   "source": [
    "<div style=\"border: 1px solid blue\">\n",
    "\n",
    "**Definition:**\n",
    "\n",
    "Sei Funktion $f$ mit $f(x)\\geq 0$ für $x \\in [a, b]$ gegeben.  \n",
    "Exisitieren für jede Untersummenfolge und Obersummenfolge die Grenzwerte\n",
    "$$\n",
    "\\lim_{n \\to \\infty} U_n \\text{ und } \\lim_{n \\to \\infty} O_n\n",
    "$$\n",
    "und sind die Grenzwerte gleich, dann ist der gemeinsame Grenzwert der Inhalt der Fläche zwischen dem Schaubild von $f$ und der x-Achse über dem Intervall $[a, b]$.\n",
    "</div> \n",
    "\n",
    "\n",
    "<br>\n",
    "<div style=\"border: 1px solid blue\">\n",
    "\n",
    "**Definition:**\n",
    "\n",
    "Eine Funktion $f$ heißt auf einem Intervall $I=[a, b]$ integrierbar, wenn gilt:\n",
    "$$ \\lim_{n \\to \\infty} U_n = \\lim_{n \\to \\infty} O_n $$\n",
    "\n",
    "</div>\n",
    "\n",
    "**Bemerkung:** \n",
    "\n",
    "Wie sieht es für $f(x) \\leq 0$ aus?  \n",
    "Mit dieser Methode berechnet man den orientierten Flächeninhalt, d.h. Flächen oberhalb der x-Achse werden poitiv berrechnet. Flächen unterhalb der x-Achse werden negativ berechent. \n",
    "\n",
    "Möchte man Flächeninhalte unterhalb der x-Achse berechnen, verwendet man den Betrag des negativen Flächeninhalts.\n",
    "\n",
    "\n"
   ]
  },
  {
   "cell_type": "markdown",
   "metadata": {},
   "source": [
    "<div style=\"border: 1px solid red\">\n",
    "\n",
    "**Satz:**\n",
    "\n",
    "Jede stetige Funktion auf einem Intervall $I$ hat für jede beliebige Folge von Obersummen $O_N$ bzw. Untersummen $U_N$ ein-und-densleben Gernezwert.\n",
    "\n",
    "Der Grenzwert ist unabhängig von der Wahl der Stellen und der Breite der Teilintervalle.\n",
    "</div>\n"
   ]
  },
  {
   "cell_type": "markdown",
   "metadata": {},
   "source": [
    "<div style=\"border: 1px solid blue\">\n",
    "\n",
    "**Definition:**\n",
    "\n",
    "Gegeben:\n",
    "- Eine Funktion $f$ auf einem Intervall $I=[a,b]$\n",
    "- f ist stetig\n",
    "- für alle $n \\in \\mathbb{N}$ sein $S_N$ eine Rechtecksumme mit der Breite $h=\\frac{b-a}{n}$\n",
    "Es gilt:\n",
    "\n",
    "Der Grenzwert\n",
    "$$\n",
    "\\lim_{n\\to \\infty} S_N\n",
    "$$\n",
    "heißt **Integral der Funktion** $f$ über dem Intervall $I= [a, b]$. Man schreibt:\n",
    "$$\n",
    "\\lim_{n \\to \\infty} = \\int_a^b{f(x)}dx\n",
    "$$\n",
    "$f(x)$ heißt Integrand\n",
    "$x$ ist die Integrationsvariable\n",
    "$a$ ist die untere Grenze\n",
    "$b$ ist die obere Grenze.\n",
    "\n",
    "</div>"
   ]
  },
  {
   "cell_type": "markdown",
   "metadata": {},
   "source": [
    "**Bemerkung:**\n",
    "\n",
    "1. Das Integralzeichen geht  auf G.W. Leibnitz zurück. Es symbolisiert ein langestrecktes S für die Rechtecksummen.\n",
    "\n",
    "2. Es gilt:\n",
    "$$\n",
    "\\int_a^b{f(x)}dx = -\\int_b^a{f(x)}dx\n",
    "$$\n",
    "\n",
    "3. $I=[a, b]$, und $a < c < b$. Es gilt die Intervalladditivität:\n",
    "$$\n",
    "\\int_a^c{f(x)}dx + \\int_c^b{f(x)}dx = \\int_b^a{f(x)}dx\n",
    "$$\n",
    "\n",
    "4.\n",
    "$$\n",
    "\\int_a^b{f(x)}dx + \\int_b^a{f(x)}dx = \\int_a^a{f(x)}dx = 0\n",
    "$$"
   ]
  },
  {
   "cell_type": "markdown",
   "metadata": {},
   "source": [
    "$$\n",
    "\n",
    "\n",
    "$$"
   ]
  },
  {
   "cell_type": "markdown",
   "metadata": {},
   "source": []
  }
 ],
 "metadata": {
  "kernelspec": {
   "display_name": "Python 3",
   "language": "python",
   "name": "python3"
  },
  "language_info": {
   "codemirror_mode": {
    "name": "ipython",
    "version": 3
   },
   "file_extension": ".py",
   "mimetype": "text/x-python",
   "name": "python",
   "nbconvert_exporter": "python",
   "pygments_lexer": "ipython3",
   "version": "3.11.4"
  }
 },
 "nbformat": 4,
 "nbformat_minor": 2
}
