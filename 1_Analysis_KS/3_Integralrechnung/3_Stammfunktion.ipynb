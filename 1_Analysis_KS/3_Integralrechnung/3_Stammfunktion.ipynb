{
 "cells": [
  {
   "cell_type": "markdown",
   "metadata": {},
   "source": [
    "## 3. Die Stammfunktion"
   ]
  },
  {
   "cell_type": "markdown",
   "metadata": {},
   "source": [
    "Gegeben sind folgende Funktionen und Ihre Ableitungsfunktionen:\n",
    "| Funktion $f$  | Ableitungsfunktion $f'$   |\n",
    "|:-------------:|:-------------------------:|\n",
    "|$f(x)=x^3-\\sqrt{x}$|$f'(x)=3x^2-\\frac{1}{2\\sqrt{x}}$|\n",
    "|$f(x)=-4x^4+ \\frac{2}{3}x$|$f'(x)=-16x^3 +\\frac{2}{3}$|\n",
    "|$f(x)=x^3-4x+2$|$f'(x)=3x^2-4$|\n",
    "\n",
    "\n",
    "Welche Funktion muss man Ableiten, um folgende Ableitungsfunktionen zu erhalten?\n",
    "\n",
    "| Ableitungsfunktion $f'$  |  abzuleitende Funktion $F$  |\n",
    "|:-------------:|:-------------------------:|\n",
    "|$f'(x)=3x^2-\\frac{1}{2\\sqrt{x}}$|$f'(x)=3x^2-\\frac{1}{2\\sqrt{x}}$|\n",
    "|$f'(x)=-16x^3 +\\frac{2}{3}$| |\n",
    "|$f'(x)=3x^2-4$| |"
   ]
  },
  {
   "cell_type": "markdown",
   "metadata": {},
   "source": [
    "<div style=\"border: 1px solid blue\">\n",
    "\n",
    "**Definition:**   \n",
    "Gegeben seien ein Intervall $I$ und eine Funktion $f: \\, I \\rightarrow \\mathbb{R}$  \n",
    "Eine Funktion $F$ heißt **Stammfunktion** von f auf dem Intervall $I$, wenn für alle $x\\in I$ gilt:  \n",
    "$$ F'(x)=f(x)$$\n",
    "</div>"
   ]
  },
  {
   "cell_type": "markdown",
   "metadata": {},
   "source": [
    "<div style=\"border: 1px solid red\">\n",
    "\n",
    "**Satz:**  \n",
    "Gegeben sei die Funktion $f$ mit $f(x)=x^z, \\quad z \\in \\mathbb{Z} \\setminus\\{-1\\}$   \n",
    "Es gilt:  \n",
    "$$F(X)=\\frac{1}{z+1}x^{z+1}$$\n",
    "\n",
    "</div>"
   ]
  },
  {
   "cell_type": "markdown",
   "metadata": {},
   "source": [
    "**Beispiele:**\n",
    "\n",
    "1) $f(x)=x^2\\qquad F(x)=\\frac{1}{3}x^3$\n",
    "2) $f(x)=-x^7\\qquad F(x)=-\\frac{1}{8}x^8$\n",
    "3) $f(x)=x^{-3}\\qquad F(x)=-\\frac{1}{3}x^{-2}$"
   ]
  },
  {
   "cell_type": "markdown",
   "metadata": {},
   "source": [
    "<div style=\"border: 1px solid red\">\n",
    "\n",
    "**Satz:**  \n",
    "Seien $H$ und $H$ Stammfunktionen der Funktinen $g$ und $g$ und $c, m \\in \\mathbb{R}$.\n",
    "\n",
    "\n",
    "**Summenregel:** Wenn $$f(x)=g(x) + h(x), \\text{ dann gilt: } F(X)=G(x)+H(x)$$  \n",
    "\n",
    "**Faktorregel:** Wenn $$f(x)=c \\cdot g(x), \\text{ dann gilt: } F(X)=c \\cdot G(x)$$  \n",
    "\n",
    "**lineare Substitution:** Wenn $$f(x)= g(m\\cdot x+c), \\text{ dann gilt: } F(X)=\\frac{1}{m} \\cdot G(m\\cdot x+c)$$\n",
    "</div>\n",
    "\n",
    "**Beispiele:**\n",
    "\n",
    "Zur Summenregel:  \n",
    "$$ f(x)=2x^2+3 \\quad F(x)=\\frac{2}{3}x^3+\\frac{3}{2}x^2$$  \n",
    "Zur Produktregel:  \n",
    "$$ f(x)=2\\cdot x^2 \\quad F(x)= 2 \\cdot \\frac{1}{3}x^3$$  \n",
    "Zur linearen Substitution: \n",
    "$$ f(r)= (3r+2)^2 \\quad F(r)=\\frac{1}{3}\\cdot \\frac{1}{3}(3r+2)^3$$\n"
   ]
  },
  {
   "cell_type": "markdown",
   "metadata": {},
   "source": [
    "**Beobachtung:**  \n",
    "\n",
    "Für $f(x)=x^4$  gilt $F(X) = \\frac{1}{5}x^5$, da $F'(x)=\\left(\\frac{1}{5}x^5\\right)' = x^4$  \n",
    "\n",
    "Für die Funktion $F_2(x)= \\frac{1}{5}x^5 + 2$ gilt aber auch $F_2'(x)=x^4$\n",
    "\n",
    "Für die Funktion $F_3(x)= \\frac{1}{5}x^5 -0,3 $ gilt aber auch $F_2'(x)=x^4$\n",
    "\n",
    "Allgemein bedeutet das: Für die Funktion $F_r(x)= \\frac{1}{5}x^5 +r $ mit $r \\in \\mathbb{R}$ gilt  $F_r'(x)=x^4$\n",
    "\n",
    "Das führt zu dem Satz:  \n",
    "\n",
    "<div style=\"border: 1px solid red\">\n",
    "\n",
    "**Satz:**  \n",
    "\n",
    "Ist $F$ eine Stammfunktion zur Funktion f auf dem Intervall $I$, dann gibt es zu f weitere Stammfunktinen.  \n",
    "Für die weiteren Stammfunktionen $G$ gilt:\n",
    "$$ F(x)=G(x)+c, \\text{mit der Konstanten } c \\in \\mathbb{R}$$ \n",
    "\n",
    "</div>"
   ]
  },
  {
   "cell_type": "markdown",
   "metadata": {},
   "source": [
    "**Stammfunktionen zu einigen Grundfunktionen:**\n",
    "\n",
    "| $f(x)$  |  $F(x)$  |\n",
    "|:-------:|:--------:|\n",
    "|  $x$    |  $\\frac{1}{2}x^2$|\n",
    "| $x^2$   | $\\frac{1}{3}x^3$|\n",
    "| $1$   | $x$|\n",
    "| $\\frac{1}{x}$|$\\ln{(\\|x\\|)}$|\n",
    "| $\\frac{1}{x^2}$|$-\\frac{1}{x}$|\n",
    "| $\\sqrt{x}$ | $\\frac{2}{3}\\sqrt{x^3}$\n",
    "|$\\sin(x)$ | $-\\cos(x)$|\n",
    "| $\\cos(x)$| $sin(x)$|\n",
    "| $e^x$ | $e^x$|"
   ]
  },
  {
   "cell_type": "markdown",
   "metadata": {},
   "source": []
  }
 ],
 "metadata": {
  "language_info": {
   "name": "python"
  }
 },
 "nbformat": 4,
 "nbformat_minor": 2
}
