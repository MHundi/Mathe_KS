{
 "cells": [
  {
   "cell_type": "markdown",
   "metadata": {},
   "source": [
    "## 4. Hauptsatz der Differential- und Integralrechnung"
   ]
  },
  {
   "cell_type": "markdown",
   "metadata": {},
   "source": [
    "Wie berechnet man $$\\int_0^3\\frac{1}{4}x^4-3x^2+7 dx$$ ?\n",
    "\n",
    "Antwort: \n",
    "1. Bilde eine Zerlegungssume\n",
    "2. Bilde den Grenzwert der Zerlegunssumme\n",
    "\n",
    "$\\Rightarrow $ **aufwändig**\n",
    "\n",
    "Wir suchen eine einfachere Möglichkeit.\n"
   ]
  },
  {
   "cell_type": "markdown",
   "metadata": {},
   "source": [
    "<div style=\"border: 3px solid red\">\n",
    "\n",
    "**Hauptsatz der Differential- und Integralrechnung**\n",
    "\n",
    "Gegeben:\n",
    "- f auf dem Intervall $I=[a; b]$ stetige Funktion\n",
    "- F beliebige Stammfunktion von f auf dem Intervall I\n",
    "\n",
    "Es gilt:\n",
    "\n",
    "$$\\int_a^b f(x)dx = F(b)-F(a)$$\n",
    "</div>"
   ]
  },
  {
   "cell_type": "markdown",
   "metadata": {},
   "source": [
    "**Bemerkung:**\n",
    "- Schreibweise für $F(b)-F(a)= \\left[ F(x)\\right]_a^b$\n",
    "- Damit gilt: $\\int_a^b f(x)dx = \\left[ F(x)\\right]_a^b$"
   ]
  },
  {
   "cell_type": "markdown",
   "metadata": {},
   "source": [
    "**Beispiele:**\n",
    "\n",
    "- $$\\int_0^\\pi \\sin(x)dx = \\left[ -\\cos(x)\\right]_0^\\pi = -cos(\\pi) - (-\\cos(0)) = 1+1 = 2$$\n",
    "- $$\\int_{-2}^2e^x=\\left[e^x \\right]_{-2}^2 = e^2-e^{-2}"
   ]
  },
  {
   "cell_type": "markdown",
   "metadata": {},
   "source": [
    "Integrale (orientierte Flächeninhalte) können mit Hilfe von Stammfunktionen berechnet werden (Hauptsatz der Differenzial- und Integralrechnung.\n",
    "\n",
    "Wie sieht die Stammfunktion zu $$f(x) = 4x^3 + 3x^4$$\n",
    "aus? \n",
    "$$\\Rightarrow F(x) = x^4 + 35\\cdot x^5$$\n",
    "Wie sieht die Stammfunktion zu $$f(x) = 25e^{2−5x}$$\n",
    "aus?\n",
    "$$\\rightarrow F(x)= 25e^{2−5x}\\cdot (−15)??$$\n",
    "\n",
    "Wie sieht die Stammfunktion zu $$f(x) = e^{−x^2} $$\n",
    "aus?  \n",
    "$\\Rightarrow$ Dafür gibt es keine Regel, dennoch gibt es einen orientierte Flächeninhalt."
   ]
  },
  {
   "cell_type": "code",
   "execution_count": 1,
   "metadata": {},
   "outputs": [
    {
     "data": {
      "text/plain": [
       "[<matplotlib.lines.Line2D at 0x10fa93690>]"
      ]
     },
     "execution_count": 1,
     "metadata": {},
     "output_type": "execute_result"
    },
    {
     "data": {
      "image/png": "[encoded data removed]",
      "text/plain": [
       "<Figure size 800x800 with 1 Axes>"
      ]
     },
     "metadata": {},
     "output_type": "display_data"
    }
   ],
   "source": [
    "import numpy as np\n",
    "import matplotlib.pyplot as plt\n",
    "from matplotlib.ticker import AutoMinorLocator, MultipleLocator, FuncFormatter\n",
    "\n",
    "# Defintionsmenge und Funktion\n",
    "# ----------------------------\n",
    "a= -5.1 # untere x-Intervallgrenze \n",
    "b= 5.1 # obere x-Intervallgrenze\n",
    "c = -5.1# untere y-Intervallgrenze\n",
    "d = 5.1 # obere y-Intervallgrenze\n",
    "x = np.linspace(a, b,1000)\n",
    "y1= np.exp(-x**2)\n",
    "# ----------------------------\n",
    "\n",
    "# Einstellung des Graphen\n",
    "fig=plt.figure(figsize=(8,8))\n",
    "ax= fig.add_subplot(1,1,1, aspect =1)\n",
    "\n",
    "# Definiton der Haupteinheiten, reele Zahlen ohne die 0 \n",
    "def major_tick(x, pos):\n",
    "    if x==0:\n",
    "        return \"\"\n",
    "    return int(x)\n",
    "\n",
    "# Achsenskalierung\n",
    "ax.xaxis.set_major_locator(MultipleLocator(1))\n",
    "ax.xaxis.set_minor_locator(AutoMinorLocator(2))\n",
    "ax.yaxis.set_major_locator(MultipleLocator(1))\n",
    "ax.yaxis.set_minor_locator(AutoMinorLocator(2))\n",
    "ax.xaxis.set_major_formatter(FuncFormatter(major_tick))\n",
    "ax.yaxis.set_major_formatter(FuncFormatter(major_tick))\n",
    "\n",
    "# Position der Achsen im Schaubild\n",
    "ax.spines[['top','right']].set_visible(False)\n",
    "ax.spines[['bottom','left']].set_position('zero')\n",
    "\n",
    "# Pfeile für die Achsen\n",
    "ax.plot((1),(0), ls=\"\", marker= \">\", ms=7, color=\"k\", transform=ax.get_yaxis_transform(), clip_on=False)\n",
    "ax.plot((0),(1), ls=\"\", marker= \"^\", ms=7, color=\"k\", transform=ax.get_xaxis_transform(), clip_on=False)\n",
    "\n",
    "# Achsenlänge und Beschriftung\n",
    "ax.set_xlim(a,b)\n",
    "ax.set_ylim(c, d)\n",
    "ax.set_xlabel(\"x\", loc=\"right\")\n",
    "ax.set_ylabel(\"f(x)\", loc=\"top\", rotation=0)\n",
    "\n",
    "# Kästchen\n",
    "ax.grid(linestyle=\"-\", which=\"major\",linewidth=0.7, zorder=-10)\n",
    "ax.grid(linestyle=\"-\", which=\"minor\",linewidth=0.5, zorder=-10)\n",
    "\n",
    "# Plot der Funktion\n",
    "ax.plot(x,y1, zorder=10)\n",
    "#plt.show()"
   ]
  },
  {
   "cell_type": "code",
   "execution_count": 5,
   "metadata": {},
   "outputs": [
    {
     "data": {
      "text/html": [
       "\n",
       "        <iframe\n",
       "            width=\"1200\"\n",
       "            height=\"600\"\n",
       "            src=\"https://www.geogebra.org/calculator/zw4jzsgn?style=border%3A+1px+solid+black\"\n",
       "            frameborder=\"0\"\n",
       "            allowfullscreen\n",
       "            \n",
       "        ></iframe>\n",
       "        "
      ],
      "text/plain": [
       "<IPython.lib.display.IFrame at 0x10fab2910>"
      ]
     },
     "execution_count": 5,
     "metadata": {},
     "output_type": "execute_result"
    }
   ],
   "source": [
    "from IPython.display import IFrame\n",
    "\n",
    "IFrame('https://www.geogebra.org/calculator/zw4jzsgn', width=1200, height=600, style=\"border: 1px solid black\")"
   ]
  },
  {
   "cell_type": "markdown",
   "metadata": {},
   "source": [
    "<div style=\"border: 1px solid blue\">\n",
    "\n",
    "**Definition:**   \n",
    "Gegeben: \n",
    "- $f$ sei eine auf dem Intervall $I$ integrierbare Funktion \n",
    "- $u \\in I$\n",
    "\n",
    "Die Funktion $$J_u(x)= \\int_u^x f(t)dt$$ heißt Integralfunktion von $f$ zur unteren Grenze $u$.\n",
    "\n",
    "</div>"
   ]
  },
  {
   "cell_type": "markdown",
   "metadata": {},
   "source": []
  },
  {
   "cell_type": "markdown",
   "metadata": {},
   "source": [
    "<div style=\"border: 1px solid red\">\n",
    "\n",
    "**Satz 1:**   \n",
    "\n",
    "Es gilt \n",
    "1.) $$J_u(u)=\\int_u^u f(t)dt = 0$$\n",
    "\n",
    "2.) $$ \\int_a^b f(t)dt = -\\int_b^a f(t)dt$$\n",
    "\n",
    "</div>\n",
    "\n",
    "<br>\n",
    "\n",
    "<div style=\"border: 1px solid red\">\n",
    "\n",
    "**Satz 2:**  \n",
    "Ist $J_u$ die Integralfunktion einer differenzierbaren Funktion f, so git:\n",
    "\n",
    "$$J_u'(x) = f(x) $$\n",
    "Die Integralfunktion $J_u$ ist alos eine Stammfunktion von $f$\n",
    "</div>"
   ]
  },
  {
   "cell_type": "markdown",
   "metadata": {},
   "source": []
  }
 ],
 "metadata": {
  "kernelspec": {
   "display_name": "Python 3",
   "language": "python",
   "name": "python3"
  },
  "language_info": {
   "codemirror_mode": {
    "name": "ipython",
    "version": 3
   },
   "file_extension": ".py",
   "mimetype": "text/x-python",
   "name": "python",
   "nbconvert_exporter": "python",
   "pygments_lexer": "ipython3",
   "version": "3.11.4"
  }
 },
 "nbformat": 4,
 "nbformat_minor": 2
}
