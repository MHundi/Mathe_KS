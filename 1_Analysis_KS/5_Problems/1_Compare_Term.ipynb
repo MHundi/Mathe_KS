{
 "cells": [
  {
   "cell_type": "raw",
   "metadata": {},
   "source": [
    "---\n",
    "format:\n",
    "  pdf:\n",
    "    pdf-engine: xelatex\n",
    "    documentclass: scrartcl\n",
    "    papersize: a4\n",
    "    fontsize: 11pt\n",
    "    fig-align: center\n",
    "    colorlinks: true\n",
    "    code-line-numbers: true\n",
    "    keep-tex: true\n",
    "    include-in-header:\n",
    "      - text: |\n",
    "          \\usepackage[document]{ragged2e}\n",
    "\n",
    "  beamer:\n",
    "    aspectratio: 169\n",
    "    navigation: horizontal\n",
    "    theme: Singapore\n",
    "    colortheme: orchid\n",
    "    toc: false\n",
    "    code-line-numbers: true\n",
    "    echo: true\n",
    "    fontzsize: 25pt\n",
    "  \n",
    "  html:\n",
    "    standalone: true\n",
    "    section-divs: true\n",
    "    html-math-method: mathjax\n",
    "    wrap: none\n",
    "    default-image-extension: png\n",
    "\n",
    "## Fonts\n",
    "mainfont: Avenir Next\n",
    "---"
   ]
  },
  {
   "cell_type": "markdown",
   "metadata": {},
   "source": [
    "## Problem\n",
    "\n",
    "$$x^y \\quad ? \\quad y^x$$"
   ]
  },
  {
   "cell_type": "markdown",
   "metadata": {},
   "source": [
    "Lösung:\n",
    "$$\n",
    "\\begin{aligned}\n",
    "&& x,y &> 0\\\\\n",
    "&& x^y & \\quad\\square\\quad  y^x \\qquad |\\text{ln ist stetig und str. mono. st.}\\\\\n",
    "\\Leftrightarrow&& \\ln(x^y) & \\quad\\square\\quad \\ln(y^x)\\qquad |\\text{ln-Gesetze}\\\\\n",
    "\\Leftrightarrow&& y \\ln(x) & \\quad\\square\\quad x\\ln(y)\\qquad |:x, :y, x, y > 0\\\\\n",
    "\\Leftrightarrow&& \\frac{\\ln(x)}{x }& \\quad\\square\\quad \\frac{\\ln(y)}{y}\n",
    "\\end{aligned}\n",
    "$$"
   ]
  },
  {
   "cell_type": "markdown",
   "metadata": {},
   "source": [
    "Betrachte die Funktion $f(z)=\\frac{\\ln(z)}{z}$\n",
    "\n",
    "Bestimme Maximum:  \n",
    "$$\n",
    "\\begin{aligned}\n",
    "f'(z)& = z^{-1}\\cdot z^{-1} - \\ln(z)\\cdot z^{-2} = \\frac{1-\\ln(z)}{z^2}\n",
    "\\end{aligned}\n",
    "$$\n",
    "\n",
    "1. not. Bed.:  \n",
    "$$\n",
    "\\begin{aligned}\n",
    "f'(z)=0 \\Leftrightarrow 1-\\ln(z)&=0\\\\\n",
    "\\ln(z) &= 1\\\\\n",
    "z & = e\n",
    "\\end{aligned}\n",
    "$$\n",
    "\n",
    "2. hinr. Bed.: VZW\n",
    "\n",
    "$$ \\text{Für }z \\in (0; e) \\text{ gilt } ln(z)<0$$  \n",
    "$$ \\text{und damit}$$ \n",
    "$$ \\frac{1-\\ln(z)}{z^2}>0$$\n",
    "\n",
    "Damit ist $f$ auf $I_1=(0; e)$ streng mono steigend.\n",
    "\n",
    "$$ \\text{Für }z \\in (e; \\infty) \\text{ gilt } ln(z)>0$$  \n",
    "$$ \\text{und damit}$$ \n",
    "$$ \\frac{1-\\ln(z)}{z^2}<0$$\n",
    "\n",
    "Damit ist $f$ auf $I_2=(e; \\infty)$ streng mono fallend.\n",
    "\n"
   ]
  },
  {
   "cell_type": "markdown",
   "metadata": {},
   "source": [
    "Conclusio:\n",
    "\n",
    "Wenn $y<x<e$, dann gilt:\n",
    "$$\n",
    "\\begin{aligned}\n",
    "&& \\frac{\\ln(y)}{y} & < \\frac{\\ln(x)}{x}\\\\\n",
    "\\Leftrightarrow && x\\cdot \\ln(y) & < y \\cdot \\ln(x)\\\\\n",
    "\\Leftrightarrow && y^x &< x^y\n",
    "\\end{aligned}\n",
    "$$\n",
    "\n",
    "Wenn $e<y<x$, dann gilt:\n",
    "$$\n",
    "\\begin{aligned}\n",
    "&& \\frac{\\ln(y)}{y} & > \\frac{\\ln(x)}{x}\\\\\n",
    "\\Leftrightarrow && x\\cdot \\ln(y) & > y \\cdot \\ln(x)\\\\\n",
    "\\Leftrightarrow && y^x &> x^y\n",
    "\\end{aligned}\n",
    "$$"
   ]
  }
 ],
 "metadata": {
  "kernelspec": {
   "display_name": "Python 3",
   "language": "python",
   "name": "python3"
  },
  "language_info": {
   "name": "python",
   "version": "3.12.1"
  }
 },
 "nbformat": 4,
 "nbformat_minor": 2
}
