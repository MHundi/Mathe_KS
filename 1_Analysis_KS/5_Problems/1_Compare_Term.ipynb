Problem: $x^y \quad ? \quad y^x$


This problem is quite famous, and you might have seen a few special cases before, but in this article, we will solve the generalized version so that you will be able to tell what the answer is in just a matter of seconds.
Solution
One natural thing that comes to mind is to just take the logarithm of both sides. This will make it easier to deal with the exponents. Then, we can do some rearranging: