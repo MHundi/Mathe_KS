{
 "cells": [
  {
   "cell_type": "raw",
   "metadata": {},
   "source": [
    "---\n",
    "title: \"\"\n",
    "date: today\n",
    "format:\n",
    "    pdf:\n",
    "      papersize: a4\n",
    "execute: \n",
    "  enabled: true\n",
    "  echo: false\n",
    "Juypter: python3\n",
    "\n",
    "format:\n",
    "  beamer:\n",
    "    aspectratio: 169\n",
    "    navigation: horizontal\n",
    "    theme: Singapore\n",
    "    colortheme: orchid\n",
    "    toc: false\n",
    "---"
   ]
  },
  {
   "cell_type": "markdown",
   "metadata": {
    "slideshow": {
     "slide_type": "slide"
    }
   },
   "source": [
    "## 3. Gleichungen und Ungleichungen lösen"
   ]
  },
  {
   "cell_type": "markdown",
   "metadata": {
    "slideshow": {
     "slide_type": "fragment"
    }
   },
   "source": [
    "Benötigt bei:"
   ]
  },
  {
   "cell_type": "markdown",
   "metadata": {
    "slideshow": {
     "slide_type": "fragment"
    }
   },
   "source": [
    "\n",
    "\n",
    "- Berechnung von Schnittpunkten des Graphen mit der x-Achse\n",
    "- Anmerkung: Wie berechnet man den Schnitt mit der y-Achse?\n",
    "- Extremstpunkte\n",
    "    - notwendige Bedingung\n",
    "- Wendepunkte\n",
    "    - notwendige Bedingung\n",
    "- Schnittpunkte von Graphen\n",
    "- In der Geometrie:\n",
    "    - Schnitt von Geraden\n",
    "    - Schnitt von Ebenen,\n",
    "    - Schnitt von Gerade mit Ebene\n",
    "- In der Stochastik\n",
    "- etc."
   ]
  },
  {
   "cell_type": "markdown",
   "metadata": {
    "slideshow": {
     "slide_type": "slide"
    }
   },
   "source": [
    "### Nullgleichungen\n",
    "\n",
    "#### 1. Typ: $a_2x^2+a_0= 0$\n",
    "\n",
    "$$ \\begin{aligned}\n",
    "&& x^2-2 &= 0\\\\\n",
    "\\Leftrightarrow && x^2 &= 2\\\\\n",
    "\\Leftrightarrow && x_1 &= \\sqrt{2},\\\\\n",
    " && x_2 &=-\\sqrt{2}\\\\\n",
    " && L &= \\{-\\sqrt{2}; \\sqrt{2} \\}\n",
    "\\end{aligned}\n",
    "$$\n",
    "\n",
    "- Zwei Lösungen, wenn auf der rechten Seite der Gleichung eine positive Zahl vorhanden ist.\n",
    "- Ein Lösung ausschließlich für die Gleichung $x^2=0$\n",
    "- Keine Lösung, wenn auf der rechten Seite der Gleichung eine negative Zahl vorhanden ist.\n"
   ]
  },
  {
   "cell_type": "code",
   "execution_count": 1,
   "metadata": {
    "slideshow": {
     "slide_type": "slide"
    }
   },
   "outputs": [
    {
     "data": {
      "text/plain": [
       "[<matplotlib.lines.Line2D at 0x136641eb0>]"
      ]
     },
     "execution_count": 1,
     "metadata": {},
     "output_type": "execute_result"
    },
    {
     "data": {
      "application/pdf": "[encoded data removed]",
      "text/plain": [
       "<Figure size 1500x1500 with 1 Axes>"
      ]
     },
     "metadata": {},
     "output_type": "display_data"
    }
   ],
   "source": [
    "import numpy as np\n",
    "import matplotlib.pyplot as plt\n",
    "from matplotlib.ticker import AutoMinorLocator, MultipleLocator, FuncFormatter\n",
    "\n",
    "# Defintionsmenge und Funktion\n",
    "# ----------------------------\n",
    "a= -5.1 # untere x-Intervallgrenze \n",
    "b= 5.1 # obere x-Intervallgrenze\n",
    "c = -5.1# untere y-Intervallgrenze\n",
    "d = 5.1 # obere y-Intervallgrenze\n",
    "x = np.linspace(a, b,1000)\n",
    "y1= x**2-2\n",
    "# ----------------------------\n",
    "\n",
    "# Einstellung des Graphen\n",
    "fig=plt.figure(figsize=(5,5))\n",
    "ax= fig.add_subplot(1,1,1, aspect =1)\n",
    "\n",
    "# Definiton der Haupteinheiten, reele Zahlen ohne die 0 \n",
    "def major_tick(x, pos):\n",
    "    if x==0:\n",
    "        return \"\"\n",
    "    return int(x)\n",
    "\n",
    "# Achsenskalierung\n",
    "ax.xaxis.set_major_locator(MultipleLocator(1))\n",
    "ax.xaxis.set_minor_locator(AutoMinorLocator(2))\n",
    "ax.yaxis.set_major_locator(MultipleLocator(1))\n",
    "ax.yaxis.set_minor_locator(AutoMinorLocator(2))\n",
    "ax.xaxis.set_major_formatter(FuncFormatter(major_tick))\n",
    "ax.yaxis.set_major_formatter(FuncFormatter(major_tick))\n",
    "\n",
    "# Position der Achsen im Schaubild\n",
    "ax.spines[['top','right']].set_visible(False)\n",
    "ax.spines[['bottom','left']].set_position('zero')\n",
    "\n",
    "# Pfeile für die Achsen\n",
    "ax.plot((1),(0), ls=\"\", marker= \">\", ms=7, color=\"k\", transform=ax.get_yaxis_transform(), clip_on=False)\n",
    "ax.plot((0),(1), ls=\"\", marker= \"^\", ms=7, color=\"k\", transform=ax.get_xaxis_transform(), clip_on=False)\n",
    "\n",
    "# Achsenlänge und Beschriftung\n",
    "ax.set_xlim(a,b)\n",
    "ax.set_ylim(c, d)\n",
    "ax.set_xlabel(\"x\", loc=\"right\")\n",
    "ax.set_ylabel(\"f(x)\", loc=\"top\", rotation=0)\n",
    "\n",
    "# Kästchen\n",
    "ax.grid(linestyle=\"-\", which=\"major\",linewidth=0.7, zorder=-10)\n",
    "ax.grid(linestyle=\"-\", which=\"minor\",linewidth=0.5, zorder=-10)\n",
    "\n",
    "# Plot der Funktion\n",
    "ax.plot(x,y1, zorder=10)\n",
    "#plt.show()"
   ]
  },
  {
   "cell_type": "markdown",
   "metadata": {
    "slideshow": {
     "slide_type": "slide"
    }
   },
   "source": [
    "#### 2. Typ: $a_n x^n+ a_0=0$\n",
    "\n",
    "$$ \\begin{aligned}\n",
    "&& 2x^5+64 &= 0\\\\\n",
    "\\Leftrightarrow && 2x^5 &= -64\\\\\n",
    "\\Leftrightarrow && x^5 &= -32\\\\\n",
    "\\Leftrightarrow && x &= \\sqrt[5]{-32}\\\\\n",
    "\\Leftrightarrow && x &= -2\\\\\n",
    "&& L&=\\{-2\\}\n",
    "\\end{aligned}\n",
    "$$\n",
    "\n",
    "- mehrere Lösungen, wenn Grad $n$ gerade ist.\n",
    "- eine Lösung, wenn der Grad $n$ ungerade ist. "
   ]
  },
  {
   "cell_type": "code",
   "execution_count": 2,
   "metadata": {
    "slideshow": {
     "slide_type": "slide"
    }
   },
   "outputs": [
    {
     "data": {
      "application/pdf": "[encoded data removed]",
      "text/plain": [
       "<Figure size 1500x1500 with 1 Axes>"
      ]
     },
     "metadata": {},
     "output_type": "display_data"
    }
   ],
   "source": [
    "import numpy as np\n",
    "import matplotlib.pyplot as plt\n",
    "from matplotlib.ticker import AutoMinorLocator, MultipleLocator, FuncFormatter\n",
    "\n",
    "# Defintionsmenge und Funktion\n",
    "# ----------------------------\n",
    "a= -5.1 # untere x-Intervallgrenze \n",
    "b= 5.1 # obere x-Intervallgrenze\n",
    "c = -1.1# untere y-Intervallgrenze\n",
    "d = 75.1 # obere y-Intervallgrenze\n",
    "x = np.linspace(a, b,1000)\n",
    "y1= 2*x**5+64\n",
    "# ----------------------------\n",
    "\n",
    "# Einstellung des Graphen\n",
    "fig=plt.figure(figsize=(5,5))\n",
    "ax= fig.add_subplot(1,1,1, aspect =0.1)\n",
    "\n",
    "# Definiton der Haupteinheiten, reele Zahlen ohne die 0 \n",
    "def major_tick(x, pos):\n",
    "    if x==0:\n",
    "        return \"\"\n",
    "    return int(x)\n",
    "\n",
    "# Achsenskalierung\n",
    "ax.xaxis.set_major_locator(MultipleLocator(1))\n",
    "ax.xaxis.set_minor_locator(AutoMinorLocator(2))\n",
    "ax.yaxis.set_major_locator(MultipleLocator(5))\n",
    "ax.yaxis.set_minor_locator(AutoMinorLocator(1))\n",
    "ax.xaxis.set_major_formatter(FuncFormatter(major_tick))\n",
    "ax.yaxis.set_major_formatter(FuncFormatter(major_tick))\n",
    "\n",
    "# Position der Achsen im Schaubild\n",
    "ax.spines[['top','right']].set_visible(False)\n",
    "ax.spines[['bottom','left']].set_position('zero')\n",
    "\n",
    "# Pfeile für die Achsen\n",
    "ax.plot((1),(0), ls=\"\", marker= \">\", ms=7, color=\"k\", transform=ax.get_yaxis_transform(), clip_on=False)\n",
    "ax.plot((0),(1), ls=\"\", marker= \"^\", ms=7, color=\"k\", transform=ax.get_xaxis_transform(), clip_on=False)\n",
    "\n",
    "# Achsenlänge und Beschriftung\n",
    "ax.set_xlim(a,b)\n",
    "ax.set_ylim(c, d)\n",
    "ax.set_xlabel(\"x\", loc=\"right\")\n",
    "ax.set_ylabel(\"f(x)\", loc=\"top\", rotation=0)\n",
    "\n",
    "# Kästchen\n",
    "ax.grid(linestyle=\"-\", which=\"major\",linewidth=0.7, zorder=-10)\n",
    "ax.grid(linestyle=\"-\", which=\"minor\",linewidth=0.5, zorder=-10)\n",
    "\n",
    "# Plot der Funktion\n",
    "ax.plot(x,y1, zorder=10)\n",
    "plt.show()"
   ]
  },
  {
   "cell_type": "markdown",
   "metadata": {
    "slideshow": {
     "slide_type": "slide"
    }
   },
   "source": [
    "#### 4. Typ: $a_2 x^2+ a_1 x + a_0=0$\n",
    "\n",
    "$$ \\begin{aligned}\n",
    "  2x^2-4x +2 &= 0\\\\\n",
    "  x_{1, 2} &=\\frac{-(-4)\\pm \\sqrt{(-4)^2-4\\cdot 2 \\cdot 2}}{2\\cdot 2}\\\\\n",
    "  x_1 &= 1\\\\\n",
    " L &= \\{1\\}\n",
    "\\end{aligned}\n",
    "$$\n",
    "\n"
   ]
  },
  {
   "cell_type": "markdown",
   "metadata": {
    "slideshow": {
     "slide_type": "slide"
    }
   },
   "source": [
    "- für $a_2=1$:  p-q-Formel\n",
    " $$ \\begin{aligned}\n",
    "    x^2+px+q &= 0\\\\\n",
    "    x_{1, 2}& = -\\frac{p}{2}\\ \\pm \\sqrt{\\left(\\frac{p}{2}\\right)^2 - q}\n",
    "    \\end{aligned}\n",
    "  $$\n",
    "- für $a_2 \\neq 1 \\neq 0$:  abc-Formel  \n",
    " $$ \\begin{aligned}\n",
    "  ax^2+bx+c &= 0\\\\\n",
    "  x_{1, 2} &= \\frac{-b \\pm \\sqrt{b^2 - 4ac}}{2a}\n",
    "  \\end{aligned}\n",
    "$$\n",
    "\n",
    "- Diskriminante entscheidet über die Anzahl der Lösungen\n",
    "- $D=\\left(\\frac{p}{2}\\right)^2 - q$ bzw. $D=b^2 - 4ac$\n",
    "\n",
    "  "
   ]
  },
  {
   "cell_type": "code",
   "execution_count": 3,
   "metadata": {
    "slideshow": {
     "slide_type": "slide"
    }
   },
   "outputs": [
    {
     "data": {
      "text/plain": [
       "[<matplotlib.lines.Line2D at 0x1453424e0>]"
      ]
     },
     "execution_count": 3,
     "metadata": {},
     "output_type": "execute_result"
    },
    {
     "data": {
      "application/pdf": "[encoded data removed]",
      "text/plain": [
       "<Figure size 1500x1500 with 1 Axes>"
      ]
     },
     "metadata": {},
     "output_type": "display_data"
    }
   ],
   "source": [
    "import numpy as np\n",
    "import matplotlib.pyplot as plt\n",
    "from matplotlib.ticker import AutoMinorLocator, MultipleLocator, FuncFormatter\n",
    "\n",
    "# Defintionsmenge und Funktion\n",
    "# ----------------------------\n",
    "a= -5.1 # untere x-Intervallgrenze \n",
    "b= 5.1 # obere x-Intervallgrenze\n",
    "c = -5.1# untere y-Intervallgrenze\n",
    "d = 5.1 # obere y-Intervallgrenze\n",
    "x = np.linspace(a, b,1000)\n",
    "y1= 2*(x**2)-4*x+2\n",
    "# ----------------------------\n",
    "\n",
    "# Einstellung des Graphen\n",
    "fig=plt.figure(figsize=(5,5))\n",
    "ax= fig.add_subplot(1,1,1, aspect =1)\n",
    "\n",
    "# Definiton der Haupteinheiten, reele Zahlen ohne die 0 \n",
    "def major_tick(x, pos):\n",
    "    if x==0:\n",
    "        return \"\"\n",
    "    return int(x)\n",
    "\n",
    "# Achsenskalierung\n",
    "ax.xaxis.set_major_locator(MultipleLocator(1))\n",
    "ax.xaxis.set_minor_locator(AutoMinorLocator(2))\n",
    "ax.yaxis.set_major_locator(MultipleLocator(1))\n",
    "ax.yaxis.set_minor_locator(AutoMinorLocator(2))\n",
    "ax.xaxis.set_major_formatter(FuncFormatter(major_tick))\n",
    "ax.yaxis.set_major_formatter(FuncFormatter(major_tick))\n",
    "\n",
    "# Position der Achsen im Schaubild\n",
    "ax.spines[['top','right']].set_visible(False)\n",
    "ax.spines[['bottom','left']].set_position('zero')\n",
    "\n",
    "# Pfeile für die Achsen\n",
    "ax.plot((1),(0), ls=\"\", marker= \">\", ms=7, color=\"k\", transform=ax.get_yaxis_transform(), clip_on=False)\n",
    "ax.plot((0),(1), ls=\"\", marker= \"^\", ms=7, color=\"k\", transform=ax.get_xaxis_transform(), clip_on=False)\n",
    "\n",
    "# Achsenlänge und Beschriftung\n",
    "ax.set_xlim(a,b)\n",
    "ax.set_ylim(c, d)\n",
    "ax.set_xlabel(\"x\", loc=\"right\")\n",
    "ax.set_ylabel(\"f(x)\", loc=\"top\", rotation=0)\n",
    "\n",
    "# Kästchen\n",
    "ax.grid(linestyle=\"-\", which=\"major\",linewidth=0.7, zorder=-10)\n",
    "ax.grid(linestyle=\"-\", which=\"minor\",linewidth=0.5, zorder=-10)\n",
    "\n",
    "# Plot der Funktion\n",
    "ax.plot(x,y1, zorder=10)\n",
    "#plt.show()"
   ]
  },
  {
   "cell_type": "markdown",
   "metadata": {
    "slideshow": {
     "slide_type": "slide"
    }
   },
   "source": [
    "#### 5. Typ: $a_2 x^{2n}+ a_1 x^n + a_0=0$\n",
    "\n",
    "**Beispiel 1:**\n",
    "$$ \\begin{aligned}\n",
    "  && \\sin^2(x) -4\\sin(x) +4 &= 0\\\\\n",
    "  && u^2-4u+4 &=0 \\quad \\circ u=\\sin(x)\\\\ \n",
    "  \\Leftrightarrow&& (u-2)^2 &=0\\\\\n",
    "  \\Leftrightarrow&& u-2 &=0\\\\\n",
    "  \\Leftrightarrow&& u &=2 \\quad \\circ u=\\sin(x)\\\\ \n",
    "  && \\sin(x)&= 2\\\\\n",
    "  &&L &= \\{\\}, \\text{ da } -1 \\leq \\sin(x) \\leq 1\n",
    "\\end{aligned}\n",
    "$$\n",
    "\n",
    "- Substitution und Resubstitution\n",
    "- weiter Gleichungen, die so gelöst werden können:\n",
    "  - $a_2e^{2x}+a_1 e^x+ a_0 = 0$\n",
    "  - $a_4x^4 + a_2x^2 + a_0 = 0$"
   ]
  },
  {
   "cell_type": "code",
   "execution_count": 4,
   "metadata": {
    "slideshow": {
     "slide_type": "slide"
    }
   },
   "outputs": [
    {
     "data": {
      "text/plain": [
       "[<matplotlib.lines.Line2D at 0x1453d3ef0>]"
      ]
     },
     "execution_count": 4,
     "metadata": {},
     "output_type": "execute_result"
    },
    {
     "data": {
      "application/pdf": "[encoded data removed]",
      "text/plain": [
       "<Figure size 1500x1500 with 1 Axes>"
      ]
     },
     "metadata": {},
     "output_type": "display_data"
    }
   ],
   "source": [
    "import numpy as np\n",
    "import matplotlib.pyplot as plt\n",
    "from matplotlib.ticker import AutoMinorLocator, MultipleLocator, FuncFormatter, FormatStrFormatter\n",
    "\n",
    "# Defintionsmenge und Funktion\n",
    "# ----------------------------\n",
    "a= -np.pi # untere Intervallgrenze \n",
    "b= 3*np.pi # obere Intervallgrenze\n",
    "c = -1.1 #untere y-Intervallgrenze\n",
    "d = 10.1 # obere y-Intervallgrenze\n",
    "x = np.linspace(a, b,1000)\n",
    "y1= np.sin(x)**2-4*np.sin(x)+4\n",
    "# ----------------------------\n",
    "\n",
    "# Einstellung des Graphen\n",
    "fig=plt.figure(figsize=(5,5))\n",
    "ax = fig.add_subplot(1,1,1, aspect=1)\n",
    "\n",
    "# Beschrifung der y-Achsenskala\n",
    "def major_ytick(x, pos):\n",
    "    if x==0:\n",
    "        return \"\"\n",
    "    return int(x)\n",
    "# Beschriftung der x-Achsenskala\n",
    "def major_xtick(x, pos):\n",
    "    if x==0:\n",
    "        return \"\"\n",
    "    if x%np.pi==0:\n",
    "        if x/np.pi == 1:\n",
    "            return(r\"$ pi$\")\n",
    "        if x/np.pi == -1:\n",
    "            return (r\"$ -\\pi$\")\n",
    "        return (str(int(x/np.pi)) +r\"$ \\pi$\")\n",
    "    if 2*x%np.pi == 0:\n",
    "        return r\"$\\frac{s1}{2} \\pi$\".replace('s1', str(int(2*x/np.pi)))\n",
    "    return \"\"\n",
    "\n",
    "# Achsenskalierung\n",
    "ax.xaxis.set_major_locator(plt.MultipleLocator(np.pi/2))\n",
    "ax.xaxis.set_minor_locator(plt.MultipleLocator(np.pi/4))\n",
    "ax.yaxis.set_major_locator(MultipleLocator(1))\n",
    "ax.yaxis.set_minor_locator(AutoMinorLocator(2))\n",
    "ax.xaxis.set_major_formatter(FuncFormatter(major_xtick))\n",
    "ax.yaxis.set_major_formatter(FuncFormatter(major_ytick))\n",
    "\n",
    "# Position der Achsen im Schaubild\n",
    "ax.spines[['top','right']].set_visible(False)\n",
    "ax.spines[['bottom','left']].set_position('zero')\n",
    "\n",
    "# Pfeile für die Achsen\n",
    "ax.plot((1),(0), ls=\"\", marker= \">\", ms=7, color=\"k\", transform=ax.get_yaxis_transform(), clip_on=False)\n",
    "ax.plot((0),(1), ls=\"\", marker= \"^\", ms=7, color=\"k\", transform=ax.get_xaxis_transform(), clip_on=False)\n",
    "\n",
    "# Achsenlänge und Beschriftung\n",
    "ax.set_xlim(a,b)\n",
    "ax.set_ylim(c, d)\n",
    "ax.set_xlabel(\"x\", loc=\"right\")\n",
    "ax.set_ylabel(\"f(x)\", loc=\"top\", rotation=0)\n",
    "\n",
    "# Kästchen\n",
    "ax.grid(linestyle=\"-\", which=\"major\",linewidth=0.7, zorder=-10)\n",
    "ax.grid(linestyle=\"-\", which=\"minor\",linewidth=0.5, zorder=-10)\n",
    "\n",
    "# Plot der Funktion\n",
    "ax.plot(x,y1, zorder=10)\n",
    "#plt.show()"
   ]
  },
  {
   "cell_type": "markdown",
   "metadata": {
    "slideshow": {
     "slide_type": "slide"
    }
   },
   "source": [
    "**Beispiel 2:**\n",
    "$$\n",
    "\\begin{aligned}\n",
    "&& e^{5x} - 5e^{3x}+6e^x &= 0 \\\\\n",
    "\\Leftrightarrow && e^x\\cdot \\left( e^{4x}-5e^{2x} + 6\\right) &= 0 \\\\\n",
    "\\Leftrightarrow && e^x \\neq 0; \\qquad  e^{4x}-5e^{2x} + 6 &= 0 &&\\text {Satz vom Nullprodukt}\\\\\n",
    "&& u^2-5u+6 &=0 \\circ u=e^{2x}&& \\text{ Substitution}\\\\ \n",
    "&& u_1 &= 2 &&\\text{ Lösungsformel}\\\\\n",
    "&& u_2 &= 3\n",
    "\\end{aligned}\n",
    "$$"
   ]
  },
  {
   "cell_type": "markdown",
   "metadata": {
    "slideshow": {
     "slide_type": "subslide"
    }
   },
   "source": [
    "$$\n",
    "\\begin{aligned}\n",
    "&& e^{2x} &= 2\\circ u=e^{2x} &&\\text{ Resubstitution 1}\\\\\n",
    "\\Leftrightarrow && 2x &= \\ln(2) \\\\\n",
    "\\Leftrightarrow &&  x &= \\frac{\\ln(2)}{2}\\\\\n",
    "\\end{aligned}\n",
    "$$"
   ]
  },
  {
   "cell_type": "markdown",
   "metadata": {},
   "source": [
    "$$\n",
    "\\begin{aligned}\n",
    "&& e^{2x} &= 3\\circ u=e^{2x} &&\\text{ Resubstitution 2}\\\\\n",
    "\\Leftrightarrow && 2x &= \\ln(3) \\\\\n",
    "\\Leftrightarrow &&  x &= \\frac{\\ln(3)}{2}\\\\\n",
    "\\end{aligned}\n",
    "$$"
   ]
  },
  {
   "cell_type": "code",
   "execution_count": 5,
   "metadata": {
    "slideshow": {
     "slide_type": "slide"
    }
   },
   "outputs": [
    {
     "data": {
      "text/plain": [
       "[<matplotlib.lines.Line2D at 0x14577a720>]"
      ]
     },
     "execution_count": 5,
     "metadata": {},
     "output_type": "execute_result"
    },
    {
     "data": {
      "application/pdf": "[encoded data removed]",
      "text/plain": [
       "<Figure size 1500x1500 with 1 Axes>"
      ]
     },
     "metadata": {},
     "output_type": "display_data"
    }
   ],
   "source": [
    "import numpy as np\n",
    "import matplotlib.pyplot as plt\n",
    "from matplotlib.ticker import AutoMinorLocator, MultipleLocator, FuncFormatter\n",
    "\n",
    "# Defintionsmenge und Funktion\n",
    "# ----------------------------\n",
    "a= -5.1 # untere x-Intervallgrenze \n",
    "b= 5.1 # obere x-Intervallgrenze\n",
    "c = -5.1# untere y-Intervallgrenze\n",
    "d = 5.1 # obere y-Intervallgrenze\n",
    "x = np.linspace(a, b,1000)\n",
    "y1= np.exp(5*x)-5*np.exp(3*x)+6*np.exp(x)\n",
    "# ----------------------------\n",
    "\n",
    "# Einstellung des Graphen\n",
    "fig=plt.figure(figsize=(5,5))\n",
    "ax= fig.add_subplot(1,1,1, aspect =1)\n",
    "\n",
    "# Definiton der Haupteinheiten, reele Zahlen ohne die 0 \n",
    "def major_tick(x, pos):\n",
    "    if x==0:\n",
    "        return \"\"\n",
    "    return int(x)\n",
    "\n",
    "# Achsenskalierung\n",
    "ax.xaxis.set_major_locator(MultipleLocator(1))\n",
    "ax.xaxis.set_minor_locator(AutoMinorLocator(2))\n",
    "ax.yaxis.set_major_locator(MultipleLocator(1))\n",
    "ax.yaxis.set_minor_locator(AutoMinorLocator(2))\n",
    "ax.xaxis.set_major_formatter(FuncFormatter(major_tick))\n",
    "ax.yaxis.set_major_formatter(FuncFormatter(major_tick))\n",
    "\n",
    "# Position der Achsen im Schaubild\n",
    "ax.spines[['top','right']].set_visible(False)\n",
    "ax.spines[['bottom','left']].set_position('zero')\n",
    "\n",
    "# Pfeile für die Achsen\n",
    "ax.plot((1),(0), ls=\"\", marker= \">\", ms=7, color=\"k\", transform=ax.get_yaxis_transform(), clip_on=False)\n",
    "ax.plot((0),(1), ls=\"\", marker= \"^\", ms=7, color=\"k\", transform=ax.get_xaxis_transform(), clip_on=False)\n",
    "\n",
    "# Achsenlänge und Beschriftung\n",
    "ax.set_xlim(a,b)\n",
    "ax.set_ylim(c, d)\n",
    "ax.set_xlabel(\"x\", loc=\"right\")\n",
    "ax.set_ylabel(\"f(x)\", loc=\"top\", rotation=0)\n",
    "\n",
    "# Kästchen\n",
    "ax.grid(linestyle=\"-\", which=\"major\",linewidth=0.7, zorder=-10)\n",
    "ax.grid(linestyle=\"-\", which=\"minor\",linewidth=0.5, zorder=-10)\n",
    "\n",
    "# Plot der Funktion\n",
    "ax.plot(x,y1, zorder=10)\n",
    "#plt.show()"
   ]
  },
  {
   "cell_type": "markdown",
   "metadata": {
    "slideshow": {
     "slide_type": "slide"
    }
   },
   "source": [
    "### 6. Typ: $a_3x^3+a_2x^2+a_1x^1+a_0=0$ und eine Lösung ist bekannt\n",
    "\n",
    "$$\n",
    " x^3-6x^2+6 = 0\n",
    "$$\n",
    "Errate eine Nullstelle, hier $x_1=1$\n",
    "\n",
    "Dividiere Polynom durch den Term $x-1$. \n",
    "\n",
    "Dies ist eine Polynomdivision:\n",
    "\n",
    "$$\n",
    "\\begin{aligned}\n",
    "&x^3&-6x^2  &-x &+6 &: (x-1)= x^2 -5x -6 \\\\\n",
    "-(&x^3&-x^2&)\\\\ \\hline\n",
    "& &-5x^2&-x\\\\\n",
    "& -&(-5x^2 &+5x)\\\\ \\hline\n",
    "&  &  &-6x &+6\\\\\n",
    "&  &  -(&-6x & +6&) \\\\ \\hline\n",
    "&  &  &    &0\n",
    "\\end{aligned}\n",
    "$$\n"
   ]
  },
  {
   "cell_type": "markdown",
   "metadata": {
    "slideshow": {
     "slide_type": "subslide"
    }
   },
   "source": [
    "Suche von dem Ergebnis die Nullstellen:\n",
    "\n",
    "$$\n",
    "\\begin{aligned}\n",
    "x^2 -5x -6 &= 0\\\\\n",
    "x_{1,2}&= \\frac{5}{2} \\pm \\sqrt{\\frac{25}{4}+\\frac{24}{4}}\\\\\n",
    "&= \\frac{5}{2} \\pm \\frac{7}{2}\\\\\n",
    "x_1 &= 6\\\\\n",
    "x_2 &= -1\n",
    "\\end{aligned}\n",
    "$$\n",
    "\n",
    "Damit hat man alle Lösungen der Gleichung $x^3-6x^2+6= 0$ gefunden:  \n",
    "$$ L=\\{ -1; 1; 6\\}$$"
   ]
  },
  {
   "cell_type": "code",
   "execution_count": 6,
   "metadata": {
    "slideshow": {
     "slide_type": "slide"
    }
   },
   "outputs": [
    {
     "data": {
      "text/plain": [
       "[<matplotlib.lines.Line2D at 0x145156840>]"
      ]
     },
     "execution_count": 6,
     "metadata": {},
     "output_type": "execute_result"
    },
    {
     "data": {
      "application/pdf": "[encoded data removed]",
      "text/plain": [
       "<Figure size 1500x1500 with 1 Axes>"
      ]
     },
     "metadata": {},
     "output_type": "display_data"
    }
   ],
   "source": [
    "import numpy as np\n",
    "import matplotlib.pyplot as plt\n",
    "from matplotlib.ticker import AutoMinorLocator, MultipleLocator, FuncFormatter\n",
    "\n",
    "# Defintionsmenge und Funktion\n",
    "# ----------------------------\n",
    "a= -2.1 # untere x-Intervallgrenze \n",
    "b= 7.1 # obere x-Intervallgrenze\n",
    "c = -30.1# untere y-Intervallgrenze\n",
    "d = 7.1 # obere y-Intervallgrenze\n",
    "x = np.linspace(a, b,1000)\n",
    "y1= x**3-6*x**2-x+6\n",
    "# ----------------------------\n",
    "\n",
    "# Einstellung des Graphen\n",
    "fig=plt.figure(figsize=(5,5))\n",
    "ax= fig.add_subplot(1,1,1, aspect =0.25)\n",
    "\n",
    "# Definiton der Haupteinheiten, reele Zahlen ohne die 0 \n",
    "def major_tick(x, pos):\n",
    "    if x==0:\n",
    "        return \"\"\n",
    "    return int(x)\n",
    "\n",
    "# Achsenskalierung\n",
    "ax.xaxis.set_major_locator(MultipleLocator(1))\n",
    "ax.xaxis.set_minor_locator(AutoMinorLocator(2))\n",
    "ax.yaxis.set_major_locator(MultipleLocator(2))\n",
    "ax.yaxis.set_minor_locator(AutoMinorLocator(1))\n",
    "ax.xaxis.set_major_formatter(FuncFormatter(major_tick))\n",
    "ax.yaxis.set_major_formatter(FuncFormatter(major_tick))\n",
    "\n",
    "# Position der Achsen im Schaubild\n",
    "ax.spines[['top','right']].set_visible(False)\n",
    "ax.spines[['bottom','left']].set_position('zero')\n",
    "\n",
    "# Pfeile für die Achsen\n",
    "ax.plot((1),(0), ls=\"\", marker= \">\", ms=7, color=\"k\", transform=ax.get_yaxis_transform(), clip_on=False)\n",
    "ax.plot((0),(1), ls=\"\", marker= \"^\", ms=7, color=\"k\", transform=ax.get_xaxis_transform(), clip_on=False)\n",
    "\n",
    "# Achsenlänge und Beschriftung\n",
    "ax.set_xlim(a,b)\n",
    "ax.set_ylim(c, d)\n",
    "ax.set_xlabel(\"x\", loc=\"right\")\n",
    "ax.set_ylabel(\"f(x)\", loc=\"top\", rotation=0)\n",
    "\n",
    "# Kästchen\n",
    "ax.grid(linestyle=\"-\", which=\"major\",linewidth=0.7, zorder=-10)\n",
    "ax.grid(linestyle=\"-\", which=\"minor\",linewidth=0.5, zorder=-10)\n",
    "\n",
    "# Plot der Funktion\n",
    "ax.plot(x,y1, zorder=10)\n",
    "#plt.show()"
   ]
  },
  {
   "cell_type": "markdown",
   "metadata": {
    "slideshow": {
     "slide_type": "slide"
    }
   },
   "source": [
    "### Gleichungen mit Termen auf beiden Seiten\n",
    "\n",
    "\n",
    "#### 7. Typ: Wurzelgleichungen\n",
    "\n",
    "$$\n",
    "\\begin{aligned}\n",
    "&&\\sqrt{20-2x}+6 &= x\\\\ \n",
    "&\\Leftrightarrow &\\sqrt{20-2x} &= x-6 \\qquad \\text{Wurzel isolieren}\\\\ \n",
    "&\\Rightarrow &20-2x &= (x-6)^2 \\qquad (!)\\\\ \n",
    "&\\Leftrightarrow &20-2x &= x^2-12x + 36 \\qquad \\text{(2. Binomische Formel)}\\\\ \n",
    "&\\Leftrightarrow &0 &= x^2-10x + 16\\\\\n",
    "&& x_{1, 2} &= 5\\pm\\sqrt{25-16} \\qquad \\text{ p-q-Formel}\\\\\n",
    "&&&=5 \\pm 3\\\\\n",
    "&&x_1 &= 8\\\\\n",
    "&&x_2 &= 2\n",
    "\\end{aligned}\n",
    "$$\n"
   ]
  },
  {
   "cell_type": "markdown",
   "metadata": {
    "slideshow": {
     "slide_type": "subslide"
    }
   },
   "source": [
    "- Es muss quadriert werden.\n",
    "- **Quadrieren ist keie Äquivalenzumformung (!)**\n",
    "- Durch das Quadrieren, generiert man eventuell zusätliche Lösungen der quadrierten Gleichung.\n",
    "- Probe ist zwingend erforderlich."
   ]
  },
  {
   "cell_type": "markdown",
   "metadata": {
    "slideshow": {
     "slide_type": "slide"
    }
   },
   "source": [
    "**Probe:**  \n",
    "$x_1 = 8$:\n",
    "$$\n",
    "\\begin{aligned}\n",
    "\\sqrt{20-2\\cdot8}+6 &= 8\\\\\n",
    "2 &= 2\\\\\n",
    "\\end{aligned}\n",
    "$$\n",
    "\n",
    "$x_2 = 2$:\n",
    "$$\n",
    "\\begin{aligned}\n",
    "\\sqrt{20-2\\cdot(2)} +6 &= 3\\\\\n",
    "\\sqrt{16} +6 &\\neq 3\\\\\n",
    " & x_2=2 \\text{ ist keine Lösung.}\n",
    "\\end{aligned}\n",
    "$$"
   ]
  },
  {
   "cell_type": "code",
   "execution_count": 7,
   "metadata": {
    "slideshow": {
     "slide_type": "slide"
    }
   },
   "outputs": [
    {
     "name": "stderr",
     "output_type": "stream",
     "text": [
      "/var/folders/m3/zhwkf20x7p33z6tsgcbbkz3m0000gn/T/ipykernel_7867/2378097725.py:12: RuntimeWarning: invalid value encountered in sqrt\n",
      "  y1= np.sqrt(20-x*2)+6\n"
     ]
    },
    {
     "data": {
      "text/plain": [
       "[<matplotlib.lines.Line2D at 0x145645fa0>]"
      ]
     },
     "execution_count": 7,
     "metadata": {},
     "output_type": "execute_result"
    },
    {
     "data": {
      "application/pdf": "[encoded data removed]",
      "text/plain": [
       "<Figure size 1500x1500 with 1 Axes>"
      ]
     },
     "metadata": {},
     "output_type": "display_data"
    }
   ],
   "source": [
    "import numpy as np\n",
    "import matplotlib.pyplot as plt\n",
    "from matplotlib.ticker import AutoMinorLocator, MultipleLocator, FuncFormatter\n",
    "\n",
    "# Defintionsmenge und Funktion\n",
    "# ----------------------------\n",
    "a= -5.1 # untere x-Intervallgrenze \n",
    "b= 11.1 # obere x-Intervallgrenze\n",
    "c = -0.1# untere y-Intervallgrenze\n",
    "d = 15.1 # obere y-Intervallgrenze\n",
    "x = np.linspace(a, b,1000)\n",
    "y1= np.sqrt(20-x*2)+6\n",
    "y2=x\n",
    "# ----------------------------\n",
    "\n",
    "# Einstellung des Graphen\n",
    "fig=plt.figure(figsize=(5,5))\n",
    "ax= fig.add_subplot(1,1,1, aspect =1)\n",
    "\n",
    "# Definiton der Haupteinheiten, reele Zahlen ohne die 0 \n",
    "def major_tick(x, pos):\n",
    "    if x==0:\n",
    "        return \"\"\n",
    "    return int(x)\n",
    "\n",
    "# Achsenskalierung\n",
    "ax.xaxis.set_major_locator(MultipleLocator(1))\n",
    "ax.xaxis.set_minor_locator(AutoMinorLocator(2))\n",
    "ax.yaxis.set_major_locator(MultipleLocator(1))\n",
    "ax.yaxis.set_minor_locator(AutoMinorLocator(2))\n",
    "ax.xaxis.set_major_formatter(FuncFormatter(major_tick))\n",
    "ax.yaxis.set_major_formatter(FuncFormatter(major_tick))\n",
    "\n",
    "# Position der Achsen im Schaubild\n",
    "ax.spines[['top','right']].set_visible(False)\n",
    "ax.spines[['bottom','left']].set_position('zero')\n",
    "\n",
    "# Pfeile für die Achsen\n",
    "ax.plot((1),(0), ls=\"\", marker= \">\", ms=7, color=\"k\", transform=ax.get_yaxis_transform(), clip_on=False)\n",
    "ax.plot((0),(1), ls=\"\", marker= \"^\", ms=7, color=\"k\", transform=ax.get_xaxis_transform(), clip_on=False)\n",
    "\n",
    "# Achsenlänge und Beschriftung\n",
    "ax.set_xlim(a,b)\n",
    "ax.set_ylim(c, d)\n",
    "ax.set_xlabel(\"x\", loc=\"right\")\n",
    "ax.set_ylabel(\"f(x)\", loc=\"top\", rotation=0)\n",
    "\n",
    "# Kästchen\n",
    "ax.grid(linestyle=\"-\", which=\"major\",linewidth=0.7, zorder=-10)\n",
    "ax.grid(linestyle=\"-\", which=\"minor\",linewidth=0.5, zorder=-10)\n",
    "\n",
    "# Plot der Funktion\n",
    "ax.plot(x,y1, zorder=10)\n",
    "ax.plot(x,y2, zorder=10)\n",
    "#plt.show()"
   ]
  },
  {
   "cell_type": "markdown",
   "metadata": {},
   "source": [
    "#### 8. Typ: Bruchgleichungen\n",
    "- Idee: Mit Nenner multiplizieren.\n",
    "\n",
    "**Beispiel:**\n",
    "$$\n",
    "\\begin{aligned}\n",
    "&& \\frac{x^2-3}{x+1}&= \\frac{6x}{3x+3}\\quad D=\\mathbb{R}\\setminus \\{0\\}\\\\\n",
    "\\Leftrightarrow&& \\frac{x^2-3}{x+1}&= \\frac{6x}{3(x+1)}\\\\\n",
    "\\Leftrightarrow&& \\frac{x^2-3}{x+1}\\cdot (x+1)&= \\frac{6x}{3}\\\\\n",
    "\\Leftrightarrow&& x^2-3&= 2x\\\\\n",
    "\\Leftrightarrow&& x^2-2x-3&= 0\\\\\n",
    "\\text{p-q-Formel:}\\\\\n",
    "&&x_1 &= -1\\\\\n",
    "&&x_2 &= 3\\\\\n",
    "&&L &= \\{3\\}\n",
    "\\end{aligned}\n",
    "$$\n",
    "\n"
   ]
  },
  {
   "cell_type": "markdown",
   "metadata": {
    "slideshow": {
     "slide_type": "slide"
    }
   },
   "source": [
    "### Ungleichungen\n",
    "\n",
    "#### 1. Alternative: Löse die dazugehörige Gleichung\n",
    "$$\n",
    "3\\cdot 5^x > 6\n",
    "$$\n",
    "Die dazugehörige Gleichung:\n",
    "$$\n",
    "\\begin{aligned}\n",
    "& &3\\cdot 5^x &= 6\\\\\n",
    "&\\Leftrightarrow &5^x &=2\\\\\n",
    "&\\Leftrightarrow &x &=\\log_5(2)\\\\\n",
    "&&&\\approx 0,43\n",
    "\\end{aligned}\n",
    "$$\n"
   ]
  },
  {
   "cell_type": "markdown",
   "metadata": {
    "slideshow": {
     "slide_type": "subslide"
    }
   },
   "source": [
    "Übertrage auf die Ungleichung:  \n",
    "Testwert 0 liegt links auf dem Zahlenstrahl von 0,43\n",
    "$$\n",
    "3 \\cdot 5^0 = 3 < 6\n",
    "$$\n",
    "Testwert 1 liegt links auf dem Zahlenstrahl von 0,43\n",
    "$$\n",
    "3 \\cdot 5^1 = 15 > 6\n",
    "$$\n",
    "Damit gilt für die Lösungsmenge:\n",
    "\n",
    "$$\n",
    "L=\\{x \\in \\mathbb{R}| x > \\log_5(2)\\}\n",
    "$$"
   ]
  },
  {
   "cell_type": "code",
   "execution_count": 8,
   "metadata": {
    "slideshow": {
     "slide_type": "slide"
    }
   },
   "outputs": [
    {
     "data": {
      "text/plain": [
       "[<matplotlib.lines.Line2D at 0x147a5c650>]"
      ]
     },
     "execution_count": 8,
     "metadata": {},
     "output_type": "execute_result"
    },
    {
     "data": {
      "application/pdf": "[encoded data removed]",
      "text/plain": [
       "<Figure size 1500x1500 with 1 Axes>"
      ]
     },
     "metadata": {},
     "output_type": "display_data"
    }
   ],
   "source": [
    "import numpy as np\n",
    "import matplotlib.pyplot as plt\n",
    "from matplotlib.ticker import AutoMinorLocator, MultipleLocator, FuncFormatter\n",
    "\n",
    "# Defintionsmenge und Funktion\n",
    "# ----------------------------\n",
    "a= -5.1 # untere x-Intervallgrenze \n",
    "b= 5.1 # obere x-Intervallgrenze\n",
    "c = -1.1# untere y-Intervallgrenze\n",
    "d = 10.1 # obere y-Intervallgrenze\n",
    "x = np.linspace(a, b,1000)\n",
    "y1= 3*5**x\n",
    "y2= 0*x+6\n",
    "# ----------------------------\n",
    "\n",
    "# Einstellung des Graphen\n",
    "fig=plt.figure(figsize=(5,5))\n",
    "ax= fig.add_subplot(1,1,1, aspect =1)\n",
    "\n",
    "# Definiton der Haupteinheiten, reele Zahlen ohne die 0 \n",
    "def major_tick(x, pos):\n",
    "    if x==0:\n",
    "        return \"\"\n",
    "    return int(x)\n",
    "\n",
    "# Achsenskalierung\n",
    "ax.xaxis.set_major_locator(MultipleLocator(1))\n",
    "ax.xaxis.set_minor_locator(AutoMinorLocator(2))\n",
    "ax.yaxis.set_major_locator(MultipleLocator(1))\n",
    "ax.yaxis.set_minor_locator(AutoMinorLocator(2))\n",
    "ax.xaxis.set_major_formatter(FuncFormatter(major_tick))\n",
    "ax.yaxis.set_major_formatter(FuncFormatter(major_tick))\n",
    "\n",
    "# Position der Achsen im Schaubild\n",
    "ax.spines[['top','right']].set_visible(False)\n",
    "ax.spines[['bottom','left']].set_position('zero')\n",
    "\n",
    "# Pfeile für die Achsen\n",
    "ax.plot((1),(0), ls=\"\", marker= \">\", ms=7, color=\"k\", transform=ax.get_yaxis_transform(), clip_on=False)\n",
    "ax.plot((0),(1), ls=\"\", marker= \"^\", ms=7, color=\"k\", transform=ax.get_xaxis_transform(), clip_on=False)\n",
    "\n",
    "# Achsenlänge und Beschriftung\n",
    "ax.set_xlim(a,b)\n",
    "ax.set_ylim(c, d)\n",
    "ax.set_xlabel(\"x\", loc=\"right\")\n",
    "ax.set_ylabel(\"f(x)\", loc=\"top\", rotation=0)\n",
    "\n",
    "# Kästchen\n",
    "ax.grid(linestyle=\"-\", which=\"major\",linewidth=0.7, zorder=-10)\n",
    "ax.grid(linestyle=\"-\", which=\"minor\",linewidth=0.5, zorder=-10)\n",
    "\n",
    "# Plot der Funktion\n",
    "ax.plot(x,y1, zorder=10)\n",
    "ax.plot(x,y2, zorder=10)\n",
    "#plt.show()"
   ]
  },
  {
   "cell_type": "markdown",
   "metadata": {
    "slideshow": {
     "slide_type": "slide"
    }
   },
   "source": [
    "#### 2. Alternative: Behalte das Ungleichheitszeichen bei\n",
    "\n",
    "**Beispiel 1:**\n",
    "\n",
    "$$\n",
    "\\begin{aligned}\n",
    "&&-3\\cdot 5^x &> 6\\\\\n",
    "\\Leftrightarrow &&  5^x &< -2 \\qquad (!)\\\\\n",
    "\\Leftrightarrow &&  x &< \\log_5(2)\\quad \\log\\text{-Funktion ist streng mono steigend}\\\\\n",
    "&&L&=\\{x \\in \\mathbb{R}| x < \\log_5(2)\\}\n",
    "\\end{aligned}\n",
    "$$\n",
    "\n",
    "- belasse das Größer/Kleiner-Zeichen.\n",
    "- achte darauf, dass bei Multiplikation/Division mit einer negativen Zahl sich das Zeichen umdreht.\n",
    "- Anwendung von ausschließlich streng monotonen Funktionen auf die Ungleichung mit < dier >-Zeichen.\n",
    "- Anwendung von ausschließlich monotonen Funktionen auf die Ungleichung mit $\\leq$ oder $\\geq$-Zeichen.\n",
    "\n"
   ]
  },
  {
   "cell_type": "markdown",
   "metadata": {
    "slideshow": {
     "slide_type": "slide"
    }
   },
   "source": [
    "**Beispiel 2:**\n",
    "\n",
    "$$\n",
    "\\begin{aligned}\n",
    "&& \\frac{x-2}{x-1} & \\geq 3 \\qquad x \\in \\mathbb{R}\\setminus \\{1\\}\\\\\n",
    "\\Leftrightarrow &&x-2 & \\geq  3(x-1)\\text{VORSICHT!} (x-1) \\text{könnte auch negativ sein.} \n",
    "\\end{aligned}\n",
    "$$\n",
    "\n",
    "**1. Fall:** $(x-1) < 0 \\Leftrightarrow x < 1$\n",
    "$$\n",
    "\\begin{aligned}\n",
    "&& \\frac{x-2}{x-1} & \\geq 3 \\\\\n",
    "\\Leftrightarrow &&x-2 & \\leq  3(x-1)\\\\\n",
    "\\Leftrightarrow &&x-2 & \\leq  3x-3\\\\\n",
    "\\Leftrightarrow &&-2x & \\leq  -1\\\\\n",
    "\\Leftrightarrow &&x & \\geq  \\frac{1}{2}\\\\\n",
    "&&L_1 &=\\{x \\in \\mathbb{R}\\setminus \\{1\\}| -\\frac{1}{2}\\leq x < 1\\}\n",
    "\\end{aligned}\n",
    "$$\n"
   ]
  },
  {
   "cell_type": "markdown",
   "metadata": {
    "slideshow": {
     "slide_type": "slide"
    }
   },
   "source": [
    "**2. Fall:** $(x-1) > 0 \\Leftrightarrow x > 1$\n",
    "\n",
    "$$\n",
    "\\begin{aligned}\n",
    "&& \\frac{x-2}{x-1} & \\geq 3 \\\\\n",
    "\\Leftrightarrow &&x-2 & \\geq  3(x-1)\\\\\n",
    "\\Leftrightarrow &&x-2 & \\geq  3x-3\\\\\n",
    "\\Leftrightarrow &&-2x & \\geq  -1\\\\\n",
    "\\Leftrightarrow &&x & \\leq  \\frac{1}{2}\\\\\n",
    "&& L_2 &=\\{\\}\n",
    "\\end{aligned}\n",
    "$$\n",
    "**Zusammen:**\n",
    "$$\n",
    "L= L_1 \\cup L_2 = {x \\in \\mathbb{R}\\setminus \\{\\ 1}|-\\frac{1}{2}\\leq x < 1\\}\n",
    "$$"
   ]
  },
  {
   "cell_type": "code",
   "execution_count": 9,
   "metadata": {
    "slideshow": {
     "slide_type": "slide"
    }
   },
   "outputs": [
    {
     "data": {
      "text/plain": [
       "[<matplotlib.lines.Line2D at 0x147b6eb40>]"
      ]
     },
     "execution_count": 9,
     "metadata": {},
     "output_type": "execute_result"
    },
    {
     "data": {
      "application/pdf": "[encoded data removed]",
      "text/plain": [
       "<Figure size 1500x1500 with 1 Axes>"
      ]
     },
     "metadata": {},
     "output_type": "display_data"
    }
   ],
   "source": [
    "import numpy as np\n",
    "import matplotlib.pyplot as plt\n",
    "from matplotlib.ticker import AutoMinorLocator, MultipleLocator, FuncFormatter\n",
    "\n",
    "# Defintionsmenge und Funktion\n",
    "# ----------------------------\n",
    "a= -5.1 # untere x-Intervallgrenze \n",
    "b= 5.1 # obere x-Intervallgrenze\n",
    "c = -5.1# untere y-Intervallgrenze\n",
    "d = 5.1 # obere y-Intervallgrenze\n",
    "x = np.linspace(a, b,1000)\n",
    "y1= (x-2)/(x-1)\n",
    "y2= 0*x+3     \n",
    "# ----------------------------\n",
    "\n",
    "# Einstellung des Graphen\n",
    "fig=plt.figure(figsize=(5,5))\n",
    "ax= fig.add_subplot(1,1,1, aspect =1)\n",
    "\n",
    "# Definiton der Haupteinheiten, reele Zahlen ohne die 0 \n",
    "def major_tick(x, pos):\n",
    "    if x==0:\n",
    "        return \"\"\n",
    "    return int(x)\n",
    "\n",
    "# Achsenskalierung\n",
    "ax.xaxis.set_major_locator(MultipleLocator(1))\n",
    "ax.xaxis.set_minor_locator(AutoMinorLocator(2))\n",
    "ax.yaxis.set_major_locator(MultipleLocator(1))\n",
    "ax.yaxis.set_minor_locator(AutoMinorLocator(2))\n",
    "ax.xaxis.set_major_formatter(FuncFormatter(major_tick))\n",
    "ax.yaxis.set_major_formatter(FuncFormatter(major_tick))\n",
    "\n",
    "# Position der Achsen im Schaubild\n",
    "ax.spines[['top','right']].set_visible(False)\n",
    "ax.spines[['bottom','left']].set_position('zero')\n",
    "\n",
    "# Pfeile für die Achsen\n",
    "ax.plot((1),(0), ls=\"\", marker= \">\", ms=7, color=\"k\", transform=ax.get_yaxis_transform(), clip_on=False)\n",
    "ax.plot((0),(1), ls=\"\", marker= \"^\", ms=7, color=\"k\", transform=ax.get_xaxis_transform(), clip_on=False)\n",
    "\n",
    "# Achsenlänge und Beschriftung\n",
    "ax.set_xlim(a,b)\n",
    "ax.set_ylim(c, d)\n",
    "ax.set_xlabel(\"x\", loc=\"right\")\n",
    "ax.set_ylabel(\"f(x)\", loc=\"top\", rotation=0)\n",
    "\n",
    "# Kästchen\n",
    "ax.grid(linestyle=\"-\", which=\"major\",linewidth=0.7, zorder=-10)\n",
    "ax.grid(linestyle=\"-\", which=\"minor\",linewidth=0.5, zorder=-10)\n",
    "\n",
    "# Plot der Funktion\n",
    "ax.plot(x,y1, zorder=10)\n",
    "ax.plot(x,y2, zorder=10)\n",
    "#plt.show()"
   ]
  }
 ],
 "metadata": {
  "kernelspec": {
   "display_name": "Python 3",
   "language": "python",
   "name": "python3"
  },
  "language_info": {
   "codemirror_mode": {
    "name": "ipython",
    "version": 3
   },
   "file_extension": ".py",
   "mimetype": "text/x-python",
   "name": "python",
   "nbconvert_exporter": "python",
   "pygments_lexer": "ipython3",
   "version": "3.12.1"
  }
 },
 "nbformat": 4,
 "nbformat_minor": 2
}
