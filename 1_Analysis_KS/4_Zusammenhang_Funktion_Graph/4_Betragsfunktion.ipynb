{
 "cells": [
  {
   "cell_type": "raw",
   "metadata": {},
   "source": [
    "---\n",
    "title: \"\"\n",
    "date: today\n",
    "format:\n",
    "    pdf:\n",
    "      papersize: a4\n",
    "execute: \n",
    "  enabled: true\n",
    "  echo: false\n",
    "Juypter: python3\n",
    "\n",
    "format:\n",
    "  beamer:\n",
    "    aspectratio: 169\n",
    "    navigation: horizontal\n",
    "    theme: Singapore\n",
    "    colortheme: orchid\n",
    "    toc: false\n",
    "---"
   ]
  },
  {
   "cell_type": "markdown",
   "metadata": {
    "slideshow": {
     "slide_type": "slide"
    }
   },
   "source": [
    "## 4. Betragsfunktion"
   ]
  },
  {
   "cell_type": "markdown",
   "metadata": {
    "slideshow": {
     "slide_type": "fragment"
    }
   },
   "source": [
    "= Abstandsfunktion   \n",
    "= \"Mach-positiv\"-Funktion"
   ]
  },
  {
   "cell_type": "markdown",
   "metadata": {
    "slideshow": {
     "slide_type": "slide"
    }
   },
   "source": [
    "<div style=\"border: 1px solid blue\">\n",
    "\n",
    "**Definition:**  \n",
    "Für $x \\in \\mathbb{R}$ wird definiert:\n",
    "$$\n",
    "|x|=\\begin{cases}\n",
    "\\; \\; x &, x\\geq 0\\\\\n",
    "-x & , x < 0\n",
    "\\end{cases}\n",
    "$$\n",
    "</div>"
   ]
  },
  {
   "cell_type": "markdown",
   "metadata": {},
   "source": [
    "**Funktionsgraph:**\n"
   ]
  },
  {
   "cell_type": "code",
   "execution_count": 1,
   "metadata": {
    "slideshow": {
     "slide_type": "subslide"
    }
   },
   "outputs": [
    {
     "data": {
      "text/plain": [
       "[<matplotlib.lines.Line2D at 0x11bc3dfa0>]"
      ]
     },
     "execution_count": 1,
     "metadata": {},
     "output_type": "execute_result"
    },
    {
     "data": {
      "application/pdf": "[encoded data removed]",
      "text/plain": [
       "<Figure size 1500x1500 with 1 Axes>"
      ]
     },
     "metadata": {},
     "output_type": "display_data"
    }
   ],
   "source": [
    "\n",
    "import numpy as np\n",
    "import matplotlib.pyplot as plt\n",
    "from matplotlib.ticker import AutoMinorLocator, MultipleLocator, FuncFormatter\n",
    "\n",
    "# Defintionsmenge und Funktion\n",
    "# ----------------------------\n",
    "a= -5.1 # untere x-Intervallgrenze \n",
    "b= 5.1 # obere x-Intervallgrenze\n",
    "c = -5.1# untere y-Intervallgrenze\n",
    "d = 5.1 # obere y-Intervallgrenze\n",
    "x = np.linspace(a, b,1000)\n",
    "y1= np.abs(x)\n",
    "# ----------------------------\n",
    "\n",
    "# Einstellung des Graphen\n",
    "fig=plt.figure(figsize=(5,5))\n",
    "ax= fig.add_subplot(1,1,1, aspect =1)\n",
    "\n",
    "# Definiton der Haupteinheiten, reele Zahlen ohne die 0 \n",
    "def major_tick(x, pos):\n",
    "    if x==0:\n",
    "        return \"\"\n",
    "    return int(x)\n",
    "\n",
    "# Achsenskalierung\n",
    "ax.xaxis.set_major_locator(MultipleLocator(1))\n",
    "ax.xaxis.set_minor_locator(AutoMinorLocator(2))\n",
    "ax.yaxis.set_major_locator(MultipleLocator(1))\n",
    "ax.yaxis.set_minor_locator(AutoMinorLocator(2))\n",
    "ax.xaxis.set_major_formatter(FuncFormatter(major_tick))\n",
    "ax.yaxis.set_major_formatter(FuncFormatter(major_tick))\n",
    "\n",
    "# Position der Achsen im Schaubild\n",
    "ax.spines[['top','right']].set_visible(False)\n",
    "ax.spines[['bottom','left']].set_position('zero')\n",
    "\n",
    "# Pfeile für die Achsen\n",
    "ax.plot((1),(0), ls=\"\", marker= \">\", ms=7, color=\"k\", transform=ax.get_yaxis_transform(), clip_on=False)\n",
    "ax.plot((0),(1), ls=\"\", marker= \"^\", ms=7, color=\"k\", transform=ax.get_xaxis_transform(), clip_on=False)\n",
    "\n",
    "# Achsenlänge und Beschriftung\n",
    "ax.set_xlim(a,b)\n",
    "ax.set_ylim(c, d)\n",
    "ax.set_xlabel(\"x\", loc=\"right\")\n",
    "ax.set_ylabel(\"f(x)\", loc=\"top\", rotation=0)\n",
    "\n",
    "# Kästchen\n",
    "ax.grid(linestyle=\"-\", which=\"major\",linewidth=0.7, zorder=-10)\n",
    "ax.grid(linestyle=\"-\", which=\"minor\",linewidth=0.5, zorder=-10)\n",
    "\n",
    "# Plot der Funktion\n",
    "ax.plot(x,y1, zorder=10)\n",
    "#plt.show()\n"
   ]
  },
  {
   "cell_type": "markdown",
   "metadata": {
    "slideshow": {
     "slide_type": "slide"
    }
   },
   "source": [
    "**Beispiele:**\n",
    "\n",
    "1) $|2|=2$\n",
    "\n",
    "2) $|-4|=4$\n",
    "\n",
    "3) $|x+1|=\\begin{cases}\n",
    "x+1 &, x\\geq -1\\\\\n",
    "-(x+1) &,x < -1 \n",
    "\\end{cases}$\n",
    "\n",
    "4) $2x^2+|-x+4|= \\begin{cases}\n",
    "2x^2-x+4 &, x \\leq 4\\\\\n",
    "2x^2+x-4 &, x >0\n",
    "\\end{cases}$  \n",
    "\n",
    "Begründung: \n",
    "\n",
    "$$\n",
    "\\begin{aligned}\n",
    "-x+4 & \\geq 0\\\\\n",
    "-x & \\geq -4\\\\\n",
    "x & \\leq 4\n",
    "\\end{aligned}\n",
    "$$\n",
    "\n"
   ]
  },
  {
   "cell_type": "markdown",
   "metadata": {
    "slideshow": {
     "slide_type": "slide"
    }
   },
   "source": [
    "5. $|x^2-4x+3|=\\begin{cases}\n",
    "x^2-4x+3 &, x^2-4x+3\\geq 0\\\\\n",
    "-(x^2-4x+3) &, x^2-4x+3 < 0\n",
    "\\end{cases}$\n",
    "\n",
    "$$\n",
    "\\begin{aligned}\n",
    " &x^2-4x+3 = 0\\\\\n",
    "&x_{1,2} = 2 \\pm \\sqrt{4-3} = 2 \\pm 1\\\\\n",
    "& x_1 = 3 \\qquad , x_2 = 1\n",
    "\\end{aligned}\n",
    "$$\n",
    "\n",
    "Es gibt folglich drei mögliche Intervalle: $(-\\infty; 1], (1;3) \\text{ und } [3;\\infty)$  \n",
    "Überprüfe, in welchen Intervallen die Funktionswerte positiv bzw. negativ sind. Wähle dazu Werte aus den Intervallen.Es ergibt sich:  \n",
    "$$\n",
    "|x^2-4x+3|=\\begin{cases}\n",
    "x^2-4x+3 &, x\\leq 1 \\text{ oder} x\\geq 3\\\\\n",
    "-x^2+4x-3 &, 1 < x < 3\n",
    "\\end{cases}\n",
    "$$"
   ]
  },
  {
   "cell_type": "markdown",
   "metadata": {
    "slideshow": {
     "slide_type": "slide"
    }
   },
   "source": [
    "**Abstand:**\n",
    "\n",
    "1) $|x|=3$  \n",
    "![Bsp. 1](/Users/martin/Workspace/Jupyter_Notebooks/Mathematik_KS/1_Analysis_KS/4_Zusammenhang_Funktion_Graph/images/abs1.png)"
   ]
  },
  {
   "cell_type": "markdown",
   "metadata": {
    "slideshow": {
     "slide_type": "subslide"
    }
   },
   "source": [
    "2) $|x-2|=3$    \n",
    "![Bsp. 2](/Users/martin/Workspace/Jupyter_Notebooks/Mathematik_KS/1_Analysis_KS/4_Zusammenhang_Funktion_Graph/images/abs2.png)"
   ]
  },
  {
   "cell_type": "markdown",
   "metadata": {
    "slideshow": {
     "slide_type": "slide"
    }
   },
   "source": [
    "3) $|x+2|=3$    \n",
    "![Bsp. 3](/Users/martin/Workspace/Jupyter_Notebooks/Mathematik_KS/1_Analysis_KS/4_Zusammenhang_Funktion_Graph/images/abs3.png)"
   ]
  },
  {
   "cell_type": "markdown",
   "metadata": {
    "slideshow": {
     "slide_type": "slide"
    }
   },
   "source": [
    "<div style=\"border: 1px solid red\">\n",
    "\n",
    "**Dreiecksungleichung:**   \n",
    "Für alle $x, y \\in \\mathbb{R}$ gilt:   \n",
    "$$|x+y|\\leq |x|+|y|$$\n",
    "\n",
    "</div>\n",
    "\n",
    "\n",
    "![Dreiecksungleichung](/Users/martin/Workspace/Jupyter_Notebooks/Mathematik_KS/1_Analysis_KS/4_Zusammenhang_Funktion_Graph/images/dreiecksungleichung.png){width=300px}\n"
   ]
  },
  {
   "cell_type": "markdown",
   "metadata": {
    "slideshow": {
     "slide_type": "slide"
    }
   },
   "source": [
    "**Beweis:**  \n",
    "1) Es gilt: $a \\leq |a| \\text{ und } b \\leq |b| \\quad \\Rightarrow (a+b) \\leq |a|+|b|$\n",
    "\n",
    "2) Es gilt: $-a\\leq |a| \\text{ und } -b\\leq |b| \\quad \\Rightarrow -a + (-b) \\leq |a|+|b| $\n",
    "\n",
    "3) Es gilt: $|a+b|=\\begin{cases}\n",
    "a+b &, a+b\\geq 0\\\\\n",
    "-(a+b) & , a+b < 0\n",
    "\\end{cases}$  \n",
    "\n",
    "Mit 2) und 3) folgt:\n",
    "\n",
    "$|a+b|=\\begin{cases}\n",
    "a+b \\leq |a|+|b| &, a+b\\geq 0\\\\\n",
    "-(a+b) \\leq |a|+|b| & , a+b < 0\n",
    "\\end{cases}$\n",
    "\n",
    "$|x+y|\\leq |x|+|y|\\quad \\checkmark$"
   ]
  },
  {
   "cell_type": "markdown",
   "metadata": {},
   "source": []
  }
 ],
 "metadata": {
  "kernelspec": {
   "display_name": "Python 3",
   "language": "python",
   "name": "python3"
  },
  "language_info": {
   "codemirror_mode": {
    "name": "ipython",
    "version": 3
   },
   "file_extension": ".py",
   "mimetype": "text/x-python",
   "name": "python",
   "nbconvert_exporter": "python",
   "pygments_lexer": "ipython3",
   "version": "3.12.1"
  }
 },
 "nbformat": 4,
 "nbformat_minor": 2
}
