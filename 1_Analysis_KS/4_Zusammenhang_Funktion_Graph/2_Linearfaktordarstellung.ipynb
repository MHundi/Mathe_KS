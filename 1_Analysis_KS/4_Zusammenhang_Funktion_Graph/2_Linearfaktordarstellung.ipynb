{
 "cells": [
  {
   "cell_type": "raw",
   "metadata": {},
   "source": [
    "---\n",
    "title: \"\"\n",
    "date: today\n",
    "format:\n",
    "    pdf:\n",
    "      papersize: a4\n",
    "execute: \n",
    "  enabled: true\n",
    "  echo: false\n",
    "Juypter: python3\n",
    "\n",
    "format:\n",
    "  beamer:\n",
    "    aspectratio: 169\n",
    "    navigation: horizontal\n",
    "    theme: Singapore\n",
    "    colortheme: orchid\n",
    "    toc: false\n",
    "---"
   ]
  },
  {
   "cell_type": "markdown",
   "metadata": {
    "slideshow": {
     "slide_type": "slide"
    }
   },
   "source": [
    "## 2. Linearfaktordarstellung\n",
    "\n",
    "Beispiel:\n",
    "$$\n",
    "f(x)= \\frac{1}{2}(x-1)(x+2)(x+3)\\qquad \\qquad g(x)= \\frac{1}{2}x^3+2x^2+\\frac{x}{2}-3\n",
    "$$\n",
    "\n",
    "|   <!-- -->  | $$f(x)$$ | $$g(x)$$ |\n",
    "|:------|:------:|:--------:|\n",
    "|  Grad | berechenbar  | ablesbar  |\n",
    "|   <!-- -->  |  <!-- -->  | $$\\text{grad}(f)=3$$  |\n",
    "|  Nullstellen | ablesbar  | zu berechnen  |\n",
    "|   <!-- -->  | $$ \\begin{aligned} n_1 &= 1\\\\n_2&= -2\\\\ n_3 &= -3\\end{aligned} $$ | Verfahren nicht bekannt  |\n",
    "|  Aufbau | Linearfaktoren  | Polynom  |\n"
   ]
  },
  {
   "cell_type": "markdown",
   "metadata": {
    "slideshow": {
     "slide_type": "slide"
    }
   },
   "source": [
    "<div style=\"border: 1px solid blue\">\n",
    "\n",
    "**Definition:**    \n",
    "Bestehen Faktoren einer Multiplikation aus linearen Elementen der Form $ax+b, \\;  a,b \\in \\mathbb{R}$, so bezeichnet man die Faktoren als Linearfaktoren. \n",
    "</div>\n"
   ]
  },
  {
   "cell_type": "markdown",
   "metadata": {
    "slideshow": {
     "slide_type": "slide"
    }
   },
   "source": [
    "Schauen wir uns die Funktionsgraphen der Fuktion $f$ und $g$ an:"
   ]
  },
  {
   "cell_type": "code",
   "execution_count": 1,
   "metadata": {},
   "outputs": [
    {
     "data": {
      "text/plain": [
       "[<matplotlib.lines.Line2D at 0x11b1cc6e0>]"
      ]
     },
     "execution_count": 1,
     "metadata": {},
     "output_type": "execute_result"
    },
    {
     "data": {
      "application/pdf": "[encoded data removed]",
      "text/plain": [
       "<Figure size 3000x3000 with 2 Axes>"
      ]
     },
     "metadata": {},
     "output_type": "display_data"
    }
   ],
   "source": [
    "import numpy as np\n",
    "import matplotlib.pyplot as plt\n",
    "from matplotlib.ticker import AutoMinorLocator, MultipleLocator, FuncFormatter\n",
    "\n",
    "# Defintionsmenge und Funktion\n",
    "# ----------------------------\n",
    "a= -5.1 # untere x-Intervallgrenze \n",
    "b= 5.1 # obere x-Intervallgrenze\n",
    "c = -5.1# untere y-Intervallgrenze\n",
    "d = 5.1 # obere y-Intervallgrenze\n",
    "x = np.linspace(a, b,1000)\n",
    "y1=0.5*(x-1)*(x+2)*(x+3)\n",
    "y2=0.5*x**3+2*x**2+0.5*x-3\n",
    "\n",
    "# ----------------------------\n",
    "\n",
    "# Einstellung des Graphen\n",
    "fig=plt.figure(figsize=(10,10))\n",
    "ax= fig.add_subplot(2,2,1,aspect=1)\n",
    "ax1= fig.add_subplot(2,2,2,  aspect=1)\n",
    "\n",
    "\n",
    "# Definiton der Haupteinheiten, reele Zahlen ohne die 0 \n",
    "def major_tick(x, pos):\n",
    "    if x==0:\n",
    "        return \"\"\n",
    "    return int(x)\n",
    "\n",
    "# Achsenskalierung\n",
    "ax.xaxis.set_major_locator(MultipleLocator(1))\n",
    "ax.xaxis.set_minor_locator(AutoMinorLocator(2))\n",
    "ax.yaxis.set_major_locator(MultipleLocator(1))\n",
    "ax.yaxis.set_minor_locator(AutoMinorLocator(2))\n",
    "ax.xaxis.set_major_formatter(FuncFormatter(major_tick))\n",
    "ax.yaxis.set_major_formatter(FuncFormatter(major_tick))\n",
    "\n",
    "ax1.xaxis.set_major_locator(MultipleLocator(1))\n",
    "ax1.xaxis.set_minor_locator(AutoMinorLocator(2))\n",
    "ax1.yaxis.set_major_locator(MultipleLocator(1))\n",
    "ax1.yaxis.set_minor_locator(AutoMinorLocator(2))\n",
    "ax1.xaxis.set_major_formatter(FuncFormatter(major_tick))\n",
    "ax1.yaxis.set_major_formatter(FuncFormatter(major_tick))\n",
    "\n",
    "\n",
    "# Position der Achsen im Schaubild\n",
    "ax.spines[['top','right']].set_visible(False)\n",
    "ax.spines[['bottom','left']].set_position('zero')\n",
    "\n",
    "ax1.spines[['top','right']].set_visible(False)\n",
    "ax1.spines[['bottom','left']].set_position('zero')\n",
    "\n",
    "# Pfeile für die Achsen\n",
    "ax.plot((1),(0), ls=\"\", marker= \">\", ms=7, color=\"k\", transform=ax.get_yaxis_transform(), clip_on=False)\n",
    "ax.plot((0),(1), ls=\"\", marker= \"^\", ms=7, color=\"k\", transform=ax.get_xaxis_transform(), clip_on=False)\n",
    "\n",
    "ax1.plot((1),(0), ls=\"\", marker= \">\", ms=7, color=\"k\", transform=ax1.get_yaxis_transform(), clip_on=False)\n",
    "ax1.plot((0),(1), ls=\"\", marker= \"^\", ms=7, color=\"k\", transform=ax1.get_xaxis_transform(), clip_on=False)\n",
    "\n",
    "\n",
    "# Achsenlänge und Beschriftung\n",
    "ax.set_xlim(a,b)\n",
    "ax.set_ylim(c, d)\n",
    "ax.set_xlabel(\"x\", loc=\"right\")\n",
    "#ax.set_ylabel(\"f(x)\", loc=\"top\", rotation=0)\n",
    "\n",
    "ax1.set_xlim(a,b)\n",
    "ax1.set_ylim(c, d)\n",
    "ax1.set_xlabel(\"x\", loc=\"right\")\n",
    "#ax1.set_ylabel(\"f(x)\", loc=\"top\", rotation=0)\n",
    "\n",
    "# Kästchen\n",
    "ax.grid(linestyle=\"-\", which=\"major\",linewidth=0.7, zorder=-10)\n",
    "ax.grid(linestyle=\"-\", which=\"minor\",linewidth=0.5, zorder=-10)\n",
    "\n",
    "ax1.grid(linestyle=\"-\", which=\"major\",linewidth=0.7, zorder=-10)\n",
    "ax1.grid(linestyle=\"-\", which=\"minor\",linewidth=0.5, zorder=-10)\n",
    "\n",
    "ax.set_title(\"$f(x)$\")\n",
    "ax1.set_title(\"$g(x)$\")\n",
    "\n",
    "# Plot der Funktion\n",
    "\n",
    "ax.plot(x,y1, zorder=10)\n",
    "ax1.plot(x,y2, zorder=10)\n",
    "\n",
    "#plt.show()"
   ]
  },
  {
   "cell_type": "markdown",
   "metadata": {
    "slideshow": {
     "slide_type": "slide"
    }
   },
   "source": [
    "<div style=\"border: 1px solid red\">\n",
    "\n",
    "**Satz 1:**    \n",
    "1. Jede ganzrationale Funktion in Lienarfaktordarstellung lässt sich durch ausmultiplizieren in eine Polynomfunktion umformen.  \n",
    "2. Nicht jede ganzrationale Funktion besitzt eine Linearfaktordarstellung.\n",
    "\n",
    "</div>\n",
    "\n",
    "</br>\n",
    "\n",
    "**Beweis:**   \n",
    "1. klar  \n",
    "2. Gegenbeispiel: $f(x)=x^2+1\\quad \\square$\n",
    "\n",
    "\n",
    "\n"
   ]
  },
  {
   "cell_type": "markdown",
   "metadata": {
    "slideshow": {
     "slide_type": "slide"
    }
   },
   "source": [
    "<div style=\"border: 1px solid red\">\n",
    "\n",
    "**Satz 2:**  \n",
    "Ist eine ganzrationale Funktion $f$ vom Grad $n, n \\in \\mathbb{N}$ und der Nullstelle $c$ gegeben, so gibt es eine ganzrationale Funktion $g$ vom Grad $n-1$, so dass gilt: $$f(x)=(x-c)\\cdot g(x)$$\n",
    "\n",
    "\n",
    "</div>\n"
   ]
  },
  {
   "cell_type": "markdown",
   "metadata": {
    "slideshow": {
     "slide_type": "slide"
    }
   },
   "source": [
    "**Beweis:**   \n",
    "Gegeben:  \n",
    "\n",
    "- ganzrationale Funktion $f$\n",
    "- $\\text{grad}(f)=n$\n",
    "- c Nullstelle von f\n",
    "\n",
    "Verschiebung der Nullstelle $c$ in den Ursprung durch Verschieben des Graphen von $f$ entlang der x-Achse um $-c$ erzeugt eine neue Funktion $h$:\n",
    "\n",
    "$$\n",
    "h(x)=f(x-(-c))=f(x+c)\n",
    "$$\n",
    "\n",
    "Eigenschaften von $h$:\n",
    "\n",
    "- $h$ ist auch eine ganzrationale Funktion mit $h(x)=a_nx^n + a_{n-1}x^{n-1} + ...+a_0$\n",
    "- $x_0=0$ ist eine Nullstelle von h, d.h. $h(0)= f(0+c)=f(c)=0$ \n",
    "\n",
    "Es folgt damit: $a_0=0$ und es gilt: \n"
   ]
  },
  {
   "cell_type": "markdown",
   "metadata": {
    "slideshow": {
     "slide_type": "subslide"
    }
   },
   "source": [
    "$$\n",
    "\\begin{aligned}\n",
    "h(x) &= a_nx^n + a_{n-1}x^{n-1} + ... +a_1x \\\\ \n",
    "&= x\\cdot \\left (a_n x^{n-1}+ a_{n-1}x^{n-2}+ ... + a_1\\right)\\\\\n",
    "&= x \\cdot k(x)\n",
    "\\end{aligned}\n",
    "$$\n",
    "\n",
    "Eigenschaften von $k(x)$:\n",
    "\n",
    "- ganzrationale Funktion\n",
    "- Gleichung $k(x)=a_n x^{n-1}+ a_{n-1}x^{n-2}+ ... + a_1$\n",
    "- $\\text{grad}(k)=n-1$    \n",
    "\n",
    "Zurückverschiebung des Graphen von $h$ um $c$ entlang der x-Achse ergibt den Graphen von $f$ und es gilt:\n",
    "$$\n",
    "\\begin{aligned}\n",
    "f(x)&= h(x-c)\\\\\n",
    "&= (x-c)\\cdot k(x-c)\\\\\n",
    "&= (x-c) \\cdot g(x), \\quad \\text{mit } g(x)=k(x-c)\n",
    "\\end{aligned}\n",
    "$$\n",
    "\n",
    "mit $\\text{grad}(g) = \\text{grad}(k) = n-1 \\quad \\square$"
   ]
  },
  {
   "cell_type": "markdown",
   "metadata": {
    "slideshow": {
     "slide_type": "slide"
    }
   },
   "source": [
    "<div style=\"border: 1px solid red\">\n",
    "\n",
    "**Satz 3:**  \n",
    "Eine ganzrationale Funktion $f$ vom Grad $n, n \\in \\mathbb{N}$ hat höchstens $n$ Nullstellen.\n",
    "</div>"
   ]
  },
  {
   "cell_type": "markdown",
   "metadata": {
    "slideshow": {
     "slide_type": "slide"
    }
   },
   "source": [
    "**Beweis:**   \n",
    "Gegeben:\n",
    "$$\n",
    "f(x)=a_nx^n+a_{n-1}x^{n-1}+...+a_1x+a_0\n",
    "$$\n",
    "\n",
    "mit $\\text{grad}(f)=n$\n",
    "\n",
    "$\\Rightarrow$ Es gibt ein $c_1$, so das gilt:\n",
    "$$\n",
    " \\begin{aligned}\n",
    " f(x) &= (x-c_1)\\cdot \\left( a_{n-1}x^{n-1}+...+a_1x+a_0\\right)\\\\\n",
    " &= (x-c_1)\\cdot g(x) \n",
    " \\end{aligned}\n",
    "$$\n",
    "\n",
    "$\\Rightarrow \\quad  \\text{grad}(g)=\\text{grad}(f)-1 = n-1$  "
   ]
  },
  {
   "cell_type": "markdown",
   "metadata": {
    "slideshow": {
     "slide_type": "subslide"
    }
   },
   "source": [
    "Sei $c_2$ weiter Nullstelle von $f(x)$.  \n",
    "$\\Rightarrow$ \n",
    "\n",
    "$$ \n",
    "\\begin{aligned}\n",
    "f(x)&=(x-c_1)(x-c_2)\\left( a_{n-2}x^{n-2}+...+a_1x+a_0\\right)\\\\\n",
    "&= (x-c_1)(x-c_2)\\cdot h(x)\\\\\n",
    "\\end{aligned}\n",
    "$$\n",
    "\n",
    "$\\Rightarrow \\quad  \\text{grad}(h)=\\text{grad}(f)-2 = n-2$\n",
    "\n",
    "Die Durchführung dieser Schritte ist insgesamt maximal n-mal möglich. $\\quad \\square$"
   ]
  },
  {
   "cell_type": "code",
   "execution_count": 2,
   "metadata": {},
   "outputs": [],
   "source": []
  }
 ],
 "metadata": {
  "kernelspec": {
   "display_name": "Python 3",
   "language": "python",
   "name": "python3"
  },
  "language_info": {
   "codemirror_mode": {
    "name": "ipython",
    "version": 3
   },
   "file_extension": ".py",
   "mimetype": "text/x-python",
   "name": "python",
   "nbconvert_exporter": "python",
   "pygments_lexer": "ipython3",
   "version": "3.12.1"
  }
 },
 "nbformat": 4,
 "nbformat_minor": 2
}
