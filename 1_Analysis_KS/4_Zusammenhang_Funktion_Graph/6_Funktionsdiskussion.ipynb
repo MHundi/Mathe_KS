{
 "cells": [
  {
   "cell_type": "markdown",
   "metadata": {},
   "source": [
    "## 6. Vollständige Funktionsdiskussion\n"
   ]
  },
  {
   "cell_type": "markdown",
   "metadata": {},
   "source": [
    "<div style=\"border: 1px solid red\">\n",
    "\n",
    "##### Vorgehensweise:\n",
    "\n",
    "1. Defintionsmenge bestimmen\n",
    "2. auf senkrechte Asymptoten untersuchen\n",
    "2. Nullstellen mit ihrer Vielfachheit bestimmen\n",
    "3. auf Symmetrie untersuchen\n",
    "4. Untersuchung des Grenzverhaltens der Funktion $f$ für $x \\rightarrow \\pm \\infty$\n",
    "5. Extrempunkte (lokale und Randextrempunkte) bestimmen\n",
    "6. Wendepunkte bestimmen\n",
    "7. Zeichung\n",
    "\n",
    "</div>"
   ]
  },
  {
   "cell_type": "markdown",
   "metadata": {},
   "source": []
  }
 ],
 "metadata": {
  "language_info": {
   "name": "python"
  }
 },
 "nbformat": 4,
 "nbformat_minor": 2
}
