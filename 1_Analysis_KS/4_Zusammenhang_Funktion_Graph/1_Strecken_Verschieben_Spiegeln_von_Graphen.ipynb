{
 "cells": [
  {
   "cell_type": "markdown",
   "metadata": {
    "slideshow": {
     "slide_type": "slide"
    }
   },
   "source": [
    "# IV Funktionen und Graphen"
   ]
  },
  {
   "cell_type": "markdown",
   "metadata": {
    "slideshow": {
     "slide_type": "slide"
    }
   },
   "source": [
    "## 1. Strecken, Verschieben, Spiegeln von Graphen\n",
    "\n",
    "**Beispiel:** \n",
    "$$\\begin{align*}\n",
    "    f(x)&=(x+2)^3\\\\\n",
    "    &= x^3+ 3x^2\\cdot 2 +3x\\cdot 4 + 8 \\\\\n",
    "    &= x^3 + 6x^2 +12x + 8\n",
    "    \\end{align*}\n",
    "$$\n",
    "\n",
    "**Exkurs:** Pascalsches Dreicek\n",
    "\n",
    "<img src=\"/Users/martin/Workspace/Jupyter_Notebooks/Mathematik_KS/1_Analysis_KS/4_Zusammenhang_Funktion_-_Graph/images/pascalsches_dreieck.png\"\n",
    "    width=\"500\"\n",
    "    style=\"padding-left: 2.5em\"\n",
    "    />\n",
    "\n",
    "\n",
    "\n"
   ]
  },
  {
   "cell_type": "code",
   "execution_count": 1,
   "metadata": {
    "slideshow": {
     "slide_type": "slide"
    }
   },
   "outputs": [
    {
     "data": {
      "text/plain": [
       "[<matplotlib.lines.Line2D at 0x10e051100>]"
      ]
     },
     "execution_count": 1,
     "metadata": {},
     "output_type": "execute_result"
    },
    {
     "data": {
      "image/png": "[encoded data removed]",
      "text/plain": [
       "<Figure size 800x800 with 1 Axes>"
      ]
     },
     "metadata": {},
     "output_type": "display_data"
    }
   ],
   "source": [
    "\n",
    "import numpy as np\n",
    "import matplotlib.pyplot as plt\n",
    "from matplotlib.ticker import AutoMinorLocator, MultipleLocator, FuncFormatter\n",
    "\n",
    "# Defintionsmenge und Funktion\n",
    "# ----------------------------\n",
    "a= -5.1 # untere x-Intervallgrenze \n",
    "b= 5.1 # obere x-Intervallgrenze\n",
    "c = -5.1# untere y-Intervallgrenze\n",
    "d = 5.1 # obere y-Intervallgrenze\n",
    "x = np.linspace(a, b,1000)\n",
    "y1= x**3+6*x**2+12*x+8-1\n",
    "#y2=(x+2)**3\n",
    "# ----------------------------\n",
    "\n",
    "# Einstellung des Graphen\n",
    "fig=plt.figure(figsize=(8,8))\n",
    "ax= fig.add_subplot(1,1,1, aspect =1)\n",
    "\n",
    "# Definiton der Haupteinheiten, reele Zahlen ohne die 0 \n",
    "def major_tick(x, pos):\n",
    "    if x==0:\n",
    "        return \"\"\n",
    "    return int(x)\n",
    "\n",
    "# Achsenskalierung\n",
    "ax.xaxis.set_major_locator(MultipleLocator(1))\n",
    "ax.xaxis.set_minor_locator(AutoMinorLocator(2))\n",
    "ax.yaxis.set_major_locator(MultipleLocator(1))\n",
    "ax.yaxis.set_minor_locator(AutoMinorLocator(2))\n",
    "ax.xaxis.set_major_formatter(FuncFormatter(major_tick))\n",
    "ax.yaxis.set_major_formatter(FuncFormatter(major_tick))\n",
    "\n",
    "# Position der Achsen im Schaubild\n",
    "ax.spines[['top','right']].set_visible(False)\n",
    "ax.spines[['bottom','left']].set_position('zero')\n",
    "\n",
    "# Pfeile für die Achsen\n",
    "ax.plot((1),(0), ls=\"\", marker= \">\", ms=7, color=\"k\", transform=ax.get_yaxis_transform(), clip_on=False)\n",
    "ax.plot((0),(1), ls=\"\", marker= \"^\", ms=7, color=\"k\", transform=ax.get_xaxis_transform(), clip_on=False)\n",
    "\n",
    "# Achsenlänge und Beschriftung\n",
    "ax.set_xlim(a,b)\n",
    "ax.set_ylim(c, d)\n",
    "ax.set_xlabel(\"x\", loc=\"right\")\n",
    "ax.set_ylabel(\"f(x)\", loc=\"top\", rotation=0)\n",
    "\n",
    "# Kästchen\n",
    "ax.grid(linestyle=\"-\", which=\"major\",linewidth=0.7, zorder=-10)\n",
    "ax.grid(linestyle=\"-\", which=\"minor\",linewidth=0.5, zorder=-10)\n",
    "\n",
    "# Plot der Funktion\n",
    "ax.plot(x,y1, zorder=10)\n",
    "#ax.plot(x,y2, zorder=10)\n",
    "#plt.show()"
   ]
  },
  {
   "cell_type": "markdown",
   "metadata": {
    "slideshow": {
     "slide_type": "subslide"
    }
   },
   "source": [
    "Wertetabelle:\n",
    "\n",
    "|   x   | -2    | -1     | 0     | 1     |   \n",
    "|:-----:|:-----:|:-----:|:-----:|:------:|\n",
    " |$$ f(x) $$  |  0    |   1    |   8   |  27   |    \n",
    "\n",
    "\n"
   ]
  },
  {
   "cell_type": "markdown",
   "metadata": {
    "slideshow": {
     "slide_type": "slide"
    }
   },
   "source": [
    "Fragen: \n",
    "\n",
    "- Welche Auswirkung hat es , wenn man jeden Funktionswert mit der gleichen Zahl d=-1 addiert?\n",
    "\n",
    "|   x   | -2    | -1     | 0     | 1     |         \n",
    "|:-----:|:-----:|:-----:|:-----:|:------:|\n",
    "| $$f(x)$$  |  0    |   1    |   8   |  27   |  \n",
    "| $$f(x)-1$$|  0-1  | 1-1    | 8-1   |  27-1 |    \n",
    "\n",
    "=> Alle Punkte des Funktionsgraphen liegen um eine Einheit tiefer, als bei der Ausgangsfunktion.  \n",
    "=> Verschiebung des Funktionsgraphen entlang der y-Achse."
   ]
  },
  {
   "cell_type": "markdown",
   "metadata": {
    "slideshow": {
     "slide_type": "subslide"
    }
   },
   "source": [
    "- Welche Auswirkung hat es, wenn man jeden Funktionswert mit der gleichen Zahl a=2 multipliziert?\n",
    "\n",
    "|   x   | -2    | -1     | 0     | 1     |         \n",
    "|:-----:|:-----:|:-----:|:-----:|:------:|\n",
    "| $$f(x)$$  |  0    |   1    |   8   |  27 |  \n",
    "| $$2\\cdot f(x)$$|  0  |  2  |  16  |  54  |    \n",
    "\n",
    "=> Alle y-Werte der Punkte des ursprünglichen Funktionsgraphen werden mit a-vervielfacht und erhalten das entegengesetzte Vorzeichen.  \n",
    "=> Streckung des ursprünglichen Funktionsgraphen mit dem Faktor $a$.  \n",
    "\n"
   ]
  },
  {
   "cell_type": "markdown",
   "metadata": {
    "slideshow": {
     "slide_type": "subslide"
    }
   },
   "source": [
    "- Welche Auswirkung hat es, wenn man jeden Funktionswert mit der gleichen Zahl a=-1 multipliziert?\n",
    "\n",
    "|   x   | -2    | -1     | 0     | 1     |         \n",
    "|:-----:|:-----:|:-----:|:-----:|:------:|\n",
    "| $$f(x)$$  |  0    |   1    |   8   |  27 |  \n",
    "| $$-1\\cdot f(x)$$|  0  |  -1  |  -8  |  -27  |    \n",
    "\n",
    "=> Alle y-Werte der Punkte des ursprünglichen Funktionsgraphen erhalten das entegengesetzte Vorzeichen.  \n",
    "=> Speigelung des ursprünglichen Funktionsgraphen an der x-Achse. \n"
   ]
  },
  {
   "cell_type": "markdown",
   "metadata": {
    "slideshow": {
     "slide_type": "subslide"
    }
   },
   "source": [
    "- Welche Auswirkung hat es, wenn man von jeden x-Wert die gleiche Zahl c=2 subtrahiert.\n",
    "\n",
    "|   x   | -2    | -1     | 0     | 1     |         \n",
    "|:-----:|:-----:|:-----:|:-----:|:------:|\n",
    "| $$f(x)$$  |  0    |   1    |   8   |  27 |  \n",
    "| $$f(x-2)$$| -8    | -1     | 0     |  1  |    \n",
    "\n",
    "\n",
    "=> Alle Punkte des Funktionsgraphen haben den Funktionswert, den der ursprüngliche Graph schon zwei Einheiten weiter links gehabt hat.  \n",
    "=> Der Graph wird verschoben auf entlang der x-Achse."
   ]
  },
  {
   "cell_type": "markdown",
   "metadata": {
    "slideshow": {
     "slide_type": "slide"
    }
   },
   "source": [
    "<div style=\"border: 1px solid red\">\n",
    "\n",
    "**Satz:**   \n",
    "Der Graph der Funktion g mit $g(x)=a\\cdot f(x-c)+d,$ mit $a, c, d \\in \\mathbb{R}, \\quad a\\neq 0$ entsteht aus dem Graphen der Funktion $f$ durch\n",
    "\n",
    "- Streckung in y-Richtung mit dem Faktor $|a|$\n",
    "- Verschiebung entlag der y-Achse  um d\n",
    "- Verschiebung entlang der x-Achse um c.\n",
    "\n",
    "</div>"
   ]
  },
  {
   "cell_type": "markdown",
   "metadata": {
    "slideshow": {
     "slide_type": "slide"
    }
   },
   "source": [
    "**Beispiel:**\n",
    "$$\n",
    "f(x)=e^x\n",
    "$$\n",
    "\n"
   ]
  },
  {
   "cell_type": "code",
   "execution_count": 6,
   "metadata": {
    "slideshow": {
     "slide_type": "subslide"
    }
   },
   "outputs": [
    {
     "data": {
      "text/plain": [
       "[<matplotlib.lines.Line2D at 0x10e4f01a0>]"
      ]
     },
     "execution_count": 6,
     "metadata": {},
     "output_type": "execute_result"
    },
    {
     "data": {
      "image/png": "[encoded data removed]",
      "text/plain": [
       "<Figure size 800x800 with 1 Axes>"
      ]
     },
     "metadata": {},
     "output_type": "display_data"
    }
   ],
   "source": [
    "\n",
    "import numpy as np\n",
    "import matplotlib.pyplot as plt\n",
    "from matplotlib.ticker import AutoMinorLocator, MultipleLocator, FuncFormatter\n",
    "\n",
    "# Defintionsmenge und Funktion\n",
    "# ----------------------------\n",
    "a= -5.1 # untere x-Intervallgrenze \n",
    "b= 5.1 # obere x-Intervallgrenze\n",
    "c = -5.1# untere y-Intervallgrenze\n",
    "d = 5.1 # obere y-Intervallgrenze\n",
    "x = np.linspace(a, b,1000)\n",
    "y1= -0.25*np.exp(x-2)-3\n",
    "#y2=(x+2)**3\n",
    "# ----------------------------\n",
    "\n",
    "# Einstellung des Graphen\n",
    "fig=plt.figure(figsize=(8,8))\n",
    "ax= fig.add_subplot(1,1,1, aspect =1)\n",
    "\n",
    "# Definiton der Haupteinheiten, reele Zahlen ohne die 0 \n",
    "def major_tick(x, pos):\n",
    "    if x==0:\n",
    "        return \"\"\n",
    "    return int(x)\n",
    "\n",
    "# Achsenskalierung\n",
    "ax.xaxis.set_major_locator(MultipleLocator(1))\n",
    "ax.xaxis.set_minor_locator(AutoMinorLocator(2))\n",
    "ax.yaxis.set_major_locator(MultipleLocator(1))\n",
    "ax.yaxis.set_minor_locator(AutoMinorLocator(2))\n",
    "ax.xaxis.set_major_formatter(FuncFormatter(major_tick))\n",
    "ax.yaxis.set_major_formatter(FuncFormatter(major_tick))\n",
    "\n",
    "# Position der Achsen im Schaubild\n",
    "ax.spines[['top','right']].set_visible(False)\n",
    "ax.spines[['bottom','left']].set_position('zero')\n",
    "\n",
    "# Pfeile für die Achsen\n",
    "ax.plot((1),(0), ls=\"\", marker= \">\", ms=7, color=\"k\", transform=ax.get_yaxis_transform(), clip_on=False)\n",
    "ax.plot((0),(1), ls=\"\", marker= \"^\", ms=7, color=\"k\", transform=ax.get_xaxis_transform(), clip_on=False)\n",
    "\n",
    "# Achsenlänge und Beschriftung\n",
    "ax.set_xlim(a,b)\n",
    "ax.set_ylim(c, d)\n",
    "ax.set_xlabel(\"x\", loc=\"right\")\n",
    "ax.set_ylabel(\"f(x)\", loc=\"top\", rotation=0)\n",
    "\n",
    "# Kästchen\n",
    "ax.grid(linestyle=\"-\", which=\"major\",linewidth=0.7, zorder=-10)\n",
    "ax.grid(linestyle=\"-\", which=\"minor\",linewidth=0.5, zorder=-10)\n",
    "\n",
    "# Plot der Funktion\n",
    "ax.plot(x,y1, zorder=10)\n",
    "#ax.plot(x,y2, zorder=10)\n",
    "#plt.show()"
   ]
  },
  {
   "cell_type": "markdown",
   "metadata": {
    "slideshow": {
     "slide_type": "subslide"
    }
   },
   "source": [
    "Wertetabelle:\n",
    "\n",
    "|   x   | -2    | -1     | 0     |  1    |        \n",
    "|:-----:|:-----:|:-----:|:-----:|:------:|\n",
    "|$$f(x)$$|0,135 |0,368  |   1   | $$e$$    |    "
   ]
  },
  {
   "cell_type": "markdown",
   "metadata": {
    "slideshow": {
     "slide_type": "slide"
    }
   },
   "source": [
    "Fragen: \n",
    "\n",
    "- Welche Auswirkung hat es , wenn man jeden Funktionswert mit -1 subtrahiert?\n",
    "\n",
    "|   x   | -2    | -1     | 0     | 1     |\n",
    "|:-----:|:-----:|:-----:|:-----:|:------:|\n",
    "|$$f(x)$$  |  0,135    |   0,368    |   1   | $$e$$   |\n",
    "| $$-f(x)$$|  -0,135  | -0,368    | -1   |  $$-e$$ |\n",
    "\n",
    "=> Die y-Koordinaten aller Punkte des Grapen werden negativ. \n",
    "\n",
    "=> Spiegelung des Funktionsgraphen an der x-Achse."
   ]
  },
  {
   "cell_type": "markdown",
   "metadata": {
    "slideshow": {
     "slide_type": "subslide"
    }
   },
   "source": [
    "- Welche Auswirkung hat es , wenn man die Funktionsvariable mit -1 multipliziert?\n",
    "\n",
    "|   x   | -2    | -1     | 0     | 1     |\n",
    "|:-----:|:-----:|:-----:|:-----:|:------:|\n",
    "|$$f(x)$$  |  0,135    |   0,368    |   1   | $$e$$   |\n",
    "| $$f(-x)$$|7,389| $e$   | 1   |  0,386 |\n",
    "\n",
    "=> Alle Punkte des Grahen erhalten die y-Koordinaten ihrer negativen Pendants. \n",
    "\n",
    "=> Spiegelung des Funktionsgraphen an der y-Achse."
   ]
  },
  {
   "cell_type": "markdown",
   "metadata": {
    "slideshow": {
     "slide_type": "subslide"
    }
   },
   "source": [
    "- Welche Auswirkung hat es , wenn man die Funktionsvariable mit -1 multipliziert und den Funktionswert auch mnit -1?\n",
    "\n",
    "|   x   | -2    | -1     | 0     | 1     |         \n",
    "|:-----:|:-----:|:-----:|:-----:|:------:|\n",
    "| $$ f(x) $$  |  0,135    |   0,368    |   1   | $$e$$   |   \n",
    "| $$f(-x)$$|-7,389| $$-e$$   | -1   |  -0,386 |    \n",
    "\n",
    "=> Alle Punkte des Grahen erhalten die y-Koordinaten ihrer negativen Pendants.   \n",
    "\n",
    "=> Alle y-kooridnaten der Punkte erhalten das entegegensgesetzte Vorzeichen.\n",
    "\n",
    "=> Spiegelung des Funktionsgraphen am Ursprung $O(0|0)$"
   ]
  },
  {
   "cell_type": "markdown",
   "metadata": {
    "slideshow": {
     "slide_type": "slide"
    }
   },
   "source": [
    "<div style=\"border: 1px solid red\">\n",
    "\n",
    "**Satz:**   \n",
    "Der Graph der Funktion $g$ entsteht aus dem Graphen der Funktion $f$ durch\n",
    "\n",
    "- $g(x)= f(-x)$ mit einer Spiegelung an der y-Achse.\n",
    "- $g(x)= -f(x)$ mit einer Spiegelung an der x-Achse.\n",
    "- $g(x)= -f(-x)$ mit einerSpiegelung am Ursprung $O(0|0)$\n",
    "\n",
    "</div>"
   ]
  },
  {
   "cell_type": "markdown",
   "metadata": {
    "slideshow": {
     "slide_type": "subslide"
    }
   },
   "source": [
    "**Nachweis einer Achsensymmetrie zur y-Achse bzw. einer Punktsymmetrie zum Ursprung:**\n",
    "\n",
    "<div style=\"border: 1px solid red\">\n",
    "\n",
    "**Satz:**   \n",
    "\n",
    "Der Graph einer Funktion f ist genau dann \n",
    "- achsensymmetrisch zur y-Achse, wenn für alle $x \\in D_f$ gil: $f(-x)=f(x)$\n",
    "- punktsymmetrisch zum Ursprung, wenn für alle $x \\in D_f$ gil: $f(-x)=-f(x)$\n",
    "\n",
    "</div>"
   ]
  },
  {
   "cell_type": "markdown",
   "metadata": {
    "slideshow": {
     "slide_type": "slide"
    }
   },
   "source": [
    "**Beispiel:**\n",
    "$$\n",
    "\\begin{align*}\n",
    "f(x) &=x\\cdot \\sin(x)\\\\\n",
    "f(-x)&=-x \\cdot \\sin(-x)\\\\\n",
    "&= -(x\\cdot \\sin(-x))\\\\\n",
    "&=-(x \\cdot (-\\sin(x))\\\\\n",
    "&=x\\cdot \\sin(x)\n",
    "\\end{align*}\n",
    "$$\n",
    "\n",
    "$\\Rightarrow$ Achsensymmetrie zur y-Achse."
   ]
  },
  {
   "cell_type": "code",
   "execution_count": 11,
   "metadata": {
    "slideshow": {
     "slide_type": "subslide"
    }
   },
   "outputs": [
    {
     "data": {
      "text/plain": [
       "[<matplotlib.lines.Line2D at 0x1383d3a40>]"
      ]
     },
     "execution_count": 11,
     "metadata": {},
     "output_type": "execute_result"
    },
    {
     "data": {
      "image/png": "[encoded data removed]",
      "text/plain": [
       "<Figure size 800x800 with 1 Axes>"
      ]
     },
     "metadata": {},
     "output_type": "display_data"
    }
   ],
   "source": [
    "import numpy as np\n",
    "import matplotlib.pyplot as plt\n",
    "from matplotlib.ticker import AutoMinorLocator, MultipleLocator, FuncFormatter\n",
    "\n",
    "# Defintionsmenge und Funktion\n",
    "# ----------------------------\n",
    "a= -5.1 # untere x-Intervallgrenze \n",
    "b= 5.1 # obere x-Intervallgrenze\n",
    "c = -5.1# untere y-Intervallgrenze\n",
    "d = 5.1 # obere y-Intervallgrenze\n",
    "x = np.linspace(a, b,1000)\n",
    "y1= x*np.sin(x)\n",
    "# ----------------------------\n",
    "\n",
    "# Einstellung des Graphen\n",
    "fig=plt.figure(figsize=(8,8))\n",
    "ax= fig.add_subplot(1,1,1, aspect =1)\n",
    "\n",
    "# Definiton der Haupteinheiten, reele Zahlen ohne die 0 \n",
    "def major_tick(x, pos):\n",
    "    if x==0:\n",
    "        return \"\"\n",
    "    return int(x)\n",
    "\n",
    "# Achsenskalierung\n",
    "ax.xaxis.set_major_locator(MultipleLocator(1))\n",
    "ax.xaxis.set_minor_locator(AutoMinorLocator(2))\n",
    "ax.yaxis.set_major_locator(MultipleLocator(1))\n",
    "ax.yaxis.set_minor_locator(AutoMinorLocator(2))\n",
    "ax.xaxis.set_major_formatter(FuncFormatter(major_tick))\n",
    "ax.yaxis.set_major_formatter(FuncFormatter(major_tick))\n",
    "\n",
    "# Position der Achsen im Schaubild\n",
    "ax.spines[['top','right']].set_visible(False)\n",
    "ax.spines[['bottom','left']].set_position('zero')\n",
    "\n",
    "# Pfeile für die Achsen\n",
    "ax.plot((1),(0), ls=\"\", marker= \">\", ms=7, color=\"k\", transform=ax.get_yaxis_transform(), clip_on=False)\n",
    "ax.plot((0),(1), ls=\"\", marker= \"^\", ms=7, color=\"k\", transform=ax.get_xaxis_transform(), clip_on=False)\n",
    "\n",
    "# Achsenlänge und Beschriftung\n",
    "ax.set_xlim(a,b)\n",
    "ax.set_ylim(c, d)\n",
    "ax.set_xlabel(\"x\", loc=\"right\")\n",
    "ax.set_ylabel(\"f(x)\", loc=\"top\", rotation=0)\n",
    "\n",
    "# Kästchen\n",
    "ax.grid(linestyle=\"-\", which=\"major\",linewidth=0.7, zorder=-10)\n",
    "ax.grid(linestyle=\"-\", which=\"minor\",linewidth=0.5, zorder=-10)\n",
    "\n",
    "# Plot der Funktion\n",
    "ax.plot(x,y1, zorder=10)\n",
    "#plt.show()"
   ]
  },
  {
   "cell_type": "code",
   "execution_count": null,
   "metadata": {},
   "outputs": [],
   "source": []
  }
 ],
 "metadata": {
  "kernelspec": {
   "display_name": "Python 3",
   "language": "python",
   "name": "python3"
  },
  "language_info": {
   "codemirror_mode": {
    "name": "ipython",
    "version": 3
   },
   "file_extension": ".py",
   "mimetype": "text/x-python",
   "name": "python",
   "nbconvert_exporter": "python",
   "pygments_lexer": "ipython3",
   "version": "3.12.1"
  }
 },
 "nbformat": 4,
 "nbformat_minor": 2
}
