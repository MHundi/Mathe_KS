{
 "cells": [
  {
   "cell_type": "raw",
   "metadata": {},
   "source": [
    "---\n",
    "title: \"\"\n",
    "date: today\n",
    "format:\n",
    "    pdf:\n",
    "      papersize: a4\n",
    "execute: \n",
    "  enabled: true\n",
    "  echo: false\n",
    "Juypter: python3\n",
    "\n",
    "format:\n",
    "  beamer:\n",
    "    aspectratio: 169\n",
    "    navigation: horizontal\n",
    "    theme: Singapore\n",
    "    colortheme: orchid\n",
    "    toc: false\n",
    "---"
   ]
  },
  {
   "cell_type": "markdown",
   "metadata": {
    "slideshow": {
     "slide_type": "slide"
    }
   },
   "source": [
    "## 8. Trignometrische Funktionen"
   ]
  },
  {
   "cell_type": "markdown",
   "metadata": {
    "slideshow": {
     "slide_type": "slide"
    }
   },
   "source": [
    "#### Winkelfunktion\n",
    "\n",
    "In jedem rechtwinklingen Dreieck mit festem Winkel $\\alpha$ ist das Verhältnis von Gegenkathete zu $\\alpha$ zur Hypothenuse konstant.\n",
    "![Dreieck](/Users/martin/Workspace/Jupyter_Notebooks/Mathematik_KS/1_Analysis_KS/4_Zusammenhang_Funktion_Graph/images/dreieck_wp.jpg){width=400px}\n"
   ]
  },
  {
   "cell_type": "markdown",
   "metadata": {
    "slideshow": {
     "slide_type": "slide"
    }
   },
   "source": [
    "##### Bogenmaß\n",
    "Am Einheitskreis gehört zu jedem Winkel des rechtwinklingen Dreiec\n",
    "\n",
    "![Eiheitskreis](/Users/martin/Workspace/Jupyter_Notebooks/Mathematik_KS/1_Analysis_KS/4_Zusammenhang_Funktion_Graph/images/sinus_am_Einheitskreis.png){width=300px}"
   ]
  },
  {
   "cell_type": "markdown",
   "metadata": {
    "slideshow": {
     "slide_type": "slide"
    }
   },
   "source": [
    "## Sinusfunktion\n",
    "\n",
    "- Defintionsmenge: $\\mathbb{R}$\n",
    "- Wertemenge: $W=\\{f(x)|-1\\leq f(x)\\leq 1\\}$\n",
    "- periodisch\n",
    "- Periode $2\\pi$\n",
    "- punktsymmetrisch zum Ursprung\n"
   ]
  },
  {
   "cell_type": "code",
   "execution_count": 1,
   "metadata": {
    "slideshow": {
     "slide_type": "slide"
    }
   },
   "outputs": [
    {
     "data": {
      "text/plain": [
       "[<matplotlib.lines.Line2D at 0x11644a750>]"
      ]
     },
     "execution_count": 1,
     "metadata": {},
     "output_type": "execute_result"
    },
    {
     "data": {
      "application/pdf": "[encoded data removed]",
      "text/plain": [
       "<Figure size 2400x2400 with 1 Axes>"
      ]
     },
     "metadata": {},
     "output_type": "display_data"
    }
   ],
   "source": [
    "import numpy as np\n",
    "import matplotlib.pyplot as plt\n",
    "from matplotlib.ticker import AutoMinorLocator, MultipleLocator, FuncFormatter, FormatStrFormatter\n",
    "\n",
    "# Defintionsmenge und Funktion\n",
    "# ----------------------------\n",
    "a= -np.pi # untere Intervallgrenze \n",
    "b= 3*np.pi # obere Intervallgrenze\n",
    "c = -1.1 #untere y-Intervallgrenze\n",
    "d = 1.1 # obere y-Intervallgrenze\n",
    "x = np.linspace(a, b,1000)\n",
    "y1= np.sin(x)\n",
    "# ----------------------------\n",
    "\n",
    "# Einstellung des Graphen\n",
    "fig=plt.figure(figsize=(8,8))\n",
    "ax = fig.add_subplot(1,1,1, aspect=1)\n",
    "\n",
    "# Beschrifung der y-Achsenskala\n",
    "def major_ytick(x, pos):\n",
    "    if x==0:\n",
    "        return \"\"\n",
    "    return int(x)\n",
    "# Beschriftung der x-Achsenskala\n",
    "def major_xtick(x, pos):\n",
    "    if x==0:\n",
    "        return \"\"\n",
    "    if x%np.pi==0:\n",
    "        if x/np.pi == 1:\n",
    "            return(r\"$\\pi$\")\n",
    "        if x/np.pi == -1:\n",
    "            return (r\"$-\\pi$\")\n",
    "        return (str(int(x/np.pi)) +r\"$\\pi$\")\n",
    "    if 2*x%np.pi == 0:\n",
    "        return (r\"$\\frac{s1}{2}\\pi$\".replace('s1', str(int(2*x/np.pi))))\n",
    "    return \"\"\n",
    "\n",
    "# Achsenskalierung\n",
    "ax.xaxis.set_major_locator(plt.MultipleLocator(np.pi/2))\n",
    "ax.xaxis.set_minor_locator(plt.MultipleLocator(np.pi/4))\n",
    "ax.yaxis.set_major_locator(MultipleLocator(1))\n",
    "ax.yaxis.set_minor_locator(AutoMinorLocator(2))\n",
    "ax.xaxis.set_major_formatter(FuncFormatter(major_xtick))\n",
    "ax.yaxis.set_major_formatter(FuncFormatter(major_ytick))\n",
    "\n",
    "# Position der Achsen im Schaubild\n",
    "ax.spines[['top','right']].set_visible(False)\n",
    "ax.spines[['bottom','left']].set_position('zero')\n",
    "\n",
    "# Pfeile für die Achsen\n",
    "ax.plot((1),(0), ls=\"\", marker= \">\", ms=7, color=\"k\", transform=ax.get_yaxis_transform(), clip_on=False)\n",
    "ax.plot((0),(1), ls=\"\", marker= \"^\", ms=7, color=\"k\", transform=ax.get_xaxis_transform(), clip_on=False)\n",
    "\n",
    "# Achsenlänge und Beschriftung\n",
    "ax.set_xlim(a,b)\n",
    "ax.set_ylim(c, d)\n",
    "ax.set_xlabel(\"x\", loc=\"right\")\n",
    "ax.set_ylabel(\"f(x)\", loc=\"top\", rotation=0)\n",
    "\n",
    "# Kästchen\n",
    "ax.grid(linestyle=\"-\", which=\"major\",linewidth=0.7, zorder=-10)\n",
    "ax.grid(linestyle=\"-\", which=\"minor\",linewidth=0.5, zorder=-10)\n",
    "\n",
    "# Plot der Funktion\n",
    "ax.plot(x,y1, zorder=10)\n",
    "#plt.show()"
   ]
  },
  {
   "cell_type": "code",
   "execution_count": 2,
   "metadata": {
    "slideshow": {
     "slide_type": "fragment"
    }
   },
   "outputs": [
    {
     "data": {
      "text/plain": [
       "[<matplotlib.lines.Line2D at 0x116c5cf50>]"
      ]
     },
     "execution_count": 2,
     "metadata": {},
     "output_type": "execute_result"
    },
    {
     "data": {
      "application/pdf": "[encoded data removed]",
      "text/plain": [
       "<Figure size 2400x2400 with 1 Axes>"
      ]
     },
     "metadata": {},
     "output_type": "display_data"
    }
   ],
   "source": [
    "import numpy as np\n",
    "import matplotlib.pyplot as plt\n",
    "from matplotlib.ticker import AutoMinorLocator, MultipleLocator, FuncFormatter\n",
    "\n",
    "# Defintionsmenge und Funktion\n",
    "# ----------------------------\n",
    "a= -3.14 # untere x-Intervallgrenze \n",
    "b= 9.42 # obere x-Intervallgrenze\n",
    "c = -1.1# untere y-Intervallgrenze\n",
    "d = 1.1 # obere y-Intervallgrenze\n",
    "x = np.linspace(a, b,1000)\n",
    "y1= np.sin(x)\n",
    "# ----------------------------\n",
    "\n",
    "# Einstellung des Graphen\n",
    "fig=plt.figure(figsize=(8,8))\n",
    "ax= fig.add_subplot(1,1,1, aspect =1)\n",
    "\n",
    "# Definiton der Haupteinheiten, reele Zahlen ohne die 0 \n",
    "def major_tick(x, pos):\n",
    "    if x==0:\n",
    "        return \"\"\n",
    "    return int(x)\n",
    "\n",
    "# Achsenskalierung\n",
    "ax.xaxis.set_major_locator(MultipleLocator(1))\n",
    "ax.xaxis.set_minor_locator(AutoMinorLocator(2))\n",
    "ax.yaxis.set_major_locator(MultipleLocator(1))\n",
    "ax.yaxis.set_minor_locator(AutoMinorLocator(2))\n",
    "ax.xaxis.set_major_formatter(FuncFormatter(major_tick))\n",
    "ax.yaxis.set_major_formatter(FuncFormatter(major_tick))\n",
    "\n",
    "# Position der Achsen im Schaubild\n",
    "ax.spines[['top','right']].set_visible(False)\n",
    "ax.spines[['bottom','left']].set_position('zero')\n",
    "\n",
    "# Pfeile für die Achsen\n",
    "ax.plot((1),(0), ls=\"\", marker= \">\", ms=7, color=\"k\", transform=ax.get_yaxis_transform(), clip_on=False)\n",
    "ax.plot((0),(1), ls=\"\", marker= \"^\", ms=7, color=\"k\", transform=ax.get_xaxis_transform(), clip_on=False)\n",
    "\n",
    "# Achsenlänge und Beschriftung\n",
    "ax.set_xlim(a,b)\n",
    "ax.set_ylim(c, d)\n",
    "ax.set_xlabel(\"x\", loc=\"right\")\n",
    "ax.set_ylabel(\"f(x)\", loc=\"top\", rotation=0)\n",
    "\n",
    "# Kästchen\n",
    "ax.grid(linestyle=\"-\", which=\"major\",linewidth=0.7, zorder=-10)\n",
    "ax.grid(linestyle=\"-\", which=\"minor\",linewidth=0.5, zorder=-10)\n",
    "\n",
    "# Plot der Funktion\n",
    "ax.plot(x,y1, zorder=10)\n",
    "#plt.show()"
   ]
  },
  {
   "cell_type": "markdown",
   "metadata": {
    "slideshow": {
     "slide_type": "slide"
    }
   },
   "source": [
    "## Cosinusfunktion\n",
    "\n",
    "- Defintionsmenge: $\\mathbb{R}$\n",
    "- Wertemenge: $W=\\{f(x)|-1\\leq f(x)\\leq 1\\}$\n",
    "- periosisch\n",
    "- Periode $2\\pi$\n",
    "- achsensymmetrisch zur y-Achse\n",
    "\n"
   ]
  },
  {
   "cell_type": "code",
   "execution_count": 3,
   "metadata": {
    "slideshow": {
     "slide_type": "slide"
    }
   },
   "outputs": [
    {
     "data": {
      "text/plain": [
       "[<matplotlib.lines.Line2D at 0x116dfac60>]"
      ]
     },
     "execution_count": 3,
     "metadata": {},
     "output_type": "execute_result"
    },
    {
     "data": {
      "application/pdf": "[encoded data removed]",
      "text/plain": [
       "<Figure size 2400x2400 with 1 Axes>"
      ]
     },
     "metadata": {},
     "output_type": "display_data"
    }
   ],
   "source": [
    "import numpy as np\n",
    "import matplotlib.pyplot as plt\n",
    "from matplotlib.ticker import AutoMinorLocator, MultipleLocator, FuncFormatter, FormatStrFormatter\n",
    "\n",
    "# Defintionsmenge und Funktion\n",
    "# ----------------------------\n",
    "a= -np.pi # untere Intervallgrenze \n",
    "b= 3*np.pi # obere Intervallgrenze\n",
    "c = -1.1 #untere y-Intervallgrenze\n",
    "d = 1.1 # obere y-Intervallgrenze\n",
    "x = np.linspace(a, b,1000)\n",
    "y1= np.cos(x)\n",
    "# ----------------------------\n",
    "\n",
    "# Einstellung des Graphen\n",
    "fig=plt.figure(figsize=(8,8))\n",
    "ax = fig.add_subplot(1,1,1, aspect=1)\n",
    "\n",
    "# Beschrifung der y-Achsenskala\n",
    "def major_ytick(x, pos):\n",
    "    if x==0:\n",
    "        return \"\"\n",
    "    return int(x)\n",
    "# Beschriftung der x-Achsenskala\n",
    "def major_xtick(x, pos):\n",
    "    if x==0:\n",
    "        return \"\"\n",
    "    if x%np.pi==0:\n",
    "        if x/np.pi == 1:\n",
    "            return(r\"$\\pi$\")\n",
    "        if x/np.pi == -1:\n",
    "            return (r\"$-\\pi$\")\n",
    "        return (str(int(x/np.pi)) +r\"$\\pi$\")\n",
    "    if 2*x%np.pi == 0:\n",
    "        return (r\"$\\frac{s1}{2}\\pi$\".replace('s1', str(int(2*x/np.pi))))\n",
    "    return \"\"\n",
    "\n",
    "# Achsenskalierung\n",
    "ax.xaxis.set_major_locator(plt.MultipleLocator(np.pi/2))\n",
    "ax.xaxis.set_minor_locator(plt.MultipleLocator(np.pi/4))\n",
    "ax.yaxis.set_major_locator(MultipleLocator(1))\n",
    "ax.yaxis.set_minor_locator(AutoMinorLocator(2))\n",
    "ax.xaxis.set_major_formatter(FuncFormatter(major_xtick))\n",
    "ax.yaxis.set_major_formatter(FuncFormatter(major_ytick))\n",
    "\n",
    "# Position der Achsen im Schaubild\n",
    "ax.spines[['top','right']].set_visible(False)\n",
    "ax.spines[['bottom','left']].set_position('zero')\n",
    "\n",
    "# Pfeile für die Achsen\n",
    "ax.plot((1),(0), ls=\"\", marker= \">\", ms=7, color=\"k\", transform=ax.get_yaxis_transform(), clip_on=False)\n",
    "ax.plot((0),(1), ls=\"\", marker= \"^\", ms=7, color=\"k\", transform=ax.get_xaxis_transform(), clip_on=False)\n",
    "\n",
    "# Achsenlänge und Beschriftung\n",
    "ax.set_xlim(a,b)\n",
    "ax.set_ylim(c, d)\n",
    "ax.set_xlabel(\"x\", loc=\"right\")\n",
    "ax.set_ylabel(\"f(x)\", loc=\"top\", rotation=0)\n",
    "\n",
    "# Kästchen\n",
    "ax.grid(linestyle=\"-\", which=\"major\",linewidth=0.7, zorder=-10)\n",
    "ax.grid(linestyle=\"-\", which=\"minor\",linewidth=0.5, zorder=-10)\n",
    "\n",
    "# Plot der Funktion\n",
    "ax.plot(x,y1, zorder=10)\n",
    "#plt.show()"
   ]
  },
  {
   "cell_type": "code",
   "execution_count": 4,
   "metadata": {
    "slideshow": {
     "slide_type": "fragment"
    }
   },
   "outputs": [
    {
     "data": {
      "text/plain": [
       "[<matplotlib.lines.Line2D at 0x1171ea240>]"
      ]
     },
     "execution_count": 4,
     "metadata": {},
     "output_type": "execute_result"
    },
    {
     "data": {
      "application/pdf": "[encoded data removed]",
      "text/plain": [
       "<Figure size 2400x2400 with 1 Axes>"
      ]
     },
     "metadata": {},
     "output_type": "display_data"
    }
   ],
   "source": [
    "import numpy as np\n",
    "import matplotlib.pyplot as plt\n",
    "from matplotlib.ticker import AutoMinorLocator, MultipleLocator, FuncFormatter\n",
    "\n",
    "# Defintionsmenge und Funktion\n",
    "# ----------------------------\n",
    "a= -3.14 # untere x-Intervallgrenze \n",
    "b= 9.42 # obere x-Intervallgrenze\n",
    "c = -1.1# untere y-Intervallgrenze\n",
    "d = 1.1 # obere y-Intervallgrenze\n",
    "x = np.linspace(a, b,1000)\n",
    "y1= np.cos(x)\n",
    "# ----------------------------\n",
    "\n",
    "# Einstellung des Graphen\n",
    "fig=plt.figure(figsize=(8,8))\n",
    "ax= fig.add_subplot(1,1,1, aspect =1)\n",
    "\n",
    "# Definiton der Haupteinheiten, reele Zahlen ohne die 0 \n",
    "def major_tick(x, pos):\n",
    "    if x==0:\n",
    "        return \"\"\n",
    "    return int(x)\n",
    "\n",
    "# Achsenskalierung\n",
    "ax.xaxis.set_major_locator(MultipleLocator(1))\n",
    "ax.xaxis.set_minor_locator(AutoMinorLocator(2))\n",
    "ax.yaxis.set_major_locator(MultipleLocator(1))\n",
    "ax.yaxis.set_minor_locator(AutoMinorLocator(2))\n",
    "ax.xaxis.set_major_formatter(FuncFormatter(major_tick))\n",
    "ax.yaxis.set_major_formatter(FuncFormatter(major_tick))\n",
    "\n",
    "# Position der Achsen im Schaubild\n",
    "ax.spines[['top','right']].set_visible(False)\n",
    "ax.spines[['bottom','left']].set_position('zero')\n",
    "\n",
    "# Pfeile für die Achsen\n",
    "ax.plot((1),(0), ls=\"\", marker= \">\", ms=7, color=\"k\", transform=ax.get_yaxis_transform(), clip_on=False)\n",
    "ax.plot((0),(1), ls=\"\", marker= \"^\", ms=7, color=\"k\", transform=ax.get_xaxis_transform(), clip_on=False)\n",
    "\n",
    "# Achsenlänge und Beschriftung\n",
    "ax.set_xlim(a,b)\n",
    "ax.set_ylim(c, d)\n",
    "ax.set_xlabel(\"x\", loc=\"right\")\n",
    "ax.set_ylabel(\"f(x)\", loc=\"top\", rotation=0)\n",
    "\n",
    "# Kästchen\n",
    "ax.grid(linestyle=\"-\", which=\"major\",linewidth=0.7, zorder=-10)\n",
    "ax.grid(linestyle=\"-\", which=\"minor\",linewidth=0.5, zorder=-10)\n",
    "\n",
    "# Plot der Funktion\n",
    "ax.plot(x,y1, zorder=10)\n",
    "#plt.show()"
   ]
  },
  {
   "cell_type": "markdown",
   "metadata": {
    "slideshow": {
     "slide_type": "slide"
    }
   },
   "source": [
    "#### Verschieben der Sinusfunktion entlang der y-Achse\n",
    "\n",
    "Funktionsgleichung:\n",
    "\n",
    "$$\n",
    "f(x)=\\sin(x)+d\n",
    "$$\n"
   ]
  },
  {
   "cell_type": "markdown",
   "metadata": {
    "slideshow": {
     "slide_type": "fragment"
    }
   },
   "source": [
    "##### Beipsiel\n",
    "$$\n",
    "f(x)= \\sin(x)-2\n",
    "$$\n"
   ]
  },
  {
   "cell_type": "code",
   "execution_count": 5,
   "metadata": {
    "slideshow": {
     "slide_type": "slide"
    }
   },
   "outputs": [
    {
     "data": {
      "text/plain": [
       "[<matplotlib.lines.Line2D at 0x116cca180>]"
      ]
     },
     "execution_count": 5,
     "metadata": {},
     "output_type": "execute_result"
    },
    {
     "data": {
      "application/pdf": "[encoded data removed]",
      "text/plain": [
       "<Figure size 2400x2400 with 1 Axes>"
      ]
     },
     "metadata": {},
     "output_type": "display_data"
    }
   ],
   "source": [
    "import numpy as np\n",
    "import matplotlib.pyplot as plt\n",
    "from matplotlib.ticker import AutoMinorLocator, MultipleLocator, FuncFormatter, FormatStrFormatter\n",
    "\n",
    "# Defintionsmenge und Funktion\n",
    "# ----------------------------\n",
    "a= -np.pi # untere Intervallgrenze \n",
    "b= 3*np.pi # obere Intervallgrenze\n",
    "c = -3.1 #untere y-Intervallgrenze\n",
    "d = 1.1 # obere y-Intervallgrenze\n",
    "x = np.linspace(a, b,1000)\n",
    "y1= np.sin(x)\n",
    "y2=np.sin(x)-2\n",
    "# ----------------------------\n",
    "\n",
    "# Einstellung des Graphen\n",
    "fig=plt.figure(figsize=(8,8))\n",
    "ax = fig.add_subplot(1,1,1, aspect=1)\n",
    "\n",
    "# Beschrifung der y-Achsenskala\n",
    "def major_ytick(x, pos):\n",
    "    if x==0:\n",
    "        return \"\"\n",
    "    return int(x)\n",
    "# Beschriftung der x-Achsenskala\n",
    "def major_xtick(x, pos):\n",
    "    if x==0:\n",
    "        return \"\"\n",
    "    if x%np.pi==0:\n",
    "        if x/np.pi == 1:\n",
    "            return(r\"$\\pi$\")\n",
    "        if x/np.pi == -1:\n",
    "            return (r\"$-\\pi$\")\n",
    "        return (str(int(x/np.pi)) +r\"$\\pi$\")\n",
    "    if 2*x%np.pi == 0:\n",
    "        return (r\"$\\frac{s1}{2}\\pi$\".replace('s1', str(int(2*x/np.pi))))\n",
    "    return \"\"\n",
    "\n",
    "# Achsenskalierung\n",
    "ax.xaxis.set_major_locator(plt.MultipleLocator(np.pi/2))\n",
    "ax.xaxis.set_minor_locator(plt.MultipleLocator(np.pi/4))\n",
    "ax.yaxis.set_major_locator(MultipleLocator(1))\n",
    "ax.yaxis.set_minor_locator(AutoMinorLocator(2))\n",
    "ax.xaxis.set_major_formatter(FuncFormatter(major_xtick))\n",
    "ax.yaxis.set_major_formatter(FuncFormatter(major_ytick))\n",
    "\n",
    "# Position der Achsen im Schaubild\n",
    "ax.spines[['top','right']].set_visible(False)\n",
    "ax.spines[['bottom','left']].set_position('zero')\n",
    "\n",
    "# Pfeile für die Achsen\n",
    "ax.plot((1),(0), ls=\"\", marker= \">\", ms=7, color=\"k\", transform=ax.get_yaxis_transform(), clip_on=False)\n",
    "ax.plot((0),(1), ls=\"\", marker= \"^\", ms=7, color=\"k\", transform=ax.get_xaxis_transform(), clip_on=False)\n",
    "\n",
    "# Achsenlänge und Beschriftung\n",
    "ax.set_xlim(a,b)\n",
    "ax.set_ylim(c, d)\n",
    "ax.set_xlabel(\"x\", loc=\"right\")\n",
    "ax.set_ylabel(\"f(x)\", loc=\"top\", rotation=0)\n",
    "\n",
    "# Kästchen\n",
    "ax.grid(linestyle=\"-\", which=\"major\",linewidth=0.7, zorder=-10)\n",
    "ax.grid(linestyle=\"-\", which=\"minor\",linewidth=0.5, zorder=-10)\n",
    "\n",
    "# Plot der Funktion\n",
    "ax.plot(x,y1, zorder=10)\n",
    "ax.plot(x,y2, zorder=10)\n",
    "#plt.show()"
   ]
  },
  {
   "cell_type": "markdown",
   "metadata": {
    "slideshow": {
     "slide_type": "slide"
    }
   },
   "source": [
    "#### Verschieben entlang der x-Achse\n",
    "\n",
    "Funktionsgleichung:\n",
    "\n",
    "$$\n",
    "f(x)=\\sin(x-c)\n",
    "$$"
   ]
  },
  {
   "cell_type": "markdown",
   "metadata": {
    "slideshow": {
     "slide_type": "fragment"
    }
   },
   "source": [
    "##### Beipsiel\n",
    "$$\n",
    "f(x)= \\sin(x-1)\n",
    "$$\n"
   ]
  },
  {
   "cell_type": "code",
   "execution_count": 6,
   "metadata": {
    "slideshow": {
     "slide_type": "slide"
    }
   },
   "outputs": [
    {
     "data": {
      "text/plain": [
       "[<matplotlib.lines.Line2D at 0x1172e8410>]"
      ]
     },
     "execution_count": 6,
     "metadata": {},
     "output_type": "execute_result"
    },
    {
     "data": {
      "application/pdf": "[encoded data removed]",
      "text/plain": [
       "<Figure size 2400x2400 with 1 Axes>"
      ]
     },
     "metadata": {},
     "output_type": "display_data"
    }
   ],
   "source": [
    "import numpy as np\n",
    "import matplotlib.pyplot as plt\n",
    "from matplotlib.ticker import AutoMinorLocator, MultipleLocator, FuncFormatter, FormatStrFormatter\n",
    "\n",
    "# Defintionsmenge und Funktion\n",
    "# ----------------------------\n",
    "a= -np.pi # untere Intervallgrenze \n",
    "b= 3*np.pi # obere Intervallgrenze\n",
    "c = -1.1 #untere y-Intervallgrenze\n",
    "d = 1.1 # obere y-Intervallgrenze\n",
    "x = np.linspace(a, b,1000)\n",
    "y1= np.sin(x)\n",
    "y2=np.sin(x-1)\n",
    "# ----------------------------\n",
    "\n",
    "# Einstellung des Graphen\n",
    "fig=plt.figure(figsize=(8,8))\n",
    "ax = fig.add_subplot(1,1,1, aspect=1)\n",
    "\n",
    "# Beschrifung der y-Achsenskala\n",
    "def major_ytick(x, pos):\n",
    "    if x==0:\n",
    "        return \"\"\n",
    "    return int(x)\n",
    "# Beschriftung der x-Achsenskala\n",
    "def major_xtick(x, pos):\n",
    "    if x==0:\n",
    "        return \"\"\n",
    "    if x%np.pi==0:\n",
    "        if x/np.pi == 1:\n",
    "            return(r\"$\\pi$\")\n",
    "        if x/np.pi == -1:\n",
    "            return (r\"$-\\pi$\")\n",
    "        return (str(int(x/np.pi)) +r\"$\\pi$\")\n",
    "    if 2*x%np.pi == 0:\n",
    "        return (r\"$\\frac{s1}{2}\\pi$\".replace('s1', str(int(2*x/np.pi))))\n",
    "    return \"\"\n",
    "\n",
    "# Achsenskalierung\n",
    "ax.xaxis.set_major_locator(plt.MultipleLocator(np.pi/2))\n",
    "ax.xaxis.set_minor_locator(plt.MultipleLocator(np.pi/4))\n",
    "ax.yaxis.set_major_locator(MultipleLocator(1))\n",
    "ax.yaxis.set_minor_locator(AutoMinorLocator(2))\n",
    "ax.xaxis.set_major_formatter(FuncFormatter(major_xtick))\n",
    "ax.yaxis.set_major_formatter(FuncFormatter(major_ytick))\n",
    "\n",
    "# Position der Achsen im Schaubild\n",
    "ax.spines[['top','right']].set_visible(False)\n",
    "ax.spines[['bottom','left']].set_position('zero')\n",
    "\n",
    "# Pfeile für die Achsen\n",
    "ax.plot((1),(0), ls=\"\", marker= \">\", ms=7, color=\"k\", transform=ax.get_yaxis_transform(), clip_on=False)\n",
    "ax.plot((0),(1), ls=\"\", marker= \"^\", ms=7, color=\"k\", transform=ax.get_xaxis_transform(), clip_on=False)\n",
    "\n",
    "# Achsenlänge und Beschriftung\n",
    "ax.set_xlim(a,b)\n",
    "ax.set_ylim(c, d)\n",
    "ax.set_xlabel(\"x\", loc=\"right\")\n",
    "ax.set_ylabel(\"f(x)\", loc=\"top\", rotation=0)\n",
    "\n",
    "# Kästchen\n",
    "ax.grid(linestyle=\"-\", which=\"major\",linewidth=0.7, zorder=-10)\n",
    "ax.grid(linestyle=\"-\", which=\"minor\",linewidth=0.5, zorder=-10)\n",
    "\n",
    "# Plot der Funktion\n",
    "ax.plot(x,y1, zorder=10)\n",
    "ax.plot(x,y2, zorder=10)\n",
    "#plt.show()"
   ]
  },
  {
   "cell_type": "markdown",
   "metadata": {
    "slideshow": {
     "slide_type": "slide"
    }
   },
   "source": [
    "##### Beobachtung\n",
    "$$\n",
    "f(x)=\\sin(x-2\\cdot \\pi)=\\sin(x+2\\cdot \\pi )=\\cos(x)\n",
    "$$"
   ]
  },
  {
   "cell_type": "code",
   "execution_count": 7,
   "metadata": {
    "slideshow": {
     "slide_type": "fragment"
    }
   },
   "outputs": [
    {
     "data": {
      "text/plain": [
       "[<matplotlib.lines.Line2D at 0x11738a990>]"
      ]
     },
     "execution_count": 7,
     "metadata": {},
     "output_type": "execute_result"
    },
    {
     "data": {
      "application/pdf": "[encoded data removed]",
      "text/plain": [
       "<Figure size 2400x2400 with 1 Axes>"
      ]
     },
     "metadata": {},
     "output_type": "display_data"
    }
   ],
   "source": [
    "import numpy as np\n",
    "import matplotlib.pyplot as plt\n",
    "from matplotlib.ticker import AutoMinorLocator, MultipleLocator, FuncFormatter, FormatStrFormatter\n",
    "\n",
    "# Defintionsmenge und Funktion\n",
    "# ----------------------------\n",
    "a= -np.pi # untere Intervallgrenze \n",
    "b= 3*np.pi # obere Intervallgrenze\n",
    "c = -1.1 #untere y-Intervallgrenze\n",
    "d = 1.1 # obere y-Intervallgrenze\n",
    "x = np.linspace(a, b,1000)\n",
    "y1= np.sin(x)\n",
    "y2=np.sin(x-2*np.pi)\n",
    "# ----------------------------\n",
    "\n",
    "# Einstellung des Graphen\n",
    "fig=plt.figure(figsize=(8,8))\n",
    "ax = fig.add_subplot(1,1,1, aspect=1)\n",
    "\n",
    "# Beschrifung der y-Achsenskala\n",
    "def major_ytick(x, pos):\n",
    "    if x==0:\n",
    "        return \"\"\n",
    "    return int(x)\n",
    "# Beschriftung der x-Achsenskala\n",
    "def major_xtick(x, pos):\n",
    "    if x==0:\n",
    "        return \"\"\n",
    "    if x%np.pi==0:\n",
    "        if x/np.pi == 1:\n",
    "            return(r\"$\\pi$\")\n",
    "        if x/np.pi == -1:\n",
    "            return (r\"$-\\pi$\")\n",
    "        return (str(int(x/np.pi)) +r\"$\\pi$\")\n",
    "    if 2*x%np.pi == 0:\n",
    "        return (r\"$\\frac{s1}{2}\\pi$\".replace('s1', str(int(2*x/np.pi))))\n",
    "    return \"\"\n",
    "\n",
    "# Achsenskalierung\n",
    "ax.xaxis.set_major_locator(plt.MultipleLocator(np.pi/2))\n",
    "ax.xaxis.set_minor_locator(plt.MultipleLocator(np.pi/4))\n",
    "ax.yaxis.set_major_locator(MultipleLocator(1))\n",
    "ax.yaxis.set_minor_locator(AutoMinorLocator(2))\n",
    "ax.xaxis.set_major_formatter(FuncFormatter(major_xtick))\n",
    "ax.yaxis.set_major_formatter(FuncFormatter(major_ytick))\n",
    "\n",
    "# Position der Achsen im Schaubild\n",
    "ax.spines[['top','right']].set_visible(False)\n",
    "ax.spines[['bottom','left']].set_position('zero')\n",
    "\n",
    "# Pfeile für die Achsen\n",
    "ax.plot((1),(0), ls=\"\", marker= \">\", ms=7, color=\"k\", transform=ax.get_yaxis_transform(), clip_on=False)\n",
    "ax.plot((0),(1), ls=\"\", marker= \"^\", ms=7, color=\"k\", transform=ax.get_xaxis_transform(), clip_on=False)\n",
    "\n",
    "# Achsenlänge und Beschriftung\n",
    "ax.set_xlim(a,b)\n",
    "ax.set_ylim(c, d)\n",
    "ax.set_xlabel(\"x\", loc=\"right\")\n",
    "ax.set_ylabel(\"f(x)\", loc=\"top\", rotation=0)\n",
    "\n",
    "# Kästchen\n",
    "ax.grid(linestyle=\"-\", which=\"major\",linewidth=0.7, zorder=-10)\n",
    "ax.grid(linestyle=\"-\", which=\"minor\",linewidth=0.5, zorder=-10)\n",
    "\n",
    "# Plot der Funktion\n",
    "ax.plot(x,y1, zorder=10)\n",
    "ax.plot(x,y2, zorder=10)\n",
    "#plt.show()"
   ]
  },
  {
   "cell_type": "markdown",
   "metadata": {
    "slideshow": {
     "slide_type": "slide"
    }
   },
   "source": [
    "#### Strecken / Stauchen\n",
    "\n",
    "Funktionsgleichung:\n",
    "$$\n",
    "f(x)=a\\cdot \\sin(x)\n",
    "$$\n",
    "$a$ nennt man Amplitude (=Ausschlag)"
   ]
  },
  {
   "cell_type": "markdown",
   "metadata": {
    "slideshow": {
     "slide_type": "fragment"
    }
   },
   "source": [
    "##### Beipsiel\n",
    "$$\n",
    "f(x)= 3\\cdot \\sin(x)\n",
    "$$"
   ]
  },
  {
   "cell_type": "code",
   "execution_count": 8,
   "metadata": {
    "slideshow": {
     "slide_type": "slide"
    }
   },
   "outputs": [
    {
     "data": {
      "text/plain": [
       "[<matplotlib.lines.Line2D at 0x1174c9c40>]"
      ]
     },
     "execution_count": 8,
     "metadata": {},
     "output_type": "execute_result"
    },
    {
     "data": {
      "application/pdf": "[encoded data removed]",
      "text/plain": [
       "<Figure size 2400x2400 with 1 Axes>"
      ]
     },
     "metadata": {},
     "output_type": "display_data"
    }
   ],
   "source": [
    "import numpy as np\n",
    "import matplotlib.pyplot as plt\n",
    "from matplotlib.ticker import AutoMinorLocator, MultipleLocator, FuncFormatter, FormatStrFormatter\n",
    "\n",
    "# Defintionsmenge und Funktion\n",
    "# ----------------------------\n",
    "a= -np.pi # untere Intervallgrenze \n",
    "b= 3*np.pi # obere Intervallgrenze\n",
    "c = -3.1 #untere y-Intervallgrenze\n",
    "d = 3.1 # obere y-Intervallgrenze\n",
    "x = np.linspace(a, b,1000)\n",
    "y1= np.sin(x)\n",
    "y2=3*np.sin(x)\n",
    "# ----------------------------\n",
    "\n",
    "# Einstellung des Graphen\n",
    "fig=plt.figure(figsize=(8,8))\n",
    "ax = fig.add_subplot(1,1,1, aspect=1)\n",
    "\n",
    "# Beschrifung der y-Achsenskala\n",
    "def major_ytick(x, pos):\n",
    "    if x==0:\n",
    "        return \"\"\n",
    "    return int(x)\n",
    "# Beschriftung der x-Achsenskala\n",
    "def major_xtick(x, pos):\n",
    "    if x==0:\n",
    "        return \"\"\n",
    "    if x%np.pi==0:\n",
    "        if x/np.pi == 1:\n",
    "            return(r\"$\\pi$\")\n",
    "        if x/np.pi == -1:\n",
    "            return (r\"$-\\pi$\")\n",
    "        return (str(int(x/np.pi)) +r\"$\\pi$\")\n",
    "    if 2*x%np.pi == 0:\n",
    "        return (r\"$\\frac{s1}{2}\\pi$\".replace('s1', str(int(2*x/np.pi))))\n",
    "    return \"\"\n",
    "\n",
    "# Achsenskalierung\n",
    "ax.xaxis.set_major_locator(plt.MultipleLocator(np.pi/2))\n",
    "ax.xaxis.set_minor_locator(plt.MultipleLocator(np.pi/4))\n",
    "ax.yaxis.set_major_locator(MultipleLocator(1))\n",
    "ax.yaxis.set_minor_locator(AutoMinorLocator(2))\n",
    "ax.xaxis.set_major_formatter(FuncFormatter(major_xtick))\n",
    "ax.yaxis.set_major_formatter(FuncFormatter(major_ytick))\n",
    "\n",
    "# Position der Achsen im Schaubild\n",
    "ax.spines[['top','right']].set_visible(False)\n",
    "ax.spines[['bottom','left']].set_position('zero')\n",
    "\n",
    "# Pfeile für die Achsen\n",
    "ax.plot((1),(0), ls=\"\", marker= \">\", ms=7, color=\"k\", transform=ax.get_yaxis_transform(), clip_on=False)\n",
    "ax.plot((0),(1), ls=\"\", marker= \"^\", ms=7, color=\"k\", transform=ax.get_xaxis_transform(), clip_on=False)\n",
    "\n",
    "# Achsenlänge und Beschriftung\n",
    "ax.set_xlim(a,b)\n",
    "ax.set_ylim(c, d)\n",
    "ax.set_xlabel(\"x\", loc=\"right\")\n",
    "ax.set_ylabel(\"f(x)\", loc=\"top\", rotation=0)\n",
    "\n",
    "# Kästchen\n",
    "ax.grid(linestyle=\"-\", which=\"major\",linewidth=0.7, zorder=-10)\n",
    "ax.grid(linestyle=\"-\", which=\"minor\",linewidth=0.5, zorder=-10)\n",
    "\n",
    "# Plot der Funktion\n",
    "ax.plot(x,y1, zorder=10)\n",
    "ax.plot(x,y2, zorder=10)\n",
    "#plt.show()"
   ]
  },
  {
   "cell_type": "markdown",
   "metadata": {
    "slideshow": {
     "slide_type": "slide"
    }
   },
   "source": [
    "#### Periode verändern\n",
    "\n",
    "Funktionsgleichung:\n",
    "$$\n",
    "f(x)=\\sin(b\\cdot x)\n",
    "$$\n",
    "$frac{1}{b}$ nennt man Periode "
   ]
  },
  {
   "cell_type": "markdown",
   "metadata": {
    "slideshow": {
     "slide_type": "fragment"
    }
   },
   "source": [
    "##### Beipsiel\n",
    "$$\n",
    "f(x)= \\sin(2\\cdot x)\n",
    "$$"
   ]
  },
  {
   "cell_type": "code",
   "execution_count": 9,
   "metadata": {
    "slideshow": {
     "slide_type": "slide"
    }
   },
   "outputs": [
    {
     "data": {
      "text/plain": [
       "[<matplotlib.lines.Line2D at 0x117570260>]"
      ]
     },
     "execution_count": 9,
     "metadata": {},
     "output_type": "execute_result"
    },
    {
     "data": {
      "application/pdf": "[encoded data removed]",
      "text/plain": [
       "<Figure size 2400x2400 with 1 Axes>"
      ]
     },
     "metadata": {},
     "output_type": "display_data"
    }
   ],
   "source": [
    "import numpy as np\n",
    "import matplotlib.pyplot as plt\n",
    "from matplotlib.ticker import AutoMinorLocator, MultipleLocator, FuncFormatter, FormatStrFormatter\n",
    "\n",
    "# Defintionsmenge und Funktion\n",
    "# ----------------------------\n",
    "a= -np.pi # untere Intervallgrenze \n",
    "b= 3*np.pi # obere Intervallgrenze\n",
    "c = -1.1 #untere y-Intervallgrenze\n",
    "d = 1.1 # obere y-Intervallgrenze\n",
    "x = np.linspace(a, b,1000)\n",
    "y1= np.sin(x)\n",
    "y2=np.sin(2*x)\n",
    "# ----------------------------\n",
    "\n",
    "# Einstellung des Graphen\n",
    "fig=plt.figure(figsize=(8,8))\n",
    "ax = fig.add_subplot(1,1,1, aspect=1)\n",
    "\n",
    "# Beschrifung der y-Achsenskala\n",
    "def major_ytick(x, pos):\n",
    "    if x==0:\n",
    "        return \"\"\n",
    "    return int(x)\n",
    "# Beschriftung der x-Achsenskala\n",
    "def major_xtick(x, pos):\n",
    "    if x==0:\n",
    "        return \"\"\n",
    "    if x%np.pi==0:\n",
    "        if x/np.pi == 1:\n",
    "            return(r\"$\\pi$\")\n",
    "        if x/np.pi == -1:\n",
    "            return (r\"$-\\pi$\")\n",
    "        return (str(int(x/np.pi)) +r\"$\\pi$\")\n",
    "    if 2*x%np.pi == 0:\n",
    "        return (r\"$\\frac{s1}{2}\\pi$\".replace('s1', str(int(2*x/np.pi))))\n",
    "    return \"\"\n",
    "\n",
    "# Achsenskalierung\n",
    "ax.xaxis.set_major_locator(plt.MultipleLocator(np.pi/2))\n",
    "ax.xaxis.set_minor_locator(plt.MultipleLocator(np.pi/4))\n",
    "ax.yaxis.set_major_locator(MultipleLocator(1))\n",
    "ax.yaxis.set_minor_locator(AutoMinorLocator(2))\n",
    "ax.xaxis.set_major_formatter(FuncFormatter(major_xtick))\n",
    "ax.yaxis.set_major_formatter(FuncFormatter(major_ytick))\n",
    "\n",
    "# Position der Achsen im Schaubild\n",
    "ax.spines[['top','right']].set_visible(False)\n",
    "ax.spines[['bottom','left']].set_position('zero')\n",
    "\n",
    "# Pfeile für die Achsen\n",
    "ax.plot((1),(0), ls=\"\", marker= \">\", ms=7, color=\"k\", transform=ax.get_yaxis_transform(), clip_on=False)\n",
    "ax.plot((0),(1), ls=\"\", marker= \"^\", ms=7, color=\"k\", transform=ax.get_xaxis_transform(), clip_on=False)\n",
    "\n",
    "# Achsenlänge und Beschriftung\n",
    "ax.set_xlim(a,b)\n",
    "ax.set_ylim(c, d)\n",
    "ax.set_xlabel(\"x\", loc=\"right\")\n",
    "ax.set_ylabel(\"f(x)\", loc=\"top\", rotation=0)\n",
    "\n",
    "# Kästchen\n",
    "ax.grid(linestyle=\"-\", which=\"major\",linewidth=0.7, zorder=-10)\n",
    "ax.grid(linestyle=\"-\", which=\"minor\",linewidth=0.5, zorder=-10)\n",
    "\n",
    "# Plot der Funktion\n",
    "ax.plot(x,y1, zorder=10)\n",
    "ax.plot(x,y2, zorder=10)\n",
    "#plt.show()"
   ]
  },
  {
   "cell_type": "markdown",
   "metadata": {
    "slideshow": {
     "slide_type": "slide"
    }
   },
   "source": [
    "##### Beipsiel\n",
    "$$\n",
    "f(x)= \\sin\\left(\\frac{1}{3}\\cdot x\\right)\n",
    "$$"
   ]
  },
  {
   "cell_type": "code",
   "execution_count": 10,
   "metadata": {
    "slideshow": {
     "slide_type": "fragment"
    }
   },
   "outputs": [
    {
     "data": {
      "text/plain": [
       "[<matplotlib.lines.Line2D at 0x11759bce0>]"
      ]
     },
     "execution_count": 10,
     "metadata": {},
     "output_type": "execute_result"
    },
    {
     "data": {
      "application/pdf": "[encoded data removed]",
      "text/plain": [
       "<Figure size 2400x2400 with 1 Axes>"
      ]
     },
     "metadata": {},
     "output_type": "display_data"
    }
   ],
   "source": [
    "import numpy as np\n",
    "import matplotlib.pyplot as plt\n",
    "from matplotlib.ticker import AutoMinorLocator, MultipleLocator, FuncFormatter, FormatStrFormatter\n",
    "\n",
    "# Defintionsmenge und Funktion\n",
    "# ----------------------------\n",
    "a= -np.pi # untere Intervallgrenze \n",
    "b= 6*np.pi # obere Intervallgrenze\n",
    "c = -1.1 #untere y-Intervallgrenze\n",
    "d = 1.1 # obere y-Intervallgrenze\n",
    "x = np.linspace(a, b,1000)\n",
    "y1= np.sin(x)\n",
    "y2=np.sin(1/3*x)\n",
    "# ----------------------------\n",
    "\n",
    "# Einstellung des Graphen\n",
    "fig=plt.figure(figsize=(8,8))\n",
    "ax = fig.add_subplot(1,1,1, aspect=1)\n",
    "\n",
    "# Beschrifung der y-Achsenskala\n",
    "def major_ytick(x, pos):\n",
    "    if x==0:\n",
    "        return \"\"\n",
    "    return int(x)\n",
    "# Beschriftung der x-Achsenskala\n",
    "def major_xtick(x, pos):\n",
    "    if x==0:\n",
    "        return \"\"\n",
    "    if x%np.pi==0:\n",
    "        if x/np.pi == 1:\n",
    "            return(r\"$\\pi$\")\n",
    "        if x/np.pi == -1:\n",
    "            return (r\"$-\\pi$\")\n",
    "        return (str(int(x/np.pi)) +r\"$\\pi$\")\n",
    "    if 2*x%np.pi == 0:\n",
    "        return (r\"$\\frac{s1}{2}\\pi$\".replace('s1', str(int(2*x/np.pi))))\n",
    "    return \"\"\n",
    "\n",
    "# Achsenskalierung\n",
    "ax.xaxis.set_major_locator(plt.MultipleLocator(np.pi/2))\n",
    "ax.xaxis.set_minor_locator(plt.MultipleLocator(np.pi/4))\n",
    "ax.yaxis.set_major_locator(MultipleLocator(1))\n",
    "ax.yaxis.set_minor_locator(AutoMinorLocator(2))\n",
    "ax.xaxis.set_major_formatter(FuncFormatter(major_xtick))\n",
    "ax.yaxis.set_major_formatter(FuncFormatter(major_ytick))\n",
    "\n",
    "# Position der Achsen im Schaubild\n",
    "ax.spines[['top','right']].set_visible(False)\n",
    "ax.spines[['bottom','left']].set_position('zero')\n",
    "\n",
    "# Pfeile für die Achsen\n",
    "ax.plot((1),(0), ls=\"\", marker= \">\", ms=7, color=\"k\", transform=ax.get_yaxis_transform(), clip_on=False)\n",
    "ax.plot((0),(1), ls=\"\", marker= \"^\", ms=7, color=\"k\", transform=ax.get_xaxis_transform(), clip_on=False)\n",
    "\n",
    "# Achsenlänge und Beschriftung\n",
    "ax.set_xlim(a,b)\n",
    "ax.set_ylim(c, d)\n",
    "ax.set_xlabel(\"x\", loc=\"right\")\n",
    "ax.set_ylabel(\"f(x)\", loc=\"top\", rotation=0)\n",
    "\n",
    "# Kästchen\n",
    "ax.grid(linestyle=\"-\", which=\"major\",linewidth=0.7, zorder=-10)\n",
    "ax.grid(linestyle=\"-\", which=\"minor\",linewidth=0.5, zorder=-10)\n",
    "\n",
    "# Plot der Funktion\n",
    "ax.plot(x,y1, zorder=10)\n",
    "ax.plot(x,y2, zorder=10)\n",
    "#plt.show()"
   ]
  },
  {
   "cell_type": "markdown",
   "metadata": {
    "slideshow": {
     "slide_type": "slide"
    }
   },
   "source": [
    "#### Spiegeln an der x-Achse\n",
    "Funktionsgleichung:\n",
    "$$\n",
    "f(x)=-\\sin(x) = \\sin(-x)\n",
    "$$ "
   ]
  },
  {
   "cell_type": "code",
   "execution_count": 11,
   "metadata": {
    "slideshow": {
     "slide_type": "slide"
    }
   },
   "outputs": [
    {
     "data": {
      "text/plain": [
       "[<matplotlib.lines.Line2D at 0x117573da0>]"
      ]
     },
     "execution_count": 11,
     "metadata": {},
     "output_type": "execute_result"
    },
    {
     "data": {
      "application/pdf": "[encoded data removed]",
      "text/plain": [
       "<Figure size 2400x2400 with 1 Axes>"
      ]
     },
     "metadata": {},
     "output_type": "display_data"
    }
   ],
   "source": [
    "import numpy as np\n",
    "import matplotlib.pyplot as plt\n",
    "from matplotlib.ticker import AutoMinorLocator, MultipleLocator, FuncFormatter, FormatStrFormatter\n",
    "\n",
    "# Defintionsmenge und Funktion\n",
    "# ----------------------------\n",
    "a= -np.pi # untere Intervallgrenze \n",
    "b= 2*np.pi # obere Intervallgrenze\n",
    "c = -1.1 #untere y-Intervallgrenze\n",
    "d = 1.1 # obere y-Intervallgrenze\n",
    "x = np.linspace(a, b,1000)\n",
    "y1= -np.sin(x)\n",
    "# ----------------------------\n",
    "\n",
    "# Einstellung des Graphen\n",
    "fig=plt.figure(figsize=(8,8))\n",
    "ax = fig.add_subplot(1,1,1, aspect=1)\n",
    "\n",
    "# Beschrifung der y-Achsenskala\n",
    "def major_ytick(x, pos):\n",
    "    if x==0:\n",
    "        return \"\"\n",
    "    return int(x)\n",
    "# Beschriftung der x-Achsenskala\n",
    "def major_xtick(x, pos):\n",
    "    if x==0:\n",
    "        return \"\"\n",
    "    if x%np.pi==0:\n",
    "        if x/np.pi == 1:\n",
    "            return(r\"$\\pi$\")\n",
    "        if x/np.pi == -1:\n",
    "            return (r\"$-\\pi$\")\n",
    "        return (str(int(x/np.pi)) +r\"$\\pi$\")\n",
    "    if 2*x%np.pi == 0:\n",
    "        return (r\"$\\frac{s1}{2}\\pi$\".replace('s1', str(int(2*x/np.pi))))\n",
    "    return \"\"\n",
    "\n",
    "# Achsenskalierung\n",
    "ax.xaxis.set_major_locator(plt.MultipleLocator(np.pi/2))\n",
    "ax.xaxis.set_minor_locator(plt.MultipleLocator(np.pi/4))\n",
    "ax.yaxis.set_major_locator(MultipleLocator(1))\n",
    "ax.yaxis.set_minor_locator(AutoMinorLocator(2))\n",
    "ax.xaxis.set_major_formatter(FuncFormatter(major_xtick))\n",
    "ax.yaxis.set_major_formatter(FuncFormatter(major_ytick))\n",
    "\n",
    "# Position der Achsen im Schaubild\n",
    "ax.spines[['top','right']].set_visible(False)\n",
    "ax.spines[['bottom','left']].set_position('zero')\n",
    "\n",
    "# Pfeile für die Achsen\n",
    "ax.plot((1),(0), ls=\"\", marker= \">\", ms=7, color=\"k\", transform=ax.get_yaxis_transform(), clip_on=False)\n",
    "ax.plot((0),(1), ls=\"\", marker= \"^\", ms=7, color=\"k\", transform=ax.get_xaxis_transform(), clip_on=False)\n",
    "\n",
    "# Achsenlänge und Beschriftung\n",
    "ax.set_xlim(a,b)\n",
    "ax.set_ylim(c, d)\n",
    "ax.set_xlabel(\"x\", loc=\"right\")\n",
    "ax.set_ylabel(\"f(x)\", loc=\"top\", rotation=0)\n",
    "\n",
    "# Kästchen\n",
    "ax.grid(linestyle=\"-\", which=\"major\",linewidth=0.7, zorder=-10)\n",
    "ax.grid(linestyle=\"-\", which=\"minor\",linewidth=0.5, zorder=-10)\n",
    "\n",
    "# Plot der Funktion\n",
    "ax.plot(x,y1, zorder=10)\n",
    "#plt.show()"
   ]
  },
  {
   "cell_type": "code",
   "execution_count": 12,
   "metadata": {
    "slideshow": {
     "slide_type": "fragment"
    }
   },
   "outputs": [
    {
     "data": {
      "text/plain": [
       "[<matplotlib.lines.Line2D at 0x11773a480>]"
      ]
     },
     "execution_count": 12,
     "metadata": {},
     "output_type": "execute_result"
    },
    {
     "data": {
      "application/pdf": "[encoded data removed]",
      "text/plain": [
       "<Figure size 2400x2400 with 1 Axes>"
      ]
     },
     "metadata": {},
     "output_type": "display_data"
    }
   ],
   "source": [
    "import numpy as np\n",
    "import matplotlib.pyplot as plt\n",
    "from matplotlib.ticker import AutoMinorLocator, MultipleLocator, FuncFormatter, FormatStrFormatter\n",
    "\n",
    "# Defintionsmenge und Funktion\n",
    "# ----------------------------\n",
    "a= -np.pi # untere Intervallgrenze \n",
    "b= 2*np.pi # obere Intervallgrenze\n",
    "c = -1.1 #untere y-Intervallgrenze\n",
    "d = 1.1 # obere y-Intervallgrenze\n",
    "x = np.linspace(a, b,1000)\n",
    "y1= np.sin(-x)\n",
    "# ----------------------------\n",
    "\n",
    "# Einstellung des Graphen\n",
    "fig=plt.figure(figsize=(8,8))\n",
    "ax = fig.add_subplot(1,1,1, aspect=1)\n",
    "\n",
    "# Beschrifung der y-Achsenskala\n",
    "def major_ytick(x, pos):\n",
    "    if x==0:\n",
    "        return \"\"\n",
    "    return int(x)\n",
    "# Beschriftung der x-Achsenskala\n",
    "def major_xtick(x, pos):\n",
    "    if x==0:\n",
    "        return \"\"\n",
    "    if x%np.pi==0:\n",
    "        if x/np.pi == 1:\n",
    "            return(r\"$\\pi$\")\n",
    "        if x/np.pi == -1:\n",
    "            return (r\"$-\\pi$\")\n",
    "        return (str(int(x/np.pi)) +r\"$\\pi$\")\n",
    "    if 2*x%np.pi == 0:\n",
    "        return (r\"$\\frac{s1}{2}\\pi$\".replace('s1', str(int(2*x/np.pi))))\n",
    "    return \"\"\n",
    "\n",
    "# Achsenskalierung\n",
    "ax.xaxis.set_major_locator(plt.MultipleLocator(np.pi/2))\n",
    "ax.xaxis.set_minor_locator(plt.MultipleLocator(np.pi/4))\n",
    "ax.yaxis.set_major_locator(MultipleLocator(1))\n",
    "ax.yaxis.set_minor_locator(AutoMinorLocator(2))\n",
    "ax.xaxis.set_major_formatter(FuncFormatter(major_xtick))\n",
    "ax.yaxis.set_major_formatter(FuncFormatter(major_ytick))\n",
    "\n",
    "# Position der Achsen im Schaubild\n",
    "ax.spines[['top','right']].set_visible(False)\n",
    "ax.spines[['bottom','left']].set_position('zero')\n",
    "\n",
    "# Pfeile für die Achsen\n",
    "ax.plot((1),(0), ls=\"\", marker= \">\", ms=7, color=\"k\", transform=ax.get_yaxis_transform(), clip_on=False)\n",
    "ax.plot((0),(1), ls=\"\", marker= \"^\", ms=7, color=\"k\", transform=ax.get_xaxis_transform(), clip_on=False)\n",
    "\n",
    "# Achsenlänge und Beschriftung\n",
    "ax.set_xlim(a,b)\n",
    "ax.set_ylim(c, d)\n",
    "ax.set_xlabel(\"x\", loc=\"right\")\n",
    "ax.set_ylabel(\"f(x)\", loc=\"top\", rotation=0)\n",
    "\n",
    "# Kästchen\n",
    "ax.grid(linestyle=\"-\", which=\"major\",linewidth=0.7, zorder=-10)\n",
    "ax.grid(linestyle=\"-\", which=\"minor\",linewidth=0.5, zorder=-10)\n",
    "\n",
    "# Plot der Funktion\n",
    "ax.plot(x,y1, zorder=10)\n",
    "#plt.show()"
   ]
  },
  {
   "cell_type": "code",
   "execution_count": 13,
   "metadata": {},
   "outputs": [],
   "source": []
  }
 ],
 "metadata": {
  "kernelspec": {
   "display_name": "Python 3",
   "language": "python",
   "name": "python3"
  },
  "language_info": {
   "codemirror_mode": {
    "name": "ipython",
    "version": 3
   },
   "file_extension": ".py",
   "mimetype": "text/x-python",
   "name": "python",
   "nbconvert_exporter": "python",
   "pygments_lexer": "ipython3",
   "version": "3.12.1"
  }
 },
 "nbformat": 4,
 "nbformat_minor": 2
}
