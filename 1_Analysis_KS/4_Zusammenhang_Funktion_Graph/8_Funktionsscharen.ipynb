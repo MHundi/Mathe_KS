{
 "cells": [
  {
   "cell_type": "raw",
   "metadata": {},
   "source": [
    "---\n",
    "title: \"\"\n",
    "date: today\n",
    "format:\n",
    "    pdf:\n",
    "      papersize: a4\n",
    "execute: \n",
    "  enabled: true\n",
    "  echo: false\n",
    "Juypter: python3\n",
    "\n",
    "format:\n",
    "  beamer:\n",
    "    aspectratio: 169\n",
    "    navigation: horizontal\n",
    "    theme: Singapore\n",
    "    colortheme: orchid\n",
    "    toc: false\n",
    "---"
   ]
  },
  {
   "cell_type": "markdown",
   "metadata": {
    "slideshow": {
     "slide_type": "slide"
    }
   },
   "source": [
    "## 8. Funktionenscharen"
   ]
  },
  {
   "cell_type": "markdown",
   "metadata": {
    "slideshow": {
     "slide_type": "slide"
    }
   },
   "source": [
    "#### Bemerkung:\n",
    "\n",
    "Funktionenscharen lassen sich analog den Funktionen, auf ihre chrakteristische Eigenschaften untersuchen.\n",
    "Abhängig vom Parameter bleiben dabei:\n",
    "\n",
    "- Schnittpunkte mit den Koordinatenachsen\n",
    "- Extrempunkte\n",
    "- Wendepunkte\n",
    "- Symmetrie\n",
    "\n",
    "Unabhängig von t sind gemeinsame Punkte der Funktionenschar.\n",
    "\n",
    "\n"
   ]
  },
  {
   "cell_type": "markdown",
   "metadata": {
    "slideshow": {
     "slide_type": "slide"
    }
   },
   "source": [
    "#### Beispiel: $f_(x)=ax^4+x^3, \\quad a \\neq 0$\n",
    "\n",
    "1. Untersuchen Sie, ob alle Graphen duch den Ursprung verlaufen.\n",
    "\n",
    "$$\n",
    "f_a(0)= 0\n",
    "$$\n",
    "Die Lösung ist unabhänig von a und alle Graphen gehen durch den Punkt O(0|0)."
   ]
  },
  {
   "cell_type": "markdown",
   "metadata": {
    "slideshow": {
     "slide_type": "slide"
    }
   },
   "source": [
    "\n",
    "2. Bestimmen Sie $a$ so, dass $\\int\\limits_{-a}^{a} f_a(x)dx = a$ gilt.\n",
    "\n",
    "$$\n",
    "\\begin{aligned}\n",
    "\\int\\limits_{-a}^{a} f_a(x)dx &= \\left[\\frac{1}{5}ax^5+\\frac{1}{4}x^4  \\right]_{-a}^a\\\\\n",
    "&= \\frac{1}{5}a\\cdot a^5 + \\frac{1}{4}a^4-\\left( \\frac{1}{5}a\\cdot (-a)^5 + \\frac{1}{4}(-a^)4\\right)\\\\\n",
    "&= \\frac{1}{5}a^6 + \\frac{1}{4}a^4 -\\left(- \\frac{1}{5}a^6+\\frac{1}{4}a^4\\right)\\\\\n",
    "&=\\frac{2}{5}a^6\\\\\n",
    "\\end{aligned}\n",
    "$$\n"
   ]
  },
  {
   "cell_type": "markdown",
   "metadata": {
    "slideshow": {
     "slide_type": "slide"
    }
   },
   "source": [
    "\n",
    "$$\n",
    "\\begin{aligned}\n",
    "\\text{Damit ergibt sich für } a>0:\\\\\n",
    "\\frac{2}{5}a^6 &=a\\quad |:a\\\\\n",
    "\\frac{2}{5}a^5 &= 1\\\\\n",
    "a^5 &=\\frac{5}{2}\\\\\n",
    "a_1 &=\\sqrt[5]{\\frac{5}{2}} \n",
    "\\end{aligned}\n",
    "$$"
   ]
  },
  {
   "cell_type": "markdown",
   "metadata": {
    "slideshow": {
     "slide_type": "slide"
    }
   },
   "source": [
    "$$\n",
    "\\begin{aligned}\n",
    "\\text{Damit ergibt sich für }a <0:\\\\\n",
    "\\frac{2}{5}a^6 &=a\\quad |:a\\\\\n",
    "\\frac{2}{5}a^5 &= 1\\\\\n",
    "a^5 &=\\frac{5}{2}\\\\\n",
    "a_2 &=-\\sqrt[5]{\\frac{5}{2}} \\\\\n",
    "\\end{aligned}\n",
    "$$"
   ]
  },
  {
   "cell_type": "markdown",
   "metadata": {
    "slideshow": {
     "slide_type": "slide"
    }
   },
   "source": [
    "3. Bestimmen Sie die Art des Extremums von $f_a$\n",
    "\n",
    "$$\n",
    "\\begin{aligned}\n",
    "\\text{1. not. Bed: } f_a'(x) &=0\\\\\n",
    "f'_a(x) &= 4ax^3+3x^2 = 0\\\\\n",
    "&= x^2(4ax+3) = 0\\\\\n",
    "x_1 &= 0 \\text{ und } x_2 = -\\frac{3}{4a}\\\\\n",
    "\\end{aligned}\n",
    "$$"
   ]
  },
  {
   "cell_type": "markdown",
   "metadata": {
    "slideshow": {
     "slide_type": "slide"
    }
   },
   "source": [
    "$$\n",
    "\\begin{aligned}\n",
    "\\text{2. hin. Bed: } f_a''(x) &\\neq 0\\\\\n",
    "f''_a(x) &= 12ax^2+6x\\\\\\\\\n",
    "\\text{Für }x_1= 0\\\\\n",
    "f''_a(0) &= 0\\quad && \\Rightarrow  \\text{Keine Aussage möglich}\\\\\n",
    "& && f' \\text{ macht auch keinen Vorzeichenwechsel bei } x_1=0\\\\\n",
    "& && \\Rightarrow  \\text{Sattelstelle}\\\\\\\\\n",
    "\\end{aligned}\n",
    "$$"
   ]
  },
  {
   "cell_type": "markdown",
   "metadata": {
    "slideshow": {
     "slide_type": "slide"
    }
   },
   "source": [
    "$$\n",
    "\\begin{aligned}\n",
    "\\text{Für }x_2= -\\frac{3}{4a}\\\\\n",
    "f_a''\\left(-\\frac{3}{4a}\\right) &= \\frac{108a}{16a^2}-\\frac{18}{4a} = \\frac{9}{4a}\\\\\n",
    "\\text{Für } a>0 \\text{ gilt: lokales Minimum bei } x_2 &=-\\frac{3}{4a}\\\\\n",
    "\\text{Für } a<0 \\text{ gilt: lokales Maximum bei } x_2 &=-\\frac{3}{4a}\\\\\n",
    "\\end{aligned}\n",
    "$$"
   ]
  },
  {
   "cell_type": "markdown",
   "metadata": {
    "slideshow": {
     "slide_type": "slide"
    }
   },
   "source": [
    "4. Schaubild von $f_1$, $f_{{-1}}$, $f_{-\\frac{1}{2}}$ und $f_2$"
   ]
  },
  {
   "cell_type": "code",
   "execution_count": 1,
   "metadata": {
    "slideshow": {
     "slide_type": "slide"
    }
   },
   "outputs": [
    {
     "data": {
      "text/plain": [
       "<matplotlib.legend.Legend at 0x107842ab0>"
      ]
     },
     "execution_count": 1,
     "metadata": {},
     "output_type": "execute_result"
    },
    {
     "data": {
      "application/pdf": "[encoded data removed]",
      "text/plain": [
       "<Figure size 1800x1800 with 1 Axes>"
      ]
     },
     "metadata": {},
     "output_type": "display_data"
    }
   ],
   "source": [
    "import numpy as np\n",
    "import matplotlib.pyplot as plt\n",
    "from matplotlib.ticker import AutoMinorLocator, MultipleLocator, FuncFormatter\n",
    "\n",
    "# Defintionsmenge und Funktion\n",
    "# ----------------------------\n",
    "a= -5.1 # untere x-Intervallgrenze \n",
    "b= 5.1 # obere x-Intervallgrenze\n",
    "c = -5.1# untere y-Intervallgrenze\n",
    "d = 5.1 # obere y-Intervallgrenze\n",
    "x = np.linspace(a, b,1000)\n",
    "y1= x**4+x**3\n",
    "y2= -0.5*x**4 + x**3\n",
    "y3= 2*x**4+x**3\n",
    "y4= -x**4+x**3\n",
    "# ----------------------------\n",
    "\n",
    "# Einstellung des Graphen\n",
    "fig=plt.figure(figsize=(6,6))\n",
    "ax= fig.add_subplot(1,1,1, aspect =1)\n",
    "\n",
    "# Definiton der Haupteinheiten, reele Zahlen ohne die 0 \n",
    "def major_tick(x, pos):\n",
    "    if x==0:\n",
    "        return \"\"\n",
    "    return int(x)\n",
    "\n",
    "# Achsenskalierung\n",
    "ax.xaxis.set_major_locator(MultipleLocator(1))\n",
    "ax.xaxis.set_minor_locator(AutoMinorLocator(2))\n",
    "ax.yaxis.set_major_locator(MultipleLocator(1))\n",
    "ax.yaxis.set_minor_locator(AutoMinorLocator(2))\n",
    "ax.xaxis.set_major_formatter(FuncFormatter(major_tick))\n",
    "ax.yaxis.set_major_formatter(FuncFormatter(major_tick))\n",
    "\n",
    "# Position der Achsen im Schaubild\n",
    "ax.spines[['top','right']].set_visible(False)\n",
    "ax.spines[['bottom','left']].set_position('zero')\n",
    "\n",
    "# Pfeile für die Achsen\n",
    "ax.plot((1),(0), ls=\"\", marker= \">\", ms=7, color=\"k\", transform=ax.get_yaxis_transform(), clip_on=False)\n",
    "ax.plot((0),(1), ls=\"\", marker= \"^\", ms=7, color=\"k\", transform=ax.get_xaxis_transform(), clip_on=False)\n",
    "\n",
    "# Achsenlänge und Beschriftung\n",
    "ax.set_xlim(a,b)\n",
    "ax.set_ylim(c, d)\n",
    "ax.set_xlabel(\"x\", loc=\"right\")\n",
    "ax.set_ylabel(\"f(x)\", loc=\"top\", rotation=0)\n",
    "\n",
    "# Kästchen\n",
    "ax.grid(linestyle=\"-\", which=\"major\",linewidth=0.7, zorder=-10)\n",
    "ax.grid(linestyle=\"-\", which=\"minor\",linewidth=0.5, zorder=-10)\n",
    "\n",
    "# Plot der Funktion\n",
    "ax.plot(x,y1, zorder=10, label=\"$f_1$\")\n",
    "ax.plot(x,y2, zorder=10, label=r\"$f_{-\\frac{1}{2}}$\")\n",
    "ax.plot(x,y3, zorder=10, label=\"$f_2$\")\n",
    "ax.plot(x,y4, zorder=10, label=\"$f_{-1}$\")\n",
    "ax.legend()\n",
    "#plt.show()"
   ]
  },
  {
   "cell_type": "markdown",
   "metadata": {
    "slideshow": {
     "slide_type": "slide"
    }
   },
   "source": [
    "#### Beispiel: Gemeinsame Punkte einer Funktionenschar bestimmen\n",
    "\n",
    "Gegeben: $f_t(x)= (x-1)\\cdot e^{-tx}, \\quad t \\in \\mathbb{R}$    \n",
    "\n",
    "Aufgabe: Bestimmen Sie die Koordinaten der gemeinsamen Punkte aller Graphen $G_{f_t}$\n",
    "\n",
    "Lösungsansatz 1: Verlaufen alle Graphen der Funktionenschar durch einen Punkt, dann gilt es auch für zwei ausgewählte.\n",
    "Wähle zwei einfach Vertreter, z.B. $f_0$ und $f_1$.\n",
    "\n"
   ]
  },
  {
   "cell_type": "markdown",
   "metadata": {
    "slideshow": {
     "slide_type": "slide"
    }
   },
   "source": [
    "$$\n",
    "\\begin{aligned}\n",
    "G_0 \\cap G_1:&\\\\\n",
    "x-1 &= (x-1) \\cdot e^{-x} \\qquad |-(x-1)\\\\\n",
    "0 &= (x-1) \\cdot e^{-x} - (x-1) \\\\\n",
    "0 &= (x-1)\\cdot (e^{-x}-1)\\\\\n",
    "x_1 &= 1 \\text{ und } x_2=0\\\\\n",
    "f_t(1) &= 0 \\text{ und } f_t(0)=-1\\\\\n",
    "& \\Rightarrow \\text{Beide Werte unabhängig von }t\\\\ \n",
    "& \\Rightarrow \\text{Alle Graphen gehen durch einen gemeinsamen Punkt }t\\\\\n",
    "& \\Rightarrow P(1|0) \\text { und } Q(0|-1)  \n",
    "\\end{aligned}\n",
    "$$\n",
    "\n"
   ]
  },
  {
   "cell_type": "markdown",
   "metadata": {
    "slideshow": {
     "slide_type": "slide"
    }
   },
   "source": [
    "Lösungsansatz 2: Löse für zwei allgemeine $t_1$ und $t_2$ mit $t_1 \\neq t_2$\n",
    "\n",
    "$$\n",
    "\\begin{aligned}\n",
    "G_{t_1} \\cap G_{t_2}:&\\\\\n",
    "(x-1 )e^{-t_1x} &= (x-1) \\cdot e^{-t_2x} \\qquad |-(x-1)e^{-t_1x}\\\\\n",
    "0 &= (x-1) \\cdot e^{-t_2x} - (x-1)e^{-t_1x} \\\\\n",
    "0 &= (x-1)\\cdot (e^{-t_2x}-e^{-t_1x})\\\\\n",
    "x_1 &= 1 \\text{ und } e^{-t_2x}-e^{-t_1x}=0\\\\\n",
    "& e^{-t_2x}=e^{-t_1x}\\\\\n",
    "& x_2=0\\\\\n",
    "f_t(1) &= 0 \\text{ und } f_t(0)=-1\\\\\n",
    "& \\Rightarrow \\text{Beide Werte unabhängig von }t\\\\ \n",
    "& \\Rightarrow \\text{Alle Graphen gehen durch einen gemeinsamen Punkt }t\\\\\n",
    "& \\Rightarrow P(1|0) \\text { und } Q(0|-1)  \n",
    "\\end{aligned}\n",
    "$$\n"
   ]
  },
  {
   "cell_type": "markdown",
   "metadata": {
    "slideshow": {
     "slide_type": "slide"
    }
   },
   "source": [
    "#### Beispiel:\n",
    "\n",
    "Gegeben: Funktionenschar $f_a(x)= x-e^{x-a}+a^2, \\quad a\\in \\mathbb{R}$\n",
    "\n",
    "Aufgabe: Bestimme $a$ so, dass der Hochpunkt der des Graphen der Funktion $f_a(x)$ minimal wird.\n",
    "\n",
    "Lösung:  1. Bestimme die Hochpunkte\n",
    "1. not. Bed.:\n",
    "$$\n",
    "\\begin{aligned}\n",
    "f_a'(x) &=0\\\\\n",
    "f_a'(x) &= 1-e^{x-a} = 0\\\\\n",
    "-e^{x-a} &=-1\\\\\n",
    "e^{x-a} &=1\\\\\n",
    "x-a&=\\ln{(1)}\\\\\n",
    "x-a&=0\\\\\n",
    "x&=a\n",
    "\\end{aligned}\n",
    "$$\n"
   ]
  },
  {
   "cell_type": "markdown",
   "metadata": {
    "slideshow": {
     "slide_type": "slide"
    }
   },
   "source": [
    "2. hinr. Bed.:\n",
    "\n",
    "$$\n",
    "\\begin{aligned}\n",
    "\\text{2. hin. Bed: } &f_a''(x) \\neq 0\\\\\n",
    "f''_a(x) &= -e^{x-a}\\\\\n",
    "f''_a(a) &= -e^{a-a} = -e^0 = -1\\\\\n",
    "\\Rightarrow  \\text{ Hochpunkt } P \\left(a|f(a) \\right) &= P \\left(a| a-1+a^2 \\right) \n",
    "\\end{aligned}\n",
    "$$"
   ]
  },
  {
   "cell_type": "markdown",
   "metadata": {
    "slideshow": {
     "slide_type": "slide"
    }
   },
   "source": [
    "2. Die Funktion $h(a)=a^2+a-1$ berechnet die Funktionswerte der lokalen Hochpunkte. Minimum bestimmen. \n",
    "\n",
    "$$\n",
    "\\begin{aligned}\n",
    "\\text{1. not. Bed: } &f_a'(x) =0\\\\\n",
    "f_a'(x) &= 2a+1 = 0\\\\\n",
    "\\Leftrightarrow \\quad  a &=-\\frac{1}{2}\\\\ \n",
    "\\text{2. hin. Bed: } &f_a''(x) \\neq 0\\\\\n",
    "f''_a(x) &= 2\\\\\n",
    "f''_a\\left(-\\frac{1}{3}\\right) &= 2 \\neq 0\\\\\n",
    "\\Rightarrow  \\text{ Minimum } a &=-\\frac{1}{2}\n",
    "\\end{aligned}\n",
    "$$\n"
   ]
  },
  {
   "cell_type": "markdown",
   "metadata": {
    "slideshow": {
     "slide_type": "slide"
    }
   },
   "source": [
    "3. Antwort:  \n",
    "Für $a=-\\frac{1}{2}$ liegt der Hochpunkt $H_a$ der Graphen $G_{f_a}$ am tiefsten."
   ]
  },
  {
   "cell_type": "markdown",
   "metadata": {
    "slideshow": {
     "slide_type": "slide"
    }
   },
   "source": [
    "#### Beispiel:\n",
    "\n",
    "Gegeben: Funktionsschar $f_a(x)= x^3-ax+a, \\quad a\\in \\mathbb{R}$\n",
    "\n",
    "Aufgabe: Bestimme den Flächeninhalt, den die beiden Graphen der Funktionen $f_{a}$ und $f_{a-1}$ mit der y-Achse einschließen.\n",
    "\n",
    "Lösung:\n",
    "\n"
   ]
  },
  {
   "cell_type": "markdown",
   "metadata": {
    "slideshow": {
     "slide_type": "slide"
    }
   },
   "source": [
    "1. Schnittstelle berechnen:\n",
    "\n",
    "$$\n",
    "\\begin{aligned}\n",
    "f_{a}(x)&= x^3 -ax +a\\\\\n",
    "f_{a-1}(x)&= x^3 -(a-1)x +(a-1)\\\\\n",
    "f_a(x) &= f_{a-1}(x)\\\\\n",
    "x^3 -ax +a &= x^3 -(a-1)x +(a-1)\\qquad |-x^3\\\\\n",
    "-ax+a &= -ax+x+a-1\\\\\n",
    "0 &= x-1\\\\\n",
    "1 &= x\n",
    "\\end{aligned}\n",
    "$$\n",
    "\n",
    "Beobachtung: Schnittstelle ist unabhängig vom Parameter $a$."
   ]
  },
  {
   "cell_type": "markdown",
   "metadata": {
    "slideshow": {
     "slide_type": "slide"
    }
   },
   "source": [
    "2. Differenzfunktion berechnen:\n",
    "\n",
    "$$\n",
    "\\begin{aligned}\n",
    "f_a(x)-f_{a-1}(x)&= x^3 -ax +a - \\left(x^3 -(a-1)x +(a-1)\\right)\\\\\n",
    "&=x^3 -ax +a -x^3 +(a-1)x -(a-1)\\\\\n",
    "&=x^3-ax+a -x^3+ax-1x-a+1\\\\\n",
    "&=-x+1\n",
    "\\end{aligned}\n",
    "$$\n",
    "\n",
    "Beobachtung: Differenzfunktion ist unabhängig vom Paramter $a$."
   ]
  },
  {
   "cell_type": "markdown",
   "metadata": {
    "slideshow": {
     "slide_type": "slide"
    }
   },
   "source": [
    "3. Flächeninhalt berechnen:\n",
    "\n",
    "$$\n",
    "\\begin{aligned}\n",
    "A &=\\int\\limits_{0}^{1} f_a(x)-f_{a-1}(x)dx\n",
    "&= \\left[-\\frac{1}{2}x^2 +x\\right]_0^1 = -\\frac{1}{2}1^2+1-\\left(\\frac{1}{2}0^2+0 \\right)\\\\\n",
    "&= \\frac{1}{2}\n",
    "\\end{aligned}\n",
    "$$\n",
    "\n",
    "Beobachtung: Der Flächeninhalt ist unabhänging vom Paramter $a$."
   ]
  },
  {
   "cell_type": "code",
   "execution_count": 2,
   "metadata": {
    "slideshow": {
     "slide_type": "slide"
    }
   },
   "outputs": [
    {
     "data": {
      "text/plain": [
       "<matplotlib.legend.Legend at 0x10feb2780>"
      ]
     },
     "execution_count": 2,
     "metadata": {},
     "output_type": "execute_result"
    },
    {
     "data": {
      "application/pdf": "[encoded data removed]",
      "text/plain": [
       "<Figure size 1800x1800 with 1 Axes>"
      ]
     },
     "metadata": {},
     "output_type": "display_data"
    }
   ],
   "source": [
    "import numpy as np\n",
    "import matplotlib.pyplot as plt\n",
    "from matplotlib.ticker import AutoMinorLocator, MultipleLocator, FuncFormatter\n",
    "\n",
    "# Defintionsmenge und Funktion\n",
    "# ----------------------------\n",
    "a= -5.1 # untere x-Intervallgrenze \n",
    "b= 5.1 # obere x-Intervallgrenze\n",
    "c = -5.1# untere y-Intervallgrenze\n",
    "d = 5.1 # obere y-Intervallgrenze\n",
    "x = np.linspace(a, b,1000)\n",
    "y1= x**3\n",
    "y2= x**3-x+1\n",
    "# ----------------------------\n",
    "\n",
    "# Einstellung des Graphen\n",
    "fig=plt.figure(figsize=(6,6))\n",
    "ax= fig.add_subplot(1,1,1, aspect =1)\n",
    "\n",
    "# Definiton der Haupteinheiten, reele Zahlen ohne die 0 \n",
    "def major_tick(x, pos):\n",
    "    if x==0:\n",
    "        return \"\"\n",
    "    return int(x)\n",
    "\n",
    "# Achsenskalierung\n",
    "ax.xaxis.set_major_locator(MultipleLocator(1))\n",
    "ax.xaxis.set_minor_locator(AutoMinorLocator(2))\n",
    "ax.yaxis.set_major_locator(MultipleLocator(1))\n",
    "ax.yaxis.set_minor_locator(AutoMinorLocator(2))\n",
    "ax.xaxis.set_major_formatter(FuncFormatter(major_tick))\n",
    "ax.yaxis.set_major_formatter(FuncFormatter(major_tick))\n",
    "\n",
    "# Position der Achsen im Schaubild\n",
    "ax.spines[['top','right']].set_visible(False)\n",
    "ax.spines[['bottom','left']].set_position('zero')\n",
    "\n",
    "# Pfeile für die Achsen\n",
    "ax.plot((1),(0), ls=\"\", marker= \">\", ms=7, color=\"k\", transform=ax.get_yaxis_transform(), clip_on=False)\n",
    "ax.plot((0),(1), ls=\"\", marker= \"^\", ms=7, color=\"k\", transform=ax.get_xaxis_transform(), clip_on=False)\n",
    "\n",
    "# Achsenlänge und Beschriftung\n",
    "ax.set_xlim(a,b)\n",
    "ax.set_ylim(c, d)\n",
    "ax.set_xlabel(\"x\", loc=\"right\")\n",
    "ax.set_ylabel(\"f(x)\", loc=\"top\", rotation=0)\n",
    "\n",
    "# Kästchen\n",
    "ax.grid(linestyle=\"-\", which=\"major\",linewidth=0.7, zorder=-10)\n",
    "ax.grid(linestyle=\"-\", which=\"minor\",linewidth=0.5, zorder=-10)\n",
    "\n",
    "# Plot der Funktion\n",
    "ax.plot(x,y1, zorder=10, label =\"$f_0(x) = x^3$\")\n",
    "ax.plot(x,y2, zorder=10, label =\"$f_1(x) = x^3-x+1$\")\n",
    "ax.legend()\n",
    "#plt.show()"
   ]
  },
  {
   "cell_type": "markdown",
   "metadata": {},
   "source": []
  }
 ],
 "metadata": {
  "kernelspec": {
   "display_name": "Python 3",
   "language": "python",
   "name": "python3"
  },
  "language_info": {
   "codemirror_mode": {
    "name": "ipython",
    "version": 3
   },
   "file_extension": ".py",
   "mimetype": "text/x-python",
   "name": "python",
   "nbconvert_exporter": "python",
   "pygments_lexer": "ipython3",
   "version": "3.12.1"
  }
 },
 "nbformat": 4,
 "nbformat_minor": 2
}
