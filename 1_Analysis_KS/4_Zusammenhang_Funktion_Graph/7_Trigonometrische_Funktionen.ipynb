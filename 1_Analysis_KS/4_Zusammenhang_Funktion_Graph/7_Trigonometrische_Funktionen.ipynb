{
 "cells": [
  {
   "cell_type": "raw",
   "metadata": {},
   "source": [
    "---\n",
    "title: \"\"\n",
    "date: today\n",
    "format:\n",
    "    pdf:\n",
    "      papersize: a4\n",
    "execute: \n",
    "  enabled: true\n",
    "  echo: false\n",
    "Juypter: python3\n",
    "\n",
    "format:\n",
    "  beamer:\n",
    "    aspectratio: 169\n",
    "    navigation: horizontal\n",
    "    theme: Singapore\n",
    "    colortheme: orchid\n",
    "    toc: false\n",
    "---"
   ]
  },
  {
   "cell_type": "markdown",
   "metadata": {
    "slideshow": {
     "slide_type": "slide"
    }
   },
   "source": [
    "## 7. Trigonometrische Funktionen"
   ]
  },
  {
   "cell_type": "markdown",
   "metadata": {
    "slideshow": {
     "slide_type": "slide"
    }
   },
   "source": [
    "### Winkelfunktion im Dreieck\n",
    "\n",
    "#### Rechtwinklige Dreiecke\n",
    "\n",
    "**Bezeichnungen in rechtwinklingen Dreiecken**\n",
    "\n",
    "Allgemein:\n",
    "\n",
    "![Dreieck](/Users/martin/Workspace/Jupyter_Notebooks/Mathematik_KS/1_Analysis_KS/4_Zusammenhang_Funktion_Graph/images/1rechwinkligesDreieck.png){width=300px}"
   ]
  },
  {
   "cell_type": "markdown",
   "metadata": {
    "slideshow": {
     "slide_type": "slide"
    }
   },
   "source": [
    "Im Bezug auf die Winkel:\n",
    "\n",
    "![Dreieck](/Users/martin/Workspace/Jupyter_Notebooks/Mathematik_KS/1_Analysis_KS/4_Zusammenhang_Funktion_Graph/images/dreieck_wp.jpg){width=300px}"
   ]
  },
  {
   "cell_type": "markdown",
   "metadata": {
    "slideshow": {
     "slide_type": "slide"
    }
   },
   "source": [
    "**Beobachtung**\n",
    "\n",
    "![Dreieck](/Users/martin/Workspace/Jupyter_Notebooks/Mathematik_KS/1_Analysis_KS/4_Zusammenhang_Funktion_Graph/images/2rechtwinkligeDreiecke.png){width=300px}\n",
    "\n",
    "|$$ A_1B_1$$ |$$ B_1C_1$$ |$$ \\frac{B_1C_1}{A_1B_1} $$ | $$ AB$$ |$$ BC$$ |$$ \\frac{BC}{AB} $$ | \n",
    "|:-----------:|:-----------:|:-----------:|:-----------:|:-----------:|:-----------:|\n",
    "| 8,1         |   6,2       |     0,76    |  12,6        |  9,7        |     0,76   |\n",
    "\n",
    "\n"
   ]
  },
  {
   "cell_type": "markdown",
   "metadata": {
    "slideshow": {
     "slide_type": "slide"
    }
   },
   "source": [
    "In jedem rechtwinklingen Dreieck mit festem Winkel $\\alpha$ ist das Verhältnis von Gegenkathete zu $\\alpha$ zur Hypothenuse konstant. Dieses Verhältnis ist der Sinus zu dem Winkel $\\alpha$\n",
    "\n",
    "**Analog**\n",
    "In jedem rechtwinklingen Dreieck mit festem Winkel $\\alpha$ ist das Verhältnis von Ankathete zu $\\alpha$ zur Hypothenuse konstant. Dieses Verhältnis ist der Kosinus zu dem Winkel $\\alpha$"
   ]
  },
  {
   "cell_type": "markdown",
   "metadata": {
    "slideshow": {
     "slide_type": "slide"
    }
   },
   "source": [
    "<div style=\"border: 1px solid blue\">\n",
    "\n",
    "##### Definition: Sinus\n",
    "Gegeben:\n",
    "- rechtwinkliges Dreieck ABC\n",
    "- Winkel $\\alpha, \\beta, \\gamma = 90^\\circ$\n",
    "\n",
    "Der Sinus eines Winkels ist das Verhältnis der Länge der Gegenkathete zur Länge der Hyopthenuse\n",
    "$$\n",
    "\\sin(\\alpha) =  \\frac{\\text{Gegenkathete zu }\\alpha}{\\text{Hypothenuse}}\n",
    "$$\n",
    "</div>"
   ]
  },
  {
   "cell_type": "markdown",
   "metadata": {
    "slideshow": {
     "slide_type": "fragment"
    }
   },
   "source": [
    "<div style=\"border: 1px solid blue\">\n",
    "\n",
    "##### Definition: Kosinus\n",
    "Gegeben:\n",
    "- rechtwinkliges Dreieck ABC\n",
    "- Winkel $\\alpha, \\beta, \\gamma = 90^\\circ$\n",
    "\n",
    "Der Sinus eines Winkels ist das Verhältnis der Länge der Ankathete zur Länge der Hyopthenuse\n",
    "$$\n",
    "\\cos(\\alpha) =  \\frac{\\text{Ankathete zu }\\alpha}{\\text{Hypothenuse}}\n",
    "$$\n",
    "</div>"
   ]
  },
  {
   "cell_type": "markdown",
   "metadata": {
    "slideshow": {
     "slide_type": "slide"
    }
   },
   "source": [
    "<div style=\"border: 1px solid blue\">\n",
    "\n",
    "##### Definition: Tangens\n",
    "Gegeben:\n",
    "- rechtwinkliges Dreieck ABC\n",
    "- Winkel $\\alpha, \\beta, \\gamma = 90^\\circ$\n",
    "\n",
    "Der Sinus eines Winkels ist das Verhältnis der Länge der Gegenkathete zur Länge der Ankathete\n",
    "$$\n",
    "\\tan(\\alpha) =  \\frac{\\text{Gegenkathete zu }\\alpha}{\\text{Ankathete zu }\\alpha}\n",
    "$$\n",
    "</div>"
   ]
  },
  {
   "cell_type": "markdown",
   "metadata": {
    "slideshow": {
     "slide_type": "slide"
    }
   },
   "source": [
    "##### Sinus, Kosinus und Tangens am Einheitskreis\n",
    "\n",
    "- Einheitskreis := Kreis um den Ursprung mit Radius 1\n",
    "- Zu jedem Punkt $P$ auf dem Kreis gibt es ein rechtwinkliges Dreieck\n",
    "- Länge der Hypothenus ist 1.\n",
    "\n",
    "\n",
    "![Einheitskreis](/Users/martin/Workspace/Jupyter_Notebooks/Mathematik_KS/1_Analysis_KS/4_Zusammenhang_Funktion_Graph/images/4sincostaneinheitskreis.png){width=300px}\n",
    "\n",
    "\n"
   ]
  },
  {
   "cell_type": "markdown",
   "metadata": {
    "slideshow": {
     "slide_type": "slide"
    }
   },
   "source": [
    "##### Sinus, Kosiunsfunktion und Tangensfunktion im Dreieck\n",
    "![Sinusfunktion](/Users/martin/Workspace/Jupyter_Notebooks/Mathematik_KS/1_Analysis_KS/4_Zusammenhang_Funktion_Graph/images/5sincosfunktion.jpg){width=500px}"
   ]
  },
  {
   "cell_type": "markdown",
   "metadata": {
    "slideshow": {
     "slide_type": "slide"
    }
   },
   "source": [
    "<div style=\"border: 1px solid blue\">\n",
    "\n",
    "##### Definition: Sinusfunktion im Dreieck\n",
    "Gegeben:\n",
    "\n",
    "-rechtwinkliges Dreieck ABC\n",
    "\n",
    "Die Abbildung, die jeder Winkelgröße den Sinus zum Winkel im zugehörigen rechtwinkligen Dreieck zuordnet, heißt **Sinusfunktion**\n",
    "</div>\n",
    "\n",
    "**Funktionsgraph der Sinus-Funktion:**\n"
   ]
  },
  {
   "cell_type": "code",
   "execution_count": 1,
   "metadata": {
    "slideshow": {
     "slide_type": "slide"
    }
   },
   "outputs": [
    {
     "data": {
      "text/plain": [
       "[<matplotlib.lines.Line2D at 0x117b3de50>]"
      ]
     },
     "execution_count": 1,
     "metadata": {},
     "output_type": "execute_result"
    },
    {
     "data": {
      "application/pdf": "[encoded data removed]",
      "text/plain": [
       "<Figure size 1800x1800 with 1 Axes>"
      ]
     },
     "metadata": {},
     "output_type": "display_data"
    }
   ],
   "source": [
    "import numpy as np\n",
    "import matplotlib.pyplot as plt\n",
    "from matplotlib.ticker import AutoMinorLocator, MultipleLocator, FuncFormatter\n",
    "\n",
    "# Defintionsmenge und Funktion\n",
    "# ----------------------------\n",
    "a= -0.1 # untere x-Intervallgrenze \n",
    "b= 360.1# obere x-Intervallgrenze\n",
    "c = -1.1# untere y-Intervallgrenze\n",
    "d = 1.1 # obere y-Intervallgrenze\n",
    "x = np.linspace(a, b,1000)\n",
    "y1= np.sin(x/180*np.pi)\n",
    "# ----------------------------\n",
    "\n",
    "# Einstellung des Graphen\n",
    "fig=plt.figure(figsize=(6,6))\n",
    "ax= fig.add_subplot(1,1,1, aspect =100)\n",
    "\n",
    "# Definiton der Haupteinheiten, reele Zahlen ohne die 0 \n",
    "def major_tick(x, pos):\n",
    "    if x==0:\n",
    "        return \"\"\n",
    "    return int(x)\n",
    "\n",
    "# Achsenskalierung\n",
    "# ax.xaxis.set_major_locator(MultipleLocator(1))\n",
    "#ax.xaxis.set_minor_locator(AutoMinorLocator(2))\n",
    "#ax.yaxis.set_major_locator(MultipleLocator(1))\n",
    "#ax.yaxis.set_minor_locator(AutoMinorLocator(2))\n",
    "#ax.xaxis.set_major_formatter(FuncFormatter(major_tick))\n",
    "#ax.yaxis.set_major_formatter(FuncFormatter(major_tick))\n",
    "\n",
    "# Position der Achsen im Schaubild\n",
    "ax.spines[['top','right']].set_visible(False)\n",
    "ax.spines[['bottom','left']].set_position('zero')\n",
    "\n",
    "# Pfeile für die Achsen\n",
    "ax.plot((1),(0), ls=\"\", marker= \">\", ms=7, color=\"k\", transform=ax.get_yaxis_transform(), clip_on=False)\n",
    "ax.plot((0),(1), ls=\"\", marker= \"^\", ms=7, color=\"k\", transform=ax.get_xaxis_transform(), clip_on=False)\n",
    "\n",
    "# Achsenlänge und Beschriftung\n",
    "ax.set_xlim(a,b)\n",
    "ax.set_ylim(c, d)\n",
    "ax.set_xlabel(r\"$\\alpha$\", loc=\"right\")\n",
    "ax.set_ylabel(r\"$\\sin(\\alpha)$ in Grad\", loc=\"top\", rotation=0)\n",
    "\n",
    "# Kästchen\n",
    "#ax.grid(linestyle=\"-\", which=\"major\",linewidth=0.7, zorder=-10)\n",
    "#ax.grid(linestyle=\"-\", which=\"minor\",linewidth=0.5, zorder=-10)\n",
    "\n",
    "# Plot der Funktion\n",
    "ax.plot(x,y1, zorder=10)\n",
    "#plt.show()"
   ]
  },
  {
   "cell_type": "markdown",
   "metadata": {
    "slideshow": {
     "slide_type": "slide"
    }
   },
   "source": [
    "<div style=\"border: 1px solid blue\">\n",
    "\n",
    "##### Definition: Kosinus-Funktion im Dreieck\n",
    "Gegeben:\n",
    "\n",
    "-rechtwinkliges Dreieck ABC\n",
    "\n",
    "Die Abbildung, die jeder Winkelgröße den Kosinus zum Winkel im zugehörigen rechtwinkligen Dreieck zuordnet, heißt **Kosinusfunktion**\n",
    "</div>\n",
    "\n",
    "**Funktionsgraph der Kosinus-Funktion:**"
   ]
  },
  {
   "cell_type": "code",
   "execution_count": 2,
   "metadata": {
    "slideshow": {
     "slide_type": "slide"
    }
   },
   "outputs": [
    {
     "data": {
      "text/plain": [
       "[<matplotlib.lines.Line2D at 0x117b54fe0>]"
      ]
     },
     "execution_count": 2,
     "metadata": {},
     "output_type": "execute_result"
    },
    {
     "data": {
      "application/pdf": "[encoded data removed]",
      "text/plain": [
       "<Figure size 1800x1800 with 1 Axes>"
      ]
     },
     "metadata": {},
     "output_type": "display_data"
    }
   ],
   "source": [
    "import numpy as np\n",
    "import matplotlib.pyplot as plt\n",
    "from matplotlib.ticker import AutoMinorLocator, MultipleLocator, FuncFormatter\n",
    "\n",
    "# Defintionsmenge und Funktion\n",
    "# ----------------------------\n",
    "a= -0.1 # untere x-Intervallgrenze \n",
    "b= 360.1# obere x-Intervallgrenze\n",
    "c = -1.1# untere y-Intervallgrenze\n",
    "d = 1.1 # obere y-Intervallgrenze\n",
    "x = np.linspace(a, b,1000)\n",
    "y1= np.cos(x/180*np.pi)\n",
    "# ----------------------------\n",
    "\n",
    "# Einstellung des Graphen\n",
    "fig=plt.figure(figsize=(6,6))\n",
    "ax= fig.add_subplot(1,1,1, aspect =100)\n",
    "\n",
    "# Definiton der Haupteinheiten, reele Zahlen ohne die 0 \n",
    "def major_tick(x, pos):\n",
    "    if x==0:\n",
    "        return \"\"\n",
    "    return int(x)\n",
    "\n",
    "# Achsenskalierung\n",
    "# ax.xaxis.set_major_locator(MultipleLocator(1))\n",
    "#ax.xaxis.set_minor_locator(AutoMinorLocator(2))\n",
    "#ax.yaxis.set_major_locator(MultipleLocator(1))\n",
    "#ax.yaxis.set_minor_locator(AutoMinorLocator(2))\n",
    "#ax.xaxis.set_major_formatter(FuncFormatter(major_tick))\n",
    "#ax.yaxis.set_major_formatter(FuncFormatter(major_tick))\n",
    "\n",
    "# Position der Achsen im Schaubild\n",
    "ax.spines[['top','right']].set_visible(False)\n",
    "ax.spines[['bottom','left']].set_position('zero')\n",
    "\n",
    "# Pfeile für die Achsen\n",
    "ax.plot((1),(0), ls=\"\", marker= \">\", ms=7, color=\"k\", transform=ax.get_yaxis_transform(), clip_on=False)\n",
    "ax.plot((0),(1), ls=\"\", marker= \"^\", ms=7, color=\"k\", transform=ax.get_xaxis_transform(), clip_on=False)\n",
    "\n",
    "# Achsenlänge und Beschriftung\n",
    "ax.set_xlim(a,b)\n",
    "ax.set_ylim(c, d)\n",
    "ax.set_xlabel(r\"$\\alpha$ in Grad\", loc=\"right\")\n",
    "ax.set_ylabel(r\"$\\cos(\\alpha)$ \", loc=\"top\", rotation=0)\n",
    "\n",
    "# Kästchen\n",
    "#ax.grid(linestyle=\"-\", which=\"major\",linewidth=0.7, zorder=-10)\n",
    "#ax.grid(linestyle=\"-\", which=\"minor\",linewidth=0.5, zorder=-10)\n",
    "\n",
    "# Plot der Funktion\n",
    "ax.plot(x,y1, zorder=10)\n",
    "#plt.show()"
   ]
  },
  {
   "cell_type": "markdown",
   "metadata": {
    "slideshow": {
     "slide_type": "slide"
    }
   },
   "source": [
    "<div style=\"border: 1px solid blue\">\n",
    "\n",
    "##### Definition: Tangens-Funktion im Dreieck\n",
    "Gegeben:\n",
    "\n",
    "- rechtwinkliges Dreieck ABC\n",
    "\n",
    "Die Abbildung, die jeder Winkelgröße den Tangens zum Winkel im zugehörigen rechtwinkligen Dreieck zuordnet, heißt **Tangensfunktion**\n",
    "</div>\n",
    "\n",
    "**Funktionsgraph der Tangens-Funktion:**\n"
   ]
  },
  {
   "cell_type": "code",
   "execution_count": 3,
   "metadata": {
    "slideshow": {
     "slide_type": "slide"
    }
   },
   "outputs": [
    {
     "data": {
      "text/plain": [
       "[<matplotlib.lines.Line2D at 0x12c1cdb80>]"
      ]
     },
     "execution_count": 3,
     "metadata": {},
     "output_type": "execute_result"
    },
    {
     "data": {
      "application/pdf": "[encoded data removed]",
      "text/plain": [
       "<Figure size 1800x1800 with 1 Axes>"
      ]
     },
     "metadata": {},
     "output_type": "display_data"
    }
   ],
   "source": [
    "import numpy as np\n",
    "import matplotlib.pyplot as plt\n",
    "from matplotlib.ticker import AutoMinorLocator, MultipleLocator, FuncFormatter\n",
    "\n",
    "# Defintionsmenge und Funktion\n",
    "# ----------------------------\n",
    "a= -0.1 # untere x-Intervallgrenze \n",
    "b= 360.1# obere x-Intervallgrenze\n",
    "c = -10.1# untere y-Intervallgrenze\n",
    "d = 10.1 # obere y-Intervallgrenze\n",
    "x = np.linspace(a, b,1000)\n",
    "y1= np.tan(x/180*np.pi)\n",
    "# ----------------------------\n",
    "\n",
    "# Einstellung des Graphen\n",
    "fig=plt.figure(figsize=(6,6))\n",
    "ax= fig.add_subplot(1,1,1, aspect =10)\n",
    "\n",
    "# Definiton der Haupteinheiten, reele Zahlen ohne die 0 \n",
    "def major_tick(x, pos):\n",
    "    if x==0:\n",
    "        return \"\"\n",
    "    return int(x)\n",
    "\n",
    "# Achsenskalierung\n",
    "# ax.xaxis.set_major_locator(MultipleLocator(1))\n",
    "#ax.xaxis.set_minor_locator(AutoMinorLocator(2))\n",
    "#ax.yaxis.set_major_locator(MultipleLocator(1))\n",
    "#ax.yaxis.set_minor_locator(AutoMinorLocator(2))\n",
    "#ax.xaxis.set_major_formatter(FuncFormatter(major_tick))\n",
    "#ax.yaxis.set_major_formatter(FuncFormatter(major_tick))\n",
    "\n",
    "# Position der Achsen im Schaubild\n",
    "ax.spines[['top','right']].set_visible(False)\n",
    "ax.spines[['bottom','left']].set_position('zero')\n",
    "\n",
    "# Pfeile für die Achsen\n",
    "ax.plot((1),(0), ls=\"\", marker= \">\", ms=7, color=\"k\", transform=ax.get_yaxis_transform(), clip_on=False)\n",
    "ax.plot((0),(1), ls=\"\", marker= \"^\", ms=7, color=\"k\", transform=ax.get_xaxis_transform(), clip_on=False)\n",
    "\n",
    "# Achsenlänge und Beschriftung\n",
    "ax.set_xlim(a,b)\n",
    "ax.set_ylim(c, d)\n",
    "ax.set_xlabel(r\"$\\alpha$ in Grad\", loc=\"right\")\n",
    "ax.set_ylabel(r\"$\\cos(\\alpha)$ \", loc=\"top\", rotation=0)\n",
    "\n",
    "# Kästchen\n",
    "#ax.grid(linestyle=\"-\", which=\"major\",linewidth=0.7, zorder=-10)\n",
    "#ax.grid(linestyle=\"-\", which=\"minor\",linewidth=0.5, zorder=-10)\n",
    "\n",
    "# Plot der Funktion\n",
    "ax.plot(x,y1, zorder=10)\n",
    "#plt.show()"
   ]
  },
  {
   "cell_type": "markdown",
   "metadata": {
    "slideshow": {
     "slide_type": "slide"
    }
   },
   "source": [
    "### reelewertige Winkelfunktionen\n",
    "\n",
    "#### Bogenmaß\n",
    "\n",
    "\n",
    "![Einheitskreis](/Users/martin/Workspace/Jupyter_Notebooks/Mathematik_KS/1_Analysis_KS/4_Zusammenhang_Funktion_Graph/images/6bogenmaß.jpg){width=200px}\n",
    "\n",
    "**Beobachtung:**\n",
    "\n",
    "- Jedem Winkel kann eindeutig eine Kreisbogenlänge zugeordnet werden.\n",
    "- Diese Zuordnung ist bijektiv. \n",
    "- Die Kreisbogenlänge ist eine reelle Zahl.\n",
    "\n",
    "<div style=\"border: 1px solid red\">\n",
    "\n",
    "##### Satz: \n",
    "\n",
    "Gegeben:\n",
    "- Kreis $k(M;r)$ mit Mittelpunkt $M$ und Radius $r$\n",
    "- Kreissektor mit Öffnungswinkelswinkel $\\alpha$\n",
    "\n",
    "Die Kreisbogenlänge $b$ des Kreissegments (Bogenmaß) wird berechnet mit:\n",
    "$$\n",
    " b= r \\cdot \\frac{\\pi \\cdot\\alpha}{180^\\circ}\n",
    "$$\n",
    "</div>"
   ]
  },
  {
   "cell_type": "markdown",
   "metadata": {
    "slideshow": {
     "slide_type": "slide"
    }
   },
   "source": [
    "##### Folgerung\n",
    "\n",
    "Damit lässt sich wie folgt auch zu jeder reelen Zahl $x$ ein Wert $\\sin(x), \\cos(x)$ bzw. $\\tan(x)$ zuordnen:\n",
    "$$\n",
    "\\begin{aligned}\n",
    "&\\alpha &\\rightarrow & \\sin(\\alpha) \\\\\n",
    "& \\downarrow & &= \\\\\n",
    "&x &\\rightarrow &\\sin(x)\n",
    "\\end{aligned}\n",
    "$$\n",
    "\n",
    "##### Funktionsterme \n",
    "\n",
    "Zuordnung Winkel $\\rightarrow$ Bogenlänge\n",
    "$$\n",
    "g(\\alpha)=\\left(r \\cdot \\frac{\\pi \\cdot\\alpha}{180^\\circ}\\right)\n",
    "$$\n",
    "Zuordnung Bogenlänge (reele Zahl) $\\rightarrow$ Sinus\n",
    "$$\n",
    "f(x)=f(g(\\alpha))=\\sin\\left(r \\cdot \\frac{\\pi \\cdot\\alpha}{180^\\circ}\\right)=\\sin(x)\n",
    "$$"
   ]
  },
  {
   "cell_type": "markdown",
   "metadata": {
    "slideshow": {
     "slide_type": "slide"
    }
   },
   "source": [
    "#### Winkelfunktionen \n",
    "\n",
    "##### Sinus-Funktion\n",
    "\n",
    "- Defintionsmenge: $\\mathbb{R}$\n",
    "- Wertemenge: $W=\\{f(x)|-1\\leq f(x)\\leq 1\\}$\n",
    "- periodisch\n",
    "- Periode $p=2\\pi$\n",
    "- punktsymmetrisch zum Ursprung\n",
    "\n",
    "$$\n",
    "\\sin(-x)=-\\sin(x)\n",
    "$$\n",
    "\n",
    "- Nullstellen:\n",
    "\n",
    "$$\n",
    "\\begin{aligned}\n",
    "..., -\\pi, 0, \\pi, 2\\pi, 3\\pi, ...\\\\\n",
    "\\text{allgemein: }k\\cdot \\pi \\quad, k\\in \\mathbb{Z}\n",
    "\\end{aligned}\n",
    "$$\n",
    "\n",
    "\n",
    "\n"
   ]
  },
  {
   "cell_type": "markdown",
   "metadata": {
    "slideshow": {
     "slide_type": "slide"
    }
   },
   "source": [
    "- Maximalstellen:\n",
    "\n",
    "$$\n",
    "\\begin{aligned}\n",
    "..., -\\frac{3}{2}\\pi, \\frac{\\pi}{2}, \\frac{5}{2}\\pi, \\frac{9}{2}\\pi, ...\\\\\n",
    "\\text{allgemein: }\\frac{\\pi}{2}+k\\cdot 2\\pi \\quad , k\\in \\mathbb{Z}\n",
    "\\end{aligned}\n",
    "$$\n",
    "\n",
    "- Minimalstellen:\n",
    "\n",
    "$$\n",
    "\\begin{aligned}\n",
    "..., -\\frac{5}{2}\\pi, -\\frac{\\pi}{2}, \\frac{3}{2}\\pi, \\frac{7}{2}\\pi, ...\\\\\n",
    "\\text{allgemein: }\\frac{3}{2}\\pi + k\\cdot 2\\pi \\quad ,k\\in \\mathbb{Z}\n",
    "\\end{aligned}\n",
    "$$"
   ]
  },
  {
   "cell_type": "code",
   "execution_count": 4,
   "metadata": {
    "slideshow": {
     "slide_type": "slide"
    }
   },
   "outputs": [
    {
     "data": {
      "text/plain": [
       "[<matplotlib.lines.Line2D at 0x12d029c70>]"
      ]
     },
     "execution_count": 4,
     "metadata": {},
     "output_type": "execute_result"
    },
    {
     "data": {
      "application/pdf": "[encoded data removed]",
      "text/plain": [
       "<Figure size 2400x2400 with 1 Axes>"
      ]
     },
     "metadata": {},
     "output_type": "display_data"
    }
   ],
   "source": [
    "import numpy as np\n",
    "import matplotlib.pyplot as plt\n",
    "from matplotlib.ticker import AutoMinorLocator, MultipleLocator, FuncFormatter, FormatStrFormatter\n",
    "\n",
    "# Defintionsmenge und Funktion\n",
    "# ----------------------------\n",
    "a= -np.pi # untere Intervallgrenze \n",
    "b= 3*np.pi # obere Intervallgrenze\n",
    "c = -1.1 #untere y-Intervallgrenze\n",
    "d = 1.1 # obere y-Intervallgrenze\n",
    "x = np.linspace(a, b,1000)\n",
    "y1= np.sin(x)\n",
    "# ----------------------------\n",
    "\n",
    "# Einstellung des Graphen\n",
    "fig=plt.figure(figsize=(8,8))\n",
    "ax = fig.add_subplot(1,1,1, aspect=1)\n",
    "\n",
    "# Beschrifung der y-Achsenskala\n",
    "def major_ytick(x, pos):\n",
    "    if x==0:\n",
    "        return \"\"\n",
    "    return int(x)\n",
    "# Beschriftung der x-Achsenskala\n",
    "def major_xtick(x, pos):\n",
    "    if x==0:\n",
    "        return \"\"\n",
    "    if x%np.pi==0:\n",
    "        if x/np.pi == 1:\n",
    "            return(r\"$\\pi$\")\n",
    "        if x/np.pi == -1:\n",
    "            return (r\"$-\\pi$\")\n",
    "        return (str(int(x/np.pi)) +r\"$\\pi$\")\n",
    "    if 2*x%np.pi == 0:\n",
    "        return (r\"$\\frac{s1}{2}\\pi$\".replace('s1', str(int(2*x/np.pi))))\n",
    "    return \"\"\n",
    "\n",
    "# Achsenskalierung\n",
    "ax.xaxis.set_major_locator(plt.MultipleLocator(np.pi/2))\n",
    "ax.xaxis.set_minor_locator(plt.MultipleLocator(np.pi/4))\n",
    "ax.yaxis.set_major_locator(MultipleLocator(1))\n",
    "ax.yaxis.set_minor_locator(AutoMinorLocator(2))\n",
    "ax.xaxis.set_major_formatter(FuncFormatter(major_xtick))\n",
    "ax.yaxis.set_major_formatter(FuncFormatter(major_ytick))\n",
    "\n",
    "# Position der Achsen im Schaubild\n",
    "ax.spines[['top','right']].set_visible(False)\n",
    "ax.spines[['bottom','left']].set_position('zero')\n",
    "\n",
    "# Pfeile für die Achsen\n",
    "ax.plot((1),(0), ls=\"\", marker= \">\", ms=7, color=\"k\", transform=ax.get_yaxis_transform(), clip_on=False)\n",
    "ax.plot((0),(1), ls=\"\", marker= \"^\", ms=7, color=\"k\", transform=ax.get_xaxis_transform(), clip_on=False)\n",
    "\n",
    "# Achsenlänge und Beschriftung\n",
    "ax.set_xlim(a,b)\n",
    "ax.set_ylim(c, d)\n",
    "ax.set_xlabel(\"x\", loc=\"right\")\n",
    "ax.set_ylabel(\"f(x)\", loc=\"top\", rotation=0)\n",
    "\n",
    "# Kästchen\n",
    "ax.grid(linestyle=\"-\", which=\"major\",linewidth=0.7, zorder=-10)\n",
    "ax.grid(linestyle=\"-\", which=\"minor\",linewidth=0.5, zorder=-10)\n",
    "\n",
    "# Plot der Funktion\n",
    "ax.plot(x,y1, zorder=10)\n",
    "#plt.show()"
   ]
  },
  {
   "cell_type": "code",
   "execution_count": 5,
   "metadata": {
    "slideshow": {
     "slide_type": "fragment"
    }
   },
   "outputs": [
    {
     "data": {
      "text/plain": [
       "[<matplotlib.lines.Line2D at 0x12dd55370>]"
      ]
     },
     "execution_count": 5,
     "metadata": {},
     "output_type": "execute_result"
    },
    {
     "data": {
      "application/pdf": "[encoded data removed]",
      "text/plain": [
       "<Figure size 2400x2400 with 1 Axes>"
      ]
     },
     "metadata": {},
     "output_type": "display_data"
    }
   ],
   "source": [
    "import numpy as np\n",
    "import matplotlib.pyplot as plt\n",
    "from matplotlib.ticker import AutoMinorLocator, MultipleLocator, FuncFormatter\n",
    "\n",
    "# Defintionsmenge und Funktion\n",
    "# ----------------------------\n",
    "a= -3.14 # untere x-Intervallgrenze \n",
    "b= 9.42 # obere x-Intervallgrenze\n",
    "c = -1.1# untere y-Intervallgrenze\n",
    "d = 1.1 # obere y-Intervallgrenze\n",
    "x = np.linspace(a, b,1000)\n",
    "y1= np.sin(x)\n",
    "# ----------------------------\n",
    "\n",
    "# Einstellung des Graphen\n",
    "fig=plt.figure(figsize=(8,8))\n",
    "ax= fig.add_subplot(1,1,1, aspect =1)\n",
    "\n",
    "# Definiton der Haupteinheiten, reele Zahlen ohne die 0 \n",
    "def major_tick(x, pos):\n",
    "    if x==0:\n",
    "        return \"\"\n",
    "    return int(x)\n",
    "\n",
    "# Achsenskalierung\n",
    "ax.xaxis.set_major_locator(MultipleLocator(1))\n",
    "ax.xaxis.set_minor_locator(AutoMinorLocator(2))\n",
    "ax.yaxis.set_major_locator(MultipleLocator(1))\n",
    "ax.yaxis.set_minor_locator(AutoMinorLocator(2))\n",
    "ax.xaxis.set_major_formatter(FuncFormatter(major_tick))\n",
    "ax.yaxis.set_major_formatter(FuncFormatter(major_tick))\n",
    "\n",
    "# Position der Achsen im Schaubild\n",
    "ax.spines[['top','right']].set_visible(False)\n",
    "ax.spines[['bottom','left']].set_position('zero')\n",
    "\n",
    "# Pfeile für die Achsen\n",
    "ax.plot((1),(0), ls=\"\", marker= \">\", ms=7, color=\"k\", transform=ax.get_yaxis_transform(), clip_on=False)\n",
    "ax.plot((0),(1), ls=\"\", marker= \"^\", ms=7, color=\"k\", transform=ax.get_xaxis_transform(), clip_on=False)\n",
    "\n",
    "# Achsenlänge und Beschriftung\n",
    "ax.set_xlim(a,b)\n",
    "ax.set_ylim(c, d)\n",
    "ax.set_xlabel(\"x\", loc=\"right\")\n",
    "ax.set_ylabel(\"f(x)\", loc=\"top\", rotation=0)\n",
    "\n",
    "# Kästchen\n",
    "ax.grid(linestyle=\"-\", which=\"major\",linewidth=0.7, zorder=-10)\n",
    "ax.grid(linestyle=\"-\", which=\"minor\",linewidth=0.5, zorder=-10)\n",
    "\n",
    "# Plot der Funktion\n",
    "ax.plot(x,y1, zorder=10)\n",
    "#plt.show()"
   ]
  },
  {
   "cell_type": "markdown",
   "metadata": {
    "slideshow": {
     "slide_type": "slide"
    }
   },
   "source": [
    "\n",
    "##### Kosinus-Funktion\n",
    "\n",
    "- Defintionsmenge: $\\mathbb{R}$\n",
    "- Wertemenge: $W=\\{f(x)|-1\\leq f(x)\\leq 1\\}$\n",
    "- periosisch\n",
    "- Periode $p=2\\pi$\n",
    "- achsensymmetrisch zur y-Achse\n",
    "\n",
    "$$\n",
    "\\cos(-x)=\\cos(x)\n",
    "$$\n",
    "\n",
    "- Nullstellen:\n",
    "\n",
    "$$\n",
    "\\begin{aligned}\n",
    "..., -\\frac{\\pi}{2}, \\frac{\\pi}{2}, \\frac{3}{2}\\pi, \\frac{5}{2}\\pi, ...\\\\\n",
    "\\text{allgemein: }\\frac{2k+1}{2}\\cdot \\pi \\quad ,k\\in \\mathbb{Z}\n",
    "\\end{aligned}\n",
    "$$\n",
    "\n"
   ]
  },
  {
   "cell_type": "markdown",
   "metadata": {
    "slideshow": {
     "slide_type": "slide"
    }
   },
   "source": [
    "- Maximalstellen:\n",
    "\n",
    "$$\n",
    "\\begin{aligned}\n",
    "..., -2\\pi, 0, 2\\pi, 4\\pi, ...\\\\\n",
    "\\text{allgemein: }2k\\cdot \\pi  \\quad ,k\\in \\mathbb{Z}\n",
    "\\end{aligned}\n",
    "$$\n",
    "\n",
    "- Minimalstellen:\n",
    "\n",
    "$$\n",
    "\\begin{aligned}\n",
    "..., -\\pi, \\pi, 3\\pi, 5\\pi, ...\\\\\n",
    "\\text{allgemein: }(2k+1)\\pi \\quad , k\\in \\mathbb{Z}\n",
    "\\end{aligned}\n",
    "$$"
   ]
  },
  {
   "cell_type": "code",
   "execution_count": 6,
   "metadata": {
    "slideshow": {
     "slide_type": "slide"
    }
   },
   "outputs": [
    {
     "data": {
      "text/plain": [
       "[<matplotlib.lines.Line2D at 0x12cfae9c0>]"
      ]
     },
     "execution_count": 6,
     "metadata": {},
     "output_type": "execute_result"
    },
    {
     "data": {
      "application/pdf": "[encoded data removed]",
      "text/plain": [
       "<Figure size 2400x2400 with 1 Axes>"
      ]
     },
     "metadata": {},
     "output_type": "display_data"
    }
   ],
   "source": [
    "import numpy as np\n",
    "import matplotlib.pyplot as plt\n",
    "from matplotlib.ticker import AutoMinorLocator, MultipleLocator, FuncFormatter, FormatStrFormatter\n",
    "\n",
    "# Defintionsmenge und Funktion\n",
    "# ----------------------------\n",
    "a= -np.pi # untere Intervallgrenze \n",
    "b= 3*np.pi # obere Intervallgrenze\n",
    "c = -1.1 #untere y-Intervallgrenze\n",
    "d = 1.1 # obere y-Intervallgrenze\n",
    "x = np.linspace(a, b,1000)\n",
    "y1= np.cos(x)\n",
    "# ----------------------------\n",
    "\n",
    "# Einstellung des Graphen\n",
    "fig=plt.figure(figsize=(8,8))\n",
    "ax = fig.add_subplot(1,1,1, aspect=1)\n",
    "\n",
    "# Beschrifung der y-Achsenskala\n",
    "def major_ytick(x, pos):\n",
    "    if x==0:\n",
    "        return \"\"\n",
    "    return int(x)\n",
    "# Beschriftung der x-Achsenskala\n",
    "def major_xtick(x, pos):\n",
    "    if x==0:\n",
    "        return \"\"\n",
    "    if x%np.pi==0:\n",
    "        if x/np.pi == 1:\n",
    "            return(r\"$\\pi$\")\n",
    "        if x/np.pi == -1:\n",
    "            return (r\"$-\\pi$\")\n",
    "        return (str(int(x/np.pi)) +r\"$\\pi$\")\n",
    "    if 2*x%np.pi == 0:\n",
    "        return (r\"$\\frac{s1}{2}\\pi$\".replace('s1', str(int(2*x/np.pi))))\n",
    "    return \"\"\n",
    "\n",
    "# Achsenskalierung\n",
    "ax.xaxis.set_major_locator(plt.MultipleLocator(np.pi/2))\n",
    "ax.xaxis.set_minor_locator(plt.MultipleLocator(np.pi/4))\n",
    "ax.yaxis.set_major_locator(MultipleLocator(1))\n",
    "ax.yaxis.set_minor_locator(AutoMinorLocator(2))\n",
    "ax.xaxis.set_major_formatter(FuncFormatter(major_xtick))\n",
    "ax.yaxis.set_major_formatter(FuncFormatter(major_ytick))\n",
    "\n",
    "# Position der Achsen im Schaubild\n",
    "ax.spines[['top','right']].set_visible(False)\n",
    "ax.spines[['bottom','left']].set_position('zero')\n",
    "\n",
    "# Pfeile für die Achsen\n",
    "ax.plot((1),(0), ls=\"\", marker= \">\", ms=7, color=\"k\", transform=ax.get_yaxis_transform(), clip_on=False)\n",
    "ax.plot((0),(1), ls=\"\", marker= \"^\", ms=7, color=\"k\", transform=ax.get_xaxis_transform(), clip_on=False)\n",
    "\n",
    "# Achsenlänge und Beschriftung\n",
    "ax.set_xlim(a,b)\n",
    "ax.set_ylim(c, d)\n",
    "ax.set_xlabel(\"x\", loc=\"right\")\n",
    "ax.set_ylabel(\"f(x)\", loc=\"top\", rotation=0)\n",
    "\n",
    "# Kästchen\n",
    "ax.grid(linestyle=\"-\", which=\"major\",linewidth=0.7, zorder=-10)\n",
    "ax.grid(linestyle=\"-\", which=\"minor\",linewidth=0.5, zorder=-10)\n",
    "\n",
    "# Plot der Funktion\n",
    "ax.plot(x,y1, zorder=10)\n",
    "#plt.show()"
   ]
  },
  {
   "cell_type": "code",
   "execution_count": 7,
   "metadata": {
    "slideshow": {
     "slide_type": "fragment"
    }
   },
   "outputs": [
    {
     "data": {
      "text/plain": [
       "[<matplotlib.lines.Line2D at 0x12cfb88c0>]"
      ]
     },
     "execution_count": 7,
     "metadata": {},
     "output_type": "execute_result"
    },
    {
     "data": {
      "application/pdf": "[encoded data removed]",
      "text/plain": [
       "<Figure size 2400x2400 with 1 Axes>"
      ]
     },
     "metadata": {},
     "output_type": "display_data"
    }
   ],
   "source": [
    "import numpy as np\n",
    "import matplotlib.pyplot as plt\n",
    "from matplotlib.ticker import AutoMinorLocator, MultipleLocator, FuncFormatter\n",
    "\n",
    "# Defintionsmenge und Funktion\n",
    "# ----------------------------\n",
    "a= -3.14 # untere x-Intervallgrenze \n",
    "b= 9.42 # obere x-Intervallgrenze\n",
    "c = -1.1# untere y-Intervallgrenze\n",
    "d = 1.1 # obere y-Intervallgrenze\n",
    "x = np.linspace(a, b,1000)\n",
    "y1= np.cos(x)\n",
    "# ----------------------------\n",
    "\n",
    "# Einstellung des Graphen\n",
    "fig=plt.figure(figsize=(8,8))\n",
    "ax= fig.add_subplot(1,1,1, aspect =1)\n",
    "\n",
    "# Definiton der Haupteinheiten, reele Zahlen ohne die 0 \n",
    "def major_tick(x, pos):\n",
    "    if x==0:\n",
    "        return \"\"\n",
    "    return int(x)\n",
    "\n",
    "# Achsenskalierung\n",
    "ax.xaxis.set_major_locator(MultipleLocator(1))\n",
    "ax.xaxis.set_minor_locator(AutoMinorLocator(2))\n",
    "ax.yaxis.set_major_locator(MultipleLocator(1))\n",
    "ax.yaxis.set_minor_locator(AutoMinorLocator(2))\n",
    "ax.xaxis.set_major_formatter(FuncFormatter(major_tick))\n",
    "ax.yaxis.set_major_formatter(FuncFormatter(major_tick))\n",
    "\n",
    "# Position der Achsen im Schaubild\n",
    "ax.spines[['top','right']].set_visible(False)\n",
    "ax.spines[['bottom','left']].set_position('zero')\n",
    "\n",
    "# Pfeile für die Achsen\n",
    "ax.plot((1),(0), ls=\"\", marker= \">\", ms=7, color=\"k\", transform=ax.get_yaxis_transform(), clip_on=False)\n",
    "ax.plot((0),(1), ls=\"\", marker= \"^\", ms=7, color=\"k\", transform=ax.get_xaxis_transform(), clip_on=False)\n",
    "\n",
    "# Achsenlänge und Beschriftung\n",
    "ax.set_xlim(a,b)\n",
    "ax.set_ylim(c, d)\n",
    "ax.set_xlabel(\"x\", loc=\"right\")\n",
    "ax.set_ylabel(\"f(x)\", loc=\"top\", rotation=0)\n",
    "\n",
    "# Kästchen\n",
    "ax.grid(linestyle=\"-\", which=\"major\",linewidth=0.7, zorder=-10)\n",
    "ax.grid(linestyle=\"-\", which=\"minor\",linewidth=0.5, zorder=-10)\n",
    "\n",
    "# Plot der Funktion\n",
    "ax.plot(x,y1, zorder=10)\n",
    "#plt.show()"
   ]
  },
  {
   "cell_type": "markdown",
   "metadata": {
    "slideshow": {
     "slide_type": "slide"
    }
   },
   "source": [
    "#### Verschieben der Sinusfunktion entlang der y-Achse\n",
    "\n",
    "Funktionsgleichung:\n",
    "\n",
    "$$\n",
    "f(x)=\\sin(x)+d\n",
    "$$\n",
    "\n",
    "Die Mittellinie ist die Gerade $y=d$\n"
   ]
  },
  {
   "cell_type": "markdown",
   "metadata": {
    "slideshow": {
     "slide_type": "fragment"
    }
   },
   "source": [
    "##### Beipsiel\n",
    "$$\n",
    "f(x)= \\sin(x)-2\n",
    "$$\n",
    "\n",
    "Mittellinie: $y=-2$"
   ]
  },
  {
   "cell_type": "code",
   "execution_count": 8,
   "metadata": {
    "slideshow": {
     "slide_type": "slide"
    }
   },
   "outputs": [
    {
     "data": {
      "text/plain": [
       "<matplotlib.collections.LineCollection at 0x12df92210>"
      ]
     },
     "execution_count": 8,
     "metadata": {},
     "output_type": "execute_result"
    },
    {
     "data": {
      "application/pdf": "[encoded data removed]",
      "text/plain": [
       "<Figure size 2400x2400 with 1 Axes>"
      ]
     },
     "metadata": {},
     "output_type": "display_data"
    }
   ],
   "source": [
    "import numpy as np\n",
    "import matplotlib.pyplot as plt\n",
    "from matplotlib.ticker import AutoMinorLocator, MultipleLocator, FuncFormatter, FormatStrFormatter\n",
    "\n",
    "# Defintionsmenge und Funktion\n",
    "# ----------------------------\n",
    "a= -np.pi # untere Intervallgrenze \n",
    "b= 3*np.pi # obere Intervallgrenze\n",
    "c = -3.1 #untere y-Intervallgrenze\n",
    "d = 1.1 # obere y-Intervallgrenze\n",
    "x = np.linspace(a, b,1000)\n",
    "y1= np.sin(x)\n",
    "y2=np.sin(x)-2\n",
    "# ----------------------------\n",
    "\n",
    "# Einstellung des Graphen\n",
    "fig=plt.figure(figsize=(8,8))\n",
    "ax = fig.add_subplot(1,1,1, aspect=1)\n",
    "\n",
    "# Beschrifung der y-Achsenskala\n",
    "def major_ytick(x, pos):\n",
    "    if x==0:\n",
    "        return \"\"\n",
    "    return int(x)\n",
    "# Beschriftung der x-Achsenskala\n",
    "def major_xtick(x, pos):\n",
    "    if x==0:\n",
    "        return \"\"\n",
    "    if x%np.pi==0:\n",
    "        if x/np.pi == 1:\n",
    "            return(r\"$\\pi$\")\n",
    "        if x/np.pi == -1:\n",
    "            return (r\"$-\\pi$\")\n",
    "        return (str(int(x/np.pi)) +r\"$\\pi$\")\n",
    "    if 2*x%np.pi == 0:\n",
    "        return (r\"$\\frac{s1}{2}\\pi$\".replace('s1', str(int(2*x/np.pi))))\n",
    "    return \"\"\n",
    "\n",
    "# Achsenskalierung\n",
    "ax.xaxis.set_major_locator(plt.MultipleLocator(np.pi/2))\n",
    "ax.xaxis.set_minor_locator(plt.MultipleLocator(np.pi/4))\n",
    "ax.yaxis.set_major_locator(MultipleLocator(1))\n",
    "ax.yaxis.set_minor_locator(AutoMinorLocator(2))\n",
    "ax.xaxis.set_major_formatter(FuncFormatter(major_xtick))\n",
    "ax.yaxis.set_major_formatter(FuncFormatter(major_ytick))\n",
    "\n",
    "# Position der Achsen im Schaubild\n",
    "ax.spines[['top','right']].set_visible(False)\n",
    "ax.spines[['bottom','left']].set_position('zero')\n",
    "\n",
    "# Pfeile für die Achsen\n",
    "ax.plot((1),(0), ls=\"\", marker= \">\", ms=7, color=\"k\", transform=ax.get_yaxis_transform(), clip_on=False)\n",
    "ax.plot((0),(1), ls=\"\", marker= \"^\", ms=7, color=\"k\", transform=ax.get_xaxis_transform(), clip_on=False)\n",
    "\n",
    "# Achsenlänge und Beschriftung\n",
    "ax.set_xlim(a,b)\n",
    "ax.set_ylim(c, d)\n",
    "ax.set_xlabel(\"x\", loc=\"right\")\n",
    "ax.set_ylabel(\"f(x)\", loc=\"top\", rotation=0)\n",
    "\n",
    "# Kästchen\n",
    "ax.grid(linestyle=\"-\", which=\"major\",linewidth=0.7, zorder=-10)\n",
    "ax.grid(linestyle=\"-\", which=\"minor\",linewidth=0.5, zorder=-10)\n",
    "\n",
    "# Plot der Funktion\n",
    "ax.plot(x,y1, zorder=10)\n",
    "ax.plot(x,y2, zorder=10)\n",
    "ax.hlines(-2, -3.1, 9.3 , color=\"green\")\n",
    "#plt.show()"
   ]
  },
  {
   "cell_type": "markdown",
   "metadata": {
    "slideshow": {
     "slide_type": "slide"
    }
   },
   "source": [
    "##### Verschieben entlang der x-Achse\n",
    "\n",
    "Funktionsgleichung:\n",
    "\n",
    "$$\n",
    "f(x)=\\sin(x-c)\n",
    "$$\n",
    "\n",
    "Man nennt $c$ auch Phase."
   ]
  },
  {
   "cell_type": "markdown",
   "metadata": {
    "slideshow": {
     "slide_type": "fragment"
    }
   },
   "source": [
    "##### Beipsiel\n",
    "$$\n",
    "f(x)= \\sin(x-1)\n",
    "$$\n"
   ]
  },
  {
   "cell_type": "code",
   "execution_count": 9,
   "metadata": {
    "slideshow": {
     "slide_type": "slide"
    }
   },
   "outputs": [
    {
     "data": {
      "text/plain": [
       "[<matplotlib.lines.Line2D at 0x13801e120>]"
      ]
     },
     "execution_count": 9,
     "metadata": {},
     "output_type": "execute_result"
    },
    {
     "data": {
      "application/pdf": "[encoded data removed]",
      "text/plain": [
       "<Figure size 2400x2400 with 1 Axes>"
      ]
     },
     "metadata": {},
     "output_type": "display_data"
    }
   ],
   "source": [
    "import numpy as np\n",
    "import matplotlib.pyplot as plt\n",
    "from matplotlib.ticker import AutoMinorLocator, MultipleLocator, FuncFormatter, FormatStrFormatter\n",
    "\n",
    "# Defintionsmenge und Funktion\n",
    "# ----------------------------\n",
    "a= -np.pi # untere Intervallgrenze \n",
    "b= 3*np.pi # obere Intervallgrenze\n",
    "c = -1.1 #untere y-Intervallgrenze\n",
    "d = 1.1 # obere y-Intervallgrenze\n",
    "x = np.linspace(a, b,1000)\n",
    "y1= np.sin(x)\n",
    "y2=np.sin(x-1)\n",
    "# ----------------------------\n",
    "\n",
    "# Einstellung des Graphen\n",
    "fig=plt.figure(figsize=(8,8))\n",
    "ax = fig.add_subplot(1,1,1, aspect=1)\n",
    "\n",
    "# Beschrifung der y-Achsenskala\n",
    "def major_ytick(x, pos):\n",
    "    if x==0:\n",
    "        return \"\"\n",
    "    return int(x)\n",
    "# Beschriftung der x-Achsenskala\n",
    "def major_xtick(x, pos):\n",
    "    if x==0:\n",
    "        return \"\"\n",
    "    if x%np.pi==0:\n",
    "        if x/np.pi == 1:\n",
    "            return(r\"$\\pi$\")\n",
    "        if x/np.pi == -1:\n",
    "            return (r\"$-\\pi$\")\n",
    "        return (str(int(x/np.pi)) +r\"$\\pi$\")\n",
    "    if 2*x%np.pi == 0:\n",
    "        return (r\"$\\frac{s1}{2}\\pi$\".replace('s1', str(int(2*x/np.pi))))\n",
    "    return \"\"\n",
    "\n",
    "# Achsenskalierung\n",
    "ax.xaxis.set_major_locator(plt.MultipleLocator(np.pi/2))\n",
    "ax.xaxis.set_minor_locator(plt.MultipleLocator(np.pi/4))\n",
    "ax.yaxis.set_major_locator(MultipleLocator(1))\n",
    "ax.yaxis.set_minor_locator(AutoMinorLocator(2))\n",
    "ax.xaxis.set_major_formatter(FuncFormatter(major_xtick))\n",
    "ax.yaxis.set_major_formatter(FuncFormatter(major_ytick))\n",
    "\n",
    "# Position der Achsen im Schaubild\n",
    "ax.spines[['top','right']].set_visible(False)\n",
    "ax.spines[['bottom','left']].set_position('zero')\n",
    "\n",
    "# Pfeile für die Achsen\n",
    "ax.plot((1),(0), ls=\"\", marker= \">\", ms=7, color=\"k\", transform=ax.get_yaxis_transform(), clip_on=False)\n",
    "ax.plot((0),(1), ls=\"\", marker= \"^\", ms=7, color=\"k\", transform=ax.get_xaxis_transform(), clip_on=False)\n",
    "\n",
    "# Achsenlänge und Beschriftung\n",
    "ax.set_xlim(a,b)\n",
    "ax.set_ylim(c, d)\n",
    "ax.set_xlabel(\"x\", loc=\"right\")\n",
    "ax.set_ylabel(\"f(x)\", loc=\"top\", rotation=0)\n",
    "\n",
    "# Kästchen\n",
    "ax.grid(linestyle=\"-\", which=\"major\",linewidth=0.7, zorder=-10)\n",
    "ax.grid(linestyle=\"-\", which=\"minor\",linewidth=0.5, zorder=-10)\n",
    "\n",
    "# Plot der Funktion\n",
    "ax.plot(x,y1, zorder=10)\n",
    "ax.plot(x,y2, zorder=10)\n",
    "#plt.show()"
   ]
  },
  {
   "cell_type": "markdown",
   "metadata": {
    "slideshow": {
     "slide_type": "slide"
    }
   },
   "source": [
    "##### Beobachtung\n",
    "$$\n",
    "f(x)=\\sin(x-2\\cdot \\pi)=\\sin(x+2\\cdot \\pi )=\\cos(x)\n",
    "$$"
   ]
  },
  {
   "cell_type": "code",
   "execution_count": 10,
   "metadata": {
    "slideshow": {
     "slide_type": "fragment"
    }
   },
   "outputs": [
    {
     "data": {
      "text/plain": [
       "[<matplotlib.lines.Line2D at 0x1380e72c0>]"
      ]
     },
     "execution_count": 10,
     "metadata": {},
     "output_type": "execute_result"
    },
    {
     "data": {
      "application/pdf": "[encoded data removed]",
      "text/plain": [
       "<Figure size 2400x2400 with 1 Axes>"
      ]
     },
     "metadata": {},
     "output_type": "display_data"
    }
   ],
   "source": [
    "import numpy as np\n",
    "import matplotlib.pyplot as plt\n",
    "from matplotlib.ticker import AutoMinorLocator, MultipleLocator, FuncFormatter, FormatStrFormatter\n",
    "\n",
    "# Defintionsmenge und Funktion\n",
    "# ----------------------------\n",
    "a= -np.pi # untere Intervallgrenze \n",
    "b= 3*np.pi # obere Intervallgrenze\n",
    "c = -1.1 #untere y-Intervallgrenze\n",
    "d = 1.1 # obere y-Intervallgrenze\n",
    "x = np.linspace(a, b,1000)\n",
    "y1= np.sin(x)\n",
    "y2=np.sin(x-2*np.pi)\n",
    "# ----------------------------\n",
    "\n",
    "# Einstellung des Graphen\n",
    "fig=plt.figure(figsize=(8,8))\n",
    "ax = fig.add_subplot(1,1,1, aspect=1)\n",
    "\n",
    "# Beschrifung der y-Achsenskala\n",
    "def major_ytick(x, pos):\n",
    "    if x==0:\n",
    "        return \"\"\n",
    "    return int(x)\n",
    "# Beschriftung der x-Achsenskala\n",
    "def major_xtick(x, pos):\n",
    "    if x==0:\n",
    "        return \"\"\n",
    "    if x%np.pi==0:\n",
    "        if x/np.pi == 1:\n",
    "            return(r\"$\\pi$\")\n",
    "        if x/np.pi == -1:\n",
    "            return (r\"$-\\pi$\")\n",
    "        return (str(int(x/np.pi)) +r\"$\\pi$\")\n",
    "    if 2*x%np.pi == 0:\n",
    "        return (r\"$\\frac{s1}{2}\\pi$\".replace('s1', str(int(2*x/np.pi))))\n",
    "    return \"\"\n",
    "\n",
    "# Achsenskalierung\n",
    "ax.xaxis.set_major_locator(plt.MultipleLocator(np.pi/2))\n",
    "ax.xaxis.set_minor_locator(plt.MultipleLocator(np.pi/4))\n",
    "ax.yaxis.set_major_locator(MultipleLocator(1))\n",
    "ax.yaxis.set_minor_locator(AutoMinorLocator(2))\n",
    "ax.xaxis.set_major_formatter(FuncFormatter(major_xtick))\n",
    "ax.yaxis.set_major_formatter(FuncFormatter(major_ytick))\n",
    "\n",
    "# Position der Achsen im Schaubild\n",
    "ax.spines[['top','right']].set_visible(False)\n",
    "ax.spines[['bottom','left']].set_position('zero')\n",
    "\n",
    "# Pfeile für die Achsen\n",
    "ax.plot((1),(0), ls=\"\", marker= \">\", ms=7, color=\"k\", transform=ax.get_yaxis_transform(), clip_on=False)\n",
    "ax.plot((0),(1), ls=\"\", marker= \"^\", ms=7, color=\"k\", transform=ax.get_xaxis_transform(), clip_on=False)\n",
    "\n",
    "# Achsenlänge und Beschriftung\n",
    "ax.set_xlim(a,b)\n",
    "ax.set_ylim(c, d)\n",
    "ax.set_xlabel(\"x\", loc=\"right\")\n",
    "ax.set_ylabel(\"f(x)\", loc=\"top\", rotation=0)\n",
    "\n",
    "# Kästchen\n",
    "ax.grid(linestyle=\"-\", which=\"major\",linewidth=0.7, zorder=-10)\n",
    "ax.grid(linestyle=\"-\", which=\"minor\",linewidth=0.5, zorder=-10)\n",
    "\n",
    "# Plot der Funktion\n",
    "ax.plot(x,y1, zorder=10)\n",
    "ax.plot(x,y2, zorder=10)\n",
    "#plt.show()"
   ]
  },
  {
   "cell_type": "markdown",
   "metadata": {
    "slideshow": {
     "slide_type": "slide"
    }
   },
   "source": [
    "##### Strecken / Stauchen\n",
    "\n",
    "Funktionsgleichung:\n",
    "$$\n",
    "f(x)=a\\cdot \\sin(x)\n",
    "$$\n",
    "$|a|$ nennt man Amplitude (= Ausschlag). Die Amplitude ist immer positiv.\n",
    "\n"
   ]
  },
  {
   "cell_type": "markdown",
   "metadata": {
    "slideshow": {
     "slide_type": "fragment"
    }
   },
   "source": [
    "##### Beipsiel\n",
    "$$\n",
    "f(x)= 3\\cdot \\sin(x)\n",
    "$$"
   ]
  },
  {
   "cell_type": "code",
   "execution_count": 11,
   "metadata": {
    "slideshow": {
     "slide_type": "slide"
    }
   },
   "outputs": [
    {
     "data": {
      "text/plain": [
       "<matplotlib.collections.LineCollection at 0x12ff833e0>"
      ]
     },
     "execution_count": 11,
     "metadata": {},
     "output_type": "execute_result"
    },
    {
     "data": {
      "application/pdf": "[encoded data removed]",
      "text/plain": [
       "<Figure size 2400x2400 with 1 Axes>"
      ]
     },
     "metadata": {},
     "output_type": "display_data"
    }
   ],
   "source": [
    "import numpy as np\n",
    "import matplotlib.pyplot as plt\n",
    "from matplotlib.ticker import AutoMinorLocator, MultipleLocator, FuncFormatter, FormatStrFormatter\n",
    "\n",
    "# Defintionsmenge und Funktion\n",
    "# ----------------------------\n",
    "a= -np.pi # untere Intervallgrenze \n",
    "b= 3*np.pi # obere Intervallgrenze\n",
    "c = -3.1 #untere y-Intervallgrenze\n",
    "d = 3.1 # obere y-Intervallgrenze\n",
    "x = np.linspace(a, b,1000)\n",
    "y1= np.sin(x)\n",
    "y2=3*np.sin(x)\n",
    "# ----------------------------\n",
    "\n",
    "# Einstellung des Graphen\n",
    "fig=plt.figure(figsize=(8,8))\n",
    "ax = fig.add_subplot(1,1,1, aspect=1)\n",
    "\n",
    "# Beschrifung der y-Achsenskala\n",
    "def major_ytick(x, pos):\n",
    "    if x==0:\n",
    "        return \"\"\n",
    "    return int(x)\n",
    "# Beschriftung der x-Achsenskala\n",
    "def major_xtick(x, pos):\n",
    "    if x==0:\n",
    "        return \"\"\n",
    "    if x%np.pi==0:\n",
    "        if x/np.pi == 1:\n",
    "            return(r\"$\\pi$\")\n",
    "        if x/np.pi == -1:\n",
    "            return (r\"$-\\pi$\")\n",
    "        return (str(int(x/np.pi)) +r\"$\\pi$\")\n",
    "    if 2*x%np.pi == 0:\n",
    "        return (r\"$\\frac{s1}{2}\\pi$\".replace('s1', str(int(2*x/np.pi))))\n",
    "    return \"\"\n",
    "\n",
    "# Achsenskalierung\n",
    "ax.xaxis.set_major_locator(plt.MultipleLocator(np.pi/2))\n",
    "ax.xaxis.set_minor_locator(plt.MultipleLocator(np.pi/4))\n",
    "ax.yaxis.set_major_locator(MultipleLocator(1))\n",
    "ax.yaxis.set_minor_locator(AutoMinorLocator(2))\n",
    "ax.xaxis.set_major_formatter(FuncFormatter(major_xtick))\n",
    "ax.yaxis.set_major_formatter(FuncFormatter(major_ytick))\n",
    "\n",
    "# Position der Achsen im Schaubild\n",
    "ax.spines[['top','right']].set_visible(False)\n",
    "ax.spines[['bottom','left']].set_position('zero')\n",
    "\n",
    "# Pfeile für die Achsen\n",
    "ax.plot((1),(0), ls=\"\", marker= \">\", ms=7, color=\"k\", transform=ax.get_yaxis_transform(), clip_on=False)\n",
    "ax.plot((0),(1), ls=\"\", marker= \"^\", ms=7, color=\"k\", transform=ax.get_xaxis_transform(), clip_on=False)\n",
    "\n",
    "# Achsenlänge und Beschriftung\n",
    "ax.set_xlim(a,b)\n",
    "ax.set_ylim(c, d)\n",
    "ax.set_xlabel(\"x\", loc=\"right\")\n",
    "ax.set_ylabel(\"f(x)\", loc=\"top\", rotation=0)\n",
    "\n",
    "# Kästchen\n",
    "ax.grid(linestyle=\"-\", which=\"major\",linewidth=0.7, zorder=-10)\n",
    "ax.grid(linestyle=\"-\", which=\"minor\",linewidth=0.5, zorder=-10)\n",
    "\n",
    "# Plot der Funktion\n",
    "ax.plot(x,y1, zorder=10)\n",
    "ax.plot(x,y2, zorder=10)\n",
    "ax.vlines(0.5*np.pi, 0, 3 , color=\"green\")\n",
    "#plt.show()"
   ]
  },
  {
   "cell_type": "markdown",
   "metadata": {
    "slideshow": {
     "slide_type": "slide"
    }
   },
   "source": [
    "##### Periode verändern\n",
    "\n",
    "Funktionsgleichung:\n",
    "\n",
    "$$\n",
    "f(x)=\\sin(b\\cdot x)\n",
    "$$\n",
    "\n",
    "\n",
    "Das Verhältnis\n",
    "$$\n",
    "p=\\frac{2\\pi}{b}\n",
    "$$\n",
    "nennt man Periode.\n",
    "\n",
    "\n"
   ]
  },
  {
   "cell_type": "markdown",
   "metadata": {
    "slideshow": {
     "slide_type": "fragment"
    }
   },
   "source": [
    "##### Beispiel\n",
    "$$\n",
    "f(x)= \\sin(2\\cdot x)\n",
    "$$\n",
    "\n",
    "Die Periode ist:\n",
    "$$\n",
    "p = \\frac{2 \\pi}{2}=\\pi\n",
    "$$"
   ]
  },
  {
   "cell_type": "code",
   "execution_count": 12,
   "metadata": {
    "slideshow": {
     "slide_type": "slide"
    }
   },
   "outputs": [
    {
     "data": {
      "text/plain": [
       "[<matplotlib.lines.Line2D at 0x12dd55820>]"
      ]
     },
     "execution_count": 12,
     "metadata": {},
     "output_type": "execute_result"
    },
    {
     "data": {
      "application/pdf": "[encoded data removed]",
      "text/plain": [
       "<Figure size 2400x2400 with 1 Axes>"
      ]
     },
     "metadata": {},
     "output_type": "display_data"
    }
   ],
   "source": [
    "import numpy as np\n",
    "import matplotlib.pyplot as plt\n",
    "from matplotlib.ticker import AutoMinorLocator, MultipleLocator, FuncFormatter, FormatStrFormatter\n",
    "\n",
    "# Defintionsmenge und Funktion\n",
    "# ----------------------------\n",
    "a= -np.pi # untere Intervallgrenze \n",
    "b= 3*np.pi # obere Intervallgrenze\n",
    "c = -1.1 #untere y-Intervallgrenze\n",
    "d = 1.1 # obere y-Intervallgrenze\n",
    "x = np.linspace(a, b,1000)\n",
    "y1= np.sin(x)\n",
    "y2=np.sin(2*x)\n",
    "# ----------------------------\n",
    "\n",
    "# Einstellung des Graphen\n",
    "fig=plt.figure(figsize=(8,8))\n",
    "ax = fig.add_subplot(1,1,1, aspect=1)\n",
    "\n",
    "# Beschrifung der y-Achsenskala\n",
    "def major_ytick(x, pos):\n",
    "    if x==0:\n",
    "        return \"\"\n",
    "    return int(x)\n",
    "# Beschriftung der x-Achsenskala\n",
    "def major_xtick(x, pos):\n",
    "    if x==0:\n",
    "        return \"\"\n",
    "    if x%np.pi==0:\n",
    "        if x/np.pi == 1:\n",
    "            return(r\"$\\pi$\")\n",
    "        if x/np.pi == -1:\n",
    "            return (r\"$-\\pi$\")\n",
    "        return (str(int(x/np.pi)) +r\"$\\pi$\")\n",
    "    if 2*x%np.pi == 0:\n",
    "        return (r\"$\\frac{s1}{2}\\pi$\".replace('s1', str(int(2*x/np.pi))))\n",
    "    return \"\"\n",
    "\n",
    "# Achsenskalierung\n",
    "ax.xaxis.set_major_locator(plt.MultipleLocator(np.pi/2))\n",
    "ax.xaxis.set_minor_locator(plt.MultipleLocator(np.pi/4))\n",
    "ax.yaxis.set_major_locator(MultipleLocator(1))\n",
    "ax.yaxis.set_minor_locator(AutoMinorLocator(2))\n",
    "ax.xaxis.set_major_formatter(FuncFormatter(major_xtick))\n",
    "ax.yaxis.set_major_formatter(FuncFormatter(major_ytick))\n",
    "\n",
    "# Position der Achsen im Schaubild\n",
    "ax.spines[['top','right']].set_visible(False)\n",
    "ax.spines[['bottom','left']].set_position('zero')\n",
    "\n",
    "# Pfeile für die Achsen\n",
    "ax.plot((1),(0), ls=\"\", marker= \">\", ms=7, color=\"k\", transform=ax.get_yaxis_transform(), clip_on=False)\n",
    "ax.plot((0),(1), ls=\"\", marker= \"^\", ms=7, color=\"k\", transform=ax.get_xaxis_transform(), clip_on=False)\n",
    "\n",
    "# Achsenlänge und Beschriftung\n",
    "ax.set_xlim(a,b)\n",
    "ax.set_ylim(c, d)\n",
    "ax.set_xlabel(\"x\", loc=\"right\")\n",
    "ax.set_ylabel(\"f(x)\", loc=\"top\", rotation=0)\n",
    "\n",
    "# Kästchen\n",
    "ax.grid(linestyle=\"-\", which=\"major\",linewidth=0.7, zorder=-10)\n",
    "ax.grid(linestyle=\"-\", which=\"minor\",linewidth=0.5, zorder=-10)\n",
    "\n",
    "# Plot der Funktion\n",
    "ax.plot(x,y1, zorder=10)\n",
    "ax.plot(x,y2, zorder=10)\n",
    "#plt.show()"
   ]
  },
  {
   "cell_type": "markdown",
   "metadata": {
    "slideshow": {
     "slide_type": "slide"
    }
   },
   "source": [
    "##### Beipsiel\n",
    "$$\n",
    "f(x)= \\sin\\left(\\frac{1}{3}\\cdot x\\right)\n",
    "$$"
   ]
  },
  {
   "cell_type": "code",
   "execution_count": 13,
   "metadata": {
    "slideshow": {
     "slide_type": "fragment"
    }
   },
   "outputs": [
    {
     "data": {
      "text/plain": [
       "[<matplotlib.lines.Line2D at 0x1383b7920>]"
      ]
     },
     "execution_count": 13,
     "metadata": {},
     "output_type": "execute_result"
    },
    {
     "data": {
      "application/pdf": "[encoded data removed]",
      "text/plain": [
       "<Figure size 2400x2400 with 1 Axes>"
      ]
     },
     "metadata": {},
     "output_type": "display_data"
    }
   ],
   "source": [
    "import numpy as np\n",
    "import matplotlib.pyplot as plt\n",
    "from matplotlib.ticker import AutoMinorLocator, MultipleLocator, FuncFormatter, FormatStrFormatter\n",
    "\n",
    "# Defintionsmenge und Funktion\n",
    "# ----------------------------\n",
    "a= -np.pi # untere Intervallgrenze \n",
    "b= 6*np.pi # obere Intervallgrenze\n",
    "c = -1.1 #untere y-Intervallgrenze\n",
    "d = 1.1 # obere y-Intervallgrenze\n",
    "x = np.linspace(a, b,1000)\n",
    "y1= np.sin(x)\n",
    "y2=np.sin(1/3*x)\n",
    "# ----------------------------\n",
    "\n",
    "# Einstellung des Graphen\n",
    "fig=plt.figure(figsize=(8,8))\n",
    "ax = fig.add_subplot(1,1,1, aspect=1)\n",
    "\n",
    "# Beschrifung der y-Achsenskala\n",
    "def major_ytick(x, pos):\n",
    "    if x==0:\n",
    "        return \"\"\n",
    "    return int(x)\n",
    "# Beschriftung der x-Achsenskala\n",
    "def major_xtick(x, pos):\n",
    "    if x==0:\n",
    "        return \"\"\n",
    "    if x%np.pi==0:\n",
    "        if x/np.pi == 1:\n",
    "            return(r\"$\\pi$\")\n",
    "        if x/np.pi == -1:\n",
    "            return (r\"$-\\pi$\")\n",
    "        return (str(int(x/np.pi)) +r\"$\\pi$\")\n",
    "    if 2*x%np.pi == 0:\n",
    "        return (r\"$\\frac{s1}{2}\\pi$\".replace('s1', str(int(2*x/np.pi))))\n",
    "    return \"\"\n",
    "\n",
    "# Achsenskalierung\n",
    "ax.xaxis.set_major_locator(plt.MultipleLocator(np.pi/2))\n",
    "ax.xaxis.set_minor_locator(plt.MultipleLocator(np.pi/4))\n",
    "ax.yaxis.set_major_locator(MultipleLocator(1))\n",
    "ax.yaxis.set_minor_locator(AutoMinorLocator(2))\n",
    "ax.xaxis.set_major_formatter(FuncFormatter(major_xtick))\n",
    "ax.yaxis.set_major_formatter(FuncFormatter(major_ytick))\n",
    "\n",
    "# Position der Achsen im Schaubild\n",
    "ax.spines[['top','right']].set_visible(False)\n",
    "ax.spines[['bottom','left']].set_position('zero')\n",
    "\n",
    "# Pfeile für die Achsen\n",
    "ax.plot((1),(0), ls=\"\", marker= \">\", ms=7, color=\"k\", transform=ax.get_yaxis_transform(), clip_on=False)\n",
    "ax.plot((0),(1), ls=\"\", marker= \"^\", ms=7, color=\"k\", transform=ax.get_xaxis_transform(), clip_on=False)\n",
    "\n",
    "# Achsenlänge und Beschriftung\n",
    "ax.set_xlim(a,b)\n",
    "ax.set_ylim(c, d)\n",
    "ax.set_xlabel(\"x\", loc=\"right\")\n",
    "ax.set_ylabel(\"f(x)\", loc=\"top\", rotation=0)\n",
    "\n",
    "# Kästchen\n",
    "ax.grid(linestyle=\"-\", which=\"major\",linewidth=0.7, zorder=-10)\n",
    "ax.grid(linestyle=\"-\", which=\"minor\",linewidth=0.5, zorder=-10)\n",
    "\n",
    "# Plot der Funktion\n",
    "ax.plot(x,y1, zorder=10)\n",
    "ax.plot(x,y2, zorder=10)\n",
    "#plt.show()"
   ]
  },
  {
   "cell_type": "markdown",
   "metadata": {
    "slideshow": {
     "slide_type": "slide"
    }
   },
   "source": [
    "##### Spiegeln an der x-Achse\n",
    "Funktionsgleichung:\n",
    "$$\n",
    "f(x)=-\\sin(x) = \\sin(-x)\n",
    "$$ "
   ]
  },
  {
   "cell_type": "code",
   "execution_count": 14,
   "metadata": {
    "slideshow": {
     "slide_type": "slide"
    }
   },
   "outputs": [
    {
     "data": {
      "text/plain": [
       "[<matplotlib.lines.Line2D at 0x138326600>]"
      ]
     },
     "execution_count": 14,
     "metadata": {},
     "output_type": "execute_result"
    },
    {
     "data": {
      "application/pdf": "[encoded data removed]",
      "text/plain": [
       "<Figure size 2400x2400 with 1 Axes>"
      ]
     },
     "metadata": {},
     "output_type": "display_data"
    }
   ],
   "source": [
    "import numpy as np\n",
    "import matplotlib.pyplot as plt\n",
    "from matplotlib.ticker import AutoMinorLocator, MultipleLocator, FuncFormatter, FormatStrFormatter\n",
    "\n",
    "# Defintionsmenge und Funktion\n",
    "# ----------------------------\n",
    "a= -np.pi # untere Intervallgrenze \n",
    "b= 2*np.pi # obere Intervallgrenze\n",
    "c = -1.1 #untere y-Intervallgrenze\n",
    "d = 1.1 # obere y-Intervallgrenze\n",
    "x = np.linspace(a, b,1000)\n",
    "y1= -np.sin(x)\n",
    "# ----------------------------\n",
    "\n",
    "# Einstellung des Graphen\n",
    "fig=plt.figure(figsize=(8,8))\n",
    "ax = fig.add_subplot(1,1,1, aspect=1)\n",
    "\n",
    "# Beschrifung der y-Achsenskala\n",
    "def major_ytick(x, pos):\n",
    "    if x==0:\n",
    "        return \"\"\n",
    "    return int(x)\n",
    "# Beschriftung der x-Achsenskala\n",
    "def major_xtick(x, pos):\n",
    "    if x==0:\n",
    "        return \"\"\n",
    "    if x%np.pi==0:\n",
    "        if x/np.pi == 1:\n",
    "            return(r\"$\\pi$\")\n",
    "        if x/np.pi == -1:\n",
    "            return (r\"$-\\pi$\")\n",
    "        return (str(int(x/np.pi)) +r\"$\\pi$\")\n",
    "    if 2*x%np.pi == 0:\n",
    "        return (r\"$\\frac{s1}{2}\\pi$\".replace('s1', str(int(2*x/np.pi))))\n",
    "    return \"\"\n",
    "\n",
    "# Achsenskalierung\n",
    "ax.xaxis.set_major_locator(plt.MultipleLocator(np.pi/2))\n",
    "ax.xaxis.set_minor_locator(plt.MultipleLocator(np.pi/4))\n",
    "ax.yaxis.set_major_locator(MultipleLocator(1))\n",
    "ax.yaxis.set_minor_locator(AutoMinorLocator(2))\n",
    "ax.xaxis.set_major_formatter(FuncFormatter(major_xtick))\n",
    "ax.yaxis.set_major_formatter(FuncFormatter(major_ytick))\n",
    "\n",
    "# Position der Achsen im Schaubild\n",
    "ax.spines[['top','right']].set_visible(False)\n",
    "ax.spines[['bottom','left']].set_position('zero')\n",
    "\n",
    "# Pfeile für die Achsen\n",
    "ax.plot((1),(0), ls=\"\", marker= \">\", ms=7, color=\"k\", transform=ax.get_yaxis_transform(), clip_on=False)\n",
    "ax.plot((0),(1), ls=\"\", marker= \"^\", ms=7, color=\"k\", transform=ax.get_xaxis_transform(), clip_on=False)\n",
    "\n",
    "# Achsenlänge und Beschriftung\n",
    "ax.set_xlim(a,b)\n",
    "ax.set_ylim(c, d)\n",
    "ax.set_xlabel(\"x\", loc=\"right\")\n",
    "ax.set_ylabel(\"f(x)\", loc=\"top\", rotation=0)\n",
    "\n",
    "# Kästchen\n",
    "ax.grid(linestyle=\"-\", which=\"major\",linewidth=0.7, zorder=-10)\n",
    "ax.grid(linestyle=\"-\", which=\"minor\",linewidth=0.5, zorder=-10)\n",
    "\n",
    "# Plot der Funktion\n",
    "ax.plot(x,y1, zorder=10)\n",
    "#plt.show()"
   ]
  },
  {
   "cell_type": "code",
   "execution_count": 15,
   "metadata": {
    "slideshow": {
     "slide_type": "slide"
    }
   },
   "outputs": [
    {
     "data": {
      "text/plain": [
       "[<matplotlib.lines.Line2D at 0x1384ee690>]"
      ]
     },
     "execution_count": 15,
     "metadata": {},
     "output_type": "execute_result"
    },
    {
     "data": {
      "application/pdf": "[encoded data removed]",
      "text/plain": [
       "<Figure size 2400x2400 with 1 Axes>"
      ]
     },
     "metadata": {},
     "output_type": "display_data"
    }
   ],
   "source": [
    "import numpy as np\n",
    "import matplotlib.pyplot as plt\n",
    "from matplotlib.ticker import AutoMinorLocator, MultipleLocator, FuncFormatter, FormatStrFormatter\n",
    "\n",
    "# Defintionsmenge und Funktion\n",
    "# ----------------------------\n",
    "a= -np.pi # untere Intervallgrenze \n",
    "b= 2*np.pi # obere Intervallgrenze\n",
    "c = -1.1 #untere y-Intervallgrenze\n",
    "d = 1.1 # obere y-Intervallgrenze\n",
    "x = np.linspace(a, b,1000)\n",
    "y1= np.sin(-x)\n",
    "# ----------------------------\n",
    "\n",
    "# Einstellung des Graphen\n",
    "fig=plt.figure(figsize=(8,8))\n",
    "ax = fig.add_subplot(1,1,1, aspect=1)\n",
    "\n",
    "# Beschrifung der y-Achsenskala\n",
    "def major_ytick(x, pos):\n",
    "    if x==0:\n",
    "        return \"\"\n",
    "    return int(x)\n",
    "# Beschriftung der x-Achsenskala\n",
    "def major_xtick(x, pos):\n",
    "    if x==0:\n",
    "        return \"\"\n",
    "    if x%np.pi==0:\n",
    "        if x/np.pi == 1:\n",
    "            return(r\"$\\pi$\")\n",
    "        if x/np.pi == -1:\n",
    "            return (r\"$-\\pi$\")\n",
    "        return (str(int(x/np.pi)) +r\"$\\pi$\")\n",
    "    if 2*x%np.pi == 0:\n",
    "        return (r\"$\\frac{s1}{2}\\pi$\".replace('s1', str(int(2*x/np.pi))))\n",
    "    return \"\"\n",
    "\n",
    "# Achsenskalierung\n",
    "ax.xaxis.set_major_locator(plt.MultipleLocator(np.pi/2))\n",
    "ax.xaxis.set_minor_locator(plt.MultipleLocator(np.pi/4))\n",
    "ax.yaxis.set_major_locator(MultipleLocator(1))\n",
    "ax.yaxis.set_minor_locator(AutoMinorLocator(2))\n",
    "ax.xaxis.set_major_formatter(FuncFormatter(major_xtick))\n",
    "ax.yaxis.set_major_formatter(FuncFormatter(major_ytick))\n",
    "\n",
    "# Position der Achsen im Schaubild\n",
    "ax.spines[['top','right']].set_visible(False)\n",
    "ax.spines[['bottom','left']].set_position('zero')\n",
    "\n",
    "# Pfeile für die Achsen\n",
    "ax.plot((1),(0), ls=\"\", marker= \">\", ms=7, color=\"k\", transform=ax.get_yaxis_transform(), clip_on=False)\n",
    "ax.plot((0),(1), ls=\"\", marker= \"^\", ms=7, color=\"k\", transform=ax.get_xaxis_transform(), clip_on=False)\n",
    "\n",
    "# Achsenlänge und Beschriftung\n",
    "ax.set_xlim(a,b)\n",
    "ax.set_ylim(c, d)\n",
    "ax.set_xlabel(\"x\", loc=\"right\")\n",
    "ax.set_ylabel(\"f(x)\", loc=\"top\", rotation=0)\n",
    "\n",
    "# Kästchen\n",
    "ax.grid(linestyle=\"-\", which=\"major\",linewidth=0.7, zorder=-10)\n",
    "ax.grid(linestyle=\"-\", which=\"minor\",linewidth=0.5, zorder=-10)\n",
    "\n",
    "# Plot der Funktion\n",
    "ax.plot(x,y1, zorder=10)\n",
    "#plt.show()"
   ]
  },
  {
   "cell_type": "markdown",
   "metadata": {
    "slideshow": {
     "slide_type": "slide"
    }
   },
   "source": [
    "##### Allgemeine Sinus-Funktion\n",
    "\n",
    "<div style=\"border: 1px solid blue\">\n",
    "\n",
    "Definition:\n",
    "$a, b, c, d \\in \\mathbb{R}$\n",
    "Der Graph der Funktion   \n",
    "$$\n",
    "g(x)=a\\cdot \\sin(b(x-c))+d\n",
    "$$ \n",
    "geht aus der Funktion \n",
    "$$\n",
    "f(x) = \\sin(x)\n",
    "$$\n",
    "hervor, indem \n",
    "- f um $|a|$ in y-Richtung gestreckt wird. Die Amplitude ist: $A = |a|$ \n",
    "- f um Faktor $\\frac{1}{b}$ in x-Richtung gestreckt wird. \n",
    "- f um c in x-Richtung und um d in y-Richtung verschoben wird.\n"
   ]
  },
  {
   "cell_type": "markdown",
   "metadata": {
    "slideshow": {
     "slide_type": "slide"
    }
   },
   "source": [
    "##### Bemerkung\n",
    "\n",
    "Analoge Aussagen gelten auch für die Kosinus-Funktion.  \n",
    "\n",
    "Der Graph der Kosinus-Funktion geht aus dem Graph der Sinus-Funktion durch Verschiebung in x-Richtung um $-\\frac{\\pi}{2}$ hervor.\n",
    " \n"
   ]
  },
  {
   "cell_type": "markdown",
   "metadata": {},
   "source": []
  }
 ],
 "metadata": {
  "kernelspec": {
   "display_name": "Python 3",
   "language": "python",
   "name": "python3"
  },
  "language_info": {
   "codemirror_mode": {
    "name": "ipython",
    "version": 3
   },
   "file_extension": ".py",
   "mimetype": "text/x-python",
   "name": "python",
   "nbconvert_exporter": "python",
   "pygments_lexer": "ipython3",
   "version": "3.12.1"
  }
 },
 "nbformat": 4,
 "nbformat_minor": 2
}
