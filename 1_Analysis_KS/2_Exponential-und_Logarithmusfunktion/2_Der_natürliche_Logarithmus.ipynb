{
 "cells": [
  {
   "cell_type": "markdown",
   "metadata": {},
   "source": [
    "## 2. Der natürliche Logarithmus"
   ]
  },
  {
   "cell_type": "markdown",
   "metadata": {},
   "source": [
    "Bisher haben wir Potenzgleichungen gelöst. Zum Beispiel $x^2=4$\n",
    "\n",
    "Wie lösen wir aber $e^x=7$?(Exponentialgleichung)\n",
    "\n",
    "Die Lösung dieser Gleichung wird als Logarithmus von 7 zur Basis e bezeichnet.\n",
    "\n",
    "Kurz geschrieben: $\\log_e(7)$\n",
    "\n",
    "Den Logarithmus zur Basis e bezeichnet man als **natürlicher Logarithmus** und schreibt kurz: $\\ln(7)$\n",
    "\n",
    "Es gilt somit: $e^{\\ln{7}}=7$"
   ]
  },
  {
   "cell_type": "markdown",
   "metadata": {},
   "source": [
    "#### Zeichnerische Lösung"
   ]
  },
  {
   "cell_type": "code",
   "execution_count": 20,
   "metadata": {},
   "outputs": [
    {
     "data": {
      "text/plain": [
       "[<matplotlib.lines.Line2D at 0x137ed5490>]"
      ]
     },
     "execution_count": 20,
     "metadata": {},
     "output_type": "execute_result"
    },
    {
     "data": {
      "image/png": "[encoded data removed]",
      "text/plain": [
       "<Figure size 800x800 with 1 Axes>"
      ]
     },
     "metadata": {},
     "output_type": "display_data"
    }
   ],
   "source": [
    "import numpy as np\n",
    "import matplotlib.pyplot as plt\n",
    "from matplotlib.ticker import AutoMinorLocator, MultipleLocator, FuncFormatter\n",
    "\n",
    "# Defintionsmenge und Funktion\n",
    "# ----------------------------\n",
    "a= -5.1 # untere x-Intervallgrenze \n",
    "b= 5.1 # obere x-Intervallgrenze\n",
    "c = -1.1# untere y-Intervallgrenze\n",
    "d = 10.1 # obere y-Intervallgrenze\n",
    "x = np.linspace(a, b,1000)\n",
    "y1=0*x+7\n",
    "y2=np.exp(x)\n",
    "# ----------------------------\n",
    "\n",
    "# Einstellung des Graphen\n",
    "fig=plt.figure(figsize=(8,8))\n",
    "ax = fig.add_subplot(1,1,1, aspect =1)\n",
    "\n",
    "# Definiton der Haupteinheiten, reele Zahlen ohne die 0 \n",
    "def major_tick(x, pos):\n",
    "    if x==0:\n",
    "        return \"\"\n",
    "    return int(x)\n",
    "\n",
    "# Achsenskalierung\n",
    "ax.xaxis.set_major_locator(MultipleLocator(1))\n",
    "ax.xaxis.set_minor_locator(AutoMinorLocator(2))\n",
    "ax.yaxis.set_major_locator(MultipleLocator(1))\n",
    "ax.yaxis.set_minor_locator(AutoMinorLocator(2))\n",
    "ax.xaxis.set_major_formatter(FuncFormatter(major_tick))\n",
    "ax.yaxis.set_major_formatter(FuncFormatter(major_tick))\n",
    "\n",
    "# Position der Achsen im Schaubild\n",
    "ax.spines[['top','right']].set_visible(False)\n",
    "ax.spines[['bottom','left']].set_position('zero')\n",
    "\n",
    "# Pfeile für die Achsen\n",
    "ax.plot((1),(0), ls=\"\", marker= \">\", ms=7, color=\"k\", transform=ax.get_yaxis_transform(), clip_on=False)\n",
    "ax.plot((0),(1), ls=\"\", marker= \"^\", ms=7, color=\"k\", transform=ax.get_xaxis_transform(), clip_on=False)\n",
    "\n",
    "# Achsenlänge und Beschriftung\n",
    "ax.set_xlim(a,b)\n",
    "ax.set_ylim(c, d)\n",
    "ax.set_xlabel(\"x\", loc=\"right\")\n",
    "ax.set_ylabel(\"f(x)\", loc=\"top\", rotation=0)\n",
    "\n",
    "# Kästchen\n",
    "ax.grid(linestyle=\"-\", which=\"major\",linewidth=0.7, zorder=-10)\n",
    "ax.grid(linestyle=\"-\", which=\"minor\",linewidth=0.5, zorder=-10)\n",
    "\n",
    "# Plot der Funktion\n",
    "ax.plot(x,y1, zorder=10)\n",
    "ax.plot(x,y2)\n",
    "#plt.show()"
   ]
  },
  {
   "cell_type": "markdown",
   "metadata": {},
   "source": [
    "$$ln(7) \\approx 1,9$$\n",
    "\n",
    "oder anders aufgeschrieben:\n",
    "\n",
    "$$ e^{1,9} \\approx 7$$"
   ]
  },
  {
   "cell_type": "markdown",
   "metadata": {},
   "source": [
    "<div style=\"border: 1px solid blue\">\n",
    "\n",
    "**Definition:**\n",
    "\n",
    "Für eine positive Zahl b heißt die Lösung x der Exponentialgleichung e x = b der natürliche Logarithmus von b. Man schreibt \n",
    " x = ln(b) Es gilt:\n",
    "\n",
    "\n",
    "Für eine reelle Zahl $b>0$ is $x=\\ln(b)$ heißt die Lösung der **Exponentialgleichung** $e^x=b$ **natürlicher Logarithmus von b**\n",
    "\n",
    "Für $b \\in \\mathbb{R^+}$ und $c \\in \\mathbb{R}$ gilt:\n",
    "$$\n",
    "e^{\\ln(b)}=b \\text{ und } \\ln(e^c)=c\n",
    "$$\n",
    "</div>\n",
    "\n",
    "\n",
    "\n"
   ]
  },
  {
   "cell_type": "markdown",
   "metadata": {},
   "source": [
    "#### Rechnerische Lösung\n",
    "\n",
    "$$\n",
    "\\begin{align*}\n",
    "e^x&=7\\quad |ln()\\\\\n",
    "ln(e^x)&=ln(7) \\\\\n",
    "x&=ln(7)\\\\\n",
    "x&\\approx 1,945910\n",
    "\n",
    "\\end{align*}\n",
    "$$"
   ]
  },
  {
   "cell_type": "code",
   "execution_count": 21,
   "metadata": {},
   "outputs": [
    {
     "data": {
      "text/plain": [
       "1.9459101490553132"
      ]
     },
     "execution_count": 21,
     "metadata": {},
     "output_type": "execute_result"
    }
   ],
   "source": [
    "np.log(7)\n"
   ]
  },
  {
   "cell_type": "markdown",
   "metadata": {},
   "source": [
    "#### Logarithmengesetze\n",
    "\n",
    "<div style=\"border: 1px solid red\">\n",
    "\n",
    "**Satz:**\n",
    "\n",
    "Seien $u>0, u \\in \\mathbb{R}$ und   $v>0, v \\in \\mathbb{R}$ reele Zahlen.\n",
    "\n",
    "Es gilt:\n",
    "$$\n",
    "\\begin{align*}\n",
    "\\ln(u \\cdot v) &=\\ln(u) + \\ln(v)\\\\\n",
    "\\ln\\left(\\frac{u}{v}\\right) &= \\ln(u)-ln(v)\\\\\n",
    "\\ln\\left(u^k\\right) &= k\\cdot \\ln(u)\n",
    "\\end{align*}\n",
    "$$\n",
    "</div>"
   ]
  },
  {
   "cell_type": "markdown",
   "metadata": {},
   "source": [
    "#### Lösung allgemeiner Exponentialgleichungen"
   ]
  },
  {
   "cell_type": "markdown",
   "metadata": {},
   "source": [
    "**Problem:** Wie lassen sich allgemeine Exponentialgleichungen lösen?\n",
    "\n",
    "**Beipsiel:** \n",
    "\n",
    "$$5^x=2$$\n",
    "\n",
    "\n",
    "**Herleitung:**\n",
    "\n",
    "Sei $a>0, a \\in \\mathbb{R} \\setminus \\{1\\}$\n",
    "$$a^x = b$$\n",
    "$$ \\Leftrightarrow \\quad \\ln(a^x)=\\ln(b)$$\n",
    "$$  \\overset{Log.Gesetz}{\\Leftrightarrow} \\quad x\\cdot \\ln(a)=\\ln(b)$$\n",
    "$$ \\Leftrightarrow x = \\frac{\\ln(b)}{\\ln(a)}$$\n",
    "\n"
   ]
  },
  {
   "cell_type": "markdown",
   "metadata": {},
   "source": [
    "**Zum Beispiel:**\n",
    "$$5^x=2$$\n",
    "$$\\Leftrightarrow \\quad x = \\log_{5}(2)=\\frac{\\ln(2)}{\\ln(5)}$$\n",
    "$$ x \\approx 0,43068$$"
   ]
  },
  {
   "cell_type": "code",
   "execution_count": 22,
   "metadata": {},
   "outputs": [
    {
     "data": {
      "text/plain": [
       "0.43067655807339306"
      ]
     },
     "execution_count": 22,
     "metadata": {},
     "output_type": "execute_result"
    }
   ],
   "source": [
    "np.log(2)/np.log(5)"
   ]
  },
  {
   "cell_type": "markdown",
   "metadata": {},
   "source": [
    "#### Beliebige Exponenatialfunktion als natürliche Exponentialfunktion"
   ]
  },
  {
   "cell_type": "markdown",
   "metadata": {},
   "source": [
    "Sei $f(x)=a^x$, mit $a>0, a\\in \\mathbb{R}$ \n",
    "\n",
    "$$\n",
    "\\begin{align*}\n",
    "f(x)&= a^x\\\\\n",
    "&=\\left(e^{\\ln(a)} \\right)^x\\\\\n",
    "&\\underset{Pot.Gesetz}{=}e^{\\ln(a) \\cdot x}\\\\\n",
    "\\end{align*}"
   ]
  },
  {
   "cell_type": "markdown",
   "metadata": {},
   "source": [
    "#### Potenzgesetze\n",
    "\n",
    "<div style=\"border: 1px solid red\">\n",
    "\n",
    "**Satz:**\n",
    "Seien $a,r,s \\in \\mathbb{R}$ reele Zahlen.\n",
    "\n",
    "Es gilt:\n",
    "$$\n",
    "\\begin{align*}\n",
    "a^r\\cdot a^s &=a^{r+s}\\\\\n",
    "\\frac{a^r}{a^s} &= a^{r-s}\\\\\n",
    "(a^r)^s &= a^{r\\cdot s}\n",
    "\\end{align*}\n",
    "$$\n",
    "</div>"
   ]
  },
  {
   "cell_type": "markdown",
   "metadata": {},
   "source": []
  }
 ],
 "metadata": {
  "kernelspec": {
   "display_name": "Python 3",
   "language": "python",
   "name": "python3"
  },
  "language_info": {
   "codemirror_mode": {
    "name": "ipython",
    "version": 3
   },
   "file_extension": ".py",
   "mimetype": "text/x-python",
   "name": "python",
   "nbconvert_exporter": "python",
   "pygments_lexer": "ipython3",
   "version": "3.11.4"
  }
 },
 "nbformat": 4,
 "nbformat_minor": 2
}
