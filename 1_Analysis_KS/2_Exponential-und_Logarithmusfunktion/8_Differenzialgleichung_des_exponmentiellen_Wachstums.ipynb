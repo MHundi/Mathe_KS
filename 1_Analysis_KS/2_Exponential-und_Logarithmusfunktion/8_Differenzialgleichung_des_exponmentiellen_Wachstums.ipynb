{
 "cells": [
  {
   "cell_type": "markdown",
   "metadata": {},
   "source": [
    "## 8. Differenzialgleichung des exponentiellen Wachstums"
   ]
  },
  {
   "cell_type": "markdown",
   "metadata": {},
   "source": [
    "Gleichung des expnentiellen Wachstums lautet:\n",
    "$$\n",
    "f(t)=c\\cdot e^{kt}\n",
    "$$\n",
    "\n",
    "Wie sieht die Ableitungsfunktion dazu aus?\n",
    "$$\n",
    "f'(t)=k\\cdot c \\cdot e^{kt} = k \\cdot f(t)\n",
    "$$\n",
    "\n",
    "Also\n",
    "$$\n",
    "f'(t)= k \\cdot f(t)\n",
    "$$\n",
    "\n",
    "Dies ist eine Funktionsgleichung, die sowohl die Funktion $f$ und deren Ableitungsfunktion $f'$ auftritt. \n",
    "\n",
    "<div style=\"border: 1px solid blue\">\n",
    "\n",
    "**Definition:**\n",
    "\n",
    "Eine Gleichung, in der sowohl eine Funktion als auch ihre Ableitungsfunktion auftritt, nennt man **Differenzialgleichung**.\n",
    "</div>"
   ]
  },
  {
   "cell_type": "markdown",
   "metadata": {},
   "source": [
    "**Frage:** Gibt es weitere Funktionen außer der e-Funktion, welche die Differenzialgleichung $f'(t)= k \\cdot f(t)$ erfüllen?\n",
    "\n",
    "**Überlegungen:**\n",
    "\n",
    "Angenommen: Es gibt eine Funktion g, welche auch die obere Differenzialgleichung erfüllt.  \n",
    "Daraus folgt: $$ g'(t)= k \\cdot g(t)$$\n",
    "\n",
    "$$\n",
    "\\begin{align*}\n",
    "\\left( \\frac{g(t)}{f(t)}\\right)' &= \\left( \\frac{g(t)}{c\\cdot e^{kt}}\\right)'\\\\\n",
    "&=\\frac{1}{c}\\cdot \\left( \\frac{g(t)}{ e^{kt}}\\right)'\\\\\n",
    "&= \\frac{1}{c}\\cdot \\left( g(t)\\cdot  e^{-kt}\\right)'\\\\\n",
    "&= \\frac{1}{c}\\cdot \\left( g'(t) e^{-kt}-k\\cdot e^{-kt}\\cdot g(t)\\right)\\\\\n",
    "&= \\frac{1}{c}\\cdot \\left( k\\cdot g(t) \\cdot e^{-kt}-k\\cdot e^{-kt}\\cdot g(t)\\right)\\\\\n",
    "&= 0\n",
    "\\end{align*}\n",
    "$$\n",
    "Das bedeutet, dass der Quotient\n",
    "$$\n",
    "\\frac{g(t)}{f(t)} = a\n",
    "$$\n",
    "konstant ist.\n",
    "Damit gilt:\n",
    "$$\n",
    "g(t)=a \\cdot f(t) = a \\cdot c \\cdot e^{kt}=c_1\\cdot e^kt\n",
    "$$\n",
    "Somt ist g auch eine Exponentialfunktion. \n",
    "\n",
    "<div style=\"border: 1px solid red\">\n",
    "\n",
    "**Satz:**\n",
    "\n",
    "Die einzige Funktion, welche die Differenzialgleichung erfüllt, ist die Exponentialfunktion.\n",
    "</div>\n"
   ]
  },
  {
   "cell_type": "markdown",
   "metadata": {},
   "source": []
  }
 ],
 "metadata": {
  "language_info": {
   "name": "python"
  }
 },
 "nbformat": 4,
 "nbformat_minor": 2
}
