{
 "cells": [
  {
   "cell_type": "markdown",
   "metadata": {},
   "source": [
    "## 6. Die Logarithmusfunktion als Umkehrfunktion und seine Ableitungsfunktion"
   ]
  },
  {
   "cell_type": "markdown",
   "metadata": {},
   "source": [
    "$f(x)=e^x$ ist auf $\\mathbb{R}$ streng monoton steigend.  \n",
    "Also ist die e-Funktion injektiv.    \n",
    "Damit ist die e-Funktion nach Satz umkehrbar.\n",
    "\n",
    "**Bestimmung der Umkehrfunktion:**\n",
    "\n",
    "1. e-Funktion ist injektiv und damit umkehrbar.\n",
    "2. $$y=e^x$$\n",
    "3. Die Lösung der Gleichung $y=e^x$ lautet: ln(y), somit ist:  \n",
    "    $$x =\\ln(y)$$\n",
    "4. $$y=\\ln(x)$$\n",
    "5. $$f^{-1}(x)=\\ln(x)$$\n",
    "\n",
    "Die Defintionsmenge von $\\ln(x)$ ist die Wertemenge der e-Funktion: $D=\\mathbb{R}^+_0$  \n",
    "Die Wertemenge von $\\ln(x)$ ist die Defintionsmenge der e-Funktion: $W=\\mathbb{R}$\n",
    "\n",
    "<div style=\"border: 1px solid red\">\n",
    "\n",
    "**Satz:**\n",
    "\n",
    "Die **natürliche Logarithmusfunktion** $f^{-1}$ ist die Umkehrfunktion der natürlichen Exponentialfunktion.  \n",
    "Sie hat die Defintionsmenge $D=\\mathbb{R}^+_0$ und die Wertemenge $W=\\mathbb{R}$. Es gilt folglich:\n",
    "$$ln: \\mathbb{R}^+_0 \\rightarrow \\mathbb{R}$$\n",
    "</div>\n",
    "\n",
    "**Bestimmung der Ableitungsfunktion:**\n",
    "\n",
    "Es sei: $$f^{-1}(x)=\\ln(x)$$.  \n",
    "Damit gilt: $$e^{f^{-1}(x)}=x$$\n",
    "beide Seiten ableiten: $$e^{f^{-1}(x)}\\cdot f'^{-1}(x)=1$$\n",
    "$f^{-1}$ ist die Umkehrfunktion von e: $$x \\cdot f'^{-1}(x)=1$$\n",
    "Dividiere durch x mit x>0: $$f'^{-1}(x)=\\frac{1}{x}$$\n",
    "\n",
    "\n",
    "<div style=\"border: 1px solid red\">\n",
    "\n",
    "**Satz:**\n",
    "\n",
    "Sei $(f^{-1}):x \\rightarrow \\ln(x)$ die natürliche Logarithmusfunktion.   \n",
    "Es gilt: $$(f^{-1})'(x)=\\frac{1}{x}$$\n",
    "\n",
    "</div>\n"
   ]
  },
  {
   "cell_type": "markdown",
   "metadata": {},
   "source": [
    "**Grenzwerte der natürlichen Logarithmusfunktion:**\n",
    "\n",
    "<div style=\"border: 1px solid red\">\n",
    "\n",
    "**Satz:**\n",
    "\n",
    "Es gilt:\n",
    "\n",
    "1. $$\\lim_{x \\to \\infty}\\ln(x)=\\infty$$  \n",
    "2. $$\\lim_{x \\to 0}\\ln(x)=- \\infty$$\n",
    "3. Sei $\\alpha > 0$, dann gilt: $$\\lim_{x \\to \\infty}\\frac{\\ln(x)}{x^{\\alpha}} = 0$$  \n",
    "    Der Logarithmus wächst für $x \\rightarrow \\infty$ langsamer gegen $\\infty$, als jede positive Potenz von x.\n",
    "4. Es gilt für $\\alpha > 0$ $$\\lim_{x \\to 0}x^{\\alpha}\\cdot \\ln(x)=0$$\n",
    "</div>\n"
   ]
  },
  {
   "cell_type": "markdown",
   "metadata": {},
   "source": []
  }
 ],
 "metadata": {
  "kernelspec": {
   "display_name": "Python 3",
   "language": "python",
   "name": "python3"
  },
  "language_info": {
   "codemirror_mode": {
    "name": "ipython",
    "version": 3
   },
   "file_extension": ".py",
   "mimetype": "text/x-python",
   "name": "python",
   "nbconvert_exporter": "python",
   "pygments_lexer": "ipython3",
   "version": "3.11.4"
  }
 },
 "nbformat": 4,
 "nbformat_minor": 2
}
