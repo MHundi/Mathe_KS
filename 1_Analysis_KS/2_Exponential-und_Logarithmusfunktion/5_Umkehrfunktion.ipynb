{
 "cells": [
  {
   "cell_type": "markdown",
   "metadata": {},
   "source": [
    "## 5. Die Umkehrfunktion\n",
    "\n"
   ]
  }
 ],
 "metadata": {
  "language_info": {
   "name": "python"
  }
 },
 "nbformat": 4,
 "nbformat_minor": 2
}
