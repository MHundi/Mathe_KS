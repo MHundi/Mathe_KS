{
 "cells": [
  {
   "cell_type": "markdown",
   "metadata": {},
   "source": [
    "## 7. Anwendung der e-Funktion"
   ]
  },
  {
   "cell_type": "markdown",
   "metadata": {},
   "source": [
    "**Aufgabe:**\n",
    "\n",
    "Fischteich mit einer Gläche von 64m$^2$. Am Samstag ist 1m$^2$ mit Algen bedeckt. Am Sonntag schon 2m$^2$. Die Algen wachsen immer durch Zweiteilung.\n",
    "\n",
    "|Tag n | 1 | 2 | 3 | 4 | 5 |  \n",
    "|:-----|:--|:--:|:--:|:--:|:--:|\n",
    "Algenbestand B(N)| 1 | 2 | 4 | 4 | 16 | 32 |\n",
    "\n",
    "Dies ist exponentielles Wachstum.\n",
    "\n",
    "**Rekursive Berechnung** $$ B(n+1) = B(n)\\cdot 2$$\n",
    "\n",
    "**Explizite Berechnung** $$ B(n) = 1 \\cdot 2^n$$\n"
   ]
  },
  {
   "cell_type": "markdown",
   "metadata": {},
   "source": [
    "<div style=\"border: 1px solid blue\">\n",
    "\n",
    "**Definition:**  \n",
    "\n",
    "**Exponentielles Wachstum** liegt vor, wenn für jeden Zeitschritt die prozentuale Änderung $$p=\\frac{B(n+1)-B(n)}{(B(n))}$$ die selbe ist. \n",
    "\n",
    "Der Quotient\n",
    "$$\\frac{B(n+1)}{B(n)} = 1+ p  $$ \n",
    "\n",
    "heißt **Wachstumsfaktor** .\n",
    " \n",
    "rekursive Darstellung des exponentiellen Wachstums: $$B(n+1)=a \\cdot B(n)$$\n",
    "\n",
    "explizite Darstellung des exponentiellen Wachstums: $$B(n+1)=c\\cdot a^n $$ \n",
    "\n",
    "</div>"
   ]
  },
  {
   "cell_type": "markdown",
   "metadata": {},
   "source": [
    "<div style=\"border: 1px solid red\">\n",
    "\n",
    "**Satz:**\n",
    "\n",
    "Das exponentielle Wachstum lässt sich mit Hilfe der e-Funktion darstellen.\n",
    "\n",
    "$$B(n)=B(0)\\cdot a^n$$\n",
    "$$ a = e^k$$\n",
    "$$ B(n)=c\\cdot e^{kn}$$  \n",
    "mit $$\n",
    "c=B(0)$$\n",
    "\n",
    "Der Term $k=\\ln(a)$ heißt Wachstumskonstante.\n",
    "\n",
    "Wenn $k>0$ dann ist k die Wachstumskonstante und $B(n)$ eine Wachstumsfunktion.  \n",
    "Wenn $k<0$ dann ist k die Zerfallskonstante und $B(n)$ eine Zerfallsfunktion.\n",
    "</div>"
   ]
  },
  {
   "cell_type": "markdown",
   "metadata": {},
   "source": [
    "**Bemerkung:**\n",
    "\n",
    "Findet ein kontinuierliches Wachstum bzw. Zerfall statt, verwendet man $f(t)$ anstelle von $B(n)$\n"
   ]
  },
  {
   "cell_type": "markdown",
   "metadata": {},
   "source": []
  },
  {
   "cell_type": "markdown",
   "metadata": {},
   "source": [
    "**Beispiel:**\n",
    "\n",
    "- Kaptial: 20.000€\n",
    "- Zinssatz: 5% (pro Jahr)\n",
    "\n",
    "Wachstumsfaktor: $$a=1+5\\% = 1,05$$\n",
    "\n",
    "Anfangswert: $$ f(0)= c \\cdot a^0$$\n",
    "\n",
    "Gleichung: $$ f(t)= 20000 \\cdot 1,05^{t}$$\n",
    "\n",
    "Gleichung als e-Funktion: $$ f(t)=B(0)\\cdot e^{kt}\\\\\n",
    "= 20000\\cdot e^{kt}\\\\\n",
    "= 20000\\cdot e^{\\ln(1,05)\\cdot t}$$\n",
    "\n",
    "- Frage: Wann beträgt das Kapital 35000 Euro?\n",
    "$$ \n",
    "\\begin{align*}\n",
    "35000 &= 20000\\cdot e^{\\ln(1,05)t}\\\\\n",
    "\\frac{7}{4} &= e^{\\ln(1,05)t}\\\\\n",
    "\\frac{\\ln(\\frac{7}{4})}{\\ln(1,05)} &= t\\\\\n",
    "t &\\approx 11,4\n",
    "\n",
    "\\end{align*}\n",
    "$$\n",
    "    Antwort: Nach 12 Jahre beträgt das Kapital 35000 Euro.\n",
    "    \n",
    "- Frage: In welchem Jahr nimmt das Kapital um 5000 Euro zu?\n",
    "$$\n",
    "\\begin{align*}\n",
    "f(t+1)-f(t) &= 5000\\\\\n",
    "20000\\cdot e^{\\ln(1,05)(t+1)} - 20000\\cdot e^{\\ln(1,05)t} &=5000\\\\\n",
    "4\\cdot \\left(  e^{\\ln(1,05)(t+1)} -  e^{\\ln(1,05)(t)}\\right) &= 1\\\\\n",
    "4\\cdot e^{\\ln(1,05)t} \\left( e^{\\ln(1,05)} - 1\\right) &= 1\\\\\n",
    "4\\cdot 1,05^t \\left( 1,05 - 1\\right) &= 1\\\\\n",
    "1,05^t &= \\frac{1}{0,2}\\\\\n",
    "t &= \\frac{\\ln(2)}{\\ln(1,05)}\\\\\n",
    "&\\approx 14,2\n",
    "\n",
    "\\end{align*}\n",
    "$$\n",
    "\n",
    "    Antwort: Im 15. Jahr.\n",
    "\n",
    "- Frage: Wann hat sich as Vermögen verdoppelt? $\\Rightarrow$ Verdopplungszeit"
   ]
  },
  {
   "cell_type": "markdown",
   "metadata": {},
   "source": [
    "#### 7.1 Verdopplungszeit $T_V$"
   ]
  },
  {
   "cell_type": "markdown",
   "metadata": {},
   "source": [
    "Es gilt:\n",
    "$$\n",
    "f(t+T_V)= 2 \\cdot f(t)\n",
    "$$\n",
    "mit $f(t)=c \\cdot e^{kt}$ folgt:  \n",
    "$$\n",
    "\\begin{align*}\n",
    "c\\cdot e^{k(t+T_V)} &= 2\\cdot c \\cdot e^{kt}\\\\\n",
    "c\\cdot e^{kt}\\cdot e^{k\\cdot T_V} &= 2\\cdot c \\cdot e^{kt}\\\\\n",
    "e^{k\\cdot T_V} &=2\\\\\n",
    "k\\cdot T_V &=\\ln(2)\\\\\n",
    "T_V &= \\frac{\\ln(2)}{k}\n",
    "\\end{align*}\n",
    "$$"
   ]
  },
  {
   "cell_type": "markdown",
   "metadata": {},
   "source": [
    "<div style=\"border: 1px solid red\">\n",
    "\n",
    "**Satz:**\n",
    "\n",
    "Die Verdopplungszeit $T_V$ wird berechnet mit:\n",
    "$$\n",
    "T_V = \\frac{\\ln(2)}{k}\n",
    "$$\n",
    "</div>"
   ]
  },
  {
   "cell_type": "markdown",
   "metadata": {},
   "source": [
    "#### 3.2 Halbwertszeit $T_H$"
   ]
  },
  {
   "cell_type": "markdown",
   "metadata": {},
   "source": [
    "Es gilt:\n",
    "$$\n",
    "f(t+T_H)= \\frac{1}{2} \\cdot f(t)\n",
    "$$\n",
    "mit $f(t)=c \\cdot e^{kt}$ folgt:  \n",
    "$$\n",
    "\\begin{align*}\n",
    "c\\cdot e^{k(t+T_H)} &= \\frac{1}{2}\\cdot c \\cdot e^{kt}\\\\\n",
    "c\\cdot e^{kt}\\cdot e^{k\\cdot T_H} &= \\frac{1}{2}\\cdot c \\cdot e^{kt}\\\\\n",
    "e^{k\\cdot T_H} &=\\frac{1}{2}\\\\\n",
    "k\\cdot T_H &=\\ln\\left(\\frac{1}{2}\\right)\\\\\n",
    "T_H &= \\frac{\\ln\\left(\\frac{1}{2}\\right)} {k}\n",
    "\\end{align*}\n",
    "$$"
   ]
  },
  {
   "cell_type": "markdown",
   "metadata": {},
   "source": [
    "<div style=\"border: 1px solid red\">\n",
    "\n",
    "**Satz:**\n",
    "\n",
    "Die Halbwertszeit $T_H$ wird berechnet mit:\n",
    "$$\n",
    "T_H = \\frac{\\ln\\left(\\frac{1}{2}\\right)}{k}\n",
    "$$\n",
    "</div>"
   ]
  },
  {
   "cell_type": "markdown",
   "metadata": {},
   "source": []
  }
 ],
 "metadata": {
  "kernelspec": {
   "display_name": "Python 3",
   "language": "python",
   "name": "python3"
  },
  "language_info": {
   "name": "python",
   "version": "3.11.4"
  }
 },
 "nbformat": 4,
 "nbformat_minor": 2
}
