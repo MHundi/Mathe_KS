{
 "cells": [
  {
   "cell_type": "markdown",
   "metadata": {},
   "source": [
    "# i. Mathematik in der Kursstufe \n"
   ]
  },
  {
   "cell_type": "markdown",
   "metadata": {},
   "source": [
    "### i.1 Bewertungsgrundlagen\n",
    "- 2 Klausuren pro Semester\n",
    "- GFS: \n",
    "- schriftliche Leistungen: 70%\n",
    "- unterrichtspraktische Leistungen = mündliche Leistungen + Mitarbeit 30% "
   ]
  },
  {
   "cell_type": "markdown",
   "metadata": {},
   "source": [
    "#### i.1.1 Klausuren\n",
    "- Korrekturzeichen\n",
    "\n",
    "<img src=\"/Users/martin/Workspace/Jupyter_Notebooks/Mathematik_KS/i_Einführung_Mathe_KS/images/Korrekturzeichen.png\"\n",
    "    style=\"padding-left: 2.5em\"\n",
    "/>\n",
    "\n",
    "\n",
    "- sprachliche Korrekturzeichen\n",
    "\n",
    "<img src=\"/Users/martin/Workspace/Jupyter_Notebooks/Mathematik_KS/i_Einführung_Mathe_KS/images/sprachliche_Korrekturzeichen.png\"\n",
    "     style=\"padding-left: 2.5em\"\n",
    "/>\n",
    "\n",
    "- Operatoren\n",
    "\n",
    "<img src=\"/Users/martin/Workspace/Jupyter_Notebooks/Mathematik_KS/i_Einführung_Mathe_KS/images/Operatoren_2025.png\"\n",
    "     width=\"500\"\n",
    "     style=\"padding-left: 2.5em\"\n",
    "/>\n",
    "\n",
    "- Notentabelle\n",
    "\n",
    "<img src=\"/Users/martin/Workspace/Jupyter_Notebooks/Mathematik_KS/i_Einführung_Mathe_KS/images/BE-NP-Notentabelle.png\"\n",
    "     style=\"padding-left: 2.5em\"\n",
    "/>\n",
    "\n",
    "- Aufgabenbereiche\n",
    "\n",
    "<img src=\"/Users/martin/Workspace/Jupyter_Notebooks/Mathematik_KS/i_Einführung_Mathe_KS/images/Anforderungsbereiche.png\"\n",
    "     style=\"padding-left: 2.5em\"\n",
    "     width=\"600\"\n",
    "/>\n",
    "\n",
    "- Aufgabenniveau\n",
    "\n",
    "<img src=\"/Users/martin/Workspace/Jupyter_Notebooks/Mathematik_KS/i_Einführung_Mathe_KS/images/Anforderungsniveaus.png\"\n",
    "     style=\"padding-left: 2.5em\"\n",
    "     width=\"600\"\n",
    "/>\n",
    "\n",
    "#### i.1.2 GFS\n",
    "- Anmeldung immer zu Semesterbeginn\n",
    "- 10 - 15 Minuten Vortrag zu einer mathematischen Fragestellung\n",
    "- 10 Minuten Kolloquium\n",
    "- Nur eine GFS pro Person pro Fach\n",
    "- Maximal 4 GFS-Anmeldungen pro Semester\n",
    "- Mögliche Themen:\n",
    "     - Beweis des Fundamentalsatzes der Algebra\n",
    "\n",
    "#### i.1.3 Unterrichtspraktische Leistungen\n",
    "- Fragen\n",
    "- Antworten\n",
    "- Aufgabenkontrolle\n",
    "- Mitarbeit"
   ]
  },
  {
   "cell_type": "markdown",
   "metadata": {},
   "source": [
    "### i.2 Obligatorische Materialien\n",
    "- Heft oder Ordner kariert\n",
    "- Geodreieck\n",
    "- iPad mit GeoGebra\n",
    "- Taschenrechner\n",
    "- Schulbuch"
   ]
  },
  {
   "cell_type": "markdown",
   "metadata": {},
   "source": [
    "### i.3 Fakultative Materialien\n",
    "- Klausurheft kariert mit weißem Rand\n",
    "- Arbeitsheft zum Schulbuch Lambacher Schweizer\n",
    "- Lösungen zum Schulbuch Lambacher Schweizer"
   ]
  },
  {
   "cell_type": "markdown",
   "metadata": {},
   "source": [
    "### i.4 Abitur 2025\n",
    "\n",
    "<div style=\"border: solid 1px black\"> \n",
    "\n",
    "<p style=\"text-align: center;\"> Schriftliche Prüfung am 09. Mai 2025 von 9:00 Uhr bis 14:00 Uhr in der Aula.</p>\n",
    "</div>\n",
    "\n",
    "#### i.4.1 Alle Informationen zum Abitur 2025\n",
    "- https://km-bw.de/,Lde/startseite/schule/Abitur_BW\n",
    "\n",
    "#### i.4.2 Materialien zur Vorbereitung auf die Prüfung\n",
    "- Dokument mit mathematischen Formeln (früher Formelsammlung):\n",
    "https://km-bw.de/site/pbs-bw-km-root/get/documents_E1271215209/KULTUS.Dachmandant/KULTUS/KM-Homepage/Artikelseiten%20KP-KM/Schularten/Gymnasium/Abitur%202024/M_Dokument_mit_mathematischen_Formeln.pdf\n",
    " \n",
    "- Beispielaufgaben: \n",
    "https://km-bw.de/site/pbs-bw-km-root/get/documents_E51618915/KULTUS.Dachmandant/KULTUS/KM-Homepage/Artikelseiten%20KP-KM/Schularten/Gymnasium/Abitur%202024/2024-LF.pdf\n",
    "\n",
    "- Gemeinsamer Abituraufgabenpool der Länder: (erhöhtes Anforderungsniveau verwenden!)\n",
    "https://www.iqb.hu-berlin.de/abitur/dokumente/mathematik\n",
    "\n",
    "- Literatur: (warten bis die aktuelle Ausgaben rausgebracht werden)\n",
    "https://www.freiburger-verlag.de/Shop/Produkte/Erfolg-im-Mathe-Abi/Basisfach-Grundkurs/d9ee8d7e-92f6-389b-5e81-4c0f45ce92cf/\n"
   ]
  },
  {
   "cell_type": "markdown",
   "metadata": {},
   "source": [
    "### i.5 Grobe Planung\n",
    "1. Semester: Analysis\n",
    "2. Semester: Analysis und Geometrie\n",
    "3. Semester: Geometrie und Stochastik\n",
    "4. Semester: Übungen mit Abituraufgaben\n",
    "    - schriftliche Abiturprüfung\n",
    "    - Vorbereitung auf eventuelle mündliche Abituprüfungen\n",
    "    - Ausblick auf das Studium"
   ]
  },
  {
   "cell_type": "markdown",
   "metadata": {},
   "source": [
    "### i.6 Dokumente auf GitHub\n",
    "\n",
    "Skripte sind zu finden auf\n",
    "\n",
    "[Github](https://github.com/MHundi/Mathematik_KS.git)"
   ]
  },
  {
   "cell_type": "markdown",
   "metadata": {},
   "source": [
    "### I.7 Hausaufgaben mit Kett x STUDYLY\n",
    "\n",
    "Anmeldung auf www.studyly.de oder in der Studyly-App auf dem iPad.\n",
    "\n",
    "Anmeldung zum Kurs mittels QR-Code:\n",
    "\n",
    "<img src=\"/Users/martin/Workspace/Jupyter_Notebooks/Mathematik_KS/i_Einführung_Mathe_KS/images/Mathe_LF_2023-25_Studyly.png\"\n",
    "    style=\"padding-left: 2.5em\"\n",
    "    width=\"200\"\n",
    "/>"
   ]
  }
 ],
 "metadata": {
  "kernelspec": {
   "display_name": "Python 3",
   "language": "python",
   "name": "python3"
  },
  "language_info": {
   "name": "python",
   "version": "3.11.4"
  },
  "orig_nbformat": 4
 },
 "nbformat": 4,
 "nbformat_minor": 2
}
