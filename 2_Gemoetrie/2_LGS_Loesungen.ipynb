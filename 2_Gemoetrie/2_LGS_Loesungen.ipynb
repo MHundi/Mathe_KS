{
 "cells": [
  {
   "cell_type": "raw",
   "metadata": {
    "vscode": {
     "languageId": "raw"
    }
   },
   "source": [
    "---\n",
    "format:\n",
    "  pdf:\n",
    "    pdf-engine: xelatex\n",
    "    documentclass: scrartcl\n",
    "    papersize: a4\n",
    "    fontsize: 11pt\n",
    "    fig-align: center\n",
    "    colorlinks: true\n",
    "    code-line-numbers: true\n",
    "    keep-tex: true\n",
    "    include-in-header:\n",
    "      - text: |\n",
    "          \\usepackage[document]{ragged2e}\n",
    "          \n",
    "  beamer:\n",
    "    aspectratio: 169\n",
    "    navigation: horizontal\n",
    "    theme: Singapore\n",
    "    colortheme: orchid\n",
    "    toc: false\n",
    "    code-line-numbers: true\n",
    "    echo: false\n",
    "    fontzsize: 12pt\n",
    "    \n",
    "html:\n",
    "    standalone: true\n",
    "    section-divs: true\n",
    "    html-math-method: mathjax\n",
    "    wrap: none\n",
    "    default-image-extension: png\n",
    "\n",
    "execute: \n",
    "  enabled: true\n",
    "  echo: false\n",
    "Jupyter: python3\n",
    "---"
   ]
  },
  {
   "cell_type": "markdown",
   "metadata": {},
   "source": [
    "LGS mit eindeutiger Lösung:\n",
    "\n",
    "$$\n",
    "\\begin{aligned}\n",
    "&2x_1 &&-3x_2 &&+ 4x_3 & =& 1\\\\\n",
    "&3x_1 &&+x_2 &&-5x_3 &=& 7\\\\\n",
    "&4x_1 &&+ 5x_2 &&-14x_3 &=& 13\\\\\n",
    "\\end{aligned}\n",
    "$$"
   ]
  },
  {
   "cell_type": "markdown",
   "metadata": {},
   "source": [
    "LGS mit keiner Lösung:\n",
    "\n",
    "$$\n",
    "\\begin{aligned}\n",
    "&2x_1 &&-3x_2 &&-x_3 & = &4\\\\\n",
    "&x_1 &&+2x_2 &&+3x_3 &= &1\\\\\n",
    "&3x_1 &&- 8x_2 &&-5x_3 &=& 5\\\\\\hline\n",
    "\\\\\n",
    "&2x_1&& -3x_2 & &-x_3 & =&4\\\\\n",
    "& &&+7x_2&&+7x_3 &= &-2\\\\\n",
    "& && &&0x_3 &= &5\\\\\n",
    "\\end{aligned}\n",
    "$$"
   ]
  },
  {
   "cell_type": "markdown",
   "metadata": {},
   "source": [
    "LGS mit unendliche vielen Lösungen\n",
    "\n",
    "$$\n",
    "\\begin{aligned}\n",
    "&x_1 &&+2x_2 &&-3x_3 & =& 6\\\\\n",
    "&2x_1 &&-x_2 &&+4x_3 &=& 2\\\\\n",
    "&4x_1 &&+3x_2 &&-2x_3 &=& 14\\\\\\hline\n",
    "\\\\\n",
    "&x_1 &&+2x_2 &&-3x_3 & = &6\\\\\n",
    "& &&-5x_2 &&+10x_3 &=&-10\\\\\n",
    "& && && +0x_3 &=& 0\\\\\n",
    "\\end{aligned}\n",
    "$$"
   ]
  }
 ],
 "metadata": {
  "kernelspec": {
   "display_name": "Python 3",
   "language": "python",
   "name": "python3"
  },
  "language_info": {
   "codemirror_mode": {
    "name": "ipython",
    "version": 3
   },
   "file_extension": ".py",
   "mimetype": "text/x-python",
   "name": "python",
   "nbconvert_exporter": "python",
   "pygments_lexer": "ipython3",
   "version": "3.12.1"
  }
 },
 "nbformat": 4,
 "nbformat_minor": 2
}
