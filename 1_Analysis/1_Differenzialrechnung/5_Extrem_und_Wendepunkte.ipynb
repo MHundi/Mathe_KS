{
 "cells": [
  {
   "cell_type": "markdown",
   "metadata": {},
   "source": [
    "## 5. Extrem- und Wendepunkte"
   ]
  },
  {
   "cell_type": "code",
   "execution_count": 1,
   "metadata": {},
   "outputs": [
    {
     "data": {
      "text/plain": [
       "[<matplotlib.lines.Line2D at 0x107ed3dd0>]"
      ]
     },
     "execution_count": 1,
     "metadata": {},
     "output_type": "execute_result"
    },
    {
     "data": {
      "image/png": "[encoded data removed]",
      "text/plain": [
       "<Figure size 800x800 with 1 Axes>"
      ]
     },
     "metadata": {},
     "output_type": "display_data"
    }
   ],
   "source": [
    "import numpy as np\n",
    "import matplotlib.pyplot as plt\n",
    "from matplotlib.ticker import AutoMinorLocator, MultipleLocator, FuncFormatter\n",
    "\n",
    "# Defintionsmenge und Funktion\n",
    "# ----------------------------\n",
    "a= -5.1 # untere x-Intervallgrenze \n",
    "b= 5.1 # obere x-Intervallgrenze\n",
    "c = -5.1# untere y-Intervallgrenze\n",
    "d = 5.1 # obere y-Intervallgrenze\n",
    "x = np.linspace(a, b,1000)\n",
    "y1= -x**4+2*x**2+1\n",
    "# ----------------------------\n",
    "\n",
    "# Einstellung des Graphen\n",
    "fig=plt.figure(figsize=(8,8))\n",
    "ax = fig.add_subplot(1,1,1, aspect =1)\n",
    "\n",
    "# Definiton der Haupteinheiten, reele Zahlen ohne die 0 \n",
    "def major_tick(x, pos):\n",
    "    if x==0:\n",
    "        return \"\"\n",
    "    return int(x)\n",
    "\n",
    "# Achsenskalierung\n",
    "ax.xaxis.set_major_locator(MultipleLocator(1))\n",
    "ax.xaxis.set_minor_locator(AutoMinorLocator(2))\n",
    "ax.yaxis.set_major_locator(MultipleLocator(1))\n",
    "ax.yaxis.set_minor_locator(AutoMinorLocator(2))\n",
    "ax.xaxis.set_major_formatter(FuncFormatter(major_tick))\n",
    "ax.yaxis.set_major_formatter(FuncFormatter(major_tick))\n",
    "\n",
    "# Position der Achsen im Schaubild\n",
    "ax.spines[['top','right']].set_visible(False)\n",
    "ax.spines[['bottom','left']].set_position('zero')\n",
    "\n",
    "# Pfeile für die Achsen\n",
    "ax.plot((1),(0), ls=\"\", marker= \">\", ms=7, color=\"k\", transform=ax.get_yaxis_transform(), clip_on=False)\n",
    "ax.plot((0),(1), ls=\"\", marker= \"^\", ms=7, color=\"k\", transform=ax.get_xaxis_transform(), clip_on=False)\n",
    "\n",
    "# Achsenlänge und Beschriftung\n",
    "ax.set_xlim(a,b)\n",
    "ax.set_ylim(c, d)\n",
    "ax.set_xlabel(\"x\", loc=\"right\")\n",
    "ax.set_ylabel(\"f(x)\", loc=\"top\", rotation=0)\n",
    "\n",
    "# Kästchen\n",
    "ax.grid(linestyle=\"-\", which=\"major\",linewidth=0.7, zorder=-10)\n",
    "ax.grid(linestyle=\"-\", which=\"minor\",linewidth=0.5, zorder=-10)\n",
    "\n",
    "# Plot der Funktion\n",
    "ax.plot(x,y1, zorder=10)\n",
    "#plt.show()"
   ]
  },
  {
   "cell_type": "markdown",
   "metadata": {},
   "source": [
    "### Besondere Stellen und Funktionswerte von Funktionen"
   ]
  },
  {
   "cell_type": "markdown",
   "metadata": {},
   "source": [
    "<img src=\"/Users/martin/Workspace/Jupyter_Notebooks/Mathematik_KS/1_Analysis_KS/1_Grundlagen_der_Differenzialrechnung/images/besondere_Punkte.jpg\"\n",
    "     style=\"padding-left: 2.5em\"\n",
    "     width=\"500\"\n",
    "/>"
   ]
  },
  {
   "cell_type": "markdown",
   "metadata": {},
   "source": [
    "\n",
    "<div style=\"border: 1px solid blue\">\n",
    "\n",
    "**Definitionen von Begriffen zur Beschreibung von Stellen und Funktionswerte einer Funktion**\n",
    "\n",
    "**Maximumstelle $x_0$ von f**\n",
    "\n",
    "In einer Umgebung einer Stelle $x_0$ gilt: $f(x) \\leq f(x_0)$\n",
    "\n",
    "Im Beispiel sind dies die Stellen $x_1$ und $x_5$\n",
    "\n",
    "**Lokales Maximum von f**\n",
    "\n",
    "Wenn in einer Umgebung einer Stelle $x_0$ gilt: $f(x) \\leq f(x_0)$, dann ist $f(x_0)$ ein *lokales Maximum**\n",
    "\n",
    "Im Beispiel sind dies $f(x_1)$ und $f(x_2)$\n",
    "\n",
    "**Globales Maximum von f**\n",
    "\n",
    "Für alle $x \\in \\mathbb{D}$ gilt: $f(x) \\leq f(x_0)$\n",
    "\n",
    "Im Beispiel ist dis f(x_1)\n",
    "\n",
    "**Minimumstelle $x_0$ von f**\n",
    "\n",
    "In einer Umgebung einer Stelle $x_0$ gilt: $f(x) \\geq f(x_0)$\n",
    "\n",
    "Im Beispiel sind dies die Stellen $x_3$\n",
    "\n",
    "**Lokales Mainimum von f**\n",
    "\n",
    "Wenn in einer Umgebung einer Stelle $x_0$ gilt: $f(x) \\geq f(x_0)$, dann ist $f(x_0)$ ein **lokales Minimum**\n",
    "\n",
    "Im Beispiel sind dies $f(x_3)$\n",
    "\n",
    "**Globales Minimum von f**\n",
    "\n",
    "Für alle $x \\in \\mathbb{D}$ gilt: $f(x) \\geq f(x_0)$\n",
    "\n",
    "**Wendestelle von f**\n",
    "\n",
    "Stellen, an denen sich das Krümmungsverhalten ändert.\n",
    "</div >\n",
    "\n",
    "\n"
   ]
  },
  {
   "cell_type": "markdown",
   "metadata": {},
   "source": [
    "### Eigenschaften des Graphen\n",
    "\n",
    "<div style=\"border: 1px solid blue\">\n",
    "\n",
    "**Definitionen**\n",
    "\n",
    "**Hochpunkt eines Graphen**\n",
    "\n",
    "$H(x_0|f(x_0)$, für den für die Stelle $x_0$ gilt: In einer Umgebung von $x_0$ ist $f(x) \\leq f(x_0)$\n",
    "\n",
    "Im Beispiel sind dies $H_1(x_1|f(x_1))$ und $H_2(x_5|f(x_5))$\n",
    "\n",
    "\n",
    "**Tiefpunkt eines Graphen**\n",
    "\n",
    "$T(x_0|f(x_0)$, für den für die Stelle $x_0$ gilt: In einer Umgebung von $x_0$ ist $f(x) \\geq f(x_0)$\n",
    "\n",
    "Im Beispiel sind dies $T(x_3|f(x_x))$\n",
    "\n",
    "**Wendepunkt eines Graphen**\n",
    "\n",
    "Punkt des Graphen, an dem sich das Krümmungsverhalten ändert.\n",
    "\n",
    "Im Beispiel $W_1(x_2|f(x_2))$ und $W_2(x_4|f(x_4))$\n",
    "\n",
    "**Sattelpunkt eines Graphen**\n",
    "Ein Sattelpunkt ist ein Wendepunkt mit waagerecher Tangente. (vgl. den Graphen von $f(x)=x^3$ an der Stelle x=3.)\n",
    "\n",
    "</div>\n"
   ]
  },
  {
   "cell_type": "markdown",
   "metadata": {},
   "source": [
    "### Bestimmung der inneren Extremstellen"
   ]
  },
  {
   "cell_type": "markdown",
   "metadata": {},
   "source": [
    "<div style=\"border: 1px solid red\">\n",
    "\n",
    "**Satz: Bestimmung von Extremstellen**\n",
    "\n",
    "Gegeben:\n",
    "\n",
    "- Intervall I\n",
    "- Funktion f\n",
    "- f auf I zweimal differenzierbar\n",
    "- $x_0 \\in I$ innere Stelle von I (also nicht die Randstellen)\n",
    "\n",
    "$x_0$ ist eine Maximumstelle von f, wenn\n",
    "\n",
    "1. **Notwendige Bedingung:** $f'(x_0)=0$\n",
    "2. **Hinreichend Bedingung: (VZW)** f' macht an der Stelle $x_0$ einen Vorzeichenwechsel von + nach -\n",
    "\n",
    "oder \n",
    "\n",
    "2. **Hinreichende Bedingung:** $f''(x) <0 $\n",
    "\n",
    "$x_0$ ist eine Minimumstelle von f, wenn\n",
    "\n",
    "1. **Notwendige Bedingung:** $f'(x_0)=0$\n",
    "2. **Hinreichend Bedingung: (VZW)** f' macht an der Stelle $x_0$ einen Vorzeichenwechsel von - nach +.\n",
    "\n",
    "oder\n",
    "\n",
    "2. **Hinrechende Bedingung:** $f''(x) > 0$\n",
    "</div>"
   ]
  },
  {
   "cell_type": "markdown",
   "metadata": {},
   "source": [
    "**Bemerkung:**\n",
    "\n",
    "Gilt für eine Funktin f und einer Stelle $x_0$, dass sowohl $f'(x)=0$ und $f''(x)=0$, dann kann man **nicht**\n",
    "daraus schließen, das keine Extremstelle bei $x_0$ vorliegt. \n",
    "In diesem Fall verwendet man zusätzlich die Untersuchung mit Hilfe des Vorzeichenwechsels (VZW) von f'. Liegt kein VZW vor, so kann man weiterhin **nicht** daraus schließen, dass keine Extremstelle bei $x_0$ vorliegt.\n"
   ]
  },
  {
   "cell_type": "markdown",
   "metadata": {},
   "source": [
    "<div style=\"boarder: 1 solid red>\n",
    "\n",
    "**Satz:**\n",
    "</div>"
   ]
  },
  {
   "cell_type": "markdown",
   "metadata": {},
   "source": [
    "<div style=\"border: 1px solid red\">\n",
    "\n",
    "**Satz: Bestimmung von Wendestellen**\n",
    "\n",
    "Gegegben:\n",
    "\n",
    "- Intervalle I\n",
    "- Funktion f, definiert auf I\n",
    "- f auf I dreimal differenzierbar\n",
    "- $x_0 \\in I$ innerre Stelle des Intervalls\n",
    "\n",
    "$x_0$ ist eine **Wendestelle von f**, wenn\n",
    "\n",
    "1. **Notwendige Bedingung:** $f''(x_0)=0$\n",
    "2. **Hinreichende Bedingung:** $f''(x)$ macht an der Stelle $x_0$ einen Vorzeichenwechsel\n",
    "\n",
    "oder\n",
    "\n",
    "2. **Hinreichende Bedingung:** $f'''(x_0) \\neq 0$\n",
    "\n",
    "\n",
    "</div>"
   ]
  },
  {
   "cell_type": "markdown",
   "metadata": {},
   "source": []
  }
 ],
 "metadata": {
  "kernelspec": {
   "display_name": "Python 3",
   "language": "python",
   "name": "python3"
  },
  "language_info": {
   "codemirror_mode": {
    "name": "ipython",
    "version": 3
   },
   "file_extension": ".py",
   "mimetype": "text/x-python",
   "name": "python",
   "nbconvert_exporter": "python",
   "pygments_lexer": "ipython3",
   "version": "3.11.4"
  },
  "orig_nbformat": 4
 },
 "nbformat": 4,
 "nbformat_minor": 2
}
