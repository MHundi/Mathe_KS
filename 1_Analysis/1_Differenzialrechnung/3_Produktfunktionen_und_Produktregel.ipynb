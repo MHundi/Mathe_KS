{
 "cells": [
  {
   "cell_type": "markdown",
   "metadata": {},
   "source": [
    "## 3. Produktfunktionen und ihre Ableitungsfunktion\n",
    "\n",
    "\n",
    "**Erinnerung:**\n",
    "Gegeben: $u(x)=x^2+1 \\text{ und } v(x)=3x$\n",
    "Mit Hilfe der Addtion, Subtraktion, Multiplikation und Divison lassen sich neue Funktionen konstruieren.\n",
    "\n",
    "|    | Funktionsname |  Funktionsterm  |\n",
    "|:--:|:-------------:|:---------------:|\n",
    "|Summe| $u+v$  |$x^2+3x+1$  |\n",
    "|Differenz| $u-v$ | $x^2-3x+1$ |\n",
    "|Multiplikation | $u\\cdot v$ | $(x^2+1)\\cdot3x$ |\n",
    "|Division | $\\frac{u}{v}$ | $\\frac{x^2+1}{3x}$|\n",
    "\n",
    "<br>\n",
    "\n",
    "<div style=\"border: 1px solid blue\">\n",
    "\n",
    "**Definition:**\n",
    "\n",
    "Seien u(x), v(x) Funktionen. \n",
    "\n",
    "Die Funktion $f(x)=u(x)\\cdot v(x) $ heißt **Produktfunktion** mit den Faktoren u(x) und v(x).\n",
    "\n",
    "</div>\n"
   ]
  },
  {
   "cell_type": "markdown",
   "metadata": {},
   "source": [
    "**Beispiele:**\n",
    "\n",
    "* $f(x)=x \\cdot \\sqrt{x}$\n",
    "* $g(x)= \\cos{x} \\cdot \\sin {x}$\n",
    "* $h(x) = (x+2)(x-3)$ "
   ]
  },
  {
   "cell_type": "markdown",
   "metadata": {},
   "source": [
    "<div style=\"border: 1px solid red\">\n",
    "\n",
    "**Satz:**\n",
    "\n",
    "Sind die Funktionen u und v differenzierbar, so ist auch $f= u\\cdot v$ differenzierbar und es gilt:\n",
    "$$f'(x)= u'(x)\\cdot v(x) + u(x)\\cdot v'(x)$$\n",
    "\n",
    "</div>"
   ]
  },
  {
   "cell_type": "markdown",
   "metadata": {},
   "source": [
    "**Beweis:**\n",
    "\n",
    "$$ m(x)=\\frac{f(x)-f(x_0)}{x-x_0} = \\frac{u(x)\\cdot v(x)-u(x_0)\\cdot v(x_0)}{x-x_0} $$"
   ]
  },
  {
   "cell_type": "markdown",
   "metadata": {},
   "source": [
    "$$ = \\frac{u(x)\\cdot v(x) \\quad - u(x_0)\\cdot v(x) \\quad +\\quad  u(x_0) \\cdot v(x) \\quad -u(x_0)\\cdot v(x_0)}{x-x_0} $$"
   ]
  },
  {
   "cell_type": "markdown",
   "metadata": {},
   "source": [
    "$$ = \\frac{\\left(u(x)-u(x_0)\\right) \\cdot v(x) \\quad + \\quad u(x_0) \\left( v(x)-v(x_0)\\right) }{x - x_0} $$"
   ]
  },
  {
   "cell_type": "markdown",
   "metadata": {},
   "source": [
    "$$  = \\frac{u(x)-u(x_0)}{x-x_0}\\cdot v(x) \\quad + \\quad u(x_0) \\cdot \\frac{v(x)-v(x_0)}{x-x_0} $$"
   ]
  },
  {
   "cell_type": "markdown",
   "metadata": {},
   "source": [
    "$$ \\lim \\limits_{x \\to x_0} \\left( \\frac{u(x)-u(x_0)}{x-x_0}\\cdot v(x) \\quad + \\quad u(x_0) \\cdot \\frac{v(x)-v(x_0)}{x-x_0} \\right)$$"
   ]
  },
  {
   "cell_type": "markdown",
   "metadata": {},
   "source": [
    "$$  \\frac{u(x)-u(x_0)}{x-x_0} \\rightarrow u'(x_0), \\quad \\text{ für } x \\rightarrow x_0 $$\n",
    "\n",
    "$$  \\frac{v(x)-v(x_0)}{x-x_0} \\rightarrow v'(x_0), \\quad \\text{ für } x \\rightarrow x_0 $$\n",
    "\n",
    "$$ v(x) \\rightarrow v(x_0) \\quad \\text{ für } x \\rightarrow x_0 $$"
   ]
  },
  {
   "cell_type": "markdown",
   "metadata": {},
   "source": [
    "Damit gilt\n",
    "$$ \\lim \\limits_{x \\to x_0}m(x)= u'(x_0)\\cdot v(x_0) + u(x_0) \\cdot v'(x_0)\\qquad \\\\\n",
    "\\qquad \\qquad \\qquad \\qquad\\qquad \\qquad\\qquad \\qquad\\qquad \\qquad\\qquad \\qquad\\qquad \\qquad\\square$$\n"
   ]
  },
  {
   "cell_type": "markdown",
   "metadata": {},
   "source": []
  }
 ],
 "metadata": {
  "language_info": {
   "name": "python"
  },
  "orig_nbformat": 4
 },
 "nbformat": 4,
 "nbformat_minor": 2
}
