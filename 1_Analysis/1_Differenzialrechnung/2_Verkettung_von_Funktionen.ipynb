{
 "cells": [
  {
   "cell_type": "markdown",
   "metadata": {},
   "source": [
    "## 2. Verkette Funktionen\n",
    "\n",
    "**Wiederholung:**\n",
    "\n",
    "Gegeben: $u(x)=x^2+1 \\text{ und } v(x)=3x$\n",
    "Mit Hilfe der Addtion, Subtraktion, Multiplikation und Divison lassen sich neue Funktionen konstruieren.\n",
    "\n",
    "|    | Funktionsname |  Funktionsterm  |\n",
    "|:--:|:-------------:|:---------------:|\n",
    "|Summe| $u+v$  |$x^2+1+3x = x^2+3x+1 $ |\n",
    "|Differenz| $u-v$ | $x^2-3x+1$ |\n",
    "|Multiplikation | $u\\cdot v$ | $3x^3+3x$ |\n",
    "|Division | $\\frac{u}{v}$ | $\\frac{x^2+1}{3x}$|\n",
    "\n",
    "\n",
    "\n",
    "\n"
   ]
  },
  {
   "cell_type": "markdown",
   "metadata": {},
   "source": [
    "**Neues Beispiel:**\n",
    "\n",
    "Abbildung 1:\n",
    "\n",
    "|    x    |    2x    |                                           \n",
    "|:-------:|:--------:|                       \n",
    "|    -1   |   -2    |\n",
    "|     0   |     0    |\n",
    "|   $\\frac{1}{2}$    | 1     |\n",
    "|    $\\sqrt{3}$  |       $2\\sqrt{3}$    |\n",
    "\n",
    "Abbildung 2:\n",
    "\n",
    "|    x    |    $x^2$    |                                           \n",
    "|:-------:|:--------:|                       \n",
    "|    -2   |   4    |\n",
    "|     0   |     0    |\n",
    "|   1     |    1     |\n",
    "|    $2\\sqrt{3}$  |       12    |\n",
    "\n",
    "\n",
    "Zuerst Abbildung 1 dann Abbildung 2:\n",
    "\n",
    "|    x    |    $4x^2$    |                                           \n",
    "|:-------:|:--------:|                       \n",
    "|    -1   |  4   |\n",
    "|     0   |   0      |\n",
    "|   $\\frac{1}{2}$     |     1    |\n",
    "|    $\\sqrt{3}$  |   12       |"
   ]
  },
  {
   "cell_type": "code",
   "execution_count": 1,
   "metadata": {},
   "outputs": [
    {
     "data": {
      "text/plain": [
       "[<matplotlib.lines.Line2D at 0x117a29590>]"
      ]
     },
     "execution_count": 1,
     "metadata": {},
     "output_type": "execute_result"
    },
    {
     "data": {
      "image/png": "[encoded data removed]",
      "text/plain": [
       "<Figure size 1200x1200 with 2 Axes>"
      ]
     },
     "metadata": {},
     "output_type": "display_data"
    }
   ],
   "source": [
    "import numpy as np\n",
    "import matplotlib.pyplot as plt\n",
    "from matplotlib.ticker import AutoMinorLocator, MultipleLocator, FuncFormatter\n",
    "\n",
    "# Defintionsmenge und Funktion\n",
    "# ----------------------------\n",
    "a= -5.1 # untere x-Intervallgrenze \n",
    "b= 5.1 # obere x-Intervallgrenze\n",
    "c = -5.1# untere y-Intervallgrenze\n",
    "d = 5.1 # obere y-Intervallgrenze\n",
    "x = np.linspace(a, b,1000)\n",
    "y1= 2*x\n",
    "y2= x*x\n",
    "# ----------------------------\n",
    "\n",
    "# Einstellung des Graphen\n",
    "fig=plt.figure(figsize=(12,12))\n",
    "ax = fig.add_subplot(1,2,1, aspect =1)\n",
    "ax1 = fig.add_subplot(1,2,2, aspect =1)\n",
    "\n",
    "# Definiton der Haupteinheiten, reele Zahlen ohne die 0 \n",
    "def major_tick(x, pos):\n",
    "    if x==0:\n",
    "        return \"\"\n",
    "    return int(x)\n",
    "\n",
    "# Achsenskalierung\n",
    "ax.xaxis.set_major_locator(MultipleLocator(1))\n",
    "ax.xaxis.set_minor_locator(AutoMinorLocator(2))\n",
    "ax.yaxis.set_major_locator(MultipleLocator(1))\n",
    "ax.yaxis.set_minor_locator(AutoMinorLocator(2))\n",
    "ax.xaxis.set_major_formatter(FuncFormatter(major_tick))\n",
    "ax.yaxis.set_major_formatter(FuncFormatter(major_tick))\n",
    "\n",
    "ax1.xaxis.set_major_locator(MultipleLocator(1))\n",
    "ax1.xaxis.set_minor_locator(AutoMinorLocator(2))\n",
    "ax1.yaxis.set_major_locator(MultipleLocator(1))\n",
    "ax1.yaxis.set_minor_locator(AutoMinorLocator(2))\n",
    "ax1.xaxis.set_major_formatter(FuncFormatter(major_tick))\n",
    "ax1.yaxis.set_major_formatter(FuncFormatter(major_tick))\n",
    "\n",
    "# Position der Achsen im Schaubild\n",
    "ax.spines[['top','right']].set_visible(False)\n",
    "ax.spines[['bottom','left']].set_position('zero')\n",
    "\n",
    "ax1.spines[['top','right']].set_visible(False)\n",
    "ax1.spines[['bottom','left']].set_position('zero')\n",
    "\n",
    "# Pfeile für die Achsen\n",
    "ax.plot((1),(0), ls=\"\", marker= \">\", ms=7, color=\"k\", transform=ax.get_yaxis_transform(), clip_on=False)\n",
    "ax.plot((0),(1), ls=\"\", marker= \"^\", ms=7, color=\"k\", transform=ax.get_xaxis_transform(), clip_on=False)\n",
    "\n",
    "ax1.plot((1),(0), ls=\"\", marker= \">\", ms=7, color=\"k\", transform=ax1.get_yaxis_transform(), clip_on=False)\n",
    "ax1.plot((0),(1), ls=\"\", marker= \"^\", ms=7, color=\"k\", transform=ax1.get_xaxis_transform(), clip_on=False)\n",
    "\n",
    "# Achsenlänge und Beschriftung\n",
    "ax.set_xlim(a,b)\n",
    "ax.set_ylim(c, d)\n",
    "ax.set_xlabel(\"x\", loc=\"right\")\n",
    "ax.set_ylabel(\"f(x)\", loc=\"top\", rotation=0)\n",
    "\n",
    "ax1.set_xlim(a,b)\n",
    "ax1.set_ylim(c, d)\n",
    "ax1.set_xlabel(\"x\", loc=\"right\")\n",
    "ax1.set_ylabel(\"f(x)\", loc=\"top\", rotation=0)\n",
    "\n",
    "# Kästchen\n",
    "ax.grid(linestyle=\"-\", which=\"major\",linewidth=0.7, zorder=-10)\n",
    "ax.grid(linestyle=\"-\", which=\"minor\",linewidth=0.5, zorder=-10)\n",
    "\n",
    "ax1.grid(linestyle=\"-\", which=\"major\",linewidth=0.7, zorder=-10)\n",
    "ax1.grid(linestyle=\"-\", which=\"minor\",linewidth=0.5, zorder=-10)\n",
    "\n",
    "# Plot der Funktion\n",
    "plt.subplot(121)\n",
    "plt.plot(x,y1, zorder=10)\n",
    "\n",
    "plt.subplot(122)\n",
    "plt.plot(x,y2, zorder = 10)\n",
    "#plt.show()"
   ]
  },
  {
   "cell_type": "code",
   "execution_count": 2,
   "metadata": {},
   "outputs": [
    {
     "data": {
      "text/plain": [
       "[<matplotlib.lines.Line2D at 0x117bd60d0>]"
      ]
     },
     "execution_count": 2,
     "metadata": {},
     "output_type": "execute_result"
    },
    {
     "data": {
      "image/png": "[encoded data removed]",
      "text/plain": [
       "<Figure size 800x800 with 1 Axes>"
      ]
     },
     "metadata": {},
     "output_type": "display_data"
    }
   ],
   "source": [
    "import numpy as np\n",
    "import matplotlib.pyplot as plt\n",
    "from matplotlib.ticker import AutoMinorLocator, MultipleLocator, FuncFormatter\n",
    "\n",
    "# Defintionsmenge und Funktion\n",
    "# ----------------------------\n",
    "a= -5.1 # untere x-Intervallgrenze \n",
    "b= 5.1 # obere x-Intervallgrenze\n",
    "c = -5.1# untere y-Intervallgrenze\n",
    "d = 5.1 # obere y-Intervallgrenze\n",
    "x = np.linspace(a, b,1000)\n",
    "y1= (2*x)**2\n",
    "#y2= x*x\n",
    "# ----------------------------\n",
    "\n",
    "# Einstellung des Graphen\n",
    "fig=plt.figure(figsize=(8,8))\n",
    "ax = fig.add_subplot(1,1,1, aspect =1)\n",
    "\n",
    "# Definiton der Haupteinheiten, reele Zahlen ohne die 0 \n",
    "def major_tick(x, pos):\n",
    "    if x==0:\n",
    "        return \"\"\n",
    "    return int(x)\n",
    "\n",
    "# Achsenskalierung\n",
    "ax.xaxis.set_major_locator(MultipleLocator(1))\n",
    "ax.xaxis.set_minor_locator(AutoMinorLocator(2))\n",
    "ax.yaxis.set_major_locator(MultipleLocator(1))\n",
    "ax.yaxis.set_minor_locator(AutoMinorLocator(2))\n",
    "ax.xaxis.set_major_formatter(FuncFormatter(major_tick))\n",
    "ax.yaxis.set_major_formatter(FuncFormatter(major_tick))\n",
    "\n",
    "# Position der Achsen im Schaubild\n",
    "ax.spines[['top','right']].set_visible(False)\n",
    "ax.spines[['bottom','left']].set_position('zero')\n",
    "\n",
    "# Pfeile für die Achsen\n",
    "ax.plot((1),(0), ls=\"\", marker= \">\", ms=7, color=\"k\", transform=ax.get_yaxis_transform(), clip_on=False)\n",
    "ax.plot((0),(1), ls=\"\", marker= \"^\", ms=7, color=\"k\", transform=ax.get_xaxis_transform(), clip_on=False)\n",
    "\n",
    "# Achsenlänge und Beschriftung\n",
    "ax.set_xlim(a,b)\n",
    "ax.set_ylim(c, d)\n",
    "ax.set_xlabel(\"x\", loc=\"right\")\n",
    "ax.set_ylabel(\"f(x)\", loc=\"top\", rotation=0)\n",
    "\n",
    "# Kästchen\n",
    "ax.grid(linestyle=\"-\", which=\"major\",linewidth=0.7, zorder=-10)\n",
    "ax.grid(linestyle=\"-\", which=\"minor\",linewidth=0.5, zorder=-10)\n",
    "\n",
    "# Plot der Funktion\n",
    "ax.plot(x,y1, zorder=10)\n",
    "#ax.plot(x,y2, zorder = 0)\n",
    "#plt.show()"
   ]
  },
  {
   "cell_type": "markdown",
   "metadata": {},
   "source": [
    "<div style=\"border: 1px solid blue\">\n",
    "\n",
    "**Definition:** \n",
    "\n",
    "Gegeben: \n",
    "* Funktion $v: x \\mapsto v(x), \\quad x\\in D_v$\n",
    "* Funktion $u: x \\mapsto u(x), \\quad x \\in D_u$\n",
    "\n",
    "Die Funktion $u \\circ v: x \\mapsto u(v(x))$ (lies u nach v) heißt **Verkettung der Funktionen u und v**. v ist die **innere Funktion** und u ist die **äußere Funktion**.\n",
    "\n",
    "Für die Defintionsmenge von $u \\circ v  $ gilt: $D=\\{x | x \\in D_v \\text{ und } v(x) \\in D_u \\}$\n",
    "\n",
    "</div>\n",
    "\n",
    "**Bemerkung:**\n",
    "\n",
    "- Die Verkettung von Funktionen ist nich kommutativ, d.h. $v(u(x)) \\neq u(v(x))$\n",
    "- Beispiel: $u(x)= \\sqrt{x},\\quad v(x)= 2x^2,\\qquad  u(v(x)= \\sqrt{2x^2} \\neq v(u(x)= 2\\sqrt{x}^2$\n",
    "\n",
    "- Die Zerlegung von Teilfunktionen ist nicht immer eindeutig.\n",
    "- Überlegen Sie sich dazu Beispiele.\n",
    "- $ u(x)= 4x^2 \\quad v(x)=x\\qquad u(v(x)= 4x^2$\n",
    " oder $ u(x)=2x \\quad v(x)=x^2 \\qquad u(v(x))= 4x^2$"
   ]
  },
  {
   "cell_type": "markdown",
   "metadata": {},
   "source": [
    "**Problem:** \n",
    "Wie lautet die Ableitungsfunktionen zum Beispiel von der Funktion $f(x)= \\left(2x+2\\right)^3$?\n",
    "\n"
   ]
  },
  {
   "cell_type": "markdown",
   "metadata": {},
   "source": [
    "**Überlegung:**\n",
    "\n",
    "Gegeben:\n",
    "\n",
    "- $f(x)= u(v(x))$\n",
    "- $x_0 \\in D_v$ und $v(x_0)$ differenzierbar\n",
    "- $v(x_0) \\in D_u$ und $u(v(x_0))$ differenzierbar\n"
   ]
  },
  {
   "cell_type": "markdown",
   "metadata": {},
   "source": [
    "Idee: Stelle den allgemeinen Differenzenquotient auf."
   ]
  },
  {
   "cell_type": "markdown",
   "metadata": {},
   "source": [
    "$$ m(x) =\\frac{f(x)-f(x_0)}{x-x_0}$$"
   ]
  },
  {
   "cell_type": "markdown",
   "metadata": {},
   "source": [
    "$$\\overset{f(x)=u(v(x))}{=} \\frac{u(v(x))-u(v(x_0))}{x-x_0}$$"
   ]
  },
  {
   "cell_type": "markdown",
   "metadata": {},
   "source": [
    "Idee: Mutlipliziere mit 1"
   ]
  },
  {
   "cell_type": "markdown",
   "metadata": {},
   "source": [
    "$$ = \\frac{u(v(x))-u(v(x_0))}{x-x_0} \\cdot \\frac{v(x)-v(x_0)}{v(x)-v(x_0)}$$"
   ]
  },
  {
   "cell_type": "markdown",
   "metadata": {},
   "source": [
    "$$ = \\frac{u(v(x))-u(v(x_0))}{v(x)-v(x_0)} \\cdot \\frac{v(x)-v(x_0)}{x-x_0}$$"
   ]
  },
  {
   "cell_type": "markdown",
   "metadata": {},
   "source": [
    "$$ \\overset{v=v(x), v_0=v(x_0)}{=} \\frac{u(v)-u(v_0)}{v-v_0} \\cdot \\frac{v(x)-v(x_0)}{x-x_0}$$"
   ]
  },
  {
   "cell_type": "markdown",
   "metadata": {},
   "source": [
    "Idee: Wende nun den Limes an"
   ]
  },
  {
   "cell_type": "markdown",
   "metadata": {},
   "source": [
    "$$ \\lim \\limits_{x \\to x_0}\\frac{u(v)-u(v_0)}{v-v_0} \\cdot \\frac{v(x)-v(x_0)}{x-x_0}"
   ]
  },
  {
   "cell_type": "markdown",
   "metadata": {},
   "source": [
    "$$\\overset{v \\text{ diffbar } \\Rightarrow v \\text{ stetig in }x_0}{=} {u'(v_0) \\cdot v'(x_0)}$$ "
   ]
  },
  {
   "cell_type": "markdown",
   "metadata": {},
   "source": [
    "$$ = u'(v(x_0)) \\cdot v'(x_0)"
   ]
  },
  {
   "cell_type": "markdown",
   "metadata": {},
   "source": [
    "<div style=\"border: 1px solid red\">\n",
    "\n",
    "**Satz: Kettenregel**\n",
    "\n",
    "Seien u und v differenzierbare Funktionen und  $f = u \\circ v$, so ist auch f differenzeirbar und es gilt:\n",
    "$$ f'(x)= u'(v(x))\\cdot v'(x)$$\n",
    "\n",
    "**Merkrege:** \"Äußere Ableitung mal innere Ableitung\"\n",
    "</div>"
   ]
  },
  {
   "cell_type": "markdown",
   "metadata": {},
   "source": [
    "**Bemerkung:**\n",
    "\n",
    "Die Herleitung gilt nur für Funktionen, bei denen $v(x)-v(x_0) \\neq 0$ für eine hinreichend kleine Umgebung. Die Verallgemeinerung lässt sich aber auch zeigen.\n"
   ]
  },
  {
   "cell_type": "markdown",
   "metadata": {},
   "source": [
    "**Übungen:**\n",
    "\n",
    "- Buch Seite 18 Nr.  und 3\n",
    "- Buch Seite 18 Nr. 6\n"
   ]
  },
  {
   "cell_type": "markdown",
   "metadata": {},
   "source": []
  }
 ],
 "metadata": {
  "kernelspec": {
   "display_name": "Python 3",
   "language": "python",
   "name": "python3"
  },
  "language_info": {
   "codemirror_mode": {
    "name": "ipython",
    "version": 3
   },
   "file_extension": ".py",
   "mimetype": "text/x-python",
   "name": "python",
   "nbconvert_exporter": "python",
   "pygments_lexer": "ipython3",
   "version": "3.11.4"
  },
  "orig_nbformat": 4
 },
 "nbformat": 4,
 "nbformat_minor": 2
}
