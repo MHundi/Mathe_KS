{
 "cells": [
  {
   "cell_type": "raw",
   "metadata": {},
   "source": [
    "---\n",
    "title: \"\"\n",
    "date: today\n",
    "format:\n",
    "    pdf:\n",
    "      papersize: a4\n",
    "execute: \n",
    "  enabled: true\n",
    "  echo: false\n",
    "Juypter: python3\n",
    "\n",
    "format:\n",
    "  beamer:\n",
    "    aspectratio: 169\n",
    "    navigation: horizontal\n",
    "    theme: Singapore\n",
    "    colortheme: orchid\n",
    "    toc: false\n",
    "---"
   ]
  },
  {
   "cell_type": "markdown",
   "metadata": {},
   "source": [
    "## 9. Ortskurven"
   ]
  },
  {
   "cell_type": "markdown",
   "metadata": {},
   "source": [
    "#### Beispiel:\n",
    "\n",
    "Geegeben: Funktionenschar $f_a(x)= \\frac{1}{x}+ax, \\quad x>0, a>0$\n",
    "\n",
    "##### Aufgabe a:  \n",
    "Zeichne den Graphen $G_{f_{0,75}}$ zur Funktion $f_{0,75}(x)=\\frac{1}{x}+0,75x$"
   ]
  },
  {
   "cell_type": "code",
   "execution_count": 1,
   "metadata": {
    "slideshow": {
     "slide_type": "slide"
    }
   },
   "outputs": [
    {
     "data": {
      "text/plain": [
       "[<matplotlib.lines.Line2D at 0x105528350>]"
      ]
     },
     "execution_count": 7,
     "metadata": {},
     "output_type": "execute_result"
    },
    {
     "data": {
      "application/pdf": "[encoded data removed]",
      "text/plain": [
       "<Figure size 1200x1200 with 1 Axes>"
      ]
     },
     "metadata": {},
     "output_type": "display_data"
    }
   ],
   "source": [
    "import numpy as np\n",
    "import matplotlib.pyplot as plt\n",
    "from matplotlib.ticker import AutoMinorLocator, MultipleLocator, FuncFormatter\n",
    "\n",
    "# Defintionsmenge und Funktion\n",
    "# ----------------------------\n",
    "a= -0.1 # untere x-Intervallgrenze \n",
    "b= 7.1 # obere x-Intervallgrenze\n",
    "c = -0.1# untere y-Intervallgrenze\n",
    "d = 5.1 # obere y-Intervallgrenze\n",
    "x = np.linspace(0.1, b,1000)\n",
    "y1= 1/x+0.75*x\n",
    "# ----------------------------\n",
    "\n",
    "# Einstellung des Graphen\n",
    "fig=plt.figure(figsize=(4,4))\n",
    "ax= fig.add_subplot(1,1,1, aspect =1)\n",
    "\n",
    "# Definiton der Haupteinheiten, reele Zahlen ohne die 0 \n",
    "def major_tick(x, pos):\n",
    "    if x==0:\n",
    "        return \"\"\n",
    "    return int(x)\n",
    "\n",
    "# Achsenskalierung\n",
    "ax.xaxis.set_major_locator(MultipleLocator(1))\n",
    "ax.xaxis.set_minor_locator(AutoMinorLocator(2))\n",
    "ax.yaxis.set_major_locator(MultipleLocator(1))\n",
    "ax.yaxis.set_minor_locator(AutoMinorLocator(2))\n",
    "ax.xaxis.set_major_formatter(FuncFormatter(major_tick))\n",
    "ax.yaxis.set_major_formatter(FuncFormatter(major_tick))\n",
    "\n",
    "# Position der Achsen im Schaubild\n",
    "ax.spines[['top','right']].set_visible(False)\n",
    "ax.spines[['bottom','left']].set_position('zero')\n",
    "\n",
    "# Pfeile für die Achsen\n",
    "ax.plot((1),(0), ls=\"\", marker= \">\", ms=7, color=\"k\", transform=ax.get_yaxis_transform(), clip_on=False)\n",
    "ax.plot((0),(1), ls=\"\", marker= \"^\", ms=7, color=\"k\", transform=ax.get_xaxis_transform(), clip_on=False)\n",
    "\n",
    "# Achsenlänge und Beschriftung\n",
    "ax.set_xlim(a,b)\n",
    "ax.set_ylim(c, d)\n",
    "ax.set_xlabel(\"x\", loc=\"right\")\n",
    "ax.set_ylabel(\"f(x)\", loc=\"top\", rotation=0)\n",
    "\n",
    "# Kästchen\n",
    "ax.grid(linestyle=\"-\", which=\"major\",linewidth=0.7, zorder=-10)\n",
    "ax.grid(linestyle=\"-\", which=\"minor\",linewidth=0.5, zorder=-10)\n",
    "\n",
    "# Plot der Funktion\n",
    "ax.plot(x,y1, zorder=10)\n",
    "#plt.show()"
   ]
  },
  {
   "cell_type": "markdown",
   "metadata": {},
   "source": [
    "##### Aufgabe b:   \n",
    "Gib die Bereiche an, auf dem f_{0,75}(x) kleiner als 2 ist.\n",
    "\n",
    "$$\n",
    "\\begin{aligned}\n",
    "\\frac{1}{x}+0,75x&=2\\\\\n",
    "1+0.75x^2&=2x\\\\\n",
    "0,75x^2-2x+1&=0\\\\\n",
    "x_{1,2}&=\\frac{2\\pm\\sqrt{4-4\\cdot0,75\\cdot1}}{2\\cdot 0,75}=\\frac{2\\pm1}{1,5}\\\\\n",
    "&x_1=2 \\quad x_2=\\frac{2}{3} \n",
    "\\end{aligned}\n",
    "$$\n",
    "Überprüfe, ob auf dem Intervall $I=\\left(\\frac{2}{3}; 2\\right) f_{0,75}(x)<2$ gilt, mit Stichprobe:\n",
    "\n",
    "$$\n",
    "f_{0,75}(1)=1+0,75\\cdot 1 = 1,75 < 2\n",
    "$$\n",
    "Das gesuchte Intervall ist $I=\\left(\\frac{2}{3}; 2\\right)$"
   ]
  },
  {
   "cell_type": "markdown",
   "metadata": {},
   "source": [
    "##### Aufgabe c:  \n",
    "Jeder Graph $G_{a}$  besitzt genau einen Tiefpunkt. Berechnen Sie dessen Koordinaten und bestimmen Sie eine Gleichung der Kurve, auf der die Tiefpunkte aller Graphen $G_{a}$ liegen.\n",
    "\n",
    "1. notwendige Bedingung: $f_a'(x)=0$\n",
    "$$\n",
    "\\begin{aligned}\n",
    "f_a'(x)&=0\\\\\n",
    "-x^{-2}+a&=0\\\\\n",
    "x^{-2}&=a\\\\\n",
    "x^{2} &=\\frac{1}{a}\\\\\n",
    "x_1&=\\frac{1}{\\sqrt{a}}\\quad x_2=-\\frac{1}{\\sqrt{a}}\n",
    "\\end{aligned}\n",
    "$$\n",
    "\n",
    "Der Definitionsbereich ist $x>0: \\quad x_2 =\\frac{1}{\\sqrt{a}}$\n"
   ]
  },
  {
   "cell_type": "markdown",
   "metadata": {},
   "source": [
    "2. hinreichende Bedingung: $f_a'(x) \\neq 0$:\n",
    "$$\n",
    "\\begin{aligned}\n",
    "f_a''(x)&=2x^{-3}\\\\\n",
    "f_a''\\left(\\frac{1}{\\sqrt{a}}\\right)&>0\n",
    "\\end{aligned}\n",
    "$$\n",
    "\n",
    "Die Tiefpunkte lauten: $T_a\\left(\\frac{1}{\\sqrt{a}}|2\\sqrt{a})\\right)$"
   ]
  },
  {
   "cell_type": "markdown",
   "metadata": {},
   "source": [
    "3. Ortskurve der Tiefpunkte bestimmen\n",
    "\n",
    "Aus den Koordinaten der Tiefpunkte lassen sich die x- und die y-Kooridnate ablesen.\n",
    "\n",
    "$$\n",
    "x=\\frac{1}{\\sqrt{a}}\\qquad y=2\\sqrt{a}\n",
    "$$\n",
    "\n",
    "Mit den Koordinaten muss eine Gleichung in Abhänigkeit von x erstellte werden.  \n",
    "\n",
    "Forme $x=\\frac{1}{\\sqrt{a}}$ nach a um.\n",
    "\n",
    "$$\n",
    "\\begin{aligned}\n",
    "\\sqrt{a}&=\\frac{1}{x}\\\\\n",
    "a &= \\frac{1}{x^2}\n",
    "\\end{aligned}\n",
    "$$\n",
    "\n",
    "Setze das Ergebnis für a in die Gleichung $y=2\\sqrt{a}$ ein.\n",
    "\n",
    "$$\n",
    "\\begin{aligned}\n",
    "y&=2\\sqrt{\\frac{1}{x^2}}\\\\\n",
    "y &= \\frac{2}{x}\n",
    "\\end{aligned}\n",
    "$$ \n"
   ]
  },
  {
   "cell_type": "markdown",
   "metadata": {},
   "source": []
  },
  {
   "cell_type": "code",
   "execution_count": 2,
   "metadata": {},
   "outputs": [
    {
     "data": {
      "text/plain": [
       "[<matplotlib.lines.Line2D at 0x11d7a6750>]"
      ]
     },
     "execution_count": 8,
     "metadata": {},
     "output_type": "execute_result"
    },
    {
     "data": {
      "application/pdf": "[encoded data removed]",
      "text/plain": [
       "<Figure size 1200x1200 with 1 Axes>"
      ]
     },
     "metadata": {},
     "output_type": "display_data"
    }
   ],
   "source": [
    "import numpy as np\n",
    "import matplotlib.pyplot as plt\n",
    "from matplotlib.ticker import AutoMinorLocator, MultipleLocator, FuncFormatter\n",
    "\n",
    "# Defintionsmenge und Funktion\n",
    "# ----------------------------\n",
    "a= -0.1 # untere x-Intervallgrenze \n",
    "b= 5.1 # obere x-Intervallgrenze\n",
    "c = -0.1# untere y-Intervallgrenze\n",
    "d = 5.1 # obere y-Intervallgrenze\n",
    "x = np.linspace(0.1, b,1000)\n",
    "y1= 1/x+x\n",
    "y2= 1/x+2*x\n",
    "y3= 1/x+3*x\n",
    "y4= 1/x+0.5*x\n",
    "y6= 1/x+0.1*x\n",
    "y7= 1/x+4*x\n",
    "y5= 2/x\n",
    "# ----------------------------\n",
    "\n",
    "# Einstellung des Graphen\n",
    "fig=plt.figure(figsize=(4,4))\n",
    "ax= fig.add_subplot(1,1,1, aspect =1)\n",
    "\n",
    "# Definiton der Haupteinheiten, reele Zahlen ohne die 0 \n",
    "def major_tick(x, pos):\n",
    "    if x==0:\n",
    "        return \"\"\n",
    "    return int(x)\n",
    "\n",
    "# Achsenskalierung\n",
    "ax.xaxis.set_major_locator(MultipleLocator(1))\n",
    "ax.xaxis.set_minor_locator(AutoMinorLocator(2))\n",
    "ax.yaxis.set_major_locator(MultipleLocator(1))\n",
    "ax.yaxis.set_minor_locator(AutoMinorLocator(2))\n",
    "ax.xaxis.set_major_formatter(FuncFormatter(major_tick))\n",
    "ax.yaxis.set_major_formatter(FuncFormatter(major_tick))\n",
    "\n",
    "# Position der Achsen im Schaubild\n",
    "ax.spines[['top','right']].set_visible(False)\n",
    "ax.spines[['bottom','left']].set_position('zero')\n",
    "\n",
    "# Pfeile für die Achsen\n",
    "ax.plot((1),(0), ls=\"\", marker= \">\", ms=7, color=\"k\", transform=ax.get_yaxis_transform(), clip_on=False)\n",
    "ax.plot((0),(1), ls=\"\", marker= \"^\", ms=7, color=\"k\", transform=ax.get_xaxis_transform(), clip_on=False)\n",
    "\n",
    "# Achsenlänge und Beschriftung\n",
    "ax.set_xlim(a,b)\n",
    "ax.set_ylim(c, d)\n",
    "ax.set_xlabel(\"x\", loc=\"right\")\n",
    "ax.set_ylabel(\"f(x)\", loc=\"top\", rotation=0)\n",
    "\n",
    "# Kästchen\n",
    "ax.grid(linestyle=\"-\", which=\"major\",linewidth=0.7, zorder=-10)\n",
    "ax.grid(linestyle=\"-\", which=\"minor\",linewidth=0.5, zorder=-10)\n",
    "\n",
    "# Plot der Funktion\n",
    "ax.plot(x,y1, zorder=10, color=\"blue\")\n",
    "ax.plot(x,y2, zorder=10, color=\"blue\")\n",
    "ax.plot(x,y3, zorder=10, color=\"blue\")\n",
    "ax.plot(x,y4, zorder=10, color=\"blue\")\n",
    "ax.plot(x,y6, zorder=10, color=\"blue\")\n",
    "ax.plot(x,y7, zorder=10, color=\"blue\")\n",
    "ax.plot(x,y5, zorder=10, color=\"red\")\n",
    "#plt.show()"
   ]
  },
  {
   "cell_type": "markdown",
   "metadata": {},
   "source": []
  }
 ],
 "metadata": {
  "kernelspec": {
   "display_name": "Python 3",
   "language": "python",
   "name": "python3"
  },
  "language_info": {
   "codemirror_mode": {
    "name": "ipython",
    "version": 3
   },
   "file_extension": ".py",
   "mimetype": "text/x-python",
   "name": "python",
   "nbconvert_exporter": "python",
   "pygments_lexer": "ipython3",
   "version": "3.12.1"
  }
 },
 "nbformat": 4,
 "nbformat_minor": 2
}
