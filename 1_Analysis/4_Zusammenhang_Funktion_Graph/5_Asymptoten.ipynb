{
 "cells": [
  {
   "cell_type": "raw",
   "metadata": {},
   "source": [
    "---\n",
    "title: \"\"\n",
    "date: today\n",
    "format:\n",
    "    pdf:\n",
    "      papersize: a4\n",
    "execute: \n",
    "  enabled: true\n",
    "  echo: false\n",
    "Juypter: python3\n",
    "\n",
    "format:\n",
    "  beamer:\n",
    "    aspectratio: 169\n",
    "    navigation: horizontal\n",
    "    theme: Singapore\n",
    "    colortheme: orchid\n",
    "    toc: false\n",
    "---"
   ]
  },
  {
   "cell_type": "markdown",
   "metadata": {},
   "source": [
    "## 5. Waagerechte und senkrechte Asymptoten"
   ]
  },
  {
   "cell_type": "markdown",
   "metadata": {},
   "source": [
    "**Bisher:**\n",
    " Wir haben hauptsächliche Ganzrationele Funktinen betrachtet.   \n",
    " Es gibt aber auch Funktionen, mit ganzrationaler Funktion im Nenner, z.B.:\n",
    " $$\n",
    "f(x)=\\frac{2x^2+1}{3x^3-2x+1}\n",
    " $$\n",
    "\n",
    " Diese Funktionen heißen **gebrochenrationale Funktionen**."
   ]
  },
  {
   "cell_type": "markdown",
   "metadata": {},
   "source": [
    "<div style=\"border: 1px solid blue\">\n",
    "\n",
    "##### Definition:\n",
    "\n",
    "Funktionen der Art $f(x)=\\frac{g(x)}{h(x)}$, bei denen $g$ und $h$ ganzrationele Funktionen sind und $h$ einen Grad größer gleich 1 hat, heißen **gebrochenrationale Funktionen**.\n",
    "\n",
    "</div>"
   ]
  },
  {
   "cell_type": "markdown",
   "metadata": {},
   "source": [
    "##### Beispiele:\n",
    "\n",
    "1. \n",
    "\n",
    "$$\n",
    "g(x)=\\frac{1}{x}\n",
    "$$\n",
    "\n",
    "2.\n",
    "$$\n",
    "h(x)=\\frac{x^2+2x}{2} \\quad  \\text{ keine gebrochenrationale Funktion}\n",
    "$$\n",
    "\n",
    "3.\n",
    "$$\n",
    "i(x)= \\frac{2x^2-\\sin(x)}{x^2+2} \\quad \\text{ keine gebrochenrationale Funktion}\n",
    "$$\n",
    "\n",
    "4.\n",
    "$$\n",
    "j(x)=\\frac{x^4-\\frac{1}{2}x^2}{x^6-x^4-\\frac{3}{4}x^2-5}\n",
    "$$\n",
    "\n"
   ]
  },
  {
   "cell_type": "markdown",
   "metadata": {},
   "source": [
    "##### Beobachtung:\n",
    "\n",
    "Ganzrationale Funktionen haben Definitionslücken, da nicht durch 0 geteilt werden darf. \n",
    "\n",
    "Die Untersuchung und Angabe der Defintionsmenge ist folgliche obligatorisch. Dafür reicht es aus den Nenner zu betrachten. \n",
    "\n",
    "Wie verläuft der Graph bei sochen Definitionslücken?\n",
    "\n",
    "#### Beispiel:\n",
    "$$\n",
    "f(x)=\\frac{2x^2+1}{3x^3-2x+1}, \\quad D=\\mathbb{R} \\setminus \\{ -1\\} \n",
    "$$"
   ]
  },
  {
   "cell_type": "code",
   "execution_count": 1,
   "metadata": {},
   "outputs": [
    {
     "data": {
      "text/plain": [
       "<matplotlib.collections.LineCollection at 0x127d9e840>"
      ]
     },
     "execution_count": 1,
     "metadata": {},
     "output_type": "execute_result"
    },
    {
     "data": {
      "application/pdf": "[encoded data removed]",
      "text/plain": [
       "<Figure size 1800x1800 with 1 Axes>"
      ]
     },
     "metadata": {},
     "output_type": "display_data"
    }
   ],
   "source": [
    "import numpy as np\n",
    "import matplotlib.pyplot as plt\n",
    "from matplotlib.ticker import AutoMinorLocator, MultipleLocator, FuncFormatter\n",
    "\n",
    "# Defintionsmenge und Funktion\n",
    "# ----------------------------\n",
    "a= -5.1 # untere x-Intervallgrenze \n",
    "b= 5.1 # obere x-Intervallgrenze\n",
    "c = -5.1# untere y-Intervallgrenze\n",
    "d = 5.1 # obere y-Intervallgrenze\n",
    "x1 = np.linspace(a, -1.01,1000)\n",
    "y1= (2*x1**2+1)/(3*x1**3-2*x1+1)\n",
    "x2 = np.linspace(-0.99, b,1000)\n",
    "y2= (2*x2**2+1)/(3*x2**3-2*x2+1)\n",
    "# ----------------------------\n",
    "\n",
    "# Einstellung des Graphen\n",
    "fig=plt.figure(figsize=(6,6))\n",
    "ax= fig.add_subplot(1,1,1, aspect =1)\n",
    "\n",
    "# Definiton der Haupteinheiten, reele Zahlen ohne die 0 \n",
    "def major_tick(x, pos):\n",
    "    if x==0:\n",
    "        return \"\"\n",
    "    return int(x)\n",
    "\n",
    "# Achsenskalierung\n",
    "ax.xaxis.set_major_locator(MultipleLocator(1))\n",
    "ax.xaxis.set_minor_locator(AutoMinorLocator(2))\n",
    "ax.yaxis.set_major_locator(MultipleLocator(1))\n",
    "ax.yaxis.set_minor_locator(AutoMinorLocator(2))\n",
    "ax.xaxis.set_major_formatter(FuncFormatter(major_tick))\n",
    "ax.yaxis.set_major_formatter(FuncFormatter(major_tick))\n",
    "\n",
    "# Position der Achsen im Schaubild\n",
    "ax.spines[['top','right']].set_visible(False)\n",
    "ax.spines[['bottom','left']].set_position('zero')\n",
    "\n",
    "# Pfeile für die Achsen\n",
    "ax.plot((1),(0), ls=\"\", marker= \">\", ms=7, color=\"k\", transform=ax.get_yaxis_transform(), clip_on=False)\n",
    "ax.plot((0),(1), ls=\"\", marker= \"^\", ms=7, color=\"k\", transform=ax.get_xaxis_transform(), clip_on=False)\n",
    "\n",
    "# Achsenlänge und Beschriftung\n",
    "ax.set_xlim(a,b)\n",
    "ax.set_ylim(c, d)\n",
    "ax.set_xlabel(\"x\", loc=\"right\")\n",
    "ax.set_ylabel(\"f(x)\", loc=\"top\", rotation=0)\n",
    "\n",
    "# Kästchen\n",
    "ax.grid(linestyle=\"-\", which=\"major\",linewidth=0.7, zorder=-10)\n",
    "ax.grid(linestyle=\"-\", which=\"minor\",linewidth=0.5, zorder=-10)\n",
    "\n",
    "# Plot der Funktion\n",
    "ax.plot(x1,y1, zorder=10, color=\"blue\")\n",
    "ax.plot(x2,y2, zorder=10, color =\"blue\")\n",
    "ax.vlines(-1, -5.1, 5.1 , color=\"orange\")\n",
    "#plt.show()"
   ]
  },
  {
   "cell_type": "markdown",
   "metadata": {},
   "source": [
    "##### Beobachtung\n",
    "Die Graphen von gebrochenrationalen Funktionen besitzen an den Defintionslücken senkrechte Asymptoten."
   ]
  },
  {
   "cell_type": "markdown",
   "metadata": {},
   "source": [
    "##### Untersuchung des Verhaltens an den Definitionslücken\n",
    "\n",
    "Idee:\n",
    "Man nähert sich in einer Umgebung der Defintionslücke von beiden Seiten an und betrachtet die Veränderung der Funktionswerte."
   ]
  },
  {
   "cell_type": "markdown",
   "metadata": {},
   "source": [
    "##### Beispiel:\n",
    "\n",
    "$$\n",
    "\\begin{aligned}\n",
    "f(x)&=\\frac{2x^2+1}{3x^3-x+1}, \\quad D=\\mathbb{R} \\setminus \\{ -1\\} \\\\\n",
    "\\lim_{x \\searrow -1} f(x) &= ?\\\\\n",
    "\\lim_{x \\nearrow -1} f(x) &= ?\\\\\n",
    "\\end{aligned}\n",
    "$$\n",
    "\n",
    "$x \\searrow -1$:\n",
    "\n",
    "| $$x$$      |   $$f(x)$$ |\n",
    " |:------:|:------:|\n",
    " | $$0$$      |  ?      |\n",
    " | $$-0,5$$  |    ?    |\n",
    " | $$-0,9$$  |     ?   | \n",
    " | $$-0,99$$  |     ?  |\n",
    " \n",
    " $x \\nearrow -1$:\n",
    "\n",
    "| $$x$$      |   $$f(x)$$ |\n",
    " |:------:|:------:|\n",
    " | $$-2$$      |      ?  |\n",
    " | $$-1,5$$  |     ?   |\n",
    " | $$-1,1$$  |     ?   | \n",
    " | $$-1,01$$  |   ?    |"
   ]
  },
  {
   "cell_type": "markdown",
   "metadata": {},
   "source": [
    "<div style=\"border: 1px solid red\">\n",
    "\n",
    "##### Satz: \n",
    "Gegeben:\n",
    "- ganzrationale Funktion $f=\\frac{g(x)}{h(x)}$\n",
    "- $g$ und $h$ differenzierbare Funktionen\n",
    "\n",
    "Es gilt:\n",
    "\n",
    "Wenn $g(x_0)\\neq 0$ und h(x_0)=0$ gilt, dann  \n",
    "- ist $x_0$ eine **Polstelle** von $f$\n",
    "- Die Gerade mit der Gleichung $x=x_0$ ist eine senkrechte Asymptote von $f$.\n",
    "</div>\n"
   ]
  },
  {
   "cell_type": "markdown",
   "metadata": {},
   "source": [
    "##### Bemerkung:\n",
    "\n",
    "- Der Pol ist die Stelle auf der x-Achse, durch welche die senkrechte Asmptote verläuft.\n",
    "- Man bezeichnet die Polstelle mit Vorzeichenwechsel, wenn einer der beiden \"Äste \" an der Senkrechten Asymptote gegen $+ \\infty$ und der andere gegen $-\\infty$ läuft."
   ]
  },
  {
   "cell_type": "markdown",
   "metadata": {},
   "source": [
    "##### Forscheraufgabe\n",
    "\n",
    "Wenn die Voraussetzungen $g(x_0)=0$ und gleichzeitig $h(x_0)=0$ erfüllt sind, lässt sich der Satz nicht anwenden!  \n",
    "Welche Aussgaben kann man dann machen?\n",
    "$\\Rightarrow$ Buch Seite 155 Nr. 13"
   ]
  },
  {
   "cell_type": "markdown",
   "metadata": {},
   "source": [
    "##### Beispiel:\n",
    "\n",
    " $$\n",
    "f(x)=\\frac{2x^2+1}{3x^3-2x+1}, \\quad D=\\mathbb{R} \\setminus \\{ -1\\} \n",
    " $$"
   ]
  },
  {
   "cell_type": "code",
   "execution_count": 2,
   "metadata": {},
   "outputs": [
    {
     "data": {
      "text/plain": [
       "<matplotlib.collections.LineCollection at 0x162f2d4f0>"
      ]
     },
     "execution_count": 2,
     "metadata": {},
     "output_type": "execute_result"
    },
    {
     "data": {
      "application/pdf": "[encoded data removed]",
      "text/plain": [
       "<Figure size 1800x1800 with 1 Axes>"
      ]
     },
     "metadata": {},
     "output_type": "display_data"
    }
   ],
   "source": [
    "import numpy as np\n",
    "import matplotlib.pyplot as plt\n",
    "from matplotlib.ticker import AutoMinorLocator, MultipleLocator, FuncFormatter\n",
    "\n",
    "# Defintionsmenge und Funktion\n",
    "# ----------------------------\n",
    "a= -5.1 # untere x-Intervallgrenze \n",
    "b= 5.1 # obere x-Intervallgrenze\n",
    "c = -5.1# untere y-Intervallgrenze\n",
    "d = 5.1 # obere y-Intervallgrenze\n",
    "x1 = np.linspace(a, -1.01,1000)\n",
    "y1= (2*x1**2+1)/(3*x1**3-2*x1+1)\n",
    "x2 = np.linspace(-0.99, b,1000)\n",
    "y2= (2*x2**2+1)/(3*x2**3-2*x2+1)\n",
    "# ----------------------------\n",
    "\n",
    "# Einstellung des Graphen\n",
    "fig=plt.figure(figsize=(6,6))\n",
    "ax= fig.add_subplot(1,1,1, aspect =1)\n",
    "\n",
    "# Definiton der Haupteinheiten, reele Zahlen ohne die 0 \n",
    "def major_tick(x, pos):\n",
    "    if x==0:\n",
    "        return \"\"\n",
    "    return int(x)\n",
    "\n",
    "# Achsenskalierung\n",
    "ax.xaxis.set_major_locator(MultipleLocator(1))\n",
    "ax.xaxis.set_minor_locator(AutoMinorLocator(2))\n",
    "ax.yaxis.set_major_locator(MultipleLocator(1))\n",
    "ax.yaxis.set_minor_locator(AutoMinorLocator(2))\n",
    "ax.xaxis.set_major_formatter(FuncFormatter(major_tick))\n",
    "ax.yaxis.set_major_formatter(FuncFormatter(major_tick))\n",
    "\n",
    "# Position der Achsen im Schaubild\n",
    "ax.spines[['top','right']].set_visible(False)\n",
    "ax.spines[['bottom','left']].set_position('zero')\n",
    "\n",
    "# Pfeile für die Achsen\n",
    "ax.plot((1),(0), ls=\"\", marker= \">\", ms=7, color=\"k\", transform=ax.get_yaxis_transform(), clip_on=False)\n",
    "ax.plot((0),(1), ls=\"\", marker= \"^\", ms=7, color=\"k\", transform=ax.get_xaxis_transform(), clip_on=False)\n",
    "\n",
    "# Achsenlänge und Beschriftung\n",
    "ax.set_xlim(a,b)\n",
    "ax.set_ylim(c, d)\n",
    "ax.set_xlabel(\"x\", loc=\"right\")\n",
    "ax.set_ylabel(\"f(x)\", loc=\"top\", rotation=0)\n",
    "\n",
    "# Kästchen\n",
    "ax.grid(linestyle=\"-\", which=\"major\",linewidth=0.7, zorder=-10)\n",
    "ax.grid(linestyle=\"-\", which=\"minor\",linewidth=0.5, zorder=-10)\n",
    "\n",
    "# Plot der Funktion\n",
    "ax.plot(x1,y1, zorder=10, color=\"blue\")\n",
    "ax.plot(x2,y2, zorder=10, color =\"blue\")\n",
    "ax.vlines(-1, -5.1, 5.1 , color=\"orange\")\n",
    "#plt.show()"
   ]
  },
  {
   "cell_type": "markdown",
   "metadata": {},
   "source": [
    "##### Beobachtung\n",
    "\n",
    "- Es gibt auch waagerechte Asymptoten.\n",
    "- Waagerechte Asymptoten lassen sich mit Hilfe der Grenzwertbetrachtung suchen."
   ]
  },
  {
   "cell_type": "markdown",
   "metadata": {},
   "source": [
    "##### Grenzwertbetrachtung\n",
    "\n",
    " $$\n",
    " \\begin{aligned}\n",
    "f(x)&=\\frac{2x^2+1}{3x^3-2x+1}\\\\\n",
    "\\lim_{x \\to \\infty}&\\frac{x^3\\cdot \\left( \\frac{2}{x}+ \\frac{1}{x^3} \\right) }{x^3\\cdot \\left(3-\\frac{2}{x^2}+\\frac{1}{x^3}\\right)}\\\\\n",
    "&= \\lim_{x \\to \\infty}\\frac{\\left( \\frac{2}{x}+ \\frac{1}{x^3} \\right) }{\\left(3-\\frac{2}{x^2}+\\frac{1}{x^3}\\right)}\\\\\n",
    "&=\\frac{0}{3}\\\\\n",
    "&= 0\n",
    "\\end{aligned}\n",
    " $$\n",
    "\n",
    " $$\n",
    " \\begin{aligned}\n",
    "f(x)&=\\frac{2x^2+1}{3x^3-x+1}\\\\\n",
    "\\lim_{x \\to -\\infty}&\\frac{x^3\\cdot \\left( \\frac{2}{x}+ \\frac{1}{x^3} \\right) }{x^3\\cdot \\left(3-\\frac{2}{x^2}+\\frac{1}{x^3}\\right)}\\\\\n",
    "&= \\lim_{x \\to -\\infty}\\frac{\\left( \\frac{2}{x}+ \\frac{1}{x^3} \\right) }{\\left(3-\\frac{2}{x^2}+\\frac{1}{x^3}\\right)}\\\\\n",
    "&=\\frac{0}{3}\\\\\n",
    "&= 0\n",
    "\\end{aligned}\n",
    " $$\n"
   ]
  },
  {
   "cell_type": "markdown",
   "metadata": {},
   "source": [
    "##### Beobachtung\n",
    "- Der Graph nähert sich für $x \\rightarrow \\pm \\infty$ der Geraden mit der Gleichung $y=0$ an.\n",
    "- Diese Gerade heißt waagerechte Asymptote"
   ]
  },
  {
   "cell_type": "markdown",
   "metadata": {},
   "source": [
    "<div style=\"border: 1px solid red\">\n",
    "\n",
    "##### Satz:\n",
    "Gegeben:\n",
    "- ganzrationale Funktion $f=\\frac{g(x)}{h(x)}$\n",
    "- der Grad des Zählers $g$ sei $a$\n",
    "- der Grad des Nenners $h$ sei $b$.\n",
    "\n",
    "Es gilt:\n",
    "\n",
    "- $a < b$: waagerechte Asymptote mit $y=0$.\n",
    "- $a = b$: waagerechte Asymptote mit $y=\\frac{a}{b}$\n",
    "- $a > b$: keine waagerechte Asymptote.\n",
    "\n",
    "</div>"
   ]
  }
 ],
 "metadata": {
  "kernelspec": {
   "display_name": "Python 3",
   "language": "python",
   "name": "python3"
  },
  "language_info": {
   "codemirror_mode": {
    "name": "ipython",
    "version": 3
   },
   "file_extension": ".py",
   "mimetype": "text/x-python",
   "name": "python",
   "nbconvert_exporter": "python",
   "pygments_lexer": "ipython3",
   "version": "3.12.1"
  }
 },
 "nbformat": 4,
 "nbformat_minor": 2
}
