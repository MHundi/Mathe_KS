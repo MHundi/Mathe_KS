{
 "cells": [
  {
   "cell_type": "markdown",
   "metadata": {},
   "source": [
    "## 1. Die e-Funktion"
   ]
  },
  {
   "cell_type": "markdown",
   "metadata": {},
   "source": [
    "#### Problem:\n",
    "\n",
    "Bisher unbekannt sind die Ableitungen von Exponentialfunktionen wie $f_2(x)=2^x$, $f_3(x)=3^x$, $f_4(x)=4^x$  ... \n",
    "\n",
    "<div style=\"border: 1px solid blue\">\n",
    "\n",
    "**Definition:**\n",
    "\n",
    "Ein Funktion des Typs $f(x)=c\\cdot a^x, c \\in \\mathbb(R), a \\in \\mathbb{R^+ \\setminus \\{0\\}}, x \\in \\mathbb{R}$, nennt man **Exponentialfunktion zur Basis a**.\n",
    "</div>"
   ]
  },
  {
   "cell_type": "markdown",
   "metadata": {},
   "source": [
    "#### Lösungsansatz für $f_2$:\n",
    "\n",
    "Bestimme $f_2'(x)$ näherungsweise mit Hilfe des Differenzenquotienten.\n",
    "\n",
    "$$\n",
    "\\begin{align*}\n",
    "f_2'(x)=\\lim_{g\\rightarrow 0}\\frac{2^{x+h}-2^x}{h}\n",
    "\\end{align*}\n",
    "$$\n",
    "\n",
    "Wir nehmen einen Wert z.B. h=0,00001, der Nahe bei 0 liegt und bestimme damit einen Näherungsweg von $f_2'(x)$\n",
    "\n",
    "Es gilt damit:\n",
    "$$\n",
    "d(x)=\\frac{2^{x+0,00001}-2^x}{0,00001}\n",
    "$$\n",
    "\n",
    "Wir berechnen damit für verschiedene x die Näherungswerte:\n",
    "\n",
    "|x|$f(x)=2^x$|$d(x)\\approx f_2'(x)$|$\\frac{d(x)}{f_2(x)}\\approx \\frac{f_2'(x)}{f_2(x)}$|\n",
    "|:--:|:--:|:--:|:--:|\n",
    "| 0  | 1  | 0,69315 | 0,69315|\n",
    "| 1  | 2  | 1,38630 |0,69315|\n",
    "| 2  | 4  | 2,77260 |0,69315|\n",
    "| 3  | 8  | 5,54520  |0,69315|\n",
    "| -1 | 0,5| 0,34657 |0,69315|\n",
    "\n",
    "**Beobachtung:** Der Quotient $\\frac{d(x)}{f(x)}$ scheint konstant zu sein.\n",
    "\n",
    "**Behautpung:** Der Quotient $\\frac{f_2'(x)}{f_2(x)}$ ist konstant. Anders gesagt bedeutet dass, es gibt eine Konstante c (Proportionalitätsfaktor), so dass gilt:\n",
    "$$\n",
    "f_2'(x)=c\\cdot f_2(x)\n",
    "$$\n",
    "\n",
    "**Beweis:**\n",
    "$$\n",
    "\\begin{align*}\n",
    "f_2'(x)&=\\lim_{h \\rightarrow 0}\\frac{2^{x+h}-2^x}{h}\\\\\n",
    "&=\\lim_{h \\rightarrow 0}2^x\\cdot \\frac{2^h-1}{h}\\\\\n",
    "&= 2^x\\cdot \\lim_{h \\rightarrow 0}\\frac{2^h-1}{h}\\\\\n",
    "&= f_2(x)\\cdot f_2'(0)\n",
    "\\end{align*}\n",
    "$$\n",
    "$f_2'(0)$ ist die gesuchte Konstante c.$\\quad \\square$\n",
    "\n"
   ]
  },
  {
   "cell_type": "markdown",
   "metadata": {},
   "source": [
    "**Behautpung:** Die Funktion $f$ sei gegeben mit $f(x)=a^x,\\quad a \\in \\mathbb{R}$. \n",
    "\n",
    "Der Quotient $\\frac{f'(x)}{f(x)}$ ist konstant. Anders gesagt bedeutet dass, es gibt eine Konstante c (Proportionalitätsfaktor), so dass gilt:\n",
    "$$\n",
    "f'(x)=c\\cdot f(x)\n",
    "$$\n",
    "\n",
    "**Beweis:**\n",
    "$$\n",
    "\\begin{align*}\n",
    "f'(x)&=\\lim_{h \\rightarrow 0}\\frac{a^{x+h}-a^x}{h}\\\\\n",
    "&=\\lim_{h \\rightarrow 0}a^x\\cdot \\frac{a^h-a}{h}\\\\\n",
    "&= a^x\\cdot \\lim_{h \\rightarrow 0}\\frac{a^h-a}{h}\\\\\n",
    "&= f(x)\\cdot f'(0)\n",
    "\\end{align*}\n",
    "$$\n",
    "$f'(0)$ ist die gesuchte Konstante c.$\\quad \\square$"
   ]
  },
  {
   "cell_type": "markdown",
   "metadata": {},
   "source": [
    "**Untersuchung des Proportionalitätsfaktors c**\n",
    "\n",
    "Wir berechnen den Proportionalitätsfaktor mit der Näherung $d(x)$ für verschieden Basen a.\n",
    "\n",
    "|$f(x)=a^x$|$d(0)\\approx \\frac{a^{x+0,00001}-1}{0,00001}$|\n",
    "|:-:|:-:|\n",
    "$2^x$ | 0,69315 |\n",
    "$3^x$ | 1,09862\n",
    "$2.72^x$ | 0,99326 |\n",
    "$e$ | 1|"
   ]
  },
  {
   "cell_type": "markdown",
   "metadata": {},
   "source": [
    "<div style=\"border: 1px solid blue\">\n",
    "\n",
    "**Definition:**\n",
    "\n",
    "Für die **Eulersche Zahl e** stimmt die Exponentialfunktion $f(x)=e^x$\n",
    " mit ihrer Ableitung $f'(x)=e^x$ überein.\n",
    "\n",
    " $e \\approx 2,71828$\n",
    "\n",
    " Die Funktion $f(x)=e^x$ heißt **natürliche Exponentialfunktion**\n",
    "</div>\n",
    "\n",
    "**Graph der natürlichen Exponentialfunktion:** "
   ]
  },
  {
   "cell_type": "code",
   "execution_count": 1,
   "metadata": {},
   "outputs": [
    {
     "data": {
      "text/plain": [
       "[<matplotlib.lines.Line2D at 0x1159ae710>]"
      ]
     },
     "execution_count": 1,
     "metadata": {},
     "output_type": "execute_result"
    },
    {
     "data": {
      "image/png": "[encoded data removed]",
      "text/plain": [
       "<Figure size 800x800 with 1 Axes>"
      ]
     },
     "metadata": {},
     "output_type": "display_data"
    }
   ],
   "source": [
    "import numpy as np\n",
    "import matplotlib.pyplot as plt\n",
    "from matplotlib.ticker import AutoMinorLocator, MultipleLocator, FuncFormatter\n",
    "\n",
    "# Defintionsmenge und Funktion\n",
    "# ----------------------------\n",
    "a= -5.1 # untere x-Intervallgrenze \n",
    "b= 5.1 # obere x-Intervallgrenze\n",
    "c = -5.1# untere y-Intervallgrenze\n",
    "d = 5.1 # obere y-Intervallgrenze\n",
    "x = np.linspace(a, b,1000)\n",
    "y1= np.exp(x)\n",
    "# ----------------------------\n",
    "\n",
    "# Einstellung des Graphen\n",
    "fig=plt.figure(figsize=(8,8))\n",
    "ax = fig.add_subplot(1,1,1, aspect =1)\n",
    "\n",
    "# Definiton der Haupteinheiten, reele Zahlen ohne die 0 \n",
    "def major_tick(x, pos):\n",
    "    if x==0:\n",
    "        return \"\"\n",
    "    return int(x)\n",
    "\n",
    "# Achsenskalierung\n",
    "ax.xaxis.set_major_locator(MultipleLocator(1))\n",
    "ax.xaxis.set_minor_locator(AutoMinorLocator(2))\n",
    "ax.yaxis.set_major_locator(MultipleLocator(1))\n",
    "ax.yaxis.set_minor_locator(AutoMinorLocator(2))\n",
    "ax.xaxis.set_major_formatter(FuncFormatter(major_tick))\n",
    "ax.yaxis.set_major_formatter(FuncFormatter(major_tick))\n",
    "\n",
    "# Position der Achsen im Schaubild\n",
    "ax.spines[['top','right']].set_visible(False)\n",
    "ax.spines[['bottom','left']].set_position('zero')\n",
    "\n",
    "# Pfeile für die Achsen\n",
    "ax.plot((1),(0), ls=\"\", marker= \">\", ms=7, color=\"k\", transform=ax.get_yaxis_transform(), clip_on=False)\n",
    "ax.plot((0),(1), ls=\"\", marker= \"^\", ms=7, color=\"k\", transform=ax.get_xaxis_transform(), clip_on=False)\n",
    "\n",
    "# Achsenlänge und Beschriftung\n",
    "ax.set_xlim(a,b)\n",
    "ax.set_ylim(c, d)\n",
    "ax.set_xlabel(\"x\", loc=\"right\")\n",
    "ax.set_ylabel(\"f(x)\", loc=\"top\", rotation=0)\n",
    "\n",
    "# Kästchen\n",
    "ax.grid(linestyle=\"-\", which=\"major\",linewidth=0.7, zorder=-10)\n",
    "ax.grid(linestyle=\"-\", which=\"minor\",linewidth=0.5, zorder=-10)\n",
    "\n",
    "# Plot der Funktion\n",
    "ax.plot(x,y1, zorder=10)\n",
    "#plt.show()"
   ]
  },
  {
   "cell_type": "markdown",
   "metadata": {},
   "source": [
    "**Eigenschaften:**\n",
    "\n",
    "1. keine Nullstellen\n",
    "2. $f(x)>0$ für alle $x \\in \\mathbb{R}$\n",
    "3. $f(0)=1$\n",
    "4. keine Extremstellen\n",
    "5. keine Wendestellen\n",
    "6. $f(x)$ ist streng monoton wachsend, weil $f(x)=f'(x)=f''(x)=e^x>0$\n",
    "7. Der Graph ist linksgekrümmt.\n",
    "8. $f(1) = e^1=e$\n",
    "9. $\\lim\\limits_{x \\to \\infty}=\\infty$\n",
    "10. $\\lim\\limits_{x \\to -\\infty}=0$\n"
   ]
  },
  {
   "cell_type": "markdown",
   "metadata": {},
   "source": []
  }
 ],
 "metadata": {
  "kernelspec": {
   "display_name": "Python 3",
   "language": "python",
   "name": "python3"
  },
  "language_info": {
   "codemirror_mode": {
    "name": "ipython",
    "version": 3
   },
   "file_extension": ".py",
   "mimetype": "text/x-python",
   "name": "python",
   "nbconvert_exporter": "python",
   "pygments_lexer": "ipython3",
   "version": "3.11.4"
  }
 },
 "nbformat": 4,
 "nbformat_minor": 2
}
